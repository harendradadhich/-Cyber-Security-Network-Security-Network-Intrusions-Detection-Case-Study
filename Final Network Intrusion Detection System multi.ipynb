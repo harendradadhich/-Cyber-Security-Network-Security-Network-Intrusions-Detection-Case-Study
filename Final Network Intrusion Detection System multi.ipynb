{
 "cells": [
  {
   "cell_type": "markdown",
   "metadata": {},
   "source": [
    "# Network Intrusion Detection System"
   ]
  },
  {
   "cell_type": "markdown",
   "metadata": {},
   "source": [
    "### Multinomial Classification (normal or DOS or PROBE or R2L or U2R)"
   ]
  },
  {
   "cell_type": "markdown",
   "metadata": {},
   "source": [
    "## Import Library"
   ]
  },
  {
   "cell_type": "code",
   "execution_count": 2,
   "metadata": {},
   "outputs": [],
   "source": [
    "import numpy as np\n",
    "import pandas as pd\n",
    "import matplotlib.pyplot as plt\n",
    "%matplotlib inline"
   ]
  },
  {
   "cell_type": "code",
   "execution_count": 3,
   "metadata": {},
   "outputs": [],
   "source": [
    "import itertools\n",
    "import seaborn as sns\n",
    "import pandas_profiling\n",
    "import statsmodels.formula.api as sm\n",
    "from statsmodels.stats.outliers_influence import variance_inflation_factor\n",
    "from patsy import dmatrices"
   ]
  },
  {
   "cell_type": "code",
   "execution_count": 4,
   "metadata": {},
   "outputs": [],
   "source": [
    "from sklearn import datasets\n",
    "from sklearn.feature_selection import RFE\n",
    "import sklearn.metrics as metrics\n",
    "from sklearn.linear_model import LogisticRegression\n",
    "from sklearn.feature_selection import SelectKBest\n",
    "from sklearn.feature_selection import chi2, f_classif, mutual_info_classif"
   ]
  },
  {
   "cell_type": "code",
   "execution_count": 5,
   "metadata": {},
   "outputs": [],
   "source": [
    "train=pd.read_csv('NSL_Dataset\\Train.txt',sep=',')\n",
    "test=pd.read_csv('NSL_Dataset\\Test.txt',sep=',')"
   ]
  },
  {
   "cell_type": "code",
   "execution_count": 6,
   "metadata": {},
   "outputs": [
    {
     "data": {
      "text/html": [
       "<div>\n",
       "<style scoped>\n",
       "    .dataframe tbody tr th:only-of-type {\n",
       "        vertical-align: middle;\n",
       "    }\n",
       "\n",
       "    .dataframe tbody tr th {\n",
       "        vertical-align: top;\n",
       "    }\n",
       "\n",
       "    .dataframe thead th {\n",
       "        text-align: right;\n",
       "    }\n",
       "</style>\n",
       "<table border=\"1\" class=\"dataframe\">\n",
       "  <thead>\n",
       "    <tr style=\"text-align: right;\">\n",
       "      <th></th>\n",
       "      <th>0</th>\n",
       "      <th>tcp</th>\n",
       "      <th>ftp_data</th>\n",
       "      <th>SF</th>\n",
       "      <th>491</th>\n",
       "      <th>0.1</th>\n",
       "      <th>0.2</th>\n",
       "      <th>0.3</th>\n",
       "      <th>0.4</th>\n",
       "      <th>0.5</th>\n",
       "      <th>...</th>\n",
       "      <th>0.17.1</th>\n",
       "      <th>0.03</th>\n",
       "      <th>0.17.2</th>\n",
       "      <th>0.00.6</th>\n",
       "      <th>0.00.7</th>\n",
       "      <th>0.00.8</th>\n",
       "      <th>0.05</th>\n",
       "      <th>0.00.9</th>\n",
       "      <th>normal</th>\n",
       "      <th>20</th>\n",
       "    </tr>\n",
       "  </thead>\n",
       "  <tbody>\n",
       "    <tr>\n",
       "      <th>0</th>\n",
       "      <td>0</td>\n",
       "      <td>udp</td>\n",
       "      <td>other</td>\n",
       "      <td>SF</td>\n",
       "      <td>146</td>\n",
       "      <td>0</td>\n",
       "      <td>0</td>\n",
       "      <td>0</td>\n",
       "      <td>0</td>\n",
       "      <td>0</td>\n",
       "      <td>...</td>\n",
       "      <td>0.00</td>\n",
       "      <td>0.60</td>\n",
       "      <td>0.88</td>\n",
       "      <td>0.00</td>\n",
       "      <td>0.00</td>\n",
       "      <td>0.00</td>\n",
       "      <td>0.0</td>\n",
       "      <td>0.00</td>\n",
       "      <td>normal</td>\n",
       "      <td>15</td>\n",
       "    </tr>\n",
       "    <tr>\n",
       "      <th>1</th>\n",
       "      <td>0</td>\n",
       "      <td>tcp</td>\n",
       "      <td>private</td>\n",
       "      <td>S0</td>\n",
       "      <td>0</td>\n",
       "      <td>0</td>\n",
       "      <td>0</td>\n",
       "      <td>0</td>\n",
       "      <td>0</td>\n",
       "      <td>0</td>\n",
       "      <td>...</td>\n",
       "      <td>0.10</td>\n",
       "      <td>0.05</td>\n",
       "      <td>0.00</td>\n",
       "      <td>0.00</td>\n",
       "      <td>1.00</td>\n",
       "      <td>1.00</td>\n",
       "      <td>0.0</td>\n",
       "      <td>0.00</td>\n",
       "      <td>neptune</td>\n",
       "      <td>19</td>\n",
       "    </tr>\n",
       "    <tr>\n",
       "      <th>2</th>\n",
       "      <td>0</td>\n",
       "      <td>tcp</td>\n",
       "      <td>http</td>\n",
       "      <td>SF</td>\n",
       "      <td>232</td>\n",
       "      <td>8153</td>\n",
       "      <td>0</td>\n",
       "      <td>0</td>\n",
       "      <td>0</td>\n",
       "      <td>0</td>\n",
       "      <td>...</td>\n",
       "      <td>1.00</td>\n",
       "      <td>0.00</td>\n",
       "      <td>0.03</td>\n",
       "      <td>0.04</td>\n",
       "      <td>0.03</td>\n",
       "      <td>0.01</td>\n",
       "      <td>0.0</td>\n",
       "      <td>0.01</td>\n",
       "      <td>normal</td>\n",
       "      <td>21</td>\n",
       "    </tr>\n",
       "    <tr>\n",
       "      <th>3</th>\n",
       "      <td>0</td>\n",
       "      <td>tcp</td>\n",
       "      <td>http</td>\n",
       "      <td>SF</td>\n",
       "      <td>199</td>\n",
       "      <td>420</td>\n",
       "      <td>0</td>\n",
       "      <td>0</td>\n",
       "      <td>0</td>\n",
       "      <td>0</td>\n",
       "      <td>...</td>\n",
       "      <td>1.00</td>\n",
       "      <td>0.00</td>\n",
       "      <td>0.00</td>\n",
       "      <td>0.00</td>\n",
       "      <td>0.00</td>\n",
       "      <td>0.00</td>\n",
       "      <td>0.0</td>\n",
       "      <td>0.00</td>\n",
       "      <td>normal</td>\n",
       "      <td>21</td>\n",
       "    </tr>\n",
       "    <tr>\n",
       "      <th>4</th>\n",
       "      <td>0</td>\n",
       "      <td>tcp</td>\n",
       "      <td>private</td>\n",
       "      <td>REJ</td>\n",
       "      <td>0</td>\n",
       "      <td>0</td>\n",
       "      <td>0</td>\n",
       "      <td>0</td>\n",
       "      <td>0</td>\n",
       "      <td>0</td>\n",
       "      <td>...</td>\n",
       "      <td>0.07</td>\n",
       "      <td>0.07</td>\n",
       "      <td>0.00</td>\n",
       "      <td>0.00</td>\n",
       "      <td>0.00</td>\n",
       "      <td>0.00</td>\n",
       "      <td>1.0</td>\n",
       "      <td>1.00</td>\n",
       "      <td>neptune</td>\n",
       "      <td>21</td>\n",
       "    </tr>\n",
       "  </tbody>\n",
       "</table>\n",
       "<p>5 rows × 43 columns</p>\n",
       "</div>"
      ],
      "text/plain": [
       "   0  tcp ftp_data   SF  491   0.1  0.2  0.3  0.4  0.5  ...  0.17.1  0.03  \\\n",
       "0  0  udp    other   SF  146     0    0    0    0    0  ...    0.00  0.60   \n",
       "1  0  tcp  private   S0    0     0    0    0    0    0  ...    0.10  0.05   \n",
       "2  0  tcp     http   SF  232  8153    0    0    0    0  ...    1.00  0.00   \n",
       "3  0  tcp     http   SF  199   420    0    0    0    0  ...    1.00  0.00   \n",
       "4  0  tcp  private  REJ    0     0    0    0    0    0  ...    0.07  0.07   \n",
       "\n",
       "   0.17.2  0.00.6  0.00.7  0.00.8  0.05  0.00.9   normal  20  \n",
       "0    0.88    0.00    0.00    0.00   0.0    0.00   normal  15  \n",
       "1    0.00    0.00    1.00    1.00   0.0    0.00  neptune  19  \n",
       "2    0.03    0.04    0.03    0.01   0.0    0.01   normal  21  \n",
       "3    0.00    0.00    0.00    0.00   0.0    0.00   normal  21  \n",
       "4    0.00    0.00    0.00    0.00   1.0    1.00  neptune  21  \n",
       "\n",
       "[5 rows x 43 columns]"
      ]
     },
     "execution_count": 6,
     "metadata": {},
     "output_type": "execute_result"
    }
   ],
   "source": [
    "train.head()"
   ]
  },
  {
   "cell_type": "code",
   "execution_count": 7,
   "metadata": {},
   "outputs": [],
   "source": [
    "columns=[\"duration\",\"protocol_type\",\"service\",\"flag\",\"src_bytes\",\"dst_bytes\",\"land\",\"wrong_fragment\",\"urgent\",\"hot\",\n",
    "         \"num_failed_logins\",\"logged_in\",\"num_compromised\",\"root_shell\",\"su_attempted\",\"num_root\",\"num_file_creations\", \n",
    "         \"num_shells\",\"num_access_files\",\"num_outbound_cmds\",\"is_host_login\",\"is_guest_login\",\"count\",\"srv_count\",\"serror_rate\",\n",
    "         \"srv_serror_rate\",\"rerror_rate\",\"srv_rerror_rate\",\"same_srv_rate\",\"diff_srv_rate\",\"srv_diff_host_rate\",\n",
    "         \"dst_host_count\",\"dst_host_srv_count\",\"dst_host_same_srv_rate\",\"dst_host_diff_srv_rate\",\"dst_host_same_src_port_rate\",\n",
    "         \"dst_host_srv_diff_host_rate\",\"dst_host_serror_rate\",\"dst_host_srv_serror_rate\",\"dst_host_rerror_rate\",\n",
    "         \"dst_host_srv_rerror_rate\",\"attack\",\"last_flag\"] "
   ]
  },
  {
   "cell_type": "code",
   "execution_count": 8,
   "metadata": {},
   "outputs": [
    {
     "data": {
      "text/plain": [
       "43"
      ]
     },
     "execution_count": 8,
     "metadata": {},
     "output_type": "execute_result"
    }
   ],
   "source": [
    "len(columns)"
   ]
  },
  {
   "cell_type": "code",
   "execution_count": 9,
   "metadata": {},
   "outputs": [],
   "source": [
    "train.columns=columns\n",
    "test.columns=columns"
   ]
  },
  {
   "cell_type": "code",
   "execution_count": 10,
   "metadata": {},
   "outputs": [
    {
     "data": {
      "text/html": [
       "<div>\n",
       "<style scoped>\n",
       "    .dataframe tbody tr th:only-of-type {\n",
       "        vertical-align: middle;\n",
       "    }\n",
       "\n",
       "    .dataframe tbody tr th {\n",
       "        vertical-align: top;\n",
       "    }\n",
       "\n",
       "    .dataframe thead th {\n",
       "        text-align: right;\n",
       "    }\n",
       "</style>\n",
       "<table border=\"1\" class=\"dataframe\">\n",
       "  <thead>\n",
       "    <tr style=\"text-align: right;\">\n",
       "      <th></th>\n",
       "      <th>duration</th>\n",
       "      <th>protocol_type</th>\n",
       "      <th>service</th>\n",
       "      <th>flag</th>\n",
       "      <th>src_bytes</th>\n",
       "      <th>dst_bytes</th>\n",
       "      <th>land</th>\n",
       "      <th>wrong_fragment</th>\n",
       "      <th>urgent</th>\n",
       "      <th>hot</th>\n",
       "      <th>...</th>\n",
       "      <th>dst_host_same_srv_rate</th>\n",
       "      <th>dst_host_diff_srv_rate</th>\n",
       "      <th>dst_host_same_src_port_rate</th>\n",
       "      <th>dst_host_srv_diff_host_rate</th>\n",
       "      <th>dst_host_serror_rate</th>\n",
       "      <th>dst_host_srv_serror_rate</th>\n",
       "      <th>dst_host_rerror_rate</th>\n",
       "      <th>dst_host_srv_rerror_rate</th>\n",
       "      <th>attack</th>\n",
       "      <th>last_flag</th>\n",
       "    </tr>\n",
       "  </thead>\n",
       "  <tbody>\n",
       "    <tr>\n",
       "      <th>0</th>\n",
       "      <td>0</td>\n",
       "      <td>udp</td>\n",
       "      <td>other</td>\n",
       "      <td>SF</td>\n",
       "      <td>146</td>\n",
       "      <td>0</td>\n",
       "      <td>0</td>\n",
       "      <td>0</td>\n",
       "      <td>0</td>\n",
       "      <td>0</td>\n",
       "      <td>...</td>\n",
       "      <td>0.00</td>\n",
       "      <td>0.60</td>\n",
       "      <td>0.88</td>\n",
       "      <td>0.00</td>\n",
       "      <td>0.00</td>\n",
       "      <td>0.00</td>\n",
       "      <td>0.0</td>\n",
       "      <td>0.00</td>\n",
       "      <td>normal</td>\n",
       "      <td>15</td>\n",
       "    </tr>\n",
       "    <tr>\n",
       "      <th>1</th>\n",
       "      <td>0</td>\n",
       "      <td>tcp</td>\n",
       "      <td>private</td>\n",
       "      <td>S0</td>\n",
       "      <td>0</td>\n",
       "      <td>0</td>\n",
       "      <td>0</td>\n",
       "      <td>0</td>\n",
       "      <td>0</td>\n",
       "      <td>0</td>\n",
       "      <td>...</td>\n",
       "      <td>0.10</td>\n",
       "      <td>0.05</td>\n",
       "      <td>0.00</td>\n",
       "      <td>0.00</td>\n",
       "      <td>1.00</td>\n",
       "      <td>1.00</td>\n",
       "      <td>0.0</td>\n",
       "      <td>0.00</td>\n",
       "      <td>neptune</td>\n",
       "      <td>19</td>\n",
       "    </tr>\n",
       "    <tr>\n",
       "      <th>2</th>\n",
       "      <td>0</td>\n",
       "      <td>tcp</td>\n",
       "      <td>http</td>\n",
       "      <td>SF</td>\n",
       "      <td>232</td>\n",
       "      <td>8153</td>\n",
       "      <td>0</td>\n",
       "      <td>0</td>\n",
       "      <td>0</td>\n",
       "      <td>0</td>\n",
       "      <td>...</td>\n",
       "      <td>1.00</td>\n",
       "      <td>0.00</td>\n",
       "      <td>0.03</td>\n",
       "      <td>0.04</td>\n",
       "      <td>0.03</td>\n",
       "      <td>0.01</td>\n",
       "      <td>0.0</td>\n",
       "      <td>0.01</td>\n",
       "      <td>normal</td>\n",
       "      <td>21</td>\n",
       "    </tr>\n",
       "    <tr>\n",
       "      <th>3</th>\n",
       "      <td>0</td>\n",
       "      <td>tcp</td>\n",
       "      <td>http</td>\n",
       "      <td>SF</td>\n",
       "      <td>199</td>\n",
       "      <td>420</td>\n",
       "      <td>0</td>\n",
       "      <td>0</td>\n",
       "      <td>0</td>\n",
       "      <td>0</td>\n",
       "      <td>...</td>\n",
       "      <td>1.00</td>\n",
       "      <td>0.00</td>\n",
       "      <td>0.00</td>\n",
       "      <td>0.00</td>\n",
       "      <td>0.00</td>\n",
       "      <td>0.00</td>\n",
       "      <td>0.0</td>\n",
       "      <td>0.00</td>\n",
       "      <td>normal</td>\n",
       "      <td>21</td>\n",
       "    </tr>\n",
       "    <tr>\n",
       "      <th>4</th>\n",
       "      <td>0</td>\n",
       "      <td>tcp</td>\n",
       "      <td>private</td>\n",
       "      <td>REJ</td>\n",
       "      <td>0</td>\n",
       "      <td>0</td>\n",
       "      <td>0</td>\n",
       "      <td>0</td>\n",
       "      <td>0</td>\n",
       "      <td>0</td>\n",
       "      <td>...</td>\n",
       "      <td>0.07</td>\n",
       "      <td>0.07</td>\n",
       "      <td>0.00</td>\n",
       "      <td>0.00</td>\n",
       "      <td>0.00</td>\n",
       "      <td>0.00</td>\n",
       "      <td>1.0</td>\n",
       "      <td>1.00</td>\n",
       "      <td>neptune</td>\n",
       "      <td>21</td>\n",
       "    </tr>\n",
       "  </tbody>\n",
       "</table>\n",
       "<p>5 rows × 43 columns</p>\n",
       "</div>"
      ],
      "text/plain": [
       "   duration protocol_type  service flag  src_bytes  dst_bytes  land  \\\n",
       "0         0           udp    other   SF        146          0     0   \n",
       "1         0           tcp  private   S0          0          0     0   \n",
       "2         0           tcp     http   SF        232       8153     0   \n",
       "3         0           tcp     http   SF        199        420     0   \n",
       "4         0           tcp  private  REJ          0          0     0   \n",
       "\n",
       "   wrong_fragment  urgent  hot  ...  dst_host_same_srv_rate  \\\n",
       "0               0       0    0  ...                    0.00   \n",
       "1               0       0    0  ...                    0.10   \n",
       "2               0       0    0  ...                    1.00   \n",
       "3               0       0    0  ...                    1.00   \n",
       "4               0       0    0  ...                    0.07   \n",
       "\n",
       "   dst_host_diff_srv_rate  dst_host_same_src_port_rate  \\\n",
       "0                    0.60                         0.88   \n",
       "1                    0.05                         0.00   \n",
       "2                    0.00                         0.03   \n",
       "3                    0.00                         0.00   \n",
       "4                    0.07                         0.00   \n",
       "\n",
       "   dst_host_srv_diff_host_rate  dst_host_serror_rate  \\\n",
       "0                         0.00                  0.00   \n",
       "1                         0.00                  1.00   \n",
       "2                         0.04                  0.03   \n",
       "3                         0.00                  0.00   \n",
       "4                         0.00                  0.00   \n",
       "\n",
       "   dst_host_srv_serror_rate  dst_host_rerror_rate  dst_host_srv_rerror_rate  \\\n",
       "0                      0.00                   0.0                      0.00   \n",
       "1                      1.00                   0.0                      0.00   \n",
       "2                      0.01                   0.0                      0.01   \n",
       "3                      0.00                   0.0                      0.00   \n",
       "4                      0.00                   1.0                      1.00   \n",
       "\n",
       "    attack  last_flag  \n",
       "0   normal         15  \n",
       "1  neptune         19  \n",
       "2   normal         21  \n",
       "3   normal         21  \n",
       "4  neptune         21  \n",
       "\n",
       "[5 rows x 43 columns]"
      ]
     },
     "execution_count": 10,
     "metadata": {},
     "output_type": "execute_result"
    }
   ],
   "source": [
    "train.head()"
   ]
  },
  {
   "cell_type": "code",
   "execution_count": 11,
   "metadata": {},
   "outputs": [
    {
     "data": {
      "text/html": [
       "<div>\n",
       "<style scoped>\n",
       "    .dataframe tbody tr th:only-of-type {\n",
       "        vertical-align: middle;\n",
       "    }\n",
       "\n",
       "    .dataframe tbody tr th {\n",
       "        vertical-align: top;\n",
       "    }\n",
       "\n",
       "    .dataframe thead th {\n",
       "        text-align: right;\n",
       "    }\n",
       "</style>\n",
       "<table border=\"1\" class=\"dataframe\">\n",
       "  <thead>\n",
       "    <tr style=\"text-align: right;\">\n",
       "      <th></th>\n",
       "      <th>duration</th>\n",
       "      <th>protocol_type</th>\n",
       "      <th>service</th>\n",
       "      <th>flag</th>\n",
       "      <th>src_bytes</th>\n",
       "      <th>dst_bytes</th>\n",
       "      <th>land</th>\n",
       "      <th>wrong_fragment</th>\n",
       "      <th>urgent</th>\n",
       "      <th>hot</th>\n",
       "      <th>...</th>\n",
       "      <th>dst_host_same_srv_rate</th>\n",
       "      <th>dst_host_diff_srv_rate</th>\n",
       "      <th>dst_host_same_src_port_rate</th>\n",
       "      <th>dst_host_srv_diff_host_rate</th>\n",
       "      <th>dst_host_serror_rate</th>\n",
       "      <th>dst_host_srv_serror_rate</th>\n",
       "      <th>dst_host_rerror_rate</th>\n",
       "      <th>dst_host_srv_rerror_rate</th>\n",
       "      <th>attack</th>\n",
       "      <th>last_flag</th>\n",
       "    </tr>\n",
       "  </thead>\n",
       "  <tbody>\n",
       "    <tr>\n",
       "      <th>0</th>\n",
       "      <td>0</td>\n",
       "      <td>tcp</td>\n",
       "      <td>private</td>\n",
       "      <td>REJ</td>\n",
       "      <td>0</td>\n",
       "      <td>0</td>\n",
       "      <td>0</td>\n",
       "      <td>0</td>\n",
       "      <td>0</td>\n",
       "      <td>0</td>\n",
       "      <td>...</td>\n",
       "      <td>0.00</td>\n",
       "      <td>0.06</td>\n",
       "      <td>0.00</td>\n",
       "      <td>0.00</td>\n",
       "      <td>0.00</td>\n",
       "      <td>0.0</td>\n",
       "      <td>1.00</td>\n",
       "      <td>1.00</td>\n",
       "      <td>neptune</td>\n",
       "      <td>21</td>\n",
       "    </tr>\n",
       "    <tr>\n",
       "      <th>1</th>\n",
       "      <td>2</td>\n",
       "      <td>tcp</td>\n",
       "      <td>ftp_data</td>\n",
       "      <td>SF</td>\n",
       "      <td>12983</td>\n",
       "      <td>0</td>\n",
       "      <td>0</td>\n",
       "      <td>0</td>\n",
       "      <td>0</td>\n",
       "      <td>0</td>\n",
       "      <td>...</td>\n",
       "      <td>0.61</td>\n",
       "      <td>0.04</td>\n",
       "      <td>0.61</td>\n",
       "      <td>0.02</td>\n",
       "      <td>0.00</td>\n",
       "      <td>0.0</td>\n",
       "      <td>0.00</td>\n",
       "      <td>0.00</td>\n",
       "      <td>normal</td>\n",
       "      <td>21</td>\n",
       "    </tr>\n",
       "    <tr>\n",
       "      <th>2</th>\n",
       "      <td>0</td>\n",
       "      <td>icmp</td>\n",
       "      <td>eco_i</td>\n",
       "      <td>SF</td>\n",
       "      <td>20</td>\n",
       "      <td>0</td>\n",
       "      <td>0</td>\n",
       "      <td>0</td>\n",
       "      <td>0</td>\n",
       "      <td>0</td>\n",
       "      <td>...</td>\n",
       "      <td>1.00</td>\n",
       "      <td>0.00</td>\n",
       "      <td>1.00</td>\n",
       "      <td>0.28</td>\n",
       "      <td>0.00</td>\n",
       "      <td>0.0</td>\n",
       "      <td>0.00</td>\n",
       "      <td>0.00</td>\n",
       "      <td>saint</td>\n",
       "      <td>15</td>\n",
       "    </tr>\n",
       "    <tr>\n",
       "      <th>3</th>\n",
       "      <td>1</td>\n",
       "      <td>tcp</td>\n",
       "      <td>telnet</td>\n",
       "      <td>RSTO</td>\n",
       "      <td>0</td>\n",
       "      <td>15</td>\n",
       "      <td>0</td>\n",
       "      <td>0</td>\n",
       "      <td>0</td>\n",
       "      <td>0</td>\n",
       "      <td>...</td>\n",
       "      <td>0.31</td>\n",
       "      <td>0.17</td>\n",
       "      <td>0.03</td>\n",
       "      <td>0.02</td>\n",
       "      <td>0.00</td>\n",
       "      <td>0.0</td>\n",
       "      <td>0.83</td>\n",
       "      <td>0.71</td>\n",
       "      <td>mscan</td>\n",
       "      <td>11</td>\n",
       "    </tr>\n",
       "    <tr>\n",
       "      <th>4</th>\n",
       "      <td>0</td>\n",
       "      <td>tcp</td>\n",
       "      <td>http</td>\n",
       "      <td>SF</td>\n",
       "      <td>267</td>\n",
       "      <td>14515</td>\n",
       "      <td>0</td>\n",
       "      <td>0</td>\n",
       "      <td>0</td>\n",
       "      <td>0</td>\n",
       "      <td>...</td>\n",
       "      <td>1.00</td>\n",
       "      <td>0.00</td>\n",
       "      <td>0.01</td>\n",
       "      <td>0.03</td>\n",
       "      <td>0.01</td>\n",
       "      <td>0.0</td>\n",
       "      <td>0.00</td>\n",
       "      <td>0.00</td>\n",
       "      <td>normal</td>\n",
       "      <td>21</td>\n",
       "    </tr>\n",
       "  </tbody>\n",
       "</table>\n",
       "<p>5 rows × 43 columns</p>\n",
       "</div>"
      ],
      "text/plain": [
       "   duration protocol_type   service  flag  src_bytes  dst_bytes  land  \\\n",
       "0         0           tcp   private   REJ          0          0     0   \n",
       "1         2           tcp  ftp_data    SF      12983          0     0   \n",
       "2         0          icmp     eco_i    SF         20          0     0   \n",
       "3         1           tcp    telnet  RSTO          0         15     0   \n",
       "4         0           tcp      http    SF        267      14515     0   \n",
       "\n",
       "   wrong_fragment  urgent  hot  ...  dst_host_same_srv_rate  \\\n",
       "0               0       0    0  ...                    0.00   \n",
       "1               0       0    0  ...                    0.61   \n",
       "2               0       0    0  ...                    1.00   \n",
       "3               0       0    0  ...                    0.31   \n",
       "4               0       0    0  ...                    1.00   \n",
       "\n",
       "   dst_host_diff_srv_rate  dst_host_same_src_port_rate  \\\n",
       "0                    0.06                         0.00   \n",
       "1                    0.04                         0.61   \n",
       "2                    0.00                         1.00   \n",
       "3                    0.17                         0.03   \n",
       "4                    0.00                         0.01   \n",
       "\n",
       "   dst_host_srv_diff_host_rate  dst_host_serror_rate  \\\n",
       "0                         0.00                  0.00   \n",
       "1                         0.02                  0.00   \n",
       "2                         0.28                  0.00   \n",
       "3                         0.02                  0.00   \n",
       "4                         0.03                  0.01   \n",
       "\n",
       "   dst_host_srv_serror_rate  dst_host_rerror_rate  dst_host_srv_rerror_rate  \\\n",
       "0                       0.0                  1.00                      1.00   \n",
       "1                       0.0                  0.00                      0.00   \n",
       "2                       0.0                  0.00                      0.00   \n",
       "3                       0.0                  0.83                      0.71   \n",
       "4                       0.0                  0.00                      0.00   \n",
       "\n",
       "    attack  last_flag  \n",
       "0  neptune         21  \n",
       "1   normal         21  \n",
       "2    saint         15  \n",
       "3    mscan         11  \n",
       "4   normal         21  \n",
       "\n",
       "[5 rows x 43 columns]"
      ]
     },
     "execution_count": 11,
     "metadata": {},
     "output_type": "execute_result"
    }
   ],
   "source": [
    "test.head()"
   ]
  },
  {
   "cell_type": "code",
   "execution_count": 12,
   "metadata": {},
   "outputs": [
    {
     "name": "stdout",
     "output_type": "stream",
     "text": [
      "<class 'pandas.core.frame.DataFrame'>\n",
      "RangeIndex: 125972 entries, 0 to 125971\n",
      "Data columns (total 43 columns):\n",
      " #   Column                       Non-Null Count   Dtype  \n",
      "---  ------                       --------------   -----  \n",
      " 0   duration                     125972 non-null  int64  \n",
      " 1   protocol_type                125972 non-null  object \n",
      " 2   service                      125972 non-null  object \n",
      " 3   flag                         125972 non-null  object \n",
      " 4   src_bytes                    125972 non-null  int64  \n",
      " 5   dst_bytes                    125972 non-null  int64  \n",
      " 6   land                         125972 non-null  int64  \n",
      " 7   wrong_fragment               125972 non-null  int64  \n",
      " 8   urgent                       125972 non-null  int64  \n",
      " 9   hot                          125972 non-null  int64  \n",
      " 10  num_failed_logins            125972 non-null  int64  \n",
      " 11  logged_in                    125972 non-null  int64  \n",
      " 12  num_compromised              125972 non-null  int64  \n",
      " 13  root_shell                   125972 non-null  int64  \n",
      " 14  su_attempted                 125972 non-null  int64  \n",
      " 15  num_root                     125972 non-null  int64  \n",
      " 16  num_file_creations           125972 non-null  int64  \n",
      " 17  num_shells                   125972 non-null  int64  \n",
      " 18  num_access_files             125972 non-null  int64  \n",
      " 19  num_outbound_cmds            125972 non-null  int64  \n",
      " 20  is_host_login                125972 non-null  int64  \n",
      " 21  is_guest_login               125972 non-null  int64  \n",
      " 22  count                        125972 non-null  int64  \n",
      " 23  srv_count                    125972 non-null  int64  \n",
      " 24  serror_rate                  125972 non-null  float64\n",
      " 25  srv_serror_rate              125972 non-null  float64\n",
      " 26  rerror_rate                  125972 non-null  float64\n",
      " 27  srv_rerror_rate              125972 non-null  float64\n",
      " 28  same_srv_rate                125972 non-null  float64\n",
      " 29  diff_srv_rate                125972 non-null  float64\n",
      " 30  srv_diff_host_rate           125972 non-null  float64\n",
      " 31  dst_host_count               125972 non-null  int64  \n",
      " 32  dst_host_srv_count           125972 non-null  int64  \n",
      " 33  dst_host_same_srv_rate       125972 non-null  float64\n",
      " 34  dst_host_diff_srv_rate       125972 non-null  float64\n",
      " 35  dst_host_same_src_port_rate  125972 non-null  float64\n",
      " 36  dst_host_srv_diff_host_rate  125972 non-null  float64\n",
      " 37  dst_host_serror_rate         125972 non-null  float64\n",
      " 38  dst_host_srv_serror_rate     125972 non-null  float64\n",
      " 39  dst_host_rerror_rate         125972 non-null  float64\n",
      " 40  dst_host_srv_rerror_rate     125972 non-null  float64\n",
      " 41  attack                       125972 non-null  object \n",
      " 42  last_flag                    125972 non-null  int64  \n",
      "dtypes: float64(15), int64(24), object(4)\n",
      "memory usage: 41.3+ MB\n"
     ]
    }
   ],
   "source": [
    "train.info()"
   ]
  },
  {
   "cell_type": "code",
   "execution_count": 13,
   "metadata": {},
   "outputs": [
    {
     "name": "stdout",
     "output_type": "stream",
     "text": [
      "<class 'pandas.core.frame.DataFrame'>\n",
      "RangeIndex: 22543 entries, 0 to 22542\n",
      "Data columns (total 43 columns):\n",
      " #   Column                       Non-Null Count  Dtype  \n",
      "---  ------                       --------------  -----  \n",
      " 0   duration                     22543 non-null  int64  \n",
      " 1   protocol_type                22543 non-null  object \n",
      " 2   service                      22543 non-null  object \n",
      " 3   flag                         22543 non-null  object \n",
      " 4   src_bytes                    22543 non-null  int64  \n",
      " 5   dst_bytes                    22543 non-null  int64  \n",
      " 6   land                         22543 non-null  int64  \n",
      " 7   wrong_fragment               22543 non-null  int64  \n",
      " 8   urgent                       22543 non-null  int64  \n",
      " 9   hot                          22543 non-null  int64  \n",
      " 10  num_failed_logins            22543 non-null  int64  \n",
      " 11  logged_in                    22543 non-null  int64  \n",
      " 12  num_compromised              22543 non-null  int64  \n",
      " 13  root_shell                   22543 non-null  int64  \n",
      " 14  su_attempted                 22543 non-null  int64  \n",
      " 15  num_root                     22543 non-null  int64  \n",
      " 16  num_file_creations           22543 non-null  int64  \n",
      " 17  num_shells                   22543 non-null  int64  \n",
      " 18  num_access_files             22543 non-null  int64  \n",
      " 19  num_outbound_cmds            22543 non-null  int64  \n",
      " 20  is_host_login                22543 non-null  int64  \n",
      " 21  is_guest_login               22543 non-null  int64  \n",
      " 22  count                        22543 non-null  int64  \n",
      " 23  srv_count                    22543 non-null  int64  \n",
      " 24  serror_rate                  22543 non-null  float64\n",
      " 25  srv_serror_rate              22543 non-null  float64\n",
      " 26  rerror_rate                  22543 non-null  float64\n",
      " 27  srv_rerror_rate              22543 non-null  float64\n",
      " 28  same_srv_rate                22543 non-null  float64\n",
      " 29  diff_srv_rate                22543 non-null  float64\n",
      " 30  srv_diff_host_rate           22543 non-null  float64\n",
      " 31  dst_host_count               22543 non-null  int64  \n",
      " 32  dst_host_srv_count           22543 non-null  int64  \n",
      " 33  dst_host_same_srv_rate       22543 non-null  float64\n",
      " 34  dst_host_diff_srv_rate       22543 non-null  float64\n",
      " 35  dst_host_same_src_port_rate  22543 non-null  float64\n",
      " 36  dst_host_srv_diff_host_rate  22543 non-null  float64\n",
      " 37  dst_host_serror_rate         22543 non-null  float64\n",
      " 38  dst_host_srv_serror_rate     22543 non-null  float64\n",
      " 39  dst_host_rerror_rate         22543 non-null  float64\n",
      " 40  dst_host_srv_rerror_rate     22543 non-null  float64\n",
      " 41  attack                       22543 non-null  object \n",
      " 42  last_flag                    22543 non-null  int64  \n",
      "dtypes: float64(15), int64(24), object(4)\n",
      "memory usage: 7.4+ MB\n"
     ]
    }
   ],
   "source": [
    "test.info()"
   ]
  },
  {
   "cell_type": "code",
   "execution_count": 14,
   "metadata": {},
   "outputs": [
    {
     "data": {
      "text/html": [
       "<div>\n",
       "<style scoped>\n",
       "    .dataframe tbody tr th:only-of-type {\n",
       "        vertical-align: middle;\n",
       "    }\n",
       "\n",
       "    .dataframe tbody tr th {\n",
       "        vertical-align: top;\n",
       "    }\n",
       "\n",
       "    .dataframe thead th {\n",
       "        text-align: right;\n",
       "    }\n",
       "</style>\n",
       "<table border=\"1\" class=\"dataframe\">\n",
       "  <thead>\n",
       "    <tr style=\"text-align: right;\">\n",
       "      <th></th>\n",
       "      <th>count</th>\n",
       "      <th>mean</th>\n",
       "      <th>std</th>\n",
       "      <th>min</th>\n",
       "      <th>25%</th>\n",
       "      <th>50%</th>\n",
       "      <th>75%</th>\n",
       "      <th>max</th>\n",
       "    </tr>\n",
       "  </thead>\n",
       "  <tbody>\n",
       "    <tr>\n",
       "      <th>duration</th>\n",
       "      <td>125972.0</td>\n",
       "      <td>287.146929</td>\n",
       "      <td>2.604526e+03</td>\n",
       "      <td>0.0</td>\n",
       "      <td>0.00</td>\n",
       "      <td>0.00</td>\n",
       "      <td>0.00</td>\n",
       "      <td>4.290800e+04</td>\n",
       "    </tr>\n",
       "    <tr>\n",
       "      <th>src_bytes</th>\n",
       "      <td>125972.0</td>\n",
       "      <td>45567.100824</td>\n",
       "      <td>5.870354e+06</td>\n",
       "      <td>0.0</td>\n",
       "      <td>0.00</td>\n",
       "      <td>44.00</td>\n",
       "      <td>276.00</td>\n",
       "      <td>1.379964e+09</td>\n",
       "    </tr>\n",
       "    <tr>\n",
       "      <th>dst_bytes</th>\n",
       "      <td>125972.0</td>\n",
       "      <td>19779.271433</td>\n",
       "      <td>4.021285e+06</td>\n",
       "      <td>0.0</td>\n",
       "      <td>0.00</td>\n",
       "      <td>0.00</td>\n",
       "      <td>516.00</td>\n",
       "      <td>1.309937e+09</td>\n",
       "    </tr>\n",
       "    <tr>\n",
       "      <th>land</th>\n",
       "      <td>125972.0</td>\n",
       "      <td>0.000198</td>\n",
       "      <td>1.408613e-02</td>\n",
       "      <td>0.0</td>\n",
       "      <td>0.00</td>\n",
       "      <td>0.00</td>\n",
       "      <td>0.00</td>\n",
       "      <td>1.000000e+00</td>\n",
       "    </tr>\n",
       "    <tr>\n",
       "      <th>wrong_fragment</th>\n",
       "      <td>125972.0</td>\n",
       "      <td>0.022688</td>\n",
       "      <td>2.535310e-01</td>\n",
       "      <td>0.0</td>\n",
       "      <td>0.00</td>\n",
       "      <td>0.00</td>\n",
       "      <td>0.00</td>\n",
       "      <td>3.000000e+00</td>\n",
       "    </tr>\n",
       "    <tr>\n",
       "      <th>urgent</th>\n",
       "      <td>125972.0</td>\n",
       "      <td>0.000111</td>\n",
       "      <td>1.436608e-02</td>\n",
       "      <td>0.0</td>\n",
       "      <td>0.00</td>\n",
       "      <td>0.00</td>\n",
       "      <td>0.00</td>\n",
       "      <td>3.000000e+00</td>\n",
       "    </tr>\n",
       "    <tr>\n",
       "      <th>hot</th>\n",
       "      <td>125972.0</td>\n",
       "      <td>0.204411</td>\n",
       "      <td>2.149977e+00</td>\n",
       "      <td>0.0</td>\n",
       "      <td>0.00</td>\n",
       "      <td>0.00</td>\n",
       "      <td>0.00</td>\n",
       "      <td>7.700000e+01</td>\n",
       "    </tr>\n",
       "    <tr>\n",
       "      <th>num_failed_logins</th>\n",
       "      <td>125972.0</td>\n",
       "      <td>0.001222</td>\n",
       "      <td>4.523932e-02</td>\n",
       "      <td>0.0</td>\n",
       "      <td>0.00</td>\n",
       "      <td>0.00</td>\n",
       "      <td>0.00</td>\n",
       "      <td>5.000000e+00</td>\n",
       "    </tr>\n",
       "    <tr>\n",
       "      <th>logged_in</th>\n",
       "      <td>125972.0</td>\n",
       "      <td>0.395739</td>\n",
       "      <td>4.890107e-01</td>\n",
       "      <td>0.0</td>\n",
       "      <td>0.00</td>\n",
       "      <td>0.00</td>\n",
       "      <td>1.00</td>\n",
       "      <td>1.000000e+00</td>\n",
       "    </tr>\n",
       "    <tr>\n",
       "      <th>num_compromised</th>\n",
       "      <td>125972.0</td>\n",
       "      <td>0.279253</td>\n",
       "      <td>2.394214e+01</td>\n",
       "      <td>0.0</td>\n",
       "      <td>0.00</td>\n",
       "      <td>0.00</td>\n",
       "      <td>0.00</td>\n",
       "      <td>7.479000e+03</td>\n",
       "    </tr>\n",
       "    <tr>\n",
       "      <th>root_shell</th>\n",
       "      <td>125972.0</td>\n",
       "      <td>0.001342</td>\n",
       "      <td>3.660299e-02</td>\n",
       "      <td>0.0</td>\n",
       "      <td>0.00</td>\n",
       "      <td>0.00</td>\n",
       "      <td>0.00</td>\n",
       "      <td>1.000000e+00</td>\n",
       "    </tr>\n",
       "    <tr>\n",
       "      <th>su_attempted</th>\n",
       "      <td>125972.0</td>\n",
       "      <td>0.001103</td>\n",
       "      <td>4.515456e-02</td>\n",
       "      <td>0.0</td>\n",
       "      <td>0.00</td>\n",
       "      <td>0.00</td>\n",
       "      <td>0.00</td>\n",
       "      <td>2.000000e+00</td>\n",
       "    </tr>\n",
       "    <tr>\n",
       "      <th>num_root</th>\n",
       "      <td>125972.0</td>\n",
       "      <td>0.302194</td>\n",
       "      <td>2.439971e+01</td>\n",
       "      <td>0.0</td>\n",
       "      <td>0.00</td>\n",
       "      <td>0.00</td>\n",
       "      <td>0.00</td>\n",
       "      <td>7.468000e+03</td>\n",
       "    </tr>\n",
       "    <tr>\n",
       "      <th>num_file_creations</th>\n",
       "      <td>125972.0</td>\n",
       "      <td>0.012669</td>\n",
       "      <td>4.839370e-01</td>\n",
       "      <td>0.0</td>\n",
       "      <td>0.00</td>\n",
       "      <td>0.00</td>\n",
       "      <td>0.00</td>\n",
       "      <td>4.300000e+01</td>\n",
       "    </tr>\n",
       "    <tr>\n",
       "      <th>num_shells</th>\n",
       "      <td>125972.0</td>\n",
       "      <td>0.000413</td>\n",
       "      <td>2.218122e-02</td>\n",
       "      <td>0.0</td>\n",
       "      <td>0.00</td>\n",
       "      <td>0.00</td>\n",
       "      <td>0.00</td>\n",
       "      <td>2.000000e+00</td>\n",
       "    </tr>\n",
       "    <tr>\n",
       "      <th>num_access_files</th>\n",
       "      <td>125972.0</td>\n",
       "      <td>0.004096</td>\n",
       "      <td>9.936995e-02</td>\n",
       "      <td>0.0</td>\n",
       "      <td>0.00</td>\n",
       "      <td>0.00</td>\n",
       "      <td>0.00</td>\n",
       "      <td>9.000000e+00</td>\n",
       "    </tr>\n",
       "    <tr>\n",
       "      <th>num_outbound_cmds</th>\n",
       "      <td>125972.0</td>\n",
       "      <td>0.000000</td>\n",
       "      <td>0.000000e+00</td>\n",
       "      <td>0.0</td>\n",
       "      <td>0.00</td>\n",
       "      <td>0.00</td>\n",
       "      <td>0.00</td>\n",
       "      <td>0.000000e+00</td>\n",
       "    </tr>\n",
       "    <tr>\n",
       "      <th>is_host_login</th>\n",
       "      <td>125972.0</td>\n",
       "      <td>0.000008</td>\n",
       "      <td>2.817494e-03</td>\n",
       "      <td>0.0</td>\n",
       "      <td>0.00</td>\n",
       "      <td>0.00</td>\n",
       "      <td>0.00</td>\n",
       "      <td>1.000000e+00</td>\n",
       "    </tr>\n",
       "    <tr>\n",
       "      <th>is_guest_login</th>\n",
       "      <td>125972.0</td>\n",
       "      <td>0.009423</td>\n",
       "      <td>9.661271e-02</td>\n",
       "      <td>0.0</td>\n",
       "      <td>0.00</td>\n",
       "      <td>0.00</td>\n",
       "      <td>0.00</td>\n",
       "      <td>1.000000e+00</td>\n",
       "    </tr>\n",
       "    <tr>\n",
       "      <th>count</th>\n",
       "      <td>125972.0</td>\n",
       "      <td>84.108207</td>\n",
       "      <td>1.145088e+02</td>\n",
       "      <td>0.0</td>\n",
       "      <td>2.00</td>\n",
       "      <td>14.00</td>\n",
       "      <td>143.00</td>\n",
       "      <td>5.110000e+02</td>\n",
       "    </tr>\n",
       "    <tr>\n",
       "      <th>srv_count</th>\n",
       "      <td>125972.0</td>\n",
       "      <td>27.738093</td>\n",
       "      <td>7.263609e+01</td>\n",
       "      <td>0.0</td>\n",
       "      <td>2.00</td>\n",
       "      <td>8.00</td>\n",
       "      <td>18.00</td>\n",
       "      <td>5.110000e+02</td>\n",
       "    </tr>\n",
       "    <tr>\n",
       "      <th>serror_rate</th>\n",
       "      <td>125972.0</td>\n",
       "      <td>0.284487</td>\n",
       "      <td>4.464567e-01</td>\n",
       "      <td>0.0</td>\n",
       "      <td>0.00</td>\n",
       "      <td>0.00</td>\n",
       "      <td>1.00</td>\n",
       "      <td>1.000000e+00</td>\n",
       "    </tr>\n",
       "    <tr>\n",
       "      <th>srv_serror_rate</th>\n",
       "      <td>125972.0</td>\n",
       "      <td>0.282488</td>\n",
       "      <td>4.470236e-01</td>\n",
       "      <td>0.0</td>\n",
       "      <td>0.00</td>\n",
       "      <td>0.00</td>\n",
       "      <td>1.00</td>\n",
       "      <td>1.000000e+00</td>\n",
       "    </tr>\n",
       "    <tr>\n",
       "      <th>rerror_rate</th>\n",
       "      <td>125972.0</td>\n",
       "      <td>0.119959</td>\n",
       "      <td>3.204366e-01</td>\n",
       "      <td>0.0</td>\n",
       "      <td>0.00</td>\n",
       "      <td>0.00</td>\n",
       "      <td>0.00</td>\n",
       "      <td>1.000000e+00</td>\n",
       "    </tr>\n",
       "    <tr>\n",
       "      <th>srv_rerror_rate</th>\n",
       "      <td>125972.0</td>\n",
       "      <td>0.121184</td>\n",
       "      <td>3.236483e-01</td>\n",
       "      <td>0.0</td>\n",
       "      <td>0.00</td>\n",
       "      <td>0.00</td>\n",
       "      <td>0.00</td>\n",
       "      <td>1.000000e+00</td>\n",
       "    </tr>\n",
       "    <tr>\n",
       "      <th>same_srv_rate</th>\n",
       "      <td>125972.0</td>\n",
       "      <td>0.660925</td>\n",
       "      <td>4.396236e-01</td>\n",
       "      <td>0.0</td>\n",
       "      <td>0.09</td>\n",
       "      <td>1.00</td>\n",
       "      <td>1.00</td>\n",
       "      <td>1.000000e+00</td>\n",
       "    </tr>\n",
       "    <tr>\n",
       "      <th>diff_srv_rate</th>\n",
       "      <td>125972.0</td>\n",
       "      <td>0.063053</td>\n",
       "      <td>1.803150e-01</td>\n",
       "      <td>0.0</td>\n",
       "      <td>0.00</td>\n",
       "      <td>0.00</td>\n",
       "      <td>0.06</td>\n",
       "      <td>1.000000e+00</td>\n",
       "    </tr>\n",
       "    <tr>\n",
       "      <th>srv_diff_host_rate</th>\n",
       "      <td>125972.0</td>\n",
       "      <td>0.097322</td>\n",
       "      <td>2.598314e-01</td>\n",
       "      <td>0.0</td>\n",
       "      <td>0.00</td>\n",
       "      <td>0.00</td>\n",
       "      <td>0.00</td>\n",
       "      <td>1.000000e+00</td>\n",
       "    </tr>\n",
       "    <tr>\n",
       "      <th>dst_host_count</th>\n",
       "      <td>125972.0</td>\n",
       "      <td>182.149200</td>\n",
       "      <td>9.920657e+01</td>\n",
       "      <td>0.0</td>\n",
       "      <td>82.00</td>\n",
       "      <td>255.00</td>\n",
       "      <td>255.00</td>\n",
       "      <td>2.550000e+02</td>\n",
       "    </tr>\n",
       "    <tr>\n",
       "      <th>dst_host_srv_count</th>\n",
       "      <td>125972.0</td>\n",
       "      <td>115.653725</td>\n",
       "      <td>1.107029e+02</td>\n",
       "      <td>0.0</td>\n",
       "      <td>10.00</td>\n",
       "      <td>63.00</td>\n",
       "      <td>255.00</td>\n",
       "      <td>2.550000e+02</td>\n",
       "    </tr>\n",
       "    <tr>\n",
       "      <th>dst_host_same_srv_rate</th>\n",
       "      <td>125972.0</td>\n",
       "      <td>0.521244</td>\n",
       "      <td>4.489501e-01</td>\n",
       "      <td>0.0</td>\n",
       "      <td>0.05</td>\n",
       "      <td>0.51</td>\n",
       "      <td>1.00</td>\n",
       "      <td>1.000000e+00</td>\n",
       "    </tr>\n",
       "    <tr>\n",
       "      <th>dst_host_diff_srv_rate</th>\n",
       "      <td>125972.0</td>\n",
       "      <td>0.082952</td>\n",
       "      <td>1.889225e-01</td>\n",
       "      <td>0.0</td>\n",
       "      <td>0.00</td>\n",
       "      <td>0.02</td>\n",
       "      <td>0.07</td>\n",
       "      <td>1.000000e+00</td>\n",
       "    </tr>\n",
       "    <tr>\n",
       "      <th>dst_host_same_src_port_rate</th>\n",
       "      <td>125972.0</td>\n",
       "      <td>0.148379</td>\n",
       "      <td>3.089984e-01</td>\n",
       "      <td>0.0</td>\n",
       "      <td>0.00</td>\n",
       "      <td>0.00</td>\n",
       "      <td>0.06</td>\n",
       "      <td>1.000000e+00</td>\n",
       "    </tr>\n",
       "    <tr>\n",
       "      <th>dst_host_srv_diff_host_rate</th>\n",
       "      <td>125972.0</td>\n",
       "      <td>0.032543</td>\n",
       "      <td>1.125642e-01</td>\n",
       "      <td>0.0</td>\n",
       "      <td>0.00</td>\n",
       "      <td>0.00</td>\n",
       "      <td>0.02</td>\n",
       "      <td>1.000000e+00</td>\n",
       "    </tr>\n",
       "    <tr>\n",
       "      <th>dst_host_serror_rate</th>\n",
       "      <td>125972.0</td>\n",
       "      <td>0.284455</td>\n",
       "      <td>4.447851e-01</td>\n",
       "      <td>0.0</td>\n",
       "      <td>0.00</td>\n",
       "      <td>0.00</td>\n",
       "      <td>1.00</td>\n",
       "      <td>1.000000e+00</td>\n",
       "    </tr>\n",
       "    <tr>\n",
       "      <th>dst_host_srv_serror_rate</th>\n",
       "      <td>125972.0</td>\n",
       "      <td>0.278487</td>\n",
       "      <td>4.456702e-01</td>\n",
       "      <td>0.0</td>\n",
       "      <td>0.00</td>\n",
       "      <td>0.00</td>\n",
       "      <td>1.00</td>\n",
       "      <td>1.000000e+00</td>\n",
       "    </tr>\n",
       "    <tr>\n",
       "      <th>dst_host_rerror_rate</th>\n",
       "      <td>125972.0</td>\n",
       "      <td>0.118832</td>\n",
       "      <td>3.065586e-01</td>\n",
       "      <td>0.0</td>\n",
       "      <td>0.00</td>\n",
       "      <td>0.00</td>\n",
       "      <td>0.00</td>\n",
       "      <td>1.000000e+00</td>\n",
       "    </tr>\n",
       "    <tr>\n",
       "      <th>dst_host_srv_rerror_rate</th>\n",
       "      <td>125972.0</td>\n",
       "      <td>0.120241</td>\n",
       "      <td>3.194605e-01</td>\n",
       "      <td>0.0</td>\n",
       "      <td>0.00</td>\n",
       "      <td>0.00</td>\n",
       "      <td>0.00</td>\n",
       "      <td>1.000000e+00</td>\n",
       "    </tr>\n",
       "    <tr>\n",
       "      <th>last_flag</th>\n",
       "      <td>125972.0</td>\n",
       "      <td>19.504056</td>\n",
       "      <td>2.291512e+00</td>\n",
       "      <td>0.0</td>\n",
       "      <td>18.00</td>\n",
       "      <td>20.00</td>\n",
       "      <td>21.00</td>\n",
       "      <td>2.100000e+01</td>\n",
       "    </tr>\n",
       "  </tbody>\n",
       "</table>\n",
       "</div>"
      ],
      "text/plain": [
       "                                count          mean           std  min    25%  \\\n",
       "duration                     125972.0    287.146929  2.604526e+03  0.0   0.00   \n",
       "src_bytes                    125972.0  45567.100824  5.870354e+06  0.0   0.00   \n",
       "dst_bytes                    125972.0  19779.271433  4.021285e+06  0.0   0.00   \n",
       "land                         125972.0      0.000198  1.408613e-02  0.0   0.00   \n",
       "wrong_fragment               125972.0      0.022688  2.535310e-01  0.0   0.00   \n",
       "urgent                       125972.0      0.000111  1.436608e-02  0.0   0.00   \n",
       "hot                          125972.0      0.204411  2.149977e+00  0.0   0.00   \n",
       "num_failed_logins            125972.0      0.001222  4.523932e-02  0.0   0.00   \n",
       "logged_in                    125972.0      0.395739  4.890107e-01  0.0   0.00   \n",
       "num_compromised              125972.0      0.279253  2.394214e+01  0.0   0.00   \n",
       "root_shell                   125972.0      0.001342  3.660299e-02  0.0   0.00   \n",
       "su_attempted                 125972.0      0.001103  4.515456e-02  0.0   0.00   \n",
       "num_root                     125972.0      0.302194  2.439971e+01  0.0   0.00   \n",
       "num_file_creations           125972.0      0.012669  4.839370e-01  0.0   0.00   \n",
       "num_shells                   125972.0      0.000413  2.218122e-02  0.0   0.00   \n",
       "num_access_files             125972.0      0.004096  9.936995e-02  0.0   0.00   \n",
       "num_outbound_cmds            125972.0      0.000000  0.000000e+00  0.0   0.00   \n",
       "is_host_login                125972.0      0.000008  2.817494e-03  0.0   0.00   \n",
       "is_guest_login               125972.0      0.009423  9.661271e-02  0.0   0.00   \n",
       "count                        125972.0     84.108207  1.145088e+02  0.0   2.00   \n",
       "srv_count                    125972.0     27.738093  7.263609e+01  0.0   2.00   \n",
       "serror_rate                  125972.0      0.284487  4.464567e-01  0.0   0.00   \n",
       "srv_serror_rate              125972.0      0.282488  4.470236e-01  0.0   0.00   \n",
       "rerror_rate                  125972.0      0.119959  3.204366e-01  0.0   0.00   \n",
       "srv_rerror_rate              125972.0      0.121184  3.236483e-01  0.0   0.00   \n",
       "same_srv_rate                125972.0      0.660925  4.396236e-01  0.0   0.09   \n",
       "diff_srv_rate                125972.0      0.063053  1.803150e-01  0.0   0.00   \n",
       "srv_diff_host_rate           125972.0      0.097322  2.598314e-01  0.0   0.00   \n",
       "dst_host_count               125972.0    182.149200  9.920657e+01  0.0  82.00   \n",
       "dst_host_srv_count           125972.0    115.653725  1.107029e+02  0.0  10.00   \n",
       "dst_host_same_srv_rate       125972.0      0.521244  4.489501e-01  0.0   0.05   \n",
       "dst_host_diff_srv_rate       125972.0      0.082952  1.889225e-01  0.0   0.00   \n",
       "dst_host_same_src_port_rate  125972.0      0.148379  3.089984e-01  0.0   0.00   \n",
       "dst_host_srv_diff_host_rate  125972.0      0.032543  1.125642e-01  0.0   0.00   \n",
       "dst_host_serror_rate         125972.0      0.284455  4.447851e-01  0.0   0.00   \n",
       "dst_host_srv_serror_rate     125972.0      0.278487  4.456702e-01  0.0   0.00   \n",
       "dst_host_rerror_rate         125972.0      0.118832  3.065586e-01  0.0   0.00   \n",
       "dst_host_srv_rerror_rate     125972.0      0.120241  3.194605e-01  0.0   0.00   \n",
       "last_flag                    125972.0     19.504056  2.291512e+00  0.0  18.00   \n",
       "\n",
       "                                50%     75%           max  \n",
       "duration                       0.00    0.00  4.290800e+04  \n",
       "src_bytes                     44.00  276.00  1.379964e+09  \n",
       "dst_bytes                      0.00  516.00  1.309937e+09  \n",
       "land                           0.00    0.00  1.000000e+00  \n",
       "wrong_fragment                 0.00    0.00  3.000000e+00  \n",
       "urgent                         0.00    0.00  3.000000e+00  \n",
       "hot                            0.00    0.00  7.700000e+01  \n",
       "num_failed_logins              0.00    0.00  5.000000e+00  \n",
       "logged_in                      0.00    1.00  1.000000e+00  \n",
       "num_compromised                0.00    0.00  7.479000e+03  \n",
       "root_shell                     0.00    0.00  1.000000e+00  \n",
       "su_attempted                   0.00    0.00  2.000000e+00  \n",
       "num_root                       0.00    0.00  7.468000e+03  \n",
       "num_file_creations             0.00    0.00  4.300000e+01  \n",
       "num_shells                     0.00    0.00  2.000000e+00  \n",
       "num_access_files               0.00    0.00  9.000000e+00  \n",
       "num_outbound_cmds              0.00    0.00  0.000000e+00  \n",
       "is_host_login                  0.00    0.00  1.000000e+00  \n",
       "is_guest_login                 0.00    0.00  1.000000e+00  \n",
       "count                         14.00  143.00  5.110000e+02  \n",
       "srv_count                      8.00   18.00  5.110000e+02  \n",
       "serror_rate                    0.00    1.00  1.000000e+00  \n",
       "srv_serror_rate                0.00    1.00  1.000000e+00  \n",
       "rerror_rate                    0.00    0.00  1.000000e+00  \n",
       "srv_rerror_rate                0.00    0.00  1.000000e+00  \n",
       "same_srv_rate                  1.00    1.00  1.000000e+00  \n",
       "diff_srv_rate                  0.00    0.06  1.000000e+00  \n",
       "srv_diff_host_rate             0.00    0.00  1.000000e+00  \n",
       "dst_host_count               255.00  255.00  2.550000e+02  \n",
       "dst_host_srv_count            63.00  255.00  2.550000e+02  \n",
       "dst_host_same_srv_rate         0.51    1.00  1.000000e+00  \n",
       "dst_host_diff_srv_rate         0.02    0.07  1.000000e+00  \n",
       "dst_host_same_src_port_rate    0.00    0.06  1.000000e+00  \n",
       "dst_host_srv_diff_host_rate    0.00    0.02  1.000000e+00  \n",
       "dst_host_serror_rate           0.00    1.00  1.000000e+00  \n",
       "dst_host_srv_serror_rate       0.00    1.00  1.000000e+00  \n",
       "dst_host_rerror_rate           0.00    0.00  1.000000e+00  \n",
       "dst_host_srv_rerror_rate       0.00    0.00  1.000000e+00  \n",
       "last_flag                     20.00   21.00  2.100000e+01  "
      ]
     },
     "execution_count": 14,
     "metadata": {},
     "output_type": "execute_result"
    }
   ],
   "source": [
    "train.describe().T"
   ]
  },
  {
   "cell_type": "markdown",
   "metadata": {},
   "source": [
    "In attack_class normal means 0, DOS means 1, PROBE means 2, R2L means 3 and U2R means 4."
   ]
  },
  {
   "cell_type": "code",
   "execution_count": 15,
   "metadata": {},
   "outputs": [
    {
     "data": {
      "text/plain": [
       "normal             67342\n",
       "neptune            41214\n",
       "satan               3633\n",
       "ipsweep             3599\n",
       "portsweep           2931\n",
       "smurf               2646\n",
       "nmap                1493\n",
       "back                 956\n",
       "teardrop             892\n",
       "warezclient          890\n",
       "pod                  201\n",
       "guess_passwd          53\n",
       "buffer_overflow       30\n",
       "warezmaster           20\n",
       "land                  18\n",
       "imap                  11\n",
       "rootkit               10\n",
       "loadmodule             9\n",
       "ftp_write              8\n",
       "multihop               7\n",
       "phf                    4\n",
       "perl                   3\n",
       "spy                    2\n",
       "Name: attack, dtype: int64"
      ]
     },
     "execution_count": 15,
     "metadata": {},
     "output_type": "execute_result"
    }
   ],
   "source": [
    "train['attack'].value_counts()"
   ]
  },
  {
   "cell_type": "code",
   "execution_count": 16,
   "metadata": {},
   "outputs": [
    {
     "data": {
      "text/plain": [
       "normal             9711\n",
       "neptune            4656\n",
       "guess_passwd       1231\n",
       "mscan               996\n",
       "warezmaster         944\n",
       "apache2             737\n",
       "satan               735\n",
       "processtable        685\n",
       "smurf               665\n",
       "back                359\n",
       "snmpguess           331\n",
       "saint               319\n",
       "mailbomb            293\n",
       "snmpgetattack       178\n",
       "portsweep           157\n",
       "ipsweep             141\n",
       "httptunnel          133\n",
       "nmap                 73\n",
       "pod                  41\n",
       "buffer_overflow      20\n",
       "multihop             18\n",
       "named                17\n",
       "ps                   15\n",
       "sendmail             14\n",
       "rootkit              13\n",
       "xterm                13\n",
       "teardrop             12\n",
       "xlock                 9\n",
       "land                  7\n",
       "xsnoop                4\n",
       "ftp_write             3\n",
       "worm                  2\n",
       "loadmodule            2\n",
       "perl                  2\n",
       "sqlattack             2\n",
       "udpstorm              2\n",
       "phf                   2\n",
       "imap                  1\n",
       "Name: attack, dtype: int64"
      ]
     },
     "execution_count": 16,
     "metadata": {},
     "output_type": "execute_result"
    }
   ],
   "source": [
    "test['attack'].value_counts()"
   ]
  },
  {
   "cell_type": "code",
   "execution_count": 17,
   "metadata": {},
   "outputs": [
    {
     "data": {
      "text/plain": [
       "(125972, 43)"
      ]
     },
     "execution_count": 17,
     "metadata": {},
     "output_type": "execute_result"
    }
   ],
   "source": [
    "train.shape"
   ]
  },
  {
   "cell_type": "code",
   "execution_count": 18,
   "metadata": {},
   "outputs": [
    {
     "data": {
      "text/plain": [
       "(22543, 43)"
      ]
     },
     "execution_count": 18,
     "metadata": {},
     "output_type": "execute_result"
    }
   ],
   "source": [
    "test.shape"
   ]
  },
  {
   "cell_type": "markdown",
   "metadata": {},
   "source": [
    "# Binomial Classification"
   ]
  },
  {
   "cell_type": "markdown",
   "metadata": {},
   "source": [
    "### In attack_class normal means 0 and attack means 1."
   ]
  },
  {
   "cell_type": "code",
   "execution_count": 19,
   "metadata": {},
   "outputs": [],
   "source": [
    "train['attack_class'] = np.where(train.attack== 'normal', 0, 1)"
   ]
  },
  {
   "cell_type": "code",
   "execution_count": 20,
   "metadata": {},
   "outputs": [
    {
     "data": {
      "text/plain": [
       "0    67342\n",
       "1    58630\n",
       "Name: attack_class, dtype: int64"
      ]
     },
     "execution_count": 20,
     "metadata": {},
     "output_type": "execute_result"
    }
   ],
   "source": [
    "train.attack_class.value_counts()"
   ]
  },
  {
   "cell_type": "code",
   "execution_count": 21,
   "metadata": {},
   "outputs": [],
   "source": [
    "test['attack_class']=np.where(test.attack=='normal',0,1)"
   ]
  },
  {
   "cell_type": "code",
   "execution_count": 22,
   "metadata": {},
   "outputs": [
    {
     "data": {
      "text/plain": [
       "1    12832\n",
       "0     9711\n",
       "Name: attack_class, dtype: int64"
      ]
     },
     "execution_count": 22,
     "metadata": {},
     "output_type": "execute_result"
    }
   ],
   "source": [
    "test.attack_class.value_counts()"
   ]
  },
  {
   "cell_type": "code",
   "execution_count": 23,
   "metadata": {},
   "outputs": [
    {
     "data": {
      "text/plain": [
       "(125972, 44)"
      ]
     },
     "execution_count": 23,
     "metadata": {},
     "output_type": "execute_result"
    }
   ],
   "source": [
    "train.shape"
   ]
  },
  {
   "cell_type": "code",
   "execution_count": 24,
   "metadata": {},
   "outputs": [
    {
     "data": {
      "text/plain": [
       "(22543, 44)"
      ]
     },
     "execution_count": 24,
     "metadata": {},
     "output_type": "execute_result"
    }
   ],
   "source": [
    "test.shape"
   ]
  },
  {
   "cell_type": "markdown",
   "metadata": {},
   "source": [
    "# Multinominial Classification"
   ]
  },
  {
   "cell_type": "code",
   "execution_count": 25,
   "metadata": {},
   "outputs": [],
   "source": [
    "train.loc[train.attack=='normal','attack_class']=0\n",
    "\n",
    "train.loc[(train.attack=='back') | (train.attack=='land') | (train.attack=='pod') | (train.attack=='neptune') | \n",
    "         (train.attack=='smurf') | (train.attack=='teardrop') | (train.attack=='apache2') | (train.attack=='udpstorm') | \n",
    "         (train.attack=='processtable') | (train.attack=='worm') | (train.attack=='mailbomb'),'attack_class']=1\n",
    "\n",
    "train.loc[(train.attack=='satan') | (train.attack=='ipsweep') | (train.attack=='nmap') | (train.attack=='portsweep') | \n",
    "          (train.attack=='mscan') | (train.attack=='saint'),'attack_class']=2\n",
    "\n",
    "train.loc[(train.attack=='guess_passwd') | (train.attack=='ftp_write') | (train.attack=='imap') | (train.attack=='phf') | \n",
    "          (train.attack=='multihop') | (train.attack=='warezmaster') | (train.attack=='warezclient') | (train.attack=='spy') | \n",
    "          (train.attack=='xlock') | (train.attack=='xsnoop') | (train.attack=='snmpguess') | (train.attack=='snmpgetattack') | \n",
    "          (train.attack=='httptunnel') | (train.attack=='sendmail') | (train.attack=='named'),'attack_class']=3\n",
    "\n",
    "train.loc[(train.attack=='buffer_overflow') | (train.attack=='loadmodule') | (train.attack=='rootkit') | (train.attack=='perl') | \n",
    "          (train.attack=='sqlattack') | (train.attack=='xterm') | (train.attack=='ps'),'attack_class']=4"
   ]
  },
  {
   "cell_type": "code",
   "execution_count": 26,
   "metadata": {},
   "outputs": [],
   "source": [
    "test.loc[test.attack=='normal','attack_class']=0\n",
    "\n",
    "test.loc[(test.attack=='back') | (test.attack=='land') | (test.attack=='pod') | (test.attack=='neptune') | \n",
    "         (test.attack=='smurf') | (test.attack=='teardrop') | (test.attack=='apache2') | (test.attack=='udpstorm') | \n",
    "         (test.attack=='processtable') | (test.attack=='worm') | (test.attack=='mailbomb'),'attack_class']=1\n",
    "\n",
    "test.loc[(test.attack=='satan') | (test.attack=='ipsweep') | (test.attack=='nmap') | (test.attack=='portsweep') | \n",
    "          (test.attack=='mscan') | (test.attack=='saint'),'attack_class']=2\n",
    "\n",
    "test.loc[(test.attack=='guess_passwd') | (test.attack=='ftp_write') | (test.attack=='imap') | (test.attack=='phf') | \n",
    "          (test.attack=='multihop') | (test.attack=='warezmaster') | (test.attack=='warezclient') | (test.attack=='spy') | \n",
    "          (test.attack=='xlock') | (test.attack=='xsnoop') | (test.attack=='snmpguess') | (test.attack=='snmpgetattack') | \n",
    "          (test.attack=='httptunnel') | (test.attack=='sendmail') | (test.attack=='named'),'attack_class']=3\n",
    "\n",
    "test.loc[(test.attack=='buffer_overflow') | (test.attack=='loadmodule') | (test.attack=='rootkit') | (test.attack=='perl') | \n",
    "          (test.attack=='sqlattack') | (test.attack=='xterm') | (test.attack=='ps'),'attack_class']=4"
   ]
  },
  {
   "cell_type": "code",
   "execution_count": 27,
   "metadata": {},
   "outputs": [
    {
     "data": {
      "text/plain": [
       "0    67342\n",
       "1    45927\n",
       "2    11656\n",
       "3      995\n",
       "4       52\n",
       "Name: attack_class, dtype: int64"
      ]
     },
     "execution_count": 27,
     "metadata": {},
     "output_type": "execute_result"
    }
   ],
   "source": [
    "train.attack_class.value_counts()"
   ]
  },
  {
   "cell_type": "code",
   "execution_count": 28,
   "metadata": {},
   "outputs": [
    {
     "data": {
      "text/plain": [
       "0    9711\n",
       "1    7459\n",
       "3    2885\n",
       "2    2421\n",
       "4      67\n",
       "Name: attack_class, dtype: int64"
      ]
     },
     "execution_count": 28,
     "metadata": {},
     "output_type": "execute_result"
    }
   ],
   "source": [
    "test.attack_class.value_counts()"
   ]
  },
  {
   "cell_type": "code",
   "execution_count": 29,
   "metadata": {},
   "outputs": [],
   "source": [
    "#output=pandas_profiling.ProfileReport(train)\n",
    "#output"
   ]
  },
  {
   "cell_type": "markdown",
   "metadata": {},
   "source": [
    "### Exporting pandas profiling output to html file"
   ]
  },
  {
   "cell_type": "code",
   "execution_count": 30,
   "metadata": {},
   "outputs": [],
   "source": [
    "#output.to_file('pandas_profiling.html')"
   ]
  },
  {
   "cell_type": "markdown",
   "metadata": {},
   "source": [
    "### Basic Exploratory Analysis"
   ]
  },
  {
   "cell_type": "code",
   "execution_count": 31,
   "metadata": {},
   "outputs": [
    {
     "data": {
      "image/png": "[encoded data removed]",
      "text/plain": [
       "<Figure size 648x432 with 1 Axes>"
      ]
     },
     "metadata": {
      "needs_background": "light"
     },
     "output_type": "display_data"
    }
   ],
   "source": [
    "# Protocol type distribution\n",
    "plt.figure(figsize=(9,6))\n",
    "sns.countplot(x=\"protocol_type\", data=train)\n",
    "plt.show()"
   ]
  },
  {
   "cell_type": "code",
   "execution_count": 32,
   "metadata": {},
   "outputs": [
    {
     "data": {
      "image/png": "[encoded data removed]",
      "text/plain": [
       "<Figure size 432x720 with 1 Axes>"
      ]
     },
     "metadata": {
      "needs_background": "light"
     },
     "output_type": "display_data"
    }
   ],
   "source": [
    "# service distribution\n",
    "plt.figure(figsize=(6,10))\n",
    "sns.countplot(y=\"service\", data=train)\n",
    "plt.show()"
   ]
  },
  {
   "cell_type": "code",
   "execution_count": 33,
   "metadata": {},
   "outputs": [
    {
     "data": {
      "image/png": "[encoded data removed]",
      "text/plain": [
       "<Figure size 648x432 with 1 Axes>"
      ]
     },
     "metadata": {
      "needs_background": "light"
     },
     "output_type": "display_data"
    }
   ],
   "source": [
    "# flag distribution\n",
    "plt.figure(figsize=(9,6))\n",
    "sns.countplot(x=\"flag\", data=train)\n",
    "plt.show()"
   ]
  },
  {
   "cell_type": "code",
   "execution_count": 34,
   "metadata": {},
   "outputs": [
    {
     "data": {
      "image/png": "[encoded data removed]",
      "text/plain": [
       "<Figure size 648x432 with 1 Axes>"
      ]
     },
     "metadata": {
      "needs_background": "light"
     },
     "output_type": "display_data"
    }
   ],
   "source": [
    "# attack distribution\n",
    "plt.figure(figsize=(9,6))\n",
    "sns.countplot(y=\"attack\", data=train)\n",
    "plt.show()"
   ]
  },
  {
   "cell_type": "code",
   "execution_count": 35,
   "metadata": {},
   "outputs": [
    {
     "data": {
      "image/png": "[encoded data removed]",
      "text/plain": [
       "<Figure size 648x432 with 1 Axes>"
      ]
     },
     "metadata": {
      "needs_background": "light"
     },
     "output_type": "display_data"
    }
   ],
   "source": [
    "# attack class distribution\n",
    "plt.figure(figsize=(9,6))\n",
    "sns.countplot(x=\"attack_class\", data=train)\n",
    "plt.show()"
   ]
  },
  {
   "cell_type": "code",
   "execution_count": 36,
   "metadata": {},
   "outputs": [
    {
     "name": "stderr",
     "output_type": "stream",
     "text": [
      "C:\\Users\\Vicky\\anaconda31\\lib\\site-packages\\seaborn\\categorical.py:3717: UserWarning: The `factorplot` function has been renamed to `catplot`. The original name will be removed in a future release. Please update your code. Note that the default `kind` in `factorplot` (`'point'`) has changed `'strip'` in `catplot`.\n",
      "  warnings.warn(msg)\n",
      "C:\\Users\\Vicky\\anaconda31\\lib\\site-packages\\seaborn\\categorical.py:3723: UserWarning: The `size` parameter has been renamed to `height`; please update your code.\n",
      "  warnings.warn(msg, UserWarning)\n"
     ]
    },
    {
     "data": {
      "text/plain": [
       "<seaborn.axisgrid.FacetGrid at 0x282aab75af0>"
      ]
     },
     "execution_count": 36,
     "metadata": {},
     "output_type": "execute_result"
    },
    {
     "data": {
      "image/png": "[encoded data removed]",
      "text/plain": [
       "<Figure size 501.25x432 with 1 Axes>"
      ]
     },
     "metadata": {
      "needs_background": "light"
     },
     "output_type": "display_data"
    }
   ],
   "source": [
    "flag_count = train[['flag', 'attack_class']].groupby(['flag', 'attack_class']).size()\n",
    "flag_count_percent = flag_count.groupby(level=[0]).apply(lambda x: x / x.sum()).reset_index()\n",
    "flag_count_percent.columns = ['flag', 'attack_class', 'percent']\n",
    "sns.factorplot(y=\"flag\",\n",
    "            x = 'percent',\n",
    "            hue=\"attack_class\",\n",
    "            data = flag_count_percent,\n",
    "            size=6,\n",
    "            kind=\"bar\",\n",
    "            palette=\"muted\")"
   ]
  },
  {
   "cell_type": "code",
   "execution_count": 37,
   "metadata": {},
   "outputs": [
    {
     "name": "stderr",
     "output_type": "stream",
     "text": [
      "C:\\Users\\Vicky\\anaconda31\\lib\\site-packages\\seaborn\\categorical.py:3717: UserWarning: The `factorplot` function has been renamed to `catplot`. The original name will be removed in a future release. Please update your code. Note that the default `kind` in `factorplot` (`'point'`) has changed `'strip'` in `catplot`.\n",
      "  warnings.warn(msg)\n",
      "C:\\Users\\Vicky\\anaconda31\\lib\\site-packages\\seaborn\\categorical.py:3723: UserWarning: The `size` parameter has been renamed to `height`; please update your code.\n",
      "  warnings.warn(msg, UserWarning)\n"
     ]
    },
    {
     "data": {
      "text/plain": [
       "<seaborn.axisgrid.FacetGrid at 0x282aaf4a070>"
      ]
     },
     "execution_count": 37,
     "metadata": {},
     "output_type": "execute_result"
    },
    {
     "data": {
      "image/png": "[encoded data removed]",
      "text/plain": [
       "<Figure size 501.25x432 with 1 Axes>"
      ]
     },
     "metadata": {
      "needs_background": "light"
     },
     "output_type": "display_data"
    }
   ],
   "source": [
    "type_count = train[['protocol_type', 'attack_class']].groupby(['protocol_type', 'attack_class']).size()\n",
    "type_count_percent = type_count.groupby(level=[0]).apply(lambda x: x / x.sum()).reset_index()\n",
    "type_count_percent.columns = ['protocol_type', 'attack_class', 'percent']\n",
    "sns.factorplot(x=\"protocol_type\",\n",
    "            y = 'percent',\n",
    "            hue=\"attack_class\",\n",
    "            data = type_count_percent,\n",
    "            size=6,\n",
    "            kind=\"bar\",\n",
    "            palette=\"muted\")"
   ]
  },
  {
   "cell_type": "markdown",
   "metadata": {},
   "source": [
    "#### identifying relationships (between Y & numerical independent variables by comparing means)"
   ]
  },
  {
   "cell_type": "code",
   "execution_count": 38,
   "metadata": {},
   "outputs": [
    {
     "data": {
      "text/html": [
       "<div>\n",
       "<style scoped>\n",
       "    .dataframe tbody tr th:only-of-type {\n",
       "        vertical-align: middle;\n",
       "    }\n",
       "\n",
       "    .dataframe tbody tr th {\n",
       "        vertical-align: top;\n",
       "    }\n",
       "\n",
       "    .dataframe thead th {\n",
       "        text-align: right;\n",
       "    }\n",
       "</style>\n",
       "<table border=\"1\" class=\"dataframe\">\n",
       "  <thead>\n",
       "    <tr style=\"text-align: right;\">\n",
       "      <th>attack_class</th>\n",
       "      <th>0</th>\n",
       "      <th>1</th>\n",
       "      <th>2</th>\n",
       "      <th>3</th>\n",
       "      <th>4</th>\n",
       "    </tr>\n",
       "  </thead>\n",
       "  <tbody>\n",
       "    <tr>\n",
       "      <th>duration</th>\n",
       "      <td>168.589899</td>\n",
       "      <td>0.006227</td>\n",
       "      <td>2074.858185</td>\n",
       "      <td>633.417085</td>\n",
       "      <td>80.942308</td>\n",
       "    </tr>\n",
       "    <tr>\n",
       "      <th>src_bytes</th>\n",
       "      <td>13133.467064</td>\n",
       "      <td>1176.321162</td>\n",
       "      <td>385679.838367</td>\n",
       "      <td>307727.300503</td>\n",
       "      <td>906.230769</td>\n",
       "    </tr>\n",
       "    <tr>\n",
       "      <th>dst_bytes</th>\n",
       "      <td>4329.749517</td>\n",
       "      <td>169.201537</td>\n",
       "      <td>181074.911805</td>\n",
       "      <td>81822.026131</td>\n",
       "      <td>5141.961538</td>\n",
       "    </tr>\n",
       "    <tr>\n",
       "      <th>land</th>\n",
       "      <td>0.000104</td>\n",
       "      <td>0.000392</td>\n",
       "      <td>0.000000</td>\n",
       "      <td>0.000000</td>\n",
       "      <td>0.000000</td>\n",
       "    </tr>\n",
       "    <tr>\n",
       "      <th>wrong_fragment</th>\n",
       "      <td>0.000000</td>\n",
       "      <td>0.062229</td>\n",
       "      <td>0.000000</td>\n",
       "      <td>0.000000</td>\n",
       "      <td>0.000000</td>\n",
       "    </tr>\n",
       "    <tr>\n",
       "      <th>urgent</th>\n",
       "      <td>0.000148</td>\n",
       "      <td>0.000000</td>\n",
       "      <td>0.000000</td>\n",
       "      <td>0.003015</td>\n",
       "      <td>0.019231</td>\n",
       "    </tr>\n",
       "    <tr>\n",
       "      <th>hot</th>\n",
       "      <td>0.230658</td>\n",
       "      <td>0.039889</td>\n",
       "      <td>0.001630</td>\n",
       "      <td>8.334673</td>\n",
       "      <td>1.403846</td>\n",
       "    </tr>\n",
       "    <tr>\n",
       "      <th>num_failed_logins</th>\n",
       "      <td>0.001381</td>\n",
       "      <td>0.000000</td>\n",
       "      <td>0.000343</td>\n",
       "      <td>0.056281</td>\n",
       "      <td>0.019231</td>\n",
       "    </tr>\n",
       "    <tr>\n",
       "      <th>logged_in</th>\n",
       "      <td>0.710656</td>\n",
       "      <td>0.020837</td>\n",
       "      <td>0.007121</td>\n",
       "      <td>0.913568</td>\n",
       "      <td>0.884615</td>\n",
       "    </tr>\n",
       "    <tr>\n",
       "      <th>num_compromised</th>\n",
       "      <td>0.507083</td>\n",
       "      <td>0.019226</td>\n",
       "      <td>0.000601</td>\n",
       "      <td>0.077387</td>\n",
       "      <td>1.211538</td>\n",
       "    </tr>\n",
       "    <tr>\n",
       "      <th>root_shell</th>\n",
       "      <td>0.002034</td>\n",
       "      <td>0.000000</td>\n",
       "      <td>0.000000</td>\n",
       "      <td>0.006030</td>\n",
       "      <td>0.500000</td>\n",
       "    </tr>\n",
       "    <tr>\n",
       "      <th>su_attempted</th>\n",
       "      <td>0.002049</td>\n",
       "      <td>0.000000</td>\n",
       "      <td>0.000000</td>\n",
       "      <td>0.001005</td>\n",
       "      <td>0.000000</td>\n",
       "    </tr>\n",
       "    <tr>\n",
       "      <th>num_root</th>\n",
       "      <td>0.562932</td>\n",
       "      <td>0.000000</td>\n",
       "      <td>0.000601</td>\n",
       "      <td>0.111558</td>\n",
       "      <td>0.788462</td>\n",
       "    </tr>\n",
       "    <tr>\n",
       "      <th>num_file_creations</th>\n",
       "      <td>0.022274</td>\n",
       "      <td>0.000000</td>\n",
       "      <td>0.001716</td>\n",
       "      <td>0.035176</td>\n",
       "      <td>0.788462</td>\n",
       "    </tr>\n",
       "    <tr>\n",
       "      <th>num_shells</th>\n",
       "      <td>0.000609</td>\n",
       "      <td>0.000000</td>\n",
       "      <td>0.000000</td>\n",
       "      <td>0.004020</td>\n",
       "      <td>0.134615</td>\n",
       "    </tr>\n",
       "    <tr>\n",
       "      <th>num_access_files</th>\n",
       "      <td>0.007499</td>\n",
       "      <td>0.000000</td>\n",
       "      <td>0.000000</td>\n",
       "      <td>0.010050</td>\n",
       "      <td>0.019231</td>\n",
       "    </tr>\n",
       "    <tr>\n",
       "      <th>num_outbound_cmds</th>\n",
       "      <td>0.000000</td>\n",
       "      <td>0.000000</td>\n",
       "      <td>0.000000</td>\n",
       "      <td>0.000000</td>\n",
       "      <td>0.000000</td>\n",
       "    </tr>\n",
       "    <tr>\n",
       "      <th>is_host_login</th>\n",
       "      <td>0.000015</td>\n",
       "      <td>0.000000</td>\n",
       "      <td>0.000000</td>\n",
       "      <td>0.000000</td>\n",
       "      <td>0.000000</td>\n",
       "    </tr>\n",
       "    <tr>\n",
       "      <th>is_guest_login</th>\n",
       "      <td>0.012964</td>\n",
       "      <td>0.000000</td>\n",
       "      <td>0.000086</td>\n",
       "      <td>0.314573</td>\n",
       "      <td>0.000000</td>\n",
       "    </tr>\n",
       "    <tr>\n",
       "      <th>count</th>\n",
       "      <td>22.518250</td>\n",
       "      <td>178.090034</td>\n",
       "      <td>77.052248</td>\n",
       "      <td>1.297487</td>\n",
       "      <td>5.807692</td>\n",
       "    </tr>\n",
       "    <tr>\n",
       "      <th>srv_count</th>\n",
       "      <td>27.686035</td>\n",
       "      <td>32.656346</td>\n",
       "      <td>10.936084</td>\n",
       "      <td>2.457286</td>\n",
       "      <td>1.269231</td>\n",
       "    </tr>\n",
       "    <tr>\n",
       "      <th>serror_rate</th>\n",
       "      <td>0.013441</td>\n",
       "      <td>0.748494</td>\n",
       "      <td>0.046525</td>\n",
       "      <td>0.011899</td>\n",
       "      <td>0.038077</td>\n",
       "    </tr>\n",
       "    <tr>\n",
       "      <th>srv_serror_rate</th>\n",
       "      <td>0.012084</td>\n",
       "      <td>0.746678</td>\n",
       "      <td>0.040160</td>\n",
       "      <td>0.011045</td>\n",
       "      <td>0.000000</td>\n",
       "    </tr>\n",
       "    <tr>\n",
       "      <th>rerror_rate</th>\n",
       "      <td>0.044197</td>\n",
       "      <td>0.152107</td>\n",
       "      <td>0.437319</td>\n",
       "      <td>0.051759</td>\n",
       "      <td>0.009808</td>\n",
       "    </tr>\n",
       "    <tr>\n",
       "      <th>srv_rerror_rate</th>\n",
       "      <td>0.044630</td>\n",
       "      <td>0.153000</td>\n",
       "      <td>0.444469</td>\n",
       "      <td>0.052040</td>\n",
       "      <td>0.019231</td>\n",
       "    </tr>\n",
       "    <tr>\n",
       "      <th>same_srv_rate</th>\n",
       "      <td>0.969360</td>\n",
       "      <td>0.191887</td>\n",
       "      <td>0.697196</td>\n",
       "      <td>0.996653</td>\n",
       "      <td>0.931538</td>\n",
       "    </tr>\n",
       "    <tr>\n",
       "      <th>diff_srv_rate</th>\n",
       "      <td>0.028788</td>\n",
       "      <td>0.065403</td>\n",
       "      <td>0.256567</td>\n",
       "      <td>0.006704</td>\n",
       "      <td>0.063654</td>\n",
       "    </tr>\n",
       "    <tr>\n",
       "      <th>srv_diff_host_rate</th>\n",
       "      <td>0.126265</td>\n",
       "      <td>0.005317</td>\n",
       "      <td>0.299903</td>\n",
       "      <td>0.017156</td>\n",
       "      <td>0.000000</td>\n",
       "    </tr>\n",
       "    <tr>\n",
       "      <th>dst_host_count</th>\n",
       "      <td>147.431885</td>\n",
       "      <td>244.600475</td>\n",
       "      <td>145.204101</td>\n",
       "      <td>89.037186</td>\n",
       "      <td>47.769231</td>\n",
       "    </tr>\n",
       "    <tr>\n",
       "      <th>dst_host_srv_count</th>\n",
       "      <td>190.288215</td>\n",
       "      <td>26.524005</td>\n",
       "      <td>42.367193</td>\n",
       "      <td>42.440201</td>\n",
       "      <td>9.884615</td>\n",
       "    </tr>\n",
       "    <tr>\n",
       "      <th>dst_host_same_srv_rate</th>\n",
       "      <td>0.811885</td>\n",
       "      <td>0.123423</td>\n",
       "      <td>0.390825</td>\n",
       "      <td>0.727377</td>\n",
       "      <td>0.781154</td>\n",
       "    </tr>\n",
       "    <tr>\n",
       "      <th>dst_host_diff_srv_rate</th>\n",
       "      <td>0.040134</td>\n",
       "      <td>0.066333</td>\n",
       "      <td>0.401263</td>\n",
       "      <td>0.021307</td>\n",
       "      <td>0.040000</td>\n",
       "    </tr>\n",
       "    <tr>\n",
       "      <th>dst_host_same_src_port_rate</th>\n",
       "      <td>0.121725</td>\n",
       "      <td>0.049492</td>\n",
       "      <td>0.651840</td>\n",
       "      <td>0.596915</td>\n",
       "      <td>0.568269</td>\n",
       "    </tr>\n",
       "    <tr>\n",
       "      <th>dst_host_srv_diff_host_rate</th>\n",
       "      <td>0.025996</td>\n",
       "      <td>0.001647</td>\n",
       "      <td>0.187343</td>\n",
       "      <td>0.085739</td>\n",
       "      <td>0.081154</td>\n",
       "    </tr>\n",
       "    <tr>\n",
       "      <th>dst_host_serror_rate</th>\n",
       "      <td>0.013930</td>\n",
       "      <td>0.747922</td>\n",
       "      <td>0.044757</td>\n",
       "      <td>0.023849</td>\n",
       "      <td>0.000000</td>\n",
       "    </tr>\n",
       "    <tr>\n",
       "      <th>dst_host_srv_serror_rate</th>\n",
       "      <td>0.006117</td>\n",
       "      <td>0.744434</td>\n",
       "      <td>0.039799</td>\n",
       "      <td>0.015960</td>\n",
       "      <td>0.004808</td>\n",
       "    </tr>\n",
       "    <tr>\n",
       "      <th>dst_host_rerror_rate</th>\n",
       "      <td>0.046589</td>\n",
       "      <td>0.157569</td>\n",
       "      <td>0.389717</td>\n",
       "      <td>0.051116</td>\n",
       "      <td>0.039615</td>\n",
       "    </tr>\n",
       "    <tr>\n",
       "      <th>dst_host_srv_rerror_rate</th>\n",
       "      <td>0.044699</td>\n",
       "      <td>0.151286</td>\n",
       "      <td>0.441030</td>\n",
       "      <td>0.047367</td>\n",
       "      <td>0.019038</td>\n",
       "    </tr>\n",
       "    <tr>\n",
       "      <th>last_flag</th>\n",
       "      <td>20.315925</td>\n",
       "      <td>19.311560</td>\n",
       "      <td>16.461050</td>\n",
       "      <td>9.878392</td>\n",
       "      <td>4.403846</td>\n",
       "    </tr>\n",
       "  </tbody>\n",
       "</table>\n",
       "</div>"
      ],
      "text/plain": [
       "attack_class                            0            1              2  \\\n",
       "duration                       168.589899     0.006227    2074.858185   \n",
       "src_bytes                    13133.467064  1176.321162  385679.838367   \n",
       "dst_bytes                     4329.749517   169.201537  181074.911805   \n",
       "land                             0.000104     0.000392       0.000000   \n",
       "wrong_fragment                   0.000000     0.062229       0.000000   \n",
       "urgent                           0.000148     0.000000       0.000000   \n",
       "hot                              0.230658     0.039889       0.001630   \n",
       "num_failed_logins                0.001381     0.000000       0.000343   \n",
       "logged_in                        0.710656     0.020837       0.007121   \n",
       "num_compromised                  0.507083     0.019226       0.000601   \n",
       "root_shell                       0.002034     0.000000       0.000000   \n",
       "su_attempted                     0.002049     0.000000       0.000000   \n",
       "num_root                         0.562932     0.000000       0.000601   \n",
       "num_file_creations               0.022274     0.000000       0.001716   \n",
       "num_shells                       0.000609     0.000000       0.000000   \n",
       "num_access_files                 0.007499     0.000000       0.000000   \n",
       "num_outbound_cmds                0.000000     0.000000       0.000000   \n",
       "is_host_login                    0.000015     0.000000       0.000000   \n",
       "is_guest_login                   0.012964     0.000000       0.000086   \n",
       "count                           22.518250   178.090034      77.052248   \n",
       "srv_count                       27.686035    32.656346      10.936084   \n",
       "serror_rate                      0.013441     0.748494       0.046525   \n",
       "srv_serror_rate                  0.012084     0.746678       0.040160   \n",
       "rerror_rate                      0.044197     0.152107       0.437319   \n",
       "srv_rerror_rate                  0.044630     0.153000       0.444469   \n",
       "same_srv_rate                    0.969360     0.191887       0.697196   \n",
       "diff_srv_rate                    0.028788     0.065403       0.256567   \n",
       "srv_diff_host_rate               0.126265     0.005317       0.299903   \n",
       "dst_host_count                 147.431885   244.600475     145.204101   \n",
       "dst_host_srv_count             190.288215    26.524005      42.367193   \n",
       "dst_host_same_srv_rate           0.811885     0.123423       0.390825   \n",
       "dst_host_diff_srv_rate           0.040134     0.066333       0.401263   \n",
       "dst_host_same_src_port_rate      0.121725     0.049492       0.651840   \n",
       "dst_host_srv_diff_host_rate      0.025996     0.001647       0.187343   \n",
       "dst_host_serror_rate             0.013930     0.747922       0.044757   \n",
       "dst_host_srv_serror_rate         0.006117     0.744434       0.039799   \n",
       "dst_host_rerror_rate             0.046589     0.157569       0.389717   \n",
       "dst_host_srv_rerror_rate         0.044699     0.151286       0.441030   \n",
       "last_flag                       20.315925    19.311560      16.461050   \n",
       "\n",
       "attack_class                             3            4  \n",
       "duration                        633.417085    80.942308  \n",
       "src_bytes                    307727.300503   906.230769  \n",
       "dst_bytes                     81822.026131  5141.961538  \n",
       "land                              0.000000     0.000000  \n",
       "wrong_fragment                    0.000000     0.000000  \n",
       "urgent                            0.003015     0.019231  \n",
       "hot                               8.334673     1.403846  \n",
       "num_failed_logins                 0.056281     0.019231  \n",
       "logged_in                         0.913568     0.884615  \n",
       "num_compromised                   0.077387     1.211538  \n",
       "root_shell                        0.006030     0.500000  \n",
       "su_attempted                      0.001005     0.000000  \n",
       "num_root                          0.111558     0.788462  \n",
       "num_file_creations                0.035176     0.788462  \n",
       "num_shells                        0.004020     0.134615  \n",
       "num_access_files                  0.010050     0.019231  \n",
       "num_outbound_cmds                 0.000000     0.000000  \n",
       "is_host_login                     0.000000     0.000000  \n",
       "is_guest_login                    0.314573     0.000000  \n",
       "count                             1.297487     5.807692  \n",
       "srv_count                         2.457286     1.269231  \n",
       "serror_rate                       0.011899     0.038077  \n",
       "srv_serror_rate                   0.011045     0.000000  \n",
       "rerror_rate                       0.051759     0.009808  \n",
       "srv_rerror_rate                   0.052040     0.019231  \n",
       "same_srv_rate                     0.996653     0.931538  \n",
       "diff_srv_rate                     0.006704     0.063654  \n",
       "srv_diff_host_rate                0.017156     0.000000  \n",
       "dst_host_count                   89.037186    47.769231  \n",
       "dst_host_srv_count               42.440201     9.884615  \n",
       "dst_host_same_srv_rate            0.727377     0.781154  \n",
       "dst_host_diff_srv_rate            0.021307     0.040000  \n",
       "dst_host_same_src_port_rate       0.596915     0.568269  \n",
       "dst_host_srv_diff_host_rate       0.085739     0.081154  \n",
       "dst_host_serror_rate              0.023849     0.000000  \n",
       "dst_host_srv_serror_rate          0.015960     0.004808  \n",
       "dst_host_rerror_rate              0.051116     0.039615  \n",
       "dst_host_srv_rerror_rate          0.047367     0.019038  \n",
       "last_flag                         9.878392     4.403846  "
      ]
     },
     "execution_count": 38,
     "metadata": {},
     "output_type": "execute_result"
    }
   ],
   "source": [
    "train.groupby('attack_class').mean().T"
   ]
  },
  {
   "cell_type": "markdown",
   "metadata": {},
   "source": [
    "##### Observations:\n",
    "- The length of time duration of connection for attack is higher than  normal.\n",
    "- Wrong fragments in the connection is only present in attack.\n",
    "- Number of outbound commands in an ftp session  are 0 in both normal and attack."
   ]
  },
  {
   "cell_type": "markdown",
   "metadata": {},
   "source": [
    "# Seperate numerical and categorical variables"
   ]
  },
  {
   "cell_type": "code",
   "execution_count": 39,
   "metadata": {},
   "outputs": [],
   "source": [
    "#numeric_var_names=[key for key in dict(train.dtypes) if dict(train.dtypes)[key] in ['float64', 'int64', 'float32', 'int32']]\n",
    "#cat_var_names=[key for key in dict(train.dtypes) if dict(train.dtypes)[key] in ['object', 'O']]\n",
    "tr_num_var=train.select_dtypes(['int64','float64','int32','float32'])\n",
    "ts_num_var=test.select_dtypes(['int64','float64','int32','float32'])"
   ]
  },
  {
   "cell_type": "code",
   "execution_count": 40,
   "metadata": {},
   "outputs": [],
   "source": [
    "tr_cat_var = train.select_dtypes('object')\n",
    "ts_cat_var = test.select_dtypes('object')"
   ]
  },
  {
   "cell_type": "code",
   "execution_count": 41,
   "metadata": {},
   "outputs": [
    {
     "data": {
      "text/html": [
       "<div>\n",
       "<style scoped>\n",
       "    .dataframe tbody tr th:only-of-type {\n",
       "        vertical-align: middle;\n",
       "    }\n",
       "\n",
       "    .dataframe tbody tr th {\n",
       "        vertical-align: top;\n",
       "    }\n",
       "\n",
       "    .dataframe thead th {\n",
       "        text-align: right;\n",
       "    }\n",
       "</style>\n",
       "<table border=\"1\" class=\"dataframe\">\n",
       "  <thead>\n",
       "    <tr style=\"text-align: right;\">\n",
       "      <th></th>\n",
       "      <th>duration</th>\n",
       "      <th>src_bytes</th>\n",
       "      <th>dst_bytes</th>\n",
       "      <th>land</th>\n",
       "      <th>wrong_fragment</th>\n",
       "      <th>urgent</th>\n",
       "      <th>hot</th>\n",
       "      <th>num_failed_logins</th>\n",
       "      <th>logged_in</th>\n",
       "      <th>num_compromised</th>\n",
       "      <th>...</th>\n",
       "      <th>dst_host_same_srv_rate</th>\n",
       "      <th>dst_host_diff_srv_rate</th>\n",
       "      <th>dst_host_same_src_port_rate</th>\n",
       "      <th>dst_host_srv_diff_host_rate</th>\n",
       "      <th>dst_host_serror_rate</th>\n",
       "      <th>dst_host_srv_serror_rate</th>\n",
       "      <th>dst_host_rerror_rate</th>\n",
       "      <th>dst_host_srv_rerror_rate</th>\n",
       "      <th>last_flag</th>\n",
       "      <th>attack_class</th>\n",
       "    </tr>\n",
       "  </thead>\n",
       "  <tbody>\n",
       "    <tr>\n",
       "      <th>0</th>\n",
       "      <td>0</td>\n",
       "      <td>146</td>\n",
       "      <td>0</td>\n",
       "      <td>0</td>\n",
       "      <td>0</td>\n",
       "      <td>0</td>\n",
       "      <td>0</td>\n",
       "      <td>0</td>\n",
       "      <td>0</td>\n",
       "      <td>0</td>\n",
       "      <td>...</td>\n",
       "      <td>0.00</td>\n",
       "      <td>0.60</td>\n",
       "      <td>0.88</td>\n",
       "      <td>0.00</td>\n",
       "      <td>0.00</td>\n",
       "      <td>0.00</td>\n",
       "      <td>0.0</td>\n",
       "      <td>0.00</td>\n",
       "      <td>15</td>\n",
       "      <td>0</td>\n",
       "    </tr>\n",
       "    <tr>\n",
       "      <th>1</th>\n",
       "      <td>0</td>\n",
       "      <td>0</td>\n",
       "      <td>0</td>\n",
       "      <td>0</td>\n",
       "      <td>0</td>\n",
       "      <td>0</td>\n",
       "      <td>0</td>\n",
       "      <td>0</td>\n",
       "      <td>0</td>\n",
       "      <td>0</td>\n",
       "      <td>...</td>\n",
       "      <td>0.10</td>\n",
       "      <td>0.05</td>\n",
       "      <td>0.00</td>\n",
       "      <td>0.00</td>\n",
       "      <td>1.00</td>\n",
       "      <td>1.00</td>\n",
       "      <td>0.0</td>\n",
       "      <td>0.00</td>\n",
       "      <td>19</td>\n",
       "      <td>1</td>\n",
       "    </tr>\n",
       "    <tr>\n",
       "      <th>2</th>\n",
       "      <td>0</td>\n",
       "      <td>232</td>\n",
       "      <td>8153</td>\n",
       "      <td>0</td>\n",
       "      <td>0</td>\n",
       "      <td>0</td>\n",
       "      <td>0</td>\n",
       "      <td>0</td>\n",
       "      <td>1</td>\n",
       "      <td>0</td>\n",
       "      <td>...</td>\n",
       "      <td>1.00</td>\n",
       "      <td>0.00</td>\n",
       "      <td>0.03</td>\n",
       "      <td>0.04</td>\n",
       "      <td>0.03</td>\n",
       "      <td>0.01</td>\n",
       "      <td>0.0</td>\n",
       "      <td>0.01</td>\n",
       "      <td>21</td>\n",
       "      <td>0</td>\n",
       "    </tr>\n",
       "    <tr>\n",
       "      <th>3</th>\n",
       "      <td>0</td>\n",
       "      <td>199</td>\n",
       "      <td>420</td>\n",
       "      <td>0</td>\n",
       "      <td>0</td>\n",
       "      <td>0</td>\n",
       "      <td>0</td>\n",
       "      <td>0</td>\n",
       "      <td>1</td>\n",
       "      <td>0</td>\n",
       "      <td>...</td>\n",
       "      <td>1.00</td>\n",
       "      <td>0.00</td>\n",
       "      <td>0.00</td>\n",
       "      <td>0.00</td>\n",
       "      <td>0.00</td>\n",
       "      <td>0.00</td>\n",
       "      <td>0.0</td>\n",
       "      <td>0.00</td>\n",
       "      <td>21</td>\n",
       "      <td>0</td>\n",
       "    </tr>\n",
       "    <tr>\n",
       "      <th>4</th>\n",
       "      <td>0</td>\n",
       "      <td>0</td>\n",
       "      <td>0</td>\n",
       "      <td>0</td>\n",
       "      <td>0</td>\n",
       "      <td>0</td>\n",
       "      <td>0</td>\n",
       "      <td>0</td>\n",
       "      <td>0</td>\n",
       "      <td>0</td>\n",
       "      <td>...</td>\n",
       "      <td>0.07</td>\n",
       "      <td>0.07</td>\n",
       "      <td>0.00</td>\n",
       "      <td>0.00</td>\n",
       "      <td>0.00</td>\n",
       "      <td>0.00</td>\n",
       "      <td>1.0</td>\n",
       "      <td>1.00</td>\n",
       "      <td>21</td>\n",
       "      <td>1</td>\n",
       "    </tr>\n",
       "  </tbody>\n",
       "</table>\n",
       "<p>5 rows × 40 columns</p>\n",
       "</div>"
      ],
      "text/plain": [
       "   duration  src_bytes  dst_bytes  land  wrong_fragment  urgent  hot  \\\n",
       "0         0        146          0     0               0       0    0   \n",
       "1         0          0          0     0               0       0    0   \n",
       "2         0        232       8153     0               0       0    0   \n",
       "3         0        199        420     0               0       0    0   \n",
       "4         0          0          0     0               0       0    0   \n",
       "\n",
       "   num_failed_logins  logged_in  num_compromised  ...  dst_host_same_srv_rate  \\\n",
       "0                  0          0                0  ...                    0.00   \n",
       "1                  0          0                0  ...                    0.10   \n",
       "2                  0          1                0  ...                    1.00   \n",
       "3                  0          1                0  ...                    1.00   \n",
       "4                  0          0                0  ...                    0.07   \n",
       "\n",
       "   dst_host_diff_srv_rate  dst_host_same_src_port_rate  \\\n",
       "0                    0.60                         0.88   \n",
       "1                    0.05                         0.00   \n",
       "2                    0.00                         0.03   \n",
       "3                    0.00                         0.00   \n",
       "4                    0.07                         0.00   \n",
       "\n",
       "   dst_host_srv_diff_host_rate  dst_host_serror_rate  \\\n",
       "0                         0.00                  0.00   \n",
       "1                         0.00                  1.00   \n",
       "2                         0.04                  0.03   \n",
       "3                         0.00                  0.00   \n",
       "4                         0.00                  0.00   \n",
       "\n",
       "   dst_host_srv_serror_rate  dst_host_rerror_rate  dst_host_srv_rerror_rate  \\\n",
       "0                      0.00                   0.0                      0.00   \n",
       "1                      1.00                   0.0                      0.00   \n",
       "2                      0.01                   0.0                      0.01   \n",
       "3                      0.00                   0.0                      0.00   \n",
       "4                      0.00                   1.0                      1.00   \n",
       "\n",
       "   last_flag  attack_class  \n",
       "0         15             0  \n",
       "1         19             1  \n",
       "2         21             0  \n",
       "3         21             0  \n",
       "4         21             1  \n",
       "\n",
       "[5 rows x 40 columns]"
      ]
     },
     "execution_count": 41,
     "metadata": {},
     "output_type": "execute_result"
    }
   ],
   "source": [
    "tr_num_var.head()"
   ]
  },
  {
   "cell_type": "code",
   "execution_count": 42,
   "metadata": {},
   "outputs": [
    {
     "data": {
      "text/plain": [
       "(125972, 40)"
      ]
     },
     "execution_count": 42,
     "metadata": {},
     "output_type": "execute_result"
    }
   ],
   "source": [
    "tr_num_var.shape\n"
   ]
  },
  {
   "cell_type": "code",
   "execution_count": 43,
   "metadata": {},
   "outputs": [
    {
     "data": {
      "text/plain": [
       "(125972, 4)"
      ]
     },
     "execution_count": 43,
     "metadata": {},
     "output_type": "execute_result"
    }
   ],
   "source": [
    "tr_cat_var.shape"
   ]
  },
  {
   "cell_type": "code",
   "execution_count": 44,
   "metadata": {},
   "outputs": [
    {
     "data": {
      "text/html": [
       "<div>\n",
       "<style scoped>\n",
       "    .dataframe tbody tr th:only-of-type {\n",
       "        vertical-align: middle;\n",
       "    }\n",
       "\n",
       "    .dataframe tbody tr th {\n",
       "        vertical-align: top;\n",
       "    }\n",
       "\n",
       "    .dataframe thead th {\n",
       "        text-align: right;\n",
       "    }\n",
       "</style>\n",
       "<table border=\"1\" class=\"dataframe\">\n",
       "  <thead>\n",
       "    <tr style=\"text-align: right;\">\n",
       "      <th></th>\n",
       "      <th>protocol_type</th>\n",
       "      <th>service</th>\n",
       "      <th>flag</th>\n",
       "      <th>attack</th>\n",
       "    </tr>\n",
       "  </thead>\n",
       "  <tbody>\n",
       "    <tr>\n",
       "      <th>0</th>\n",
       "      <td>udp</td>\n",
       "      <td>other</td>\n",
       "      <td>SF</td>\n",
       "      <td>normal</td>\n",
       "    </tr>\n",
       "    <tr>\n",
       "      <th>1</th>\n",
       "      <td>tcp</td>\n",
       "      <td>private</td>\n",
       "      <td>S0</td>\n",
       "      <td>neptune</td>\n",
       "    </tr>\n",
       "    <tr>\n",
       "      <th>2</th>\n",
       "      <td>tcp</td>\n",
       "      <td>http</td>\n",
       "      <td>SF</td>\n",
       "      <td>normal</td>\n",
       "    </tr>\n",
       "    <tr>\n",
       "      <th>3</th>\n",
       "      <td>tcp</td>\n",
       "      <td>http</td>\n",
       "      <td>SF</td>\n",
       "      <td>normal</td>\n",
       "    </tr>\n",
       "    <tr>\n",
       "      <th>4</th>\n",
       "      <td>tcp</td>\n",
       "      <td>private</td>\n",
       "      <td>REJ</td>\n",
       "      <td>neptune</td>\n",
       "    </tr>\n",
       "  </tbody>\n",
       "</table>\n",
       "</div>"
      ],
      "text/plain": [
       "  protocol_type  service flag   attack\n",
       "0           udp    other   SF   normal\n",
       "1           tcp  private   S0  neptune\n",
       "2           tcp     http   SF   normal\n",
       "3           tcp     http   SF   normal\n",
       "4           tcp  private  REJ  neptune"
      ]
     },
     "execution_count": 44,
     "metadata": {},
     "output_type": "execute_result"
    }
   ],
   "source": [
    "tr_cat_var.head()"
   ]
  },
  {
   "cell_type": "code",
   "execution_count": 45,
   "metadata": {},
   "outputs": [
    {
     "data": {
      "text/plain": [
       "(22543, 40)"
      ]
     },
     "execution_count": 45,
     "metadata": {},
     "output_type": "execute_result"
    }
   ],
   "source": [
    "ts_num_var.shape"
   ]
  },
  {
   "cell_type": "code",
   "execution_count": 46,
   "metadata": {},
   "outputs": [
    {
     "data": {
      "text/plain": [
       "(22543, 4)"
      ]
     },
     "execution_count": 46,
     "metadata": {},
     "output_type": "execute_result"
    }
   ],
   "source": [
    "ts_cat_var.shape"
   ]
  },
  {
   "cell_type": "markdown",
   "metadata": {},
   "source": [
    "### Data Audit Report"
   ]
  },
  {
   "cell_type": "code",
   "execution_count": 47,
   "metadata": {},
   "outputs": [],
   "source": [
    "# Create Data audit Report for continuous variables\n",
    "def continuous_var_summary(x):\n",
    "    return pd.Series([x.count(), x.isnull().sum(), x.sum(), x.mean(), x.median(),  \n",
    "                      x.std(), x.var(), x.min(), x.quantile(0.01), x.quantile(0.05),\n",
    "                          x.quantile(0.10),x.quantile(0.25),x.quantile(0.50),x.quantile(0.75), \n",
    "                              x.quantile(0.90),x.quantile(0.95), x.quantile(0.99),x.max()], \n",
    "                  index = ['N', 'NMISS', 'SUM', 'MEAN','MEDIAN', 'STD', 'VAR', 'MIN', 'P1', \n",
    "                               'P5' ,'P10' ,'P25' ,'P50' ,'P75' ,'P90' ,'P95' ,'P99' ,'MAX'])\n"
   ]
  },
  {
   "cell_type": "code",
   "execution_count": 48,
   "metadata": {},
   "outputs": [],
   "source": [
    "# Create Data audit Report for categorical variables\n",
    "def categorical_var_summary(x):\n",
    "    Mode = x.value_counts().sort_values(ascending = False)[0:1].reset_index()\n",
    "    return pd.Series([x.count(), x.isnull().sum(), Mode.iloc[0, 0], Mode.iloc[0, 1], \n",
    "                          round(Mode.iloc[0, 1] * 100/x.count(), 2)], \n",
    "                  index = ['N', 'NMISS', 'MODE', 'FREQ', 'PERCENT'])"
   ]
  },
  {
   "cell_type": "code",
   "execution_count": 49,
   "metadata": {},
   "outputs": [],
   "source": [
    "# An utility function to create dummy variable\n",
    "def create_dummies(df, colname):\n",
    "    col_dummies = pd.get_dummies(df[colname], prefix = colname, drop_first = True)\n",
    "    df = pd.concat([df, col_dummies], axis = 1)\n",
    "    df.drop(colname, axis = 1, inplace = True )\n",
    "    return df"
   ]
  },
  {
   "cell_type": "code",
   "execution_count": 246,
   "metadata": {},
   "outputs": [],
   "source": [
    " tr_num_var_summ = tr_num_var.apply(continuous_var_summary).T.round(2)\n"
   ]
  },
  {
   "cell_type": "code",
   "execution_count": 247,
   "metadata": {},
   "outputs": [],
   "source": [
    "ts_num_var_summ =ts_num_var.apply(continuous_var_summary).T.round(2)"
   ]
  },
  {
   "cell_type": "code",
   "execution_count": 248,
   "metadata": {},
   "outputs": [],
   "source": [
    "tr_num_var_summ.to_csv('num_summary_train.csv')\n",
    "ts_num_var_summ.to_csv('num_summary_test.csv')"
   ]
  },
  {
   "cell_type": "code",
   "execution_count": 251,
   "metadata": {},
   "outputs": [],
   "source": [
    "# alternate of .describe() for categorical variables\n",
    "# alternate of .describe() for categorical variables\n",
    "tr_cat_var_summ = tr_cat_var.apply(categorical_var_summary).T\n"
   ]
  },
  {
   "cell_type": "code",
   "execution_count": 252,
   "metadata": {},
   "outputs": [],
   "source": [
    "ts_cat_var_summ = ts_cat_var.apply(categorical_var_summary).T"
   ]
  },
  {
   "cell_type": "code",
   "execution_count": 253,
   "metadata": {},
   "outputs": [],
   "source": [
    "tr_cat_var_summ.to_csv(\"tr_cat_var_summ.csv\")\n",
    "ts_cat_var_summ.to_csv(\"ts_cat_var_summ.csv\")"
   ]
  },
  {
   "cell_type": "markdown",
   "metadata": {},
   "source": [
    "### Handling Outlier"
   ]
  },
  {
   "cell_type": "code",
   "execution_count": 55,
   "metadata": {},
   "outputs": [],
   "source": [
    "tr_num_var = tr_num_var.apply(lambda x: x.clip(lower = x.quantile(0.01), upper = x.quantile(0.99)))\n",
    "ts_num_var = ts_num_var.apply(lambda x: x.clip(lower = x.quantile(0.01), upper = x.quantile(0.99)))"
   ]
  },
  {
   "cell_type": "code",
   "execution_count": 56,
   "metadata": {},
   "outputs": [
    {
     "data": {
      "text/html": [
       "<div>\n",
       "<style scoped>\n",
       "    .dataframe tbody tr th:only-of-type {\n",
       "        vertical-align: middle;\n",
       "    }\n",
       "\n",
       "    .dataframe tbody tr th {\n",
       "        vertical-align: top;\n",
       "    }\n",
       "\n",
       "    .dataframe thead th {\n",
       "        text-align: right;\n",
       "    }\n",
       "</style>\n",
       "<table border=\"1\" class=\"dataframe\">\n",
       "  <thead>\n",
       "    <tr style=\"text-align: right;\">\n",
       "      <th></th>\n",
       "      <th>N</th>\n",
       "      <th>NMISS</th>\n",
       "      <th>SUM</th>\n",
       "      <th>MEAN</th>\n",
       "      <th>MEDIAN</th>\n",
       "      <th>STD</th>\n",
       "      <th>VAR</th>\n",
       "      <th>MIN</th>\n",
       "      <th>P1</th>\n",
       "      <th>P5</th>\n",
       "      <th>P10</th>\n",
       "      <th>P25</th>\n",
       "      <th>P50</th>\n",
       "      <th>P75</th>\n",
       "      <th>P90</th>\n",
       "      <th>P95</th>\n",
       "      <th>P99</th>\n",
       "      <th>MAX</th>\n",
       "    </tr>\n",
       "  </thead>\n",
       "  <tbody>\n",
       "    <tr>\n",
       "      <th>duration</th>\n",
       "      <td>22543.0</td>\n",
       "      <td>0.0</td>\n",
       "      <td>4.537646e+06</td>\n",
       "      <td>201.29</td>\n",
       "      <td>0.00</td>\n",
       "      <td>1105.84</td>\n",
       "      <td>1.222886e+06</td>\n",
       "      <td>0.0</td>\n",
       "      <td>0.0</td>\n",
       "      <td>0.00</td>\n",
       "      <td>0.00</td>\n",
       "      <td>0.00</td>\n",
       "      <td>0.00</td>\n",
       "      <td>0.00</td>\n",
       "      <td>4.00</td>\n",
       "      <td>283.00</td>\n",
       "      <td>7589.34</td>\n",
       "      <td>7589.58</td>\n",
       "    </tr>\n",
       "    <tr>\n",
       "      <th>src_bytes</th>\n",
       "      <td>22543.0</td>\n",
       "      <td>0.0</td>\n",
       "      <td>1.246517e+08</td>\n",
       "      <td>5529.51</td>\n",
       "      <td>54.00</td>\n",
       "      <td>30891.71</td>\n",
       "      <td>9.542980e+08</td>\n",
       "      <td>0.0</td>\n",
       "      <td>0.0</td>\n",
       "      <td>0.00</td>\n",
       "      <td>0.00</td>\n",
       "      <td>0.00</td>\n",
       "      <td>54.00</td>\n",
       "      <td>287.00</td>\n",
       "      <td>1032.00</td>\n",
       "      <td>15876.00</td>\n",
       "      <td>283618.00</td>\n",
       "      <td>283618.00</td>\n",
       "    </tr>\n",
       "    <tr>\n",
       "      <th>dst_bytes</th>\n",
       "      <td>22543.0</td>\n",
       "      <td>0.0</td>\n",
       "      <td>3.217638e+07</td>\n",
       "      <td>1427.33</td>\n",
       "      <td>46.00</td>\n",
       "      <td>3874.02</td>\n",
       "      <td>1.500806e+07</td>\n",
       "      <td>0.0</td>\n",
       "      <td>0.0</td>\n",
       "      <td>0.00</td>\n",
       "      <td>0.00</td>\n",
       "      <td>0.00</td>\n",
       "      <td>46.00</td>\n",
       "      <td>601.00</td>\n",
       "      <td>4099.40</td>\n",
       "      <td>8314.00</td>\n",
       "      <td>26015.22</td>\n",
       "      <td>26032.76</td>\n",
       "    </tr>\n",
       "    <tr>\n",
       "      <th>land</th>\n",
       "      <td>22543.0</td>\n",
       "      <td>0.0</td>\n",
       "      <td>0.000000e+00</td>\n",
       "      <td>0.00</td>\n",
       "      <td>0.00</td>\n",
       "      <td>0.00</td>\n",
       "      <td>0.000000e+00</td>\n",
       "      <td>0.0</td>\n",
       "      <td>0.0</td>\n",
       "      <td>0.00</td>\n",
       "      <td>0.00</td>\n",
       "      <td>0.00</td>\n",
       "      <td>0.00</td>\n",
       "      <td>0.00</td>\n",
       "      <td>0.00</td>\n",
       "      <td>0.00</td>\n",
       "      <td>0.00</td>\n",
       "      <td>0.00</td>\n",
       "    </tr>\n",
       "    <tr>\n",
       "      <th>wrong_fragment</th>\n",
       "      <td>22543.0</td>\n",
       "      <td>0.0</td>\n",
       "      <td>0.000000e+00</td>\n",
       "      <td>0.00</td>\n",
       "      <td>0.00</td>\n",
       "      <td>0.00</td>\n",
       "      <td>0.000000e+00</td>\n",
       "      <td>0.0</td>\n",
       "      <td>0.0</td>\n",
       "      <td>0.00</td>\n",
       "      <td>0.00</td>\n",
       "      <td>0.00</td>\n",
       "      <td>0.00</td>\n",
       "      <td>0.00</td>\n",
       "      <td>0.00</td>\n",
       "      <td>0.00</td>\n",
       "      <td>0.00</td>\n",
       "      <td>0.00</td>\n",
       "    </tr>\n",
       "    <tr>\n",
       "      <th>urgent</th>\n",
       "      <td>22543.0</td>\n",
       "      <td>0.0</td>\n",
       "      <td>0.000000e+00</td>\n",
       "      <td>0.00</td>\n",
       "      <td>0.00</td>\n",
       "      <td>0.00</td>\n",
       "      <td>0.000000e+00</td>\n",
       "      <td>0.0</td>\n",
       "      <td>0.0</td>\n",
       "      <td>0.00</td>\n",
       "      <td>0.00</td>\n",
       "      <td>0.00</td>\n",
       "      <td>0.00</td>\n",
       "      <td>0.00</td>\n",
       "      <td>0.00</td>\n",
       "      <td>0.00</td>\n",
       "      <td>0.00</td>\n",
       "      <td>0.00</td>\n",
       "    </tr>\n",
       "    <tr>\n",
       "      <th>hot</th>\n",
       "      <td>22543.0</td>\n",
       "      <td>0.0</td>\n",
       "      <td>1.924000e+03</td>\n",
       "      <td>0.09</td>\n",
       "      <td>0.00</td>\n",
       "      <td>0.40</td>\n",
       "      <td>1.600000e-01</td>\n",
       "      <td>0.0</td>\n",
       "      <td>0.0</td>\n",
       "      <td>0.00</td>\n",
       "      <td>0.00</td>\n",
       "      <td>0.00</td>\n",
       "      <td>0.00</td>\n",
       "      <td>0.00</td>\n",
       "      <td>0.00</td>\n",
       "      <td>0.00</td>\n",
       "      <td>2.00</td>\n",
       "      <td>2.00</td>\n",
       "    </tr>\n",
       "    <tr>\n",
       "      <th>num_failed_logins</th>\n",
       "      <td>22543.0</td>\n",
       "      <td>0.0</td>\n",
       "      <td>4.780000e+02</td>\n",
       "      <td>0.02</td>\n",
       "      <td>0.00</td>\n",
       "      <td>0.14</td>\n",
       "      <td>2.000000e-02</td>\n",
       "      <td>0.0</td>\n",
       "      <td>0.0</td>\n",
       "      <td>0.00</td>\n",
       "      <td>0.00</td>\n",
       "      <td>0.00</td>\n",
       "      <td>0.00</td>\n",
       "      <td>0.00</td>\n",
       "      <td>0.00</td>\n",
       "      <td>0.00</td>\n",
       "      <td>1.00</td>\n",
       "      <td>1.00</td>\n",
       "    </tr>\n",
       "    <tr>\n",
       "      <th>logged_in</th>\n",
       "      <td>22543.0</td>\n",
       "      <td>0.0</td>\n",
       "      <td>9.969000e+03</td>\n",
       "      <td>0.44</td>\n",
       "      <td>0.00</td>\n",
       "      <td>0.50</td>\n",
       "      <td>2.500000e-01</td>\n",
       "      <td>0.0</td>\n",
       "      <td>0.0</td>\n",
       "      <td>0.00</td>\n",
       "      <td>0.00</td>\n",
       "      <td>0.00</td>\n",
       "      <td>0.00</td>\n",
       "      <td>1.00</td>\n",
       "      <td>1.00</td>\n",
       "      <td>1.00</td>\n",
       "      <td>1.00</td>\n",
       "      <td>1.00</td>\n",
       "    </tr>\n",
       "    <tr>\n",
       "      <th>num_compromised</th>\n",
       "      <td>22543.0</td>\n",
       "      <td>0.0</td>\n",
       "      <td>3.690000e+02</td>\n",
       "      <td>0.02</td>\n",
       "      <td>0.00</td>\n",
       "      <td>0.13</td>\n",
       "      <td>2.000000e-02</td>\n",
       "      <td>0.0</td>\n",
       "      <td>0.0</td>\n",
       "      <td>0.00</td>\n",
       "      <td>0.00</td>\n",
       "      <td>0.00</td>\n",
       "      <td>0.00</td>\n",
       "      <td>0.00</td>\n",
       "      <td>0.00</td>\n",
       "      <td>0.00</td>\n",
       "      <td>1.00</td>\n",
       "      <td>1.00</td>\n",
       "    </tr>\n",
       "    <tr>\n",
       "      <th>root_shell</th>\n",
       "      <td>22543.0</td>\n",
       "      <td>0.0</td>\n",
       "      <td>0.000000e+00</td>\n",
       "      <td>0.00</td>\n",
       "      <td>0.00</td>\n",
       "      <td>0.00</td>\n",
       "      <td>0.000000e+00</td>\n",
       "      <td>0.0</td>\n",
       "      <td>0.0</td>\n",
       "      <td>0.00</td>\n",
       "      <td>0.00</td>\n",
       "      <td>0.00</td>\n",
       "      <td>0.00</td>\n",
       "      <td>0.00</td>\n",
       "      <td>0.00</td>\n",
       "      <td>0.00</td>\n",
       "      <td>0.00</td>\n",
       "      <td>0.00</td>\n",
       "    </tr>\n",
       "    <tr>\n",
       "      <th>su_attempted</th>\n",
       "      <td>22543.0</td>\n",
       "      <td>0.0</td>\n",
       "      <td>0.000000e+00</td>\n",
       "      <td>0.00</td>\n",
       "      <td>0.00</td>\n",
       "      <td>0.00</td>\n",
       "      <td>0.000000e+00</td>\n",
       "      <td>0.0</td>\n",
       "      <td>0.0</td>\n",
       "      <td>0.00</td>\n",
       "      <td>0.00</td>\n",
       "      <td>0.00</td>\n",
       "      <td>0.00</td>\n",
       "      <td>0.00</td>\n",
       "      <td>0.00</td>\n",
       "      <td>0.00</td>\n",
       "      <td>0.00</td>\n",
       "      <td>0.00</td>\n",
       "    </tr>\n",
       "    <tr>\n",
       "      <th>num_root</th>\n",
       "      <td>22543.0</td>\n",
       "      <td>0.0</td>\n",
       "      <td>0.000000e+00</td>\n",
       "      <td>0.00</td>\n",
       "      <td>0.00</td>\n",
       "      <td>0.00</td>\n",
       "      <td>0.000000e+00</td>\n",
       "      <td>0.0</td>\n",
       "      <td>0.0</td>\n",
       "      <td>0.00</td>\n",
       "      <td>0.00</td>\n",
       "      <td>0.00</td>\n",
       "      <td>0.00</td>\n",
       "      <td>0.00</td>\n",
       "      <td>0.00</td>\n",
       "      <td>0.00</td>\n",
       "      <td>0.00</td>\n",
       "      <td>0.00</td>\n",
       "    </tr>\n",
       "    <tr>\n",
       "      <th>num_file_creations</th>\n",
       "      <td>22543.0</td>\n",
       "      <td>0.0</td>\n",
       "      <td>0.000000e+00</td>\n",
       "      <td>0.00</td>\n",
       "      <td>0.00</td>\n",
       "      <td>0.00</td>\n",
       "      <td>0.000000e+00</td>\n",
       "      <td>0.0</td>\n",
       "      <td>0.0</td>\n",
       "      <td>0.00</td>\n",
       "      <td>0.00</td>\n",
       "      <td>0.00</td>\n",
       "      <td>0.00</td>\n",
       "      <td>0.00</td>\n",
       "      <td>0.00</td>\n",
       "      <td>0.00</td>\n",
       "      <td>0.00</td>\n",
       "      <td>0.00</td>\n",
       "    </tr>\n",
       "    <tr>\n",
       "      <th>num_shells</th>\n",
       "      <td>22543.0</td>\n",
       "      <td>0.0</td>\n",
       "      <td>0.000000e+00</td>\n",
       "      <td>0.00</td>\n",
       "      <td>0.00</td>\n",
       "      <td>0.00</td>\n",
       "      <td>0.000000e+00</td>\n",
       "      <td>0.0</td>\n",
       "      <td>0.0</td>\n",
       "      <td>0.00</td>\n",
       "      <td>0.00</td>\n",
       "      <td>0.00</td>\n",
       "      <td>0.00</td>\n",
       "      <td>0.00</td>\n",
       "      <td>0.00</td>\n",
       "      <td>0.00</td>\n",
       "      <td>0.00</td>\n",
       "      <td>0.00</td>\n",
       "    </tr>\n",
       "    <tr>\n",
       "      <th>num_access_files</th>\n",
       "      <td>22543.0</td>\n",
       "      <td>0.0</td>\n",
       "      <td>0.000000e+00</td>\n",
       "      <td>0.00</td>\n",
       "      <td>0.00</td>\n",
       "      <td>0.00</td>\n",
       "      <td>0.000000e+00</td>\n",
       "      <td>0.0</td>\n",
       "      <td>0.0</td>\n",
       "      <td>0.00</td>\n",
       "      <td>0.00</td>\n",
       "      <td>0.00</td>\n",
       "      <td>0.00</td>\n",
       "      <td>0.00</td>\n",
       "      <td>0.00</td>\n",
       "      <td>0.00</td>\n",
       "      <td>0.00</td>\n",
       "      <td>0.00</td>\n",
       "    </tr>\n",
       "    <tr>\n",
       "      <th>num_outbound_cmds</th>\n",
       "      <td>22543.0</td>\n",
       "      <td>0.0</td>\n",
       "      <td>0.000000e+00</td>\n",
       "      <td>0.00</td>\n",
       "      <td>0.00</td>\n",
       "      <td>0.00</td>\n",
       "      <td>0.000000e+00</td>\n",
       "      <td>0.0</td>\n",
       "      <td>0.0</td>\n",
       "      <td>0.00</td>\n",
       "      <td>0.00</td>\n",
       "      <td>0.00</td>\n",
       "      <td>0.00</td>\n",
       "      <td>0.00</td>\n",
       "      <td>0.00</td>\n",
       "      <td>0.00</td>\n",
       "      <td>0.00</td>\n",
       "      <td>0.00</td>\n",
       "    </tr>\n",
       "    <tr>\n",
       "      <th>is_host_login</th>\n",
       "      <td>22543.0</td>\n",
       "      <td>0.0</td>\n",
       "      <td>0.000000e+00</td>\n",
       "      <td>0.00</td>\n",
       "      <td>0.00</td>\n",
       "      <td>0.00</td>\n",
       "      <td>0.000000e+00</td>\n",
       "      <td>0.0</td>\n",
       "      <td>0.0</td>\n",
       "      <td>0.00</td>\n",
       "      <td>0.00</td>\n",
       "      <td>0.00</td>\n",
       "      <td>0.00</td>\n",
       "      <td>0.00</td>\n",
       "      <td>0.00</td>\n",
       "      <td>0.00</td>\n",
       "      <td>0.00</td>\n",
       "      <td>0.00</td>\n",
       "    </tr>\n",
       "    <tr>\n",
       "      <th>is_guest_login</th>\n",
       "      <td>22543.0</td>\n",
       "      <td>0.0</td>\n",
       "      <td>6.410000e+02</td>\n",
       "      <td>0.03</td>\n",
       "      <td>0.00</td>\n",
       "      <td>0.17</td>\n",
       "      <td>3.000000e-02</td>\n",
       "      <td>0.0</td>\n",
       "      <td>0.0</td>\n",
       "      <td>0.00</td>\n",
       "      <td>0.00</td>\n",
       "      <td>0.00</td>\n",
       "      <td>0.00</td>\n",
       "      <td>0.00</td>\n",
       "      <td>0.00</td>\n",
       "      <td>0.00</td>\n",
       "      <td>1.00</td>\n",
       "      <td>1.00</td>\n",
       "    </tr>\n",
       "    <tr>\n",
       "      <th>count</th>\n",
       "      <td>22543.0</td>\n",
       "      <td>0.0</td>\n",
       "      <td>1.781387e+06</td>\n",
       "      <td>79.02</td>\n",
       "      <td>8.00</td>\n",
       "      <td>128.54</td>\n",
       "      <td>1.652207e+04</td>\n",
       "      <td>1.0</td>\n",
       "      <td>1.0</td>\n",
       "      <td>1.00</td>\n",
       "      <td>1.00</td>\n",
       "      <td>1.00</td>\n",
       "      <td>8.00</td>\n",
       "      <td>123.00</td>\n",
       "      <td>256.00</td>\n",
       "      <td>400.90</td>\n",
       "      <td>511.00</td>\n",
       "      <td>511.00</td>\n",
       "    </tr>\n",
       "    <tr>\n",
       "      <th>srv_count</th>\n",
       "      <td>22543.0</td>\n",
       "      <td>0.0</td>\n",
       "      <td>7.016590e+05</td>\n",
       "      <td>31.13</td>\n",
       "      <td>6.00</td>\n",
       "      <td>89.06</td>\n",
       "      <td>7.932460e+03</td>\n",
       "      <td>1.0</td>\n",
       "      <td>1.0</td>\n",
       "      <td>1.00</td>\n",
       "      <td>1.00</td>\n",
       "      <td>1.00</td>\n",
       "      <td>6.00</td>\n",
       "      <td>16.00</td>\n",
       "      <td>43.00</td>\n",
       "      <td>185.00</td>\n",
       "      <td>511.00</td>\n",
       "      <td>511.00</td>\n",
       "    </tr>\n",
       "    <tr>\n",
       "      <th>serror_rate</th>\n",
       "      <td>22543.0</td>\n",
       "      <td>0.0</td>\n",
       "      <td>2.320310e+03</td>\n",
       "      <td>0.10</td>\n",
       "      <td>0.00</td>\n",
       "      <td>0.30</td>\n",
       "      <td>9.000000e-02</td>\n",
       "      <td>0.0</td>\n",
       "      <td>0.0</td>\n",
       "      <td>0.00</td>\n",
       "      <td>0.00</td>\n",
       "      <td>0.00</td>\n",
       "      <td>0.00</td>\n",
       "      <td>0.00</td>\n",
       "      <td>0.50</td>\n",
       "      <td>1.00</td>\n",
       "      <td>1.00</td>\n",
       "      <td>1.00</td>\n",
       "    </tr>\n",
       "    <tr>\n",
       "      <th>srv_serror_rate</th>\n",
       "      <td>22543.0</td>\n",
       "      <td>0.0</td>\n",
       "      <td>2.336350e+03</td>\n",
       "      <td>0.10</td>\n",
       "      <td>0.00</td>\n",
       "      <td>0.30</td>\n",
       "      <td>9.000000e-02</td>\n",
       "      <td>0.0</td>\n",
       "      <td>0.0</td>\n",
       "      <td>0.00</td>\n",
       "      <td>0.00</td>\n",
       "      <td>0.00</td>\n",
       "      <td>0.00</td>\n",
       "      <td>0.00</td>\n",
       "      <td>0.60</td>\n",
       "      <td>1.00</td>\n",
       "      <td>1.00</td>\n",
       "      <td>1.00</td>\n",
       "    </tr>\n",
       "    <tr>\n",
       "      <th>rerror_rate</th>\n",
       "      <td>22543.0</td>\n",
       "      <td>0.0</td>\n",
       "      <td>5.374910e+03</td>\n",
       "      <td>0.24</td>\n",
       "      <td>0.00</td>\n",
       "      <td>0.42</td>\n",
       "      <td>1.700000e-01</td>\n",
       "      <td>0.0</td>\n",
       "      <td>0.0</td>\n",
       "      <td>0.00</td>\n",
       "      <td>0.00</td>\n",
       "      <td>0.00</td>\n",
       "      <td>0.00</td>\n",
       "      <td>0.25</td>\n",
       "      <td>1.00</td>\n",
       "      <td>1.00</td>\n",
       "      <td>1.00</td>\n",
       "      <td>1.00</td>\n",
       "    </tr>\n",
       "    <tr>\n",
       "      <th>srv_rerror_rate</th>\n",
       "      <td>22543.0</td>\n",
       "      <td>0.0</td>\n",
       "      <td>5.300870e+03</td>\n",
       "      <td>0.24</td>\n",
       "      <td>0.00</td>\n",
       "      <td>0.42</td>\n",
       "      <td>1.700000e-01</td>\n",
       "      <td>0.0</td>\n",
       "      <td>0.0</td>\n",
       "      <td>0.00</td>\n",
       "      <td>0.00</td>\n",
       "      <td>0.00</td>\n",
       "      <td>0.00</td>\n",
       "      <td>0.07</td>\n",
       "      <td>1.00</td>\n",
       "      <td>1.00</td>\n",
       "      <td>1.00</td>\n",
       "      <td>1.00</td>\n",
       "    </tr>\n",
       "    <tr>\n",
       "      <th>same_srv_rate</th>\n",
       "      <td>22543.0</td>\n",
       "      <td>0.0</td>\n",
       "      <td>1.669029e+04</td>\n",
       "      <td>0.74</td>\n",
       "      <td>1.00</td>\n",
       "      <td>0.41</td>\n",
       "      <td>1.700000e-01</td>\n",
       "      <td>0.0</td>\n",
       "      <td>0.0</td>\n",
       "      <td>0.01</td>\n",
       "      <td>0.03</td>\n",
       "      <td>0.25</td>\n",
       "      <td>1.00</td>\n",
       "      <td>1.00</td>\n",
       "      <td>1.00</td>\n",
       "      <td>1.00</td>\n",
       "      <td>1.00</td>\n",
       "      <td>1.00</td>\n",
       "    </tr>\n",
       "    <tr>\n",
       "      <th>diff_srv_rate</th>\n",
       "      <td>22543.0</td>\n",
       "      <td>0.0</td>\n",
       "      <td>2.120740e+03</td>\n",
       "      <td>0.09</td>\n",
       "      <td>0.00</td>\n",
       "      <td>0.26</td>\n",
       "      <td>7.000000e-02</td>\n",
       "      <td>0.0</td>\n",
       "      <td>0.0</td>\n",
       "      <td>0.00</td>\n",
       "      <td>0.00</td>\n",
       "      <td>0.00</td>\n",
       "      <td>0.00</td>\n",
       "      <td>0.06</td>\n",
       "      <td>0.09</td>\n",
       "      <td>1.00</td>\n",
       "      <td>1.00</td>\n",
       "      <td>1.00</td>\n",
       "    </tr>\n",
       "    <tr>\n",
       "      <th>srv_diff_host_rate</th>\n",
       "      <td>22543.0</td>\n",
       "      <td>0.0</td>\n",
       "      <td>2.211800e+03</td>\n",
       "      <td>0.10</td>\n",
       "      <td>0.00</td>\n",
       "      <td>0.25</td>\n",
       "      <td>6.000000e-02</td>\n",
       "      <td>0.0</td>\n",
       "      <td>0.0</td>\n",
       "      <td>0.00</td>\n",
       "      <td>0.00</td>\n",
       "      <td>0.00</td>\n",
       "      <td>0.00</td>\n",
       "      <td>0.00</td>\n",
       "      <td>0.33</td>\n",
       "      <td>1.00</td>\n",
       "      <td>1.00</td>\n",
       "      <td>1.00</td>\n",
       "    </tr>\n",
       "    <tr>\n",
       "      <th>dst_host_count</th>\n",
       "      <td>22543.0</td>\n",
       "      <td>0.0</td>\n",
       "      <td>4.370338e+06</td>\n",
       "      <td>193.87</td>\n",
       "      <td>255.00</td>\n",
       "      <td>94.04</td>\n",
       "      <td>8.842920e+03</td>\n",
       "      <td>1.0</td>\n",
       "      <td>1.0</td>\n",
       "      <td>6.00</td>\n",
       "      <td>20.00</td>\n",
       "      <td>121.00</td>\n",
       "      <td>255.00</td>\n",
       "      <td>255.00</td>\n",
       "      <td>255.00</td>\n",
       "      <td>255.00</td>\n",
       "      <td>255.00</td>\n",
       "      <td>255.00</td>\n",
       "    </tr>\n",
       "    <tr>\n",
       "      <th>dst_host_srv_count</th>\n",
       "      <td>22543.0</td>\n",
       "      <td>0.0</td>\n",
       "      <td>3.173071e+06</td>\n",
       "      <td>140.76</td>\n",
       "      <td>168.00</td>\n",
       "      <td>111.78</td>\n",
       "      <td>1.249544e+04</td>\n",
       "      <td>1.0</td>\n",
       "      <td>1.0</td>\n",
       "      <td>1.00</td>\n",
       "      <td>3.00</td>\n",
       "      <td>15.00</td>\n",
       "      <td>168.00</td>\n",
       "      <td>255.00</td>\n",
       "      <td>255.00</td>\n",
       "      <td>255.00</td>\n",
       "      <td>255.00</td>\n",
       "      <td>255.00</td>\n",
       "    </tr>\n",
       "    <tr>\n",
       "      <th>dst_host_same_srv_rate</th>\n",
       "      <td>22543.0</td>\n",
       "      <td>0.0</td>\n",
       "      <td>1.372298e+04</td>\n",
       "      <td>0.61</td>\n",
       "      <td>0.92</td>\n",
       "      <td>0.44</td>\n",
       "      <td>1.900000e-01</td>\n",
       "      <td>0.0</td>\n",
       "      <td>0.0</td>\n",
       "      <td>0.00</td>\n",
       "      <td>0.02</td>\n",
       "      <td>0.07</td>\n",
       "      <td>0.92</td>\n",
       "      <td>1.00</td>\n",
       "      <td>1.00</td>\n",
       "      <td>1.00</td>\n",
       "      <td>1.00</td>\n",
       "      <td>1.00</td>\n",
       "    </tr>\n",
       "    <tr>\n",
       "      <th>dst_host_diff_srv_rate</th>\n",
       "      <td>22543.0</td>\n",
       "      <td>0.0</td>\n",
       "      <td>2.041070e+03</td>\n",
       "      <td>0.09</td>\n",
       "      <td>0.01</td>\n",
       "      <td>0.22</td>\n",
       "      <td>5.000000e-02</td>\n",
       "      <td>0.0</td>\n",
       "      <td>0.0</td>\n",
       "      <td>0.00</td>\n",
       "      <td>0.00</td>\n",
       "      <td>0.00</td>\n",
       "      <td>0.01</td>\n",
       "      <td>0.06</td>\n",
       "      <td>0.15</td>\n",
       "      <td>0.75</td>\n",
       "      <td>1.00</td>\n",
       "      <td>1.00</td>\n",
       "    </tr>\n",
       "    <tr>\n",
       "      <th>dst_host_same_src_port_rate</th>\n",
       "      <td>22543.0</td>\n",
       "      <td>0.0</td>\n",
       "      <td>2.981690e+03</td>\n",
       "      <td>0.13</td>\n",
       "      <td>0.00</td>\n",
       "      <td>0.31</td>\n",
       "      <td>9.000000e-02</td>\n",
       "      <td>0.0</td>\n",
       "      <td>0.0</td>\n",
       "      <td>0.00</td>\n",
       "      <td>0.00</td>\n",
       "      <td>0.00</td>\n",
       "      <td>0.00</td>\n",
       "      <td>0.03</td>\n",
       "      <td>0.85</td>\n",
       "      <td>1.00</td>\n",
       "      <td>1.00</td>\n",
       "      <td>1.00</td>\n",
       "    </tr>\n",
       "    <tr>\n",
       "      <th>dst_host_srv_diff_host_rate</th>\n",
       "      <td>22543.0</td>\n",
       "      <td>0.0</td>\n",
       "      <td>3.640200e+02</td>\n",
       "      <td>0.02</td>\n",
       "      <td>0.00</td>\n",
       "      <td>0.05</td>\n",
       "      <td>0.000000e+00</td>\n",
       "      <td>0.0</td>\n",
       "      <td>0.0</td>\n",
       "      <td>0.00</td>\n",
       "      <td>0.00</td>\n",
       "      <td>0.00</td>\n",
       "      <td>0.00</td>\n",
       "      <td>0.01</td>\n",
       "      <td>0.04</td>\n",
       "      <td>0.06</td>\n",
       "      <td>0.40</td>\n",
       "      <td>0.41</td>\n",
       "    </tr>\n",
       "    <tr>\n",
       "      <th>dst_host_serror_rate</th>\n",
       "      <td>22543.0</td>\n",
       "      <td>0.0</td>\n",
       "      <td>2.205110e+03</td>\n",
       "      <td>0.10</td>\n",
       "      <td>0.00</td>\n",
       "      <td>0.27</td>\n",
       "      <td>7.000000e-02</td>\n",
       "      <td>0.0</td>\n",
       "      <td>0.0</td>\n",
       "      <td>0.00</td>\n",
       "      <td>0.00</td>\n",
       "      <td>0.00</td>\n",
       "      <td>0.00</td>\n",
       "      <td>0.00</td>\n",
       "      <td>0.35</td>\n",
       "      <td>1.00</td>\n",
       "      <td>1.00</td>\n",
       "      <td>1.00</td>\n",
       "    </tr>\n",
       "    <tr>\n",
       "      <th>dst_host_srv_serror_rate</th>\n",
       "      <td>22543.0</td>\n",
       "      <td>0.0</td>\n",
       "      <td>2.241460e+03</td>\n",
       "      <td>0.10</td>\n",
       "      <td>0.00</td>\n",
       "      <td>0.28</td>\n",
       "      <td>8.000000e-02</td>\n",
       "      <td>0.0</td>\n",
       "      <td>0.0</td>\n",
       "      <td>0.00</td>\n",
       "      <td>0.00</td>\n",
       "      <td>0.00</td>\n",
       "      <td>0.00</td>\n",
       "      <td>0.00</td>\n",
       "      <td>0.46</td>\n",
       "      <td>1.00</td>\n",
       "      <td>1.00</td>\n",
       "      <td>1.00</td>\n",
       "    </tr>\n",
       "    <tr>\n",
       "      <th>dst_host_rerror_rate</th>\n",
       "      <td>22543.0</td>\n",
       "      <td>0.0</td>\n",
       "      <td>5.260430e+03</td>\n",
       "      <td>0.23</td>\n",
       "      <td>0.00</td>\n",
       "      <td>0.39</td>\n",
       "      <td>1.500000e-01</td>\n",
       "      <td>0.0</td>\n",
       "      <td>0.0</td>\n",
       "      <td>0.00</td>\n",
       "      <td>0.00</td>\n",
       "      <td>0.00</td>\n",
       "      <td>0.00</td>\n",
       "      <td>0.36</td>\n",
       "      <td>1.00</td>\n",
       "      <td>1.00</td>\n",
       "      <td>1.00</td>\n",
       "      <td>1.00</td>\n",
       "    </tr>\n",
       "    <tr>\n",
       "      <th>dst_host_srv_rerror_rate</th>\n",
       "      <td>22543.0</td>\n",
       "      <td>0.0</td>\n",
       "      <td>5.109340e+03</td>\n",
       "      <td>0.23</td>\n",
       "      <td>0.00</td>\n",
       "      <td>0.40</td>\n",
       "      <td>1.600000e-01</td>\n",
       "      <td>0.0</td>\n",
       "      <td>0.0</td>\n",
       "      <td>0.00</td>\n",
       "      <td>0.00</td>\n",
       "      <td>0.00</td>\n",
       "      <td>0.00</td>\n",
       "      <td>0.17</td>\n",
       "      <td>1.00</td>\n",
       "      <td>1.00</td>\n",
       "      <td>1.00</td>\n",
       "      <td>1.00</td>\n",
       "    </tr>\n",
       "    <tr>\n",
       "      <th>last_flag</th>\n",
       "      <td>22543.0</td>\n",
       "      <td>0.0</td>\n",
       "      <td>4.065090e+05</td>\n",
       "      <td>18.03</td>\n",
       "      <td>20.00</td>\n",
       "      <td>4.21</td>\n",
       "      <td>1.774000e+01</td>\n",
       "      <td>2.0</td>\n",
       "      <td>2.0</td>\n",
       "      <td>9.00</td>\n",
       "      <td>12.00</td>\n",
       "      <td>17.00</td>\n",
       "      <td>20.00</td>\n",
       "      <td>21.00</td>\n",
       "      <td>21.00</td>\n",
       "      <td>21.00</td>\n",
       "      <td>21.00</td>\n",
       "      <td>21.00</td>\n",
       "    </tr>\n",
       "    <tr>\n",
       "      <th>attack_class</th>\n",
       "      <td>22543.0</td>\n",
       "      <td>0.0</td>\n",
       "      <td>2.115700e+04</td>\n",
       "      <td>0.94</td>\n",
       "      <td>1.00</td>\n",
       "      <td>1.03</td>\n",
       "      <td>1.060000e+00</td>\n",
       "      <td>0.0</td>\n",
       "      <td>0.0</td>\n",
       "      <td>0.00</td>\n",
       "      <td>0.00</td>\n",
       "      <td>0.00</td>\n",
       "      <td>1.00</td>\n",
       "      <td>1.00</td>\n",
       "      <td>3.00</td>\n",
       "      <td>3.00</td>\n",
       "      <td>3.00</td>\n",
       "      <td>3.00</td>\n",
       "    </tr>\n",
       "  </tbody>\n",
       "</table>\n",
       "</div>"
      ],
      "text/plain": [
       "                                   N  NMISS           SUM     MEAN  MEDIAN  \\\n",
       "duration                     22543.0    0.0  4.537646e+06   201.29    0.00   \n",
       "src_bytes                    22543.0    0.0  1.246517e+08  5529.51   54.00   \n",
       "dst_bytes                    22543.0    0.0  3.217638e+07  1427.33   46.00   \n",
       "land                         22543.0    0.0  0.000000e+00     0.00    0.00   \n",
       "wrong_fragment               22543.0    0.0  0.000000e+00     0.00    0.00   \n",
       "urgent                       22543.0    0.0  0.000000e+00     0.00    0.00   \n",
       "hot                          22543.0    0.0  1.924000e+03     0.09    0.00   \n",
       "num_failed_logins            22543.0    0.0  4.780000e+02     0.02    0.00   \n",
       "logged_in                    22543.0    0.0  9.969000e+03     0.44    0.00   \n",
       "num_compromised              22543.0    0.0  3.690000e+02     0.02    0.00   \n",
       "root_shell                   22543.0    0.0  0.000000e+00     0.00    0.00   \n",
       "su_attempted                 22543.0    0.0  0.000000e+00     0.00    0.00   \n",
       "num_root                     22543.0    0.0  0.000000e+00     0.00    0.00   \n",
       "num_file_creations           22543.0    0.0  0.000000e+00     0.00    0.00   \n",
       "num_shells                   22543.0    0.0  0.000000e+00     0.00    0.00   \n",
       "num_access_files             22543.0    0.0  0.000000e+00     0.00    0.00   \n",
       "num_outbound_cmds            22543.0    0.0  0.000000e+00     0.00    0.00   \n",
       "is_host_login                22543.0    0.0  0.000000e+00     0.00    0.00   \n",
       "is_guest_login               22543.0    0.0  6.410000e+02     0.03    0.00   \n",
       "count                        22543.0    0.0  1.781387e+06    79.02    8.00   \n",
       "srv_count                    22543.0    0.0  7.016590e+05    31.13    6.00   \n",
       "serror_rate                  22543.0    0.0  2.320310e+03     0.10    0.00   \n",
       "srv_serror_rate              22543.0    0.0  2.336350e+03     0.10    0.00   \n",
       "rerror_rate                  22543.0    0.0  5.374910e+03     0.24    0.00   \n",
       "srv_rerror_rate              22543.0    0.0  5.300870e+03     0.24    0.00   \n",
       "same_srv_rate                22543.0    0.0  1.669029e+04     0.74    1.00   \n",
       "diff_srv_rate                22543.0    0.0  2.120740e+03     0.09    0.00   \n",
       "srv_diff_host_rate           22543.0    0.0  2.211800e+03     0.10    0.00   \n",
       "dst_host_count               22543.0    0.0  4.370338e+06   193.87  255.00   \n",
       "dst_host_srv_count           22543.0    0.0  3.173071e+06   140.76  168.00   \n",
       "dst_host_same_srv_rate       22543.0    0.0  1.372298e+04     0.61    0.92   \n",
       "dst_host_diff_srv_rate       22543.0    0.0  2.041070e+03     0.09    0.01   \n",
       "dst_host_same_src_port_rate  22543.0    0.0  2.981690e+03     0.13    0.00   \n",
       "dst_host_srv_diff_host_rate  22543.0    0.0  3.640200e+02     0.02    0.00   \n",
       "dst_host_serror_rate         22543.0    0.0  2.205110e+03     0.10    0.00   \n",
       "dst_host_srv_serror_rate     22543.0    0.0  2.241460e+03     0.10    0.00   \n",
       "dst_host_rerror_rate         22543.0    0.0  5.260430e+03     0.23    0.00   \n",
       "dst_host_srv_rerror_rate     22543.0    0.0  5.109340e+03     0.23    0.00   \n",
       "last_flag                    22543.0    0.0  4.065090e+05    18.03   20.00   \n",
       "attack_class                 22543.0    0.0  2.115700e+04     0.94    1.00   \n",
       "\n",
       "                                  STD           VAR  MIN   P1    P5    P10  \\\n",
       "duration                      1105.84  1.222886e+06  0.0  0.0  0.00   0.00   \n",
       "src_bytes                    30891.71  9.542980e+08  0.0  0.0  0.00   0.00   \n",
       "dst_bytes                     3874.02  1.500806e+07  0.0  0.0  0.00   0.00   \n",
       "land                             0.00  0.000000e+00  0.0  0.0  0.00   0.00   \n",
       "wrong_fragment                   0.00  0.000000e+00  0.0  0.0  0.00   0.00   \n",
       "urgent                           0.00  0.000000e+00  0.0  0.0  0.00   0.00   \n",
       "hot                              0.40  1.600000e-01  0.0  0.0  0.00   0.00   \n",
       "num_failed_logins                0.14  2.000000e-02  0.0  0.0  0.00   0.00   \n",
       "logged_in                        0.50  2.500000e-01  0.0  0.0  0.00   0.00   \n",
       "num_compromised                  0.13  2.000000e-02  0.0  0.0  0.00   0.00   \n",
       "root_shell                       0.00  0.000000e+00  0.0  0.0  0.00   0.00   \n",
       "su_attempted                     0.00  0.000000e+00  0.0  0.0  0.00   0.00   \n",
       "num_root                         0.00  0.000000e+00  0.0  0.0  0.00   0.00   \n",
       "num_file_creations               0.00  0.000000e+00  0.0  0.0  0.00   0.00   \n",
       "num_shells                       0.00  0.000000e+00  0.0  0.0  0.00   0.00   \n",
       "num_access_files                 0.00  0.000000e+00  0.0  0.0  0.00   0.00   \n",
       "num_outbound_cmds                0.00  0.000000e+00  0.0  0.0  0.00   0.00   \n",
       "is_host_login                    0.00  0.000000e+00  0.0  0.0  0.00   0.00   \n",
       "is_guest_login                   0.17  3.000000e-02  0.0  0.0  0.00   0.00   \n",
       "count                          128.54  1.652207e+04  1.0  1.0  1.00   1.00   \n",
       "srv_count                       89.06  7.932460e+03  1.0  1.0  1.00   1.00   \n",
       "serror_rate                      0.30  9.000000e-02  0.0  0.0  0.00   0.00   \n",
       "srv_serror_rate                  0.30  9.000000e-02  0.0  0.0  0.00   0.00   \n",
       "rerror_rate                      0.42  1.700000e-01  0.0  0.0  0.00   0.00   \n",
       "srv_rerror_rate                  0.42  1.700000e-01  0.0  0.0  0.00   0.00   \n",
       "same_srv_rate                    0.41  1.700000e-01  0.0  0.0  0.01   0.03   \n",
       "diff_srv_rate                    0.26  7.000000e-02  0.0  0.0  0.00   0.00   \n",
       "srv_diff_host_rate               0.25  6.000000e-02  0.0  0.0  0.00   0.00   \n",
       "dst_host_count                  94.04  8.842920e+03  1.0  1.0  6.00  20.00   \n",
       "dst_host_srv_count             111.78  1.249544e+04  1.0  1.0  1.00   3.00   \n",
       "dst_host_same_srv_rate           0.44  1.900000e-01  0.0  0.0  0.00   0.02   \n",
       "dst_host_diff_srv_rate           0.22  5.000000e-02  0.0  0.0  0.00   0.00   \n",
       "dst_host_same_src_port_rate      0.31  9.000000e-02  0.0  0.0  0.00   0.00   \n",
       "dst_host_srv_diff_host_rate      0.05  0.000000e+00  0.0  0.0  0.00   0.00   \n",
       "dst_host_serror_rate             0.27  7.000000e-02  0.0  0.0  0.00   0.00   \n",
       "dst_host_srv_serror_rate         0.28  8.000000e-02  0.0  0.0  0.00   0.00   \n",
       "dst_host_rerror_rate             0.39  1.500000e-01  0.0  0.0  0.00   0.00   \n",
       "dst_host_srv_rerror_rate         0.40  1.600000e-01  0.0  0.0  0.00   0.00   \n",
       "last_flag                        4.21  1.774000e+01  2.0  2.0  9.00  12.00   \n",
       "attack_class                     1.03  1.060000e+00  0.0  0.0  0.00   0.00   \n",
       "\n",
       "                                P25     P50     P75      P90       P95  \\\n",
       "duration                       0.00    0.00    0.00     4.00    283.00   \n",
       "src_bytes                      0.00   54.00  287.00  1032.00  15876.00   \n",
       "dst_bytes                      0.00   46.00  601.00  4099.40   8314.00   \n",
       "land                           0.00    0.00    0.00     0.00      0.00   \n",
       "wrong_fragment                 0.00    0.00    0.00     0.00      0.00   \n",
       "urgent                         0.00    0.00    0.00     0.00      0.00   \n",
       "hot                            0.00    0.00    0.00     0.00      0.00   \n",
       "num_failed_logins              0.00    0.00    0.00     0.00      0.00   \n",
       "logged_in                      0.00    0.00    1.00     1.00      1.00   \n",
       "num_compromised                0.00    0.00    0.00     0.00      0.00   \n",
       "root_shell                     0.00    0.00    0.00     0.00      0.00   \n",
       "su_attempted                   0.00    0.00    0.00     0.00      0.00   \n",
       "num_root                       0.00    0.00    0.00     0.00      0.00   \n",
       "num_file_creations             0.00    0.00    0.00     0.00      0.00   \n",
       "num_shells                     0.00    0.00    0.00     0.00      0.00   \n",
       "num_access_files               0.00    0.00    0.00     0.00      0.00   \n",
       "num_outbound_cmds              0.00    0.00    0.00     0.00      0.00   \n",
       "is_host_login                  0.00    0.00    0.00     0.00      0.00   \n",
       "is_guest_login                 0.00    0.00    0.00     0.00      0.00   \n",
       "count                          1.00    8.00  123.00   256.00    400.90   \n",
       "srv_count                      1.00    6.00   16.00    43.00    185.00   \n",
       "serror_rate                    0.00    0.00    0.00     0.50      1.00   \n",
       "srv_serror_rate                0.00    0.00    0.00     0.60      1.00   \n",
       "rerror_rate                    0.00    0.00    0.25     1.00      1.00   \n",
       "srv_rerror_rate                0.00    0.00    0.07     1.00      1.00   \n",
       "same_srv_rate                  0.25    1.00    1.00     1.00      1.00   \n",
       "diff_srv_rate                  0.00    0.00    0.06     0.09      1.00   \n",
       "srv_diff_host_rate             0.00    0.00    0.00     0.33      1.00   \n",
       "dst_host_count               121.00  255.00  255.00   255.00    255.00   \n",
       "dst_host_srv_count            15.00  168.00  255.00   255.00    255.00   \n",
       "dst_host_same_srv_rate         0.07    0.92    1.00     1.00      1.00   \n",
       "dst_host_diff_srv_rate         0.00    0.01    0.06     0.15      0.75   \n",
       "dst_host_same_src_port_rate    0.00    0.00    0.03     0.85      1.00   \n",
       "dst_host_srv_diff_host_rate    0.00    0.00    0.01     0.04      0.06   \n",
       "dst_host_serror_rate           0.00    0.00    0.00     0.35      1.00   \n",
       "dst_host_srv_serror_rate       0.00    0.00    0.00     0.46      1.00   \n",
       "dst_host_rerror_rate           0.00    0.00    0.36     1.00      1.00   \n",
       "dst_host_srv_rerror_rate       0.00    0.00    0.17     1.00      1.00   \n",
       "last_flag                     17.00   20.00   21.00    21.00     21.00   \n",
       "attack_class                   0.00    1.00    1.00     3.00      3.00   \n",
       "\n",
       "                                   P99        MAX  \n",
       "duration                       7589.34    7589.58  \n",
       "src_bytes                    283618.00  283618.00  \n",
       "dst_bytes                     26015.22   26032.76  \n",
       "land                              0.00       0.00  \n",
       "wrong_fragment                    0.00       0.00  \n",
       "urgent                            0.00       0.00  \n",
       "hot                               2.00       2.00  \n",
       "num_failed_logins                 1.00       1.00  \n",
       "logged_in                         1.00       1.00  \n",
       "num_compromised                   1.00       1.00  \n",
       "root_shell                        0.00       0.00  \n",
       "su_attempted                      0.00       0.00  \n",
       "num_root                          0.00       0.00  \n",
       "num_file_creations                0.00       0.00  \n",
       "num_shells                        0.00       0.00  \n",
       "num_access_files                  0.00       0.00  \n",
       "num_outbound_cmds                 0.00       0.00  \n",
       "is_host_login                     0.00       0.00  \n",
       "is_guest_login                    1.00       1.00  \n",
       "count                           511.00     511.00  \n",
       "srv_count                       511.00     511.00  \n",
       "serror_rate                       1.00       1.00  \n",
       "srv_serror_rate                   1.00       1.00  \n",
       "rerror_rate                       1.00       1.00  \n",
       "srv_rerror_rate                   1.00       1.00  \n",
       "same_srv_rate                     1.00       1.00  \n",
       "diff_srv_rate                     1.00       1.00  \n",
       "srv_diff_host_rate                1.00       1.00  \n",
       "dst_host_count                  255.00     255.00  \n",
       "dst_host_srv_count              255.00     255.00  \n",
       "dst_host_same_srv_rate            1.00       1.00  \n",
       "dst_host_diff_srv_rate            1.00       1.00  \n",
       "dst_host_same_src_port_rate       1.00       1.00  \n",
       "dst_host_srv_diff_host_rate       0.40       0.41  \n",
       "dst_host_serror_rate              1.00       1.00  \n",
       "dst_host_srv_serror_rate          1.00       1.00  \n",
       "dst_host_rerror_rate              1.00       1.00  \n",
       "dst_host_srv_rerror_rate          1.00       1.00  \n",
       "last_flag                        21.00      21.00  \n",
       "attack_class                      3.00       3.00  "
      ]
     },
     "execution_count": 56,
     "metadata": {},
     "output_type": "execute_result"
    }
   ],
   "source": [
    "tr_num_var.apply(continuous_var_summary).T.round(2)\n",
    "ts_num_var.apply(continuous_var_summary).T.round(2)"
   ]
  },
  {
   "cell_type": "markdown",
   "metadata": {},
   "source": [
    "#### No missing in train dataset . So , Missing treatment not required ."
   ]
  },
  {
   "cell_type": "markdown",
   "metadata": {},
   "source": [
    "### Dummy Variable Creation"
   ]
  },
  {
   "cell_type": "code",
   "execution_count": 57,
   "metadata": {},
   "outputs": [
    {
     "name": "stderr",
     "output_type": "stream",
     "text": [
      "C:\\Users\\Vicky\\AppData\\Local\\Temp/ipykernel_17860/2511646847.py:6: SettingWithCopyWarning: \n",
      "A value is trying to be set on a copy of a slice from a DataFrame.\n",
      "Try using .loc[row_indexer,col_indexer] = value instead\n",
      "\n",
      "See the caveats in the documentation: https://pandas.pydata.org/pandas-docs/stable/user_guide/indexing.html#returning-a-view-versus-a-copy\n",
      "  tr_cat_var[c_feature] = tr_cat_var[c_feature].astype('category')\n"
     ]
    }
   ],
   "source": [
    "# get the useful categorical variables\n",
    "tr_cat_var = train[['protocol_type', 'service','flag','attack']]\n",
    "\n",
    "# for c_feature in categorical_features\n",
    "for c_feature in ['protocol_type', 'service','flag','attack']:\n",
    "    tr_cat_var[c_feature] = tr_cat_var[c_feature].astype('category')\n",
    "    tr_cat_var = create_dummies(tr_cat_var, c_feature)"
   ]
  },
  {
   "cell_type": "code",
   "execution_count": 58,
   "metadata": {},
   "outputs": [
    {
     "name": "stderr",
     "output_type": "stream",
     "text": [
      "C:\\Users\\Vicky\\AppData\\Local\\Temp/ipykernel_17860/2904532166.py:6: SettingWithCopyWarning: \n",
      "A value is trying to be set on a copy of a slice from a DataFrame.\n",
      "Try using .loc[row_indexer,col_indexer] = value instead\n",
      "\n",
      "See the caveats in the documentation: https://pandas.pydata.org/pandas-docs/stable/user_guide/indexing.html#returning-a-view-versus-a-copy\n",
      "  ts_cat_var[c_feature] = ts_cat_var[c_feature].astype('category')\n"
     ]
    }
   ],
   "source": [
    "# get the useful categorical variables\n",
    "ts_cat_var = test[['protocol_type', 'service','flag','attack']]\n",
    "\n",
    "# for c_feature in categorical_features\n",
    "for c_feature in ['protocol_type', 'service','flag','attack']:\n",
    "    ts_cat_var[c_feature] = ts_cat_var[c_feature].astype('category')\n",
    "    ts_cat_var = create_dummies(ts_cat_var, c_feature)"
   ]
  },
  {
   "cell_type": "markdown",
   "metadata": {},
   "source": [
    "### Final file for analysis"
   ]
  },
  {
   "cell_type": "code",
   "execution_count": 59,
   "metadata": {},
   "outputs": [
    {
     "data": {
      "text/html": [
       "<div>\n",
       "<style scoped>\n",
       "    .dataframe tbody tr th:only-of-type {\n",
       "        vertical-align: middle;\n",
       "    }\n",
       "\n",
       "    .dataframe tbody tr th {\n",
       "        vertical-align: top;\n",
       "    }\n",
       "\n",
       "    .dataframe thead th {\n",
       "        text-align: right;\n",
       "    }\n",
       "</style>\n",
       "<table border=\"1\" class=\"dataframe\">\n",
       "  <thead>\n",
       "    <tr style=\"text-align: right;\">\n",
       "      <th></th>\n",
       "      <th>protocol_type_tcp</th>\n",
       "      <th>protocol_type_udp</th>\n",
       "      <th>service_X11</th>\n",
       "      <th>service_Z39_50</th>\n",
       "      <th>service_auth</th>\n",
       "      <th>service_bgp</th>\n",
       "      <th>service_courier</th>\n",
       "      <th>service_csnet_ns</th>\n",
       "      <th>service_ctf</th>\n",
       "      <th>service_daytime</th>\n",
       "      <th>...</th>\n",
       "      <th>attack_snmpgetattack</th>\n",
       "      <th>attack_snmpguess</th>\n",
       "      <th>attack_sqlattack</th>\n",
       "      <th>attack_teardrop</th>\n",
       "      <th>attack_udpstorm</th>\n",
       "      <th>attack_warezmaster</th>\n",
       "      <th>attack_worm</th>\n",
       "      <th>attack_xlock</th>\n",
       "      <th>attack_xsnoop</th>\n",
       "      <th>attack_xterm</th>\n",
       "    </tr>\n",
       "  </thead>\n",
       "  <tbody>\n",
       "    <tr>\n",
       "      <th>0</th>\n",
       "      <td>1</td>\n",
       "      <td>0</td>\n",
       "      <td>0</td>\n",
       "      <td>0</td>\n",
       "      <td>0</td>\n",
       "      <td>0</td>\n",
       "      <td>0</td>\n",
       "      <td>0</td>\n",
       "      <td>0</td>\n",
       "      <td>0</td>\n",
       "      <td>...</td>\n",
       "      <td>0</td>\n",
       "      <td>0</td>\n",
       "      <td>0</td>\n",
       "      <td>0</td>\n",
       "      <td>0</td>\n",
       "      <td>0</td>\n",
       "      <td>0</td>\n",
       "      <td>0</td>\n",
       "      <td>0</td>\n",
       "      <td>0</td>\n",
       "    </tr>\n",
       "    <tr>\n",
       "      <th>1</th>\n",
       "      <td>1</td>\n",
       "      <td>0</td>\n",
       "      <td>0</td>\n",
       "      <td>0</td>\n",
       "      <td>0</td>\n",
       "      <td>0</td>\n",
       "      <td>0</td>\n",
       "      <td>0</td>\n",
       "      <td>0</td>\n",
       "      <td>0</td>\n",
       "      <td>...</td>\n",
       "      <td>0</td>\n",
       "      <td>0</td>\n",
       "      <td>0</td>\n",
       "      <td>0</td>\n",
       "      <td>0</td>\n",
       "      <td>0</td>\n",
       "      <td>0</td>\n",
       "      <td>0</td>\n",
       "      <td>0</td>\n",
       "      <td>0</td>\n",
       "    </tr>\n",
       "    <tr>\n",
       "      <th>2</th>\n",
       "      <td>0</td>\n",
       "      <td>0</td>\n",
       "      <td>0</td>\n",
       "      <td>0</td>\n",
       "      <td>0</td>\n",
       "      <td>0</td>\n",
       "      <td>0</td>\n",
       "      <td>0</td>\n",
       "      <td>0</td>\n",
       "      <td>0</td>\n",
       "      <td>...</td>\n",
       "      <td>0</td>\n",
       "      <td>0</td>\n",
       "      <td>0</td>\n",
       "      <td>0</td>\n",
       "      <td>0</td>\n",
       "      <td>0</td>\n",
       "      <td>0</td>\n",
       "      <td>0</td>\n",
       "      <td>0</td>\n",
       "      <td>0</td>\n",
       "    </tr>\n",
       "    <tr>\n",
       "      <th>3</th>\n",
       "      <td>1</td>\n",
       "      <td>0</td>\n",
       "      <td>0</td>\n",
       "      <td>0</td>\n",
       "      <td>0</td>\n",
       "      <td>0</td>\n",
       "      <td>0</td>\n",
       "      <td>0</td>\n",
       "      <td>0</td>\n",
       "      <td>0</td>\n",
       "      <td>...</td>\n",
       "      <td>0</td>\n",
       "      <td>0</td>\n",
       "      <td>0</td>\n",
       "      <td>0</td>\n",
       "      <td>0</td>\n",
       "      <td>0</td>\n",
       "      <td>0</td>\n",
       "      <td>0</td>\n",
       "      <td>0</td>\n",
       "      <td>0</td>\n",
       "    </tr>\n",
       "    <tr>\n",
       "      <th>4</th>\n",
       "      <td>1</td>\n",
       "      <td>0</td>\n",
       "      <td>0</td>\n",
       "      <td>0</td>\n",
       "      <td>0</td>\n",
       "      <td>0</td>\n",
       "      <td>0</td>\n",
       "      <td>0</td>\n",
       "      <td>0</td>\n",
       "      <td>0</td>\n",
       "      <td>...</td>\n",
       "      <td>0</td>\n",
       "      <td>0</td>\n",
       "      <td>0</td>\n",
       "      <td>0</td>\n",
       "      <td>0</td>\n",
       "      <td>0</td>\n",
       "      <td>0</td>\n",
       "      <td>0</td>\n",
       "      <td>0</td>\n",
       "      <td>0</td>\n",
       "    </tr>\n",
       "    <tr>\n",
       "      <th>...</th>\n",
       "      <td>...</td>\n",
       "      <td>...</td>\n",
       "      <td>...</td>\n",
       "      <td>...</td>\n",
       "      <td>...</td>\n",
       "      <td>...</td>\n",
       "      <td>...</td>\n",
       "      <td>...</td>\n",
       "      <td>...</td>\n",
       "      <td>...</td>\n",
       "      <td>...</td>\n",
       "      <td>...</td>\n",
       "      <td>...</td>\n",
       "      <td>...</td>\n",
       "      <td>...</td>\n",
       "      <td>...</td>\n",
       "      <td>...</td>\n",
       "      <td>...</td>\n",
       "      <td>...</td>\n",
       "      <td>...</td>\n",
       "      <td>...</td>\n",
       "    </tr>\n",
       "    <tr>\n",
       "      <th>22538</th>\n",
       "      <td>1</td>\n",
       "      <td>0</td>\n",
       "      <td>0</td>\n",
       "      <td>0</td>\n",
       "      <td>0</td>\n",
       "      <td>0</td>\n",
       "      <td>0</td>\n",
       "      <td>0</td>\n",
       "      <td>0</td>\n",
       "      <td>0</td>\n",
       "      <td>...</td>\n",
       "      <td>0</td>\n",
       "      <td>0</td>\n",
       "      <td>0</td>\n",
       "      <td>0</td>\n",
       "      <td>0</td>\n",
       "      <td>0</td>\n",
       "      <td>0</td>\n",
       "      <td>0</td>\n",
       "      <td>0</td>\n",
       "      <td>0</td>\n",
       "    </tr>\n",
       "    <tr>\n",
       "      <th>22539</th>\n",
       "      <td>1</td>\n",
       "      <td>0</td>\n",
       "      <td>0</td>\n",
       "      <td>0</td>\n",
       "      <td>0</td>\n",
       "      <td>0</td>\n",
       "      <td>0</td>\n",
       "      <td>0</td>\n",
       "      <td>0</td>\n",
       "      <td>0</td>\n",
       "      <td>...</td>\n",
       "      <td>0</td>\n",
       "      <td>0</td>\n",
       "      <td>0</td>\n",
       "      <td>0</td>\n",
       "      <td>0</td>\n",
       "      <td>0</td>\n",
       "      <td>0</td>\n",
       "      <td>0</td>\n",
       "      <td>0</td>\n",
       "      <td>0</td>\n",
       "    </tr>\n",
       "    <tr>\n",
       "      <th>22540</th>\n",
       "      <td>1</td>\n",
       "      <td>0</td>\n",
       "      <td>0</td>\n",
       "      <td>0</td>\n",
       "      <td>0</td>\n",
       "      <td>0</td>\n",
       "      <td>0</td>\n",
       "      <td>0</td>\n",
       "      <td>0</td>\n",
       "      <td>0</td>\n",
       "      <td>...</td>\n",
       "      <td>0</td>\n",
       "      <td>0</td>\n",
       "      <td>0</td>\n",
       "      <td>0</td>\n",
       "      <td>0</td>\n",
       "      <td>0</td>\n",
       "      <td>0</td>\n",
       "      <td>0</td>\n",
       "      <td>0</td>\n",
       "      <td>0</td>\n",
       "    </tr>\n",
       "    <tr>\n",
       "      <th>22541</th>\n",
       "      <td>0</td>\n",
       "      <td>1</td>\n",
       "      <td>0</td>\n",
       "      <td>0</td>\n",
       "      <td>0</td>\n",
       "      <td>0</td>\n",
       "      <td>0</td>\n",
       "      <td>0</td>\n",
       "      <td>0</td>\n",
       "      <td>0</td>\n",
       "      <td>...</td>\n",
       "      <td>0</td>\n",
       "      <td>0</td>\n",
       "      <td>0</td>\n",
       "      <td>0</td>\n",
       "      <td>0</td>\n",
       "      <td>0</td>\n",
       "      <td>0</td>\n",
       "      <td>0</td>\n",
       "      <td>0</td>\n",
       "      <td>0</td>\n",
       "    </tr>\n",
       "    <tr>\n",
       "      <th>22542</th>\n",
       "      <td>1</td>\n",
       "      <td>0</td>\n",
       "      <td>0</td>\n",
       "      <td>0</td>\n",
       "      <td>0</td>\n",
       "      <td>0</td>\n",
       "      <td>0</td>\n",
       "      <td>0</td>\n",
       "      <td>0</td>\n",
       "      <td>0</td>\n",
       "      <td>...</td>\n",
       "      <td>0</td>\n",
       "      <td>0</td>\n",
       "      <td>0</td>\n",
       "      <td>0</td>\n",
       "      <td>0</td>\n",
       "      <td>0</td>\n",
       "      <td>0</td>\n",
       "      <td>0</td>\n",
       "      <td>0</td>\n",
       "      <td>0</td>\n",
       "    </tr>\n",
       "  </tbody>\n",
       "</table>\n",
       "<p>22543 rows × 112 columns</p>\n",
       "</div>"
      ],
      "text/plain": [
       "       protocol_type_tcp  protocol_type_udp  service_X11  service_Z39_50  \\\n",
       "0                      1                  0            0               0   \n",
       "1                      1                  0            0               0   \n",
       "2                      0                  0            0               0   \n",
       "3                      1                  0            0               0   \n",
       "4                      1                  0            0               0   \n",
       "...                  ...                ...          ...             ...   \n",
       "22538                  1                  0            0               0   \n",
       "22539                  1                  0            0               0   \n",
       "22540                  1                  0            0               0   \n",
       "22541                  0                  1            0               0   \n",
       "22542                  1                  0            0               0   \n",
       "\n",
       "       service_auth  service_bgp  service_courier  service_csnet_ns  \\\n",
       "0                 0            0                0                 0   \n",
       "1                 0            0                0                 0   \n",
       "2                 0            0                0                 0   \n",
       "3                 0            0                0                 0   \n",
       "4                 0            0                0                 0   \n",
       "...             ...          ...              ...               ...   \n",
       "22538             0            0                0                 0   \n",
       "22539             0            0                0                 0   \n",
       "22540             0            0                0                 0   \n",
       "22541             0            0                0                 0   \n",
       "22542             0            0                0                 0   \n",
       "\n",
       "       service_ctf  service_daytime  ...  attack_snmpgetattack  \\\n",
       "0                0                0  ...                     0   \n",
       "1                0                0  ...                     0   \n",
       "2                0                0  ...                     0   \n",
       "3                0                0  ...                     0   \n",
       "4                0                0  ...                     0   \n",
       "...            ...              ...  ...                   ...   \n",
       "22538            0                0  ...                     0   \n",
       "22539            0                0  ...                     0   \n",
       "22540            0                0  ...                     0   \n",
       "22541            0                0  ...                     0   \n",
       "22542            0                0  ...                     0   \n",
       "\n",
       "       attack_snmpguess  attack_sqlattack  attack_teardrop  attack_udpstorm  \\\n",
       "0                     0                 0                0                0   \n",
       "1                     0                 0                0                0   \n",
       "2                     0                 0                0                0   \n",
       "3                     0                 0                0                0   \n",
       "4                     0                 0                0                0   \n",
       "...                 ...               ...              ...              ...   \n",
       "22538                 0                 0                0                0   \n",
       "22539                 0                 0                0                0   \n",
       "22540                 0                 0                0                0   \n",
       "22541                 0                 0                0                0   \n",
       "22542                 0                 0                0                0   \n",
       "\n",
       "       attack_warezmaster  attack_worm  attack_xlock  attack_xsnoop  \\\n",
       "0                       0            0             0              0   \n",
       "1                       0            0             0              0   \n",
       "2                       0            0             0              0   \n",
       "3                       0            0             0              0   \n",
       "4                       0            0             0              0   \n",
       "...                   ...          ...           ...            ...   \n",
       "22538                   0            0             0              0   \n",
       "22539                   0            0             0              0   \n",
       "22540                   0            0             0              0   \n",
       "22541                   0            0             0              0   \n",
       "22542                   0            0             0              0   \n",
       "\n",
       "       attack_xterm  \n",
       "0                 0  \n",
       "1                 0  \n",
       "2                 0  \n",
       "3                 0  \n",
       "4                 0  \n",
       "...             ...  \n",
       "22538             0  \n",
       "22539             0  \n",
       "22540             0  \n",
       "22541             0  \n",
       "22542             0  \n",
       "\n",
       "[22543 rows x 112 columns]"
      ]
     },
     "execution_count": 59,
     "metadata": {},
     "output_type": "execute_result"
    }
   ],
   "source": [
    "ts_cat_var"
   ]
  },
  {
   "cell_type": "code",
   "execution_count": 60,
   "metadata": {},
   "outputs": [],
   "source": [
    "train_new= pd.concat([tr_num_var, tr_cat_var], axis = 1)\n",
    "test_new = pd.concat([ts_num_var, ts_cat_var], axis = 1)"
   ]
  },
  {
   "cell_type": "code",
   "execution_count": 61,
   "metadata": {},
   "outputs": [
    {
     "data": {
      "text/html": [
       "<div>\n",
       "<style scoped>\n",
       "    .dataframe tbody tr th:only-of-type {\n",
       "        vertical-align: middle;\n",
       "    }\n",
       "\n",
       "    .dataframe tbody tr th {\n",
       "        vertical-align: top;\n",
       "    }\n",
       "\n",
       "    .dataframe thead th {\n",
       "        text-align: right;\n",
       "    }\n",
       "</style>\n",
       "<table border=\"1\" class=\"dataframe\">\n",
       "  <thead>\n",
       "    <tr style=\"text-align: right;\">\n",
       "      <th></th>\n",
       "      <th>duration</th>\n",
       "      <th>src_bytes</th>\n",
       "      <th>dst_bytes</th>\n",
       "      <th>land</th>\n",
       "      <th>wrong_fragment</th>\n",
       "      <th>urgent</th>\n",
       "      <th>hot</th>\n",
       "      <th>num_failed_logins</th>\n",
       "      <th>logged_in</th>\n",
       "      <th>num_compromised</th>\n",
       "      <th>...</th>\n",
       "      <th>attack_phf</th>\n",
       "      <th>attack_pod</th>\n",
       "      <th>attack_portsweep</th>\n",
       "      <th>attack_rootkit</th>\n",
       "      <th>attack_satan</th>\n",
       "      <th>attack_smurf</th>\n",
       "      <th>attack_spy</th>\n",
       "      <th>attack_teardrop</th>\n",
       "      <th>attack_warezclient</th>\n",
       "      <th>attack_warezmaster</th>\n",
       "    </tr>\n",
       "  </thead>\n",
       "  <tbody>\n",
       "    <tr>\n",
       "      <th>0</th>\n",
       "      <td>0.0</td>\n",
       "      <td>146.0</td>\n",
       "      <td>0.0</td>\n",
       "      <td>0.0</td>\n",
       "      <td>0.0</td>\n",
       "      <td>0.0</td>\n",
       "      <td>0.0</td>\n",
       "      <td>0.0</td>\n",
       "      <td>0</td>\n",
       "      <td>0.0</td>\n",
       "      <td>...</td>\n",
       "      <td>0</td>\n",
       "      <td>0</td>\n",
       "      <td>0</td>\n",
       "      <td>0</td>\n",
       "      <td>0</td>\n",
       "      <td>0</td>\n",
       "      <td>0</td>\n",
       "      <td>0</td>\n",
       "      <td>0</td>\n",
       "      <td>0</td>\n",
       "    </tr>\n",
       "    <tr>\n",
       "      <th>1</th>\n",
       "      <td>0.0</td>\n",
       "      <td>0.0</td>\n",
       "      <td>0.0</td>\n",
       "      <td>0.0</td>\n",
       "      <td>0.0</td>\n",
       "      <td>0.0</td>\n",
       "      <td>0.0</td>\n",
       "      <td>0.0</td>\n",
       "      <td>0</td>\n",
       "      <td>0.0</td>\n",
       "      <td>...</td>\n",
       "      <td>0</td>\n",
       "      <td>0</td>\n",
       "      <td>0</td>\n",
       "      <td>0</td>\n",
       "      <td>0</td>\n",
       "      <td>0</td>\n",
       "      <td>0</td>\n",
       "      <td>0</td>\n",
       "      <td>0</td>\n",
       "      <td>0</td>\n",
       "    </tr>\n",
       "    <tr>\n",
       "      <th>2</th>\n",
       "      <td>0.0</td>\n",
       "      <td>232.0</td>\n",
       "      <td>8153.0</td>\n",
       "      <td>0.0</td>\n",
       "      <td>0.0</td>\n",
       "      <td>0.0</td>\n",
       "      <td>0.0</td>\n",
       "      <td>0.0</td>\n",
       "      <td>1</td>\n",
       "      <td>0.0</td>\n",
       "      <td>...</td>\n",
       "      <td>0</td>\n",
       "      <td>0</td>\n",
       "      <td>0</td>\n",
       "      <td>0</td>\n",
       "      <td>0</td>\n",
       "      <td>0</td>\n",
       "      <td>0</td>\n",
       "      <td>0</td>\n",
       "      <td>0</td>\n",
       "      <td>0</td>\n",
       "    </tr>\n",
       "    <tr>\n",
       "      <th>3</th>\n",
       "      <td>0.0</td>\n",
       "      <td>199.0</td>\n",
       "      <td>420.0</td>\n",
       "      <td>0.0</td>\n",
       "      <td>0.0</td>\n",
       "      <td>0.0</td>\n",
       "      <td>0.0</td>\n",
       "      <td>0.0</td>\n",
       "      <td>1</td>\n",
       "      <td>0.0</td>\n",
       "      <td>...</td>\n",
       "      <td>0</td>\n",
       "      <td>0</td>\n",
       "      <td>0</td>\n",
       "      <td>0</td>\n",
       "      <td>0</td>\n",
       "      <td>0</td>\n",
       "      <td>0</td>\n",
       "      <td>0</td>\n",
       "      <td>0</td>\n",
       "      <td>0</td>\n",
       "    </tr>\n",
       "    <tr>\n",
       "      <th>4</th>\n",
       "      <td>0.0</td>\n",
       "      <td>0.0</td>\n",
       "      <td>0.0</td>\n",
       "      <td>0.0</td>\n",
       "      <td>0.0</td>\n",
       "      <td>0.0</td>\n",
       "      <td>0.0</td>\n",
       "      <td>0.0</td>\n",
       "      <td>0</td>\n",
       "      <td>0.0</td>\n",
       "      <td>...</td>\n",
       "      <td>0</td>\n",
       "      <td>0</td>\n",
       "      <td>0</td>\n",
       "      <td>0</td>\n",
       "      <td>0</td>\n",
       "      <td>0</td>\n",
       "      <td>0</td>\n",
       "      <td>0</td>\n",
       "      <td>0</td>\n",
       "      <td>0</td>\n",
       "    </tr>\n",
       "  </tbody>\n",
       "</table>\n",
       "<p>5 rows × 143 columns</p>\n",
       "</div>"
      ],
      "text/plain": [
       "   duration  src_bytes  dst_bytes  land  wrong_fragment  urgent  hot  \\\n",
       "0       0.0      146.0        0.0   0.0             0.0     0.0  0.0   \n",
       "1       0.0        0.0        0.0   0.0             0.0     0.0  0.0   \n",
       "2       0.0      232.0     8153.0   0.0             0.0     0.0  0.0   \n",
       "3       0.0      199.0      420.0   0.0             0.0     0.0  0.0   \n",
       "4       0.0        0.0        0.0   0.0             0.0     0.0  0.0   \n",
       "\n",
       "   num_failed_logins  logged_in  num_compromised  ...  attack_phf  attack_pod  \\\n",
       "0                0.0          0              0.0  ...           0           0   \n",
       "1                0.0          0              0.0  ...           0           0   \n",
       "2                0.0          1              0.0  ...           0           0   \n",
       "3                0.0          1              0.0  ...           0           0   \n",
       "4                0.0          0              0.0  ...           0           0   \n",
       "\n",
       "   attack_portsweep  attack_rootkit  attack_satan  attack_smurf  attack_spy  \\\n",
       "0                 0               0             0             0           0   \n",
       "1                 0               0             0             0           0   \n",
       "2                 0               0             0             0           0   \n",
       "3                 0               0             0             0           0   \n",
       "4                 0               0             0             0           0   \n",
       "\n",
       "   attack_teardrop  attack_warezclient  attack_warezmaster  \n",
       "0                0                   0                   0  \n",
       "1                0                   0                   0  \n",
       "2                0                   0                   0  \n",
       "3                0                   0                   0  \n",
       "4                0                   0                   0  \n",
       "\n",
       "[5 rows x 143 columns]"
      ]
     },
     "execution_count": 61,
     "metadata": {},
     "output_type": "execute_result"
    }
   ],
   "source": [
    "train_new.head()"
   ]
  },
  {
   "cell_type": "code",
   "execution_count": 62,
   "metadata": {},
   "outputs": [
    {
     "data": {
      "text/html": [
       "<div>\n",
       "<style scoped>\n",
       "    .dataframe tbody tr th:only-of-type {\n",
       "        vertical-align: middle;\n",
       "    }\n",
       "\n",
       "    .dataframe tbody tr th {\n",
       "        vertical-align: top;\n",
       "    }\n",
       "\n",
       "    .dataframe thead th {\n",
       "        text-align: right;\n",
       "    }\n",
       "</style>\n",
       "<table border=\"1\" class=\"dataframe\">\n",
       "  <thead>\n",
       "    <tr style=\"text-align: right;\">\n",
       "      <th></th>\n",
       "      <th>duration</th>\n",
       "      <th>src_bytes</th>\n",
       "      <th>dst_bytes</th>\n",
       "      <th>land</th>\n",
       "      <th>wrong_fragment</th>\n",
       "      <th>urgent</th>\n",
       "      <th>hot</th>\n",
       "      <th>num_failed_logins</th>\n",
       "      <th>logged_in</th>\n",
       "      <th>num_compromised</th>\n",
       "      <th>...</th>\n",
       "      <th>attack_snmpgetattack</th>\n",
       "      <th>attack_snmpguess</th>\n",
       "      <th>attack_sqlattack</th>\n",
       "      <th>attack_teardrop</th>\n",
       "      <th>attack_udpstorm</th>\n",
       "      <th>attack_warezmaster</th>\n",
       "      <th>attack_worm</th>\n",
       "      <th>attack_xlock</th>\n",
       "      <th>attack_xsnoop</th>\n",
       "      <th>attack_xterm</th>\n",
       "    </tr>\n",
       "  </thead>\n",
       "  <tbody>\n",
       "    <tr>\n",
       "      <th>0</th>\n",
       "      <td>0.0</td>\n",
       "      <td>0.0</td>\n",
       "      <td>0.0</td>\n",
       "      <td>0.0</td>\n",
       "      <td>0.0</td>\n",
       "      <td>0.0</td>\n",
       "      <td>0.0</td>\n",
       "      <td>0.0</td>\n",
       "      <td>0</td>\n",
       "      <td>0.0</td>\n",
       "      <td>...</td>\n",
       "      <td>0</td>\n",
       "      <td>0</td>\n",
       "      <td>0</td>\n",
       "      <td>0</td>\n",
       "      <td>0</td>\n",
       "      <td>0</td>\n",
       "      <td>0</td>\n",
       "      <td>0</td>\n",
       "      <td>0</td>\n",
       "      <td>0</td>\n",
       "    </tr>\n",
       "    <tr>\n",
       "      <th>1</th>\n",
       "      <td>2.0</td>\n",
       "      <td>12983.0</td>\n",
       "      <td>0.0</td>\n",
       "      <td>0.0</td>\n",
       "      <td>0.0</td>\n",
       "      <td>0.0</td>\n",
       "      <td>0.0</td>\n",
       "      <td>0.0</td>\n",
       "      <td>0</td>\n",
       "      <td>0.0</td>\n",
       "      <td>...</td>\n",
       "      <td>0</td>\n",
       "      <td>0</td>\n",
       "      <td>0</td>\n",
       "      <td>0</td>\n",
       "      <td>0</td>\n",
       "      <td>0</td>\n",
       "      <td>0</td>\n",
       "      <td>0</td>\n",
       "      <td>0</td>\n",
       "      <td>0</td>\n",
       "    </tr>\n",
       "    <tr>\n",
       "      <th>2</th>\n",
       "      <td>0.0</td>\n",
       "      <td>20.0</td>\n",
       "      <td>0.0</td>\n",
       "      <td>0.0</td>\n",
       "      <td>0.0</td>\n",
       "      <td>0.0</td>\n",
       "      <td>0.0</td>\n",
       "      <td>0.0</td>\n",
       "      <td>0</td>\n",
       "      <td>0.0</td>\n",
       "      <td>...</td>\n",
       "      <td>0</td>\n",
       "      <td>0</td>\n",
       "      <td>0</td>\n",
       "      <td>0</td>\n",
       "      <td>0</td>\n",
       "      <td>0</td>\n",
       "      <td>0</td>\n",
       "      <td>0</td>\n",
       "      <td>0</td>\n",
       "      <td>0</td>\n",
       "    </tr>\n",
       "    <tr>\n",
       "      <th>3</th>\n",
       "      <td>1.0</td>\n",
       "      <td>0.0</td>\n",
       "      <td>15.0</td>\n",
       "      <td>0.0</td>\n",
       "      <td>0.0</td>\n",
       "      <td>0.0</td>\n",
       "      <td>0.0</td>\n",
       "      <td>0.0</td>\n",
       "      <td>0</td>\n",
       "      <td>0.0</td>\n",
       "      <td>...</td>\n",
       "      <td>0</td>\n",
       "      <td>0</td>\n",
       "      <td>0</td>\n",
       "      <td>0</td>\n",
       "      <td>0</td>\n",
       "      <td>0</td>\n",
       "      <td>0</td>\n",
       "      <td>0</td>\n",
       "      <td>0</td>\n",
       "      <td>0</td>\n",
       "    </tr>\n",
       "    <tr>\n",
       "      <th>4</th>\n",
       "      <td>0.0</td>\n",
       "      <td>267.0</td>\n",
       "      <td>14515.0</td>\n",
       "      <td>0.0</td>\n",
       "      <td>0.0</td>\n",
       "      <td>0.0</td>\n",
       "      <td>0.0</td>\n",
       "      <td>0.0</td>\n",
       "      <td>1</td>\n",
       "      <td>0.0</td>\n",
       "      <td>...</td>\n",
       "      <td>0</td>\n",
       "      <td>0</td>\n",
       "      <td>0</td>\n",
       "      <td>0</td>\n",
       "      <td>0</td>\n",
       "      <td>0</td>\n",
       "      <td>0</td>\n",
       "      <td>0</td>\n",
       "      <td>0</td>\n",
       "      <td>0</td>\n",
       "    </tr>\n",
       "  </tbody>\n",
       "</table>\n",
       "<p>5 rows × 152 columns</p>\n",
       "</div>"
      ],
      "text/plain": [
       "   duration  src_bytes  dst_bytes  land  wrong_fragment  urgent  hot  \\\n",
       "0       0.0        0.0        0.0   0.0             0.0     0.0  0.0   \n",
       "1       2.0    12983.0        0.0   0.0             0.0     0.0  0.0   \n",
       "2       0.0       20.0        0.0   0.0             0.0     0.0  0.0   \n",
       "3       1.0        0.0       15.0   0.0             0.0     0.0  0.0   \n",
       "4       0.0      267.0    14515.0   0.0             0.0     0.0  0.0   \n",
       "\n",
       "   num_failed_logins  logged_in  num_compromised  ...  attack_snmpgetattack  \\\n",
       "0                0.0          0              0.0  ...                     0   \n",
       "1                0.0          0              0.0  ...                     0   \n",
       "2                0.0          0              0.0  ...                     0   \n",
       "3                0.0          0              0.0  ...                     0   \n",
       "4                0.0          1              0.0  ...                     0   \n",
       "\n",
       "   attack_snmpguess  attack_sqlattack  attack_teardrop  attack_udpstorm  \\\n",
       "0                 0                 0                0                0   \n",
       "1                 0                 0                0                0   \n",
       "2                 0                 0                0                0   \n",
       "3                 0                 0                0                0   \n",
       "4                 0                 0                0                0   \n",
       "\n",
       "   attack_warezmaster  attack_worm  attack_xlock  attack_xsnoop  attack_xterm  \n",
       "0                   0            0             0              0             0  \n",
       "1                   0            0             0              0             0  \n",
       "2                   0            0             0              0             0  \n",
       "3                   0            0             0              0             0  \n",
       "4                   0            0             0              0             0  \n",
       "\n",
       "[5 rows x 152 columns]"
      ]
     },
     "execution_count": 62,
     "metadata": {},
     "output_type": "execute_result"
    }
   ],
   "source": [
    "test_new.head()"
   ]
  },
  {
   "cell_type": "code",
   "execution_count": 63,
   "metadata": {},
   "outputs": [
    {
     "data": {
      "text/plain": [
       "(125972, 143)"
      ]
     },
     "execution_count": 63,
     "metadata": {},
     "output_type": "execute_result"
    }
   ],
   "source": [
    "train_new.shape"
   ]
  },
  {
   "cell_type": "code",
   "execution_count": 64,
   "metadata": {},
   "outputs": [
    {
     "data": {
      "text/plain": [
       "(22543, 152)"
      ]
     },
     "execution_count": 64,
     "metadata": {},
     "output_type": "execute_result"
    }
   ],
   "source": [
    "test_new.shape"
   ]
  },
  {
   "cell_type": "code",
   "execution_count": 255,
   "metadata": {},
   "outputs": [
    {
     "data": {
      "text/html": [
       "<div>\n",
       "<style scoped>\n",
       "    .dataframe tbody tr th:only-of-type {\n",
       "        vertical-align: middle;\n",
       "    }\n",
       "\n",
       "    .dataframe tbody tr th {\n",
       "        vertical-align: top;\n",
       "    }\n",
       "\n",
       "    .dataframe thead th {\n",
       "        text-align: right;\n",
       "    }\n",
       "</style>\n",
       "<table border=\"1\" class=\"dataframe\">\n",
       "  <thead>\n",
       "    <tr style=\"text-align: right;\">\n",
       "      <th></th>\n",
       "      <th>duration</th>\n",
       "      <th>src_bytes</th>\n",
       "      <th>dst_bytes</th>\n",
       "      <th>hot</th>\n",
       "      <th>logged_in</th>\n",
       "      <th>num_compromised</th>\n",
       "      <th>count</th>\n",
       "      <th>srv_count</th>\n",
       "      <th>serror_rate</th>\n",
       "      <th>rerror_rate</th>\n",
       "      <th>...</th>\n",
       "      <th>attack_phf</th>\n",
       "      <th>attack_pod</th>\n",
       "      <th>attack_portsweep</th>\n",
       "      <th>attack_rootkit</th>\n",
       "      <th>attack_satan</th>\n",
       "      <th>attack_smurf</th>\n",
       "      <th>attack_spy</th>\n",
       "      <th>attack_teardrop</th>\n",
       "      <th>attack_warezclient</th>\n",
       "      <th>attack_warezmaster</th>\n",
       "    </tr>\n",
       "  </thead>\n",
       "  <tbody>\n",
       "    <tr>\n",
       "      <th>duration</th>\n",
       "      <td>1.000000</td>\n",
       "      <td>0.011740</td>\n",
       "      <td>0.036892</td>\n",
       "      <td>0.021274</td>\n",
       "      <td>-0.064538</td>\n",
       "      <td>0.062081</td>\n",
       "      <td>-0.099244</td>\n",
       "      <td>-0.050309</td>\n",
       "      <td>-0.087514</td>\n",
       "      <td>0.173108</td>\n",
       "      <td>...</td>\n",
       "      <td>-0.000757</td>\n",
       "      <td>-0.005534</td>\n",
       "      <td>0.408874</td>\n",
       "      <td>-0.000414</td>\n",
       "      <td>-0.023837</td>\n",
       "      <td>-0.020279</td>\n",
       "      <td>0.000605</td>\n",
       "      <td>-0.011691</td>\n",
       "      <td>0.037013</td>\n",
       "      <td>-0.001571</td>\n",
       "    </tr>\n",
       "    <tr>\n",
       "      <th>src_bytes</th>\n",
       "      <td>0.011740</td>\n",
       "      <td>1.000000</td>\n",
       "      <td>0.127827</td>\n",
       "      <td>0.379973</td>\n",
       "      <td>0.163275</td>\n",
       "      <td>0.603363</td>\n",
       "      <td>-0.105271</td>\n",
       "      <td>-0.036083</td>\n",
       "      <td>-0.100189</td>\n",
       "      <td>-0.044664</td>\n",
       "      <td>...</td>\n",
       "      <td>-0.000898</td>\n",
       "      <td>0.002845</td>\n",
       "      <td>-0.022114</td>\n",
       "      <td>-0.001067</td>\n",
       "      <td>-0.028784</td>\n",
       "      <td>-0.002928</td>\n",
       "      <td>-0.000555</td>\n",
       "      <td>-0.013779</td>\n",
       "      <td>0.047995</td>\n",
       "      <td>-0.002012</td>\n",
       "    </tr>\n",
       "    <tr>\n",
       "      <th>dst_bytes</th>\n",
       "      <td>0.036892</td>\n",
       "      <td>0.127827</td>\n",
       "      <td>1.000000</td>\n",
       "      <td>0.127002</td>\n",
       "      <td>0.421999</td>\n",
       "      <td>0.237363</td>\n",
       "      <td>-0.237214</td>\n",
       "      <td>-0.087531</td>\n",
       "      <td>-0.201776</td>\n",
       "      <td>-0.118673</td>\n",
       "      <td>...</td>\n",
       "      <td>0.010050</td>\n",
       "      <td>-0.014104</td>\n",
       "      <td>-0.053377</td>\n",
       "      <td>0.006873</td>\n",
       "      <td>-0.060374</td>\n",
       "      <td>-0.051676</td>\n",
       "      <td>-0.000156</td>\n",
       "      <td>-0.029791</td>\n",
       "      <td>-0.011541</td>\n",
       "      <td>0.064962</td>\n",
       "    </tr>\n",
       "    <tr>\n",
       "      <th>hot</th>\n",
       "      <td>0.021274</td>\n",
       "      <td>0.379973</td>\n",
       "      <td>0.127002</td>\n",
       "      <td>1.000000</td>\n",
       "      <td>0.168937</td>\n",
       "      <td>0.423630</td>\n",
       "      <td>-0.100540</td>\n",
       "      <td>-0.049883</td>\n",
       "      <td>-0.082286</td>\n",
       "      <td>-0.035476</td>\n",
       "      <td>...</td>\n",
       "      <td>0.031240</td>\n",
       "      <td>-0.005627</td>\n",
       "      <td>-0.020526</td>\n",
       "      <td>0.003811</td>\n",
       "      <td>-0.022771</td>\n",
       "      <td>-0.020616</td>\n",
       "      <td>-0.000561</td>\n",
       "      <td>-0.011886</td>\n",
       "      <td>0.270177</td>\n",
       "      <td>0.003599</td>\n",
       "    </tr>\n",
       "    <tr>\n",
       "      <th>logged_in</th>\n",
       "      <td>-0.064538</td>\n",
       "      <td>0.163275</td>\n",
       "      <td>0.421999</td>\n",
       "      <td>0.168937</td>\n",
       "      <td>1.000000</td>\n",
       "      <td>0.125493</td>\n",
       "      <td>-0.539762</td>\n",
       "      <td>-0.201053</td>\n",
       "      <td>-0.491931</td>\n",
       "      <td>-0.287518</td>\n",
       "      <td>...</td>\n",
       "      <td>0.006963</td>\n",
       "      <td>-0.032352</td>\n",
       "      <td>-0.124581</td>\n",
       "      <td>0.001900</td>\n",
       "      <td>-0.134123</td>\n",
       "      <td>-0.118539</td>\n",
       "      <td>0.000850</td>\n",
       "      <td>-0.068341</td>\n",
       "      <td>0.104233</td>\n",
       "      <td>-0.007621</td>\n",
       "    </tr>\n",
       "    <tr>\n",
       "      <th>...</th>\n",
       "      <td>...</td>\n",
       "      <td>...</td>\n",
       "      <td>...</td>\n",
       "      <td>...</td>\n",
       "      <td>...</td>\n",
       "      <td>...</td>\n",
       "      <td>...</td>\n",
       "      <td>...</td>\n",
       "      <td>...</td>\n",
       "      <td>...</td>\n",
       "      <td>...</td>\n",
       "      <td>...</td>\n",
       "      <td>...</td>\n",
       "      <td>...</td>\n",
       "      <td>...</td>\n",
       "      <td>...</td>\n",
       "      <td>...</td>\n",
       "      <td>...</td>\n",
       "      <td>...</td>\n",
       "      <td>...</td>\n",
       "      <td>...</td>\n",
       "    </tr>\n",
       "    <tr>\n",
       "      <th>attack_smurf</th>\n",
       "      <td>-0.020279</td>\n",
       "      <td>-0.002928</td>\n",
       "      <td>-0.051676</td>\n",
       "      <td>-0.020616</td>\n",
       "      <td>-0.118539</td>\n",
       "      <td>-0.014876</td>\n",
       "      <td>0.374258</td>\n",
       "      <td>0.698080</td>\n",
       "      <td>-0.093337</td>\n",
       "      <td>-0.054835</td>\n",
       "      <td>...</td>\n",
       "      <td>-0.000825</td>\n",
       "      <td>-0.005856</td>\n",
       "      <td>-0.022607</td>\n",
       "      <td>-0.001305</td>\n",
       "      <td>-0.025242</td>\n",
       "      <td>1.000000</td>\n",
       "      <td>-0.000584</td>\n",
       "      <td>-0.012370</td>\n",
       "      <td>-0.012356</td>\n",
       "      <td>-0.001846</td>\n",
       "    </tr>\n",
       "    <tr>\n",
       "      <th>attack_spy</th>\n",
       "      <td>0.000605</td>\n",
       "      <td>-0.000555</td>\n",
       "      <td>-0.000156</td>\n",
       "      <td>-0.000561</td>\n",
       "      <td>0.000850</td>\n",
       "      <td>-0.000405</td>\n",
       "      <td>-0.002892</td>\n",
       "      <td>-0.001481</td>\n",
       "      <td>-0.002539</td>\n",
       "      <td>-0.001492</td>\n",
       "      <td>...</td>\n",
       "      <td>-0.000022</td>\n",
       "      <td>-0.000159</td>\n",
       "      <td>-0.000615</td>\n",
       "      <td>-0.000036</td>\n",
       "      <td>-0.000687</td>\n",
       "      <td>-0.000584</td>\n",
       "      <td>1.000000</td>\n",
       "      <td>-0.000336</td>\n",
       "      <td>-0.000336</td>\n",
       "      <td>-0.000050</td>\n",
       "    </tr>\n",
       "    <tr>\n",
       "      <th>attack_teardrop</th>\n",
       "      <td>-0.011691</td>\n",
       "      <td>-0.013779</td>\n",
       "      <td>-0.029791</td>\n",
       "      <td>-0.011886</td>\n",
       "      <td>-0.068341</td>\n",
       "      <td>-0.008576</td>\n",
       "      <td>-0.016979</td>\n",
       "      <td>0.026996</td>\n",
       "      <td>-0.039858</td>\n",
       "      <td>-0.031162</td>\n",
       "      <td>...</td>\n",
       "      <td>-0.000476</td>\n",
       "      <td>-0.003376</td>\n",
       "      <td>-0.013034</td>\n",
       "      <td>-0.000752</td>\n",
       "      <td>-0.014553</td>\n",
       "      <td>-0.012370</td>\n",
       "      <td>-0.000336</td>\n",
       "      <td>1.000000</td>\n",
       "      <td>-0.007123</td>\n",
       "      <td>-0.001064</td>\n",
       "    </tr>\n",
       "    <tr>\n",
       "      <th>attack_warezclient</th>\n",
       "      <td>0.037013</td>\n",
       "      <td>0.047995</td>\n",
       "      <td>-0.011541</td>\n",
       "      <td>0.270177</td>\n",
       "      <td>0.104233</td>\n",
       "      <td>-0.008567</td>\n",
       "      <td>-0.061012</td>\n",
       "      <td>-0.030985</td>\n",
       "      <td>-0.053220</td>\n",
       "      <td>-0.030839</td>\n",
       "      <td>...</td>\n",
       "      <td>-0.000475</td>\n",
       "      <td>-0.003372</td>\n",
       "      <td>-0.013019</td>\n",
       "      <td>-0.000752</td>\n",
       "      <td>-0.014536</td>\n",
       "      <td>-0.012356</td>\n",
       "      <td>-0.000336</td>\n",
       "      <td>-0.007123</td>\n",
       "      <td>1.000000</td>\n",
       "      <td>-0.001063</td>\n",
       "    </tr>\n",
       "    <tr>\n",
       "      <th>attack_warezmaster</th>\n",
       "      <td>-0.001571</td>\n",
       "      <td>-0.002012</td>\n",
       "      <td>0.064962</td>\n",
       "      <td>0.003599</td>\n",
       "      <td>-0.007621</td>\n",
       "      <td>-0.001280</td>\n",
       "      <td>-0.009129</td>\n",
       "      <td>-0.004659</td>\n",
       "      <td>-0.008030</td>\n",
       "      <td>-0.004717</td>\n",
       "      <td>...</td>\n",
       "      <td>-0.000071</td>\n",
       "      <td>-0.000504</td>\n",
       "      <td>-0.001945</td>\n",
       "      <td>-0.000112</td>\n",
       "      <td>-0.002172</td>\n",
       "      <td>-0.001846</td>\n",
       "      <td>-0.000050</td>\n",
       "      <td>-0.001064</td>\n",
       "      <td>-0.001063</td>\n",
       "      <td>1.000000</td>\n",
       "    </tr>\n",
       "  </tbody>\n",
       "</table>\n",
       "<p>124 rows × 124 columns</p>\n",
       "</div>"
      ],
      "text/plain": [
       "                    duration  src_bytes  dst_bytes       hot  logged_in  \\\n",
       "duration            1.000000   0.011740   0.036892  0.021274  -0.064538   \n",
       "src_bytes           0.011740   1.000000   0.127827  0.379973   0.163275   \n",
       "dst_bytes           0.036892   0.127827   1.000000  0.127002   0.421999   \n",
       "hot                 0.021274   0.379973   0.127002  1.000000   0.168937   \n",
       "logged_in          -0.064538   0.163275   0.421999  0.168937   1.000000   \n",
       "...                      ...        ...        ...       ...        ...   \n",
       "attack_smurf       -0.020279  -0.002928  -0.051676 -0.020616  -0.118539   \n",
       "attack_spy          0.000605  -0.000555  -0.000156 -0.000561   0.000850   \n",
       "attack_teardrop    -0.011691  -0.013779  -0.029791 -0.011886  -0.068341   \n",
       "attack_warezclient  0.037013   0.047995  -0.011541  0.270177   0.104233   \n",
       "attack_warezmaster -0.001571  -0.002012   0.064962  0.003599  -0.007621   \n",
       "\n",
       "                    num_compromised     count  srv_count  serror_rate  \\\n",
       "duration                   0.062081 -0.099244  -0.050309    -0.087514   \n",
       "src_bytes                  0.603363 -0.105271  -0.036083    -0.100189   \n",
       "dst_bytes                  0.237363 -0.237214  -0.087531    -0.201776   \n",
       "hot                        0.423630 -0.100540  -0.049883    -0.082286   \n",
       "logged_in                  0.125493 -0.539762  -0.201053    -0.491931   \n",
       "...                             ...       ...        ...          ...   \n",
       "attack_smurf              -0.014876  0.374258   0.698080    -0.093337   \n",
       "attack_spy                -0.000405 -0.002892  -0.001481    -0.002539   \n",
       "attack_teardrop           -0.008576 -0.016979   0.026996    -0.039858   \n",
       "attack_warezclient        -0.008567 -0.061012  -0.030985    -0.053220   \n",
       "attack_warezmaster        -0.001280 -0.009129  -0.004659    -0.008030   \n",
       "\n",
       "                    rerror_rate  ...  attack_phf  attack_pod  \\\n",
       "duration               0.173108  ...   -0.000757   -0.005534   \n",
       "src_bytes             -0.044664  ...   -0.000898    0.002845   \n",
       "dst_bytes             -0.118673  ...    0.010050   -0.014104   \n",
       "hot                   -0.035476  ...    0.031240   -0.005627   \n",
       "logged_in             -0.287518  ...    0.006963   -0.032352   \n",
       "...                         ...  ...         ...         ...   \n",
       "attack_smurf          -0.054835  ...   -0.000825   -0.005856   \n",
       "attack_spy            -0.001492  ...   -0.000022   -0.000159   \n",
       "attack_teardrop       -0.031162  ...   -0.000476   -0.003376   \n",
       "attack_warezclient    -0.030839  ...   -0.000475   -0.003372   \n",
       "attack_warezmaster    -0.004717  ...   -0.000071   -0.000504   \n",
       "\n",
       "                    attack_portsweep  attack_rootkit  attack_satan  \\\n",
       "duration                    0.408874       -0.000414     -0.023837   \n",
       "src_bytes                  -0.022114       -0.001067     -0.028784   \n",
       "dst_bytes                  -0.053377        0.006873     -0.060374   \n",
       "hot                        -0.020526        0.003811     -0.022771   \n",
       "logged_in                  -0.124581        0.001900     -0.134123   \n",
       "...                              ...             ...           ...   \n",
       "attack_smurf               -0.022607       -0.001305     -0.025242   \n",
       "attack_spy                 -0.000615       -0.000036     -0.000687   \n",
       "attack_teardrop            -0.013034       -0.000752     -0.014553   \n",
       "attack_warezclient         -0.013019       -0.000752     -0.014536   \n",
       "attack_warezmaster         -0.001945       -0.000112     -0.002172   \n",
       "\n",
       "                    attack_smurf  attack_spy  attack_teardrop  \\\n",
       "duration               -0.020279    0.000605        -0.011691   \n",
       "src_bytes              -0.002928   -0.000555        -0.013779   \n",
       "dst_bytes              -0.051676   -0.000156        -0.029791   \n",
       "hot                    -0.020616   -0.000561        -0.011886   \n",
       "logged_in              -0.118539    0.000850        -0.068341   \n",
       "...                          ...         ...              ...   \n",
       "attack_smurf            1.000000   -0.000584        -0.012370   \n",
       "attack_spy             -0.000584    1.000000        -0.000336   \n",
       "attack_teardrop        -0.012370   -0.000336         1.000000   \n",
       "attack_warezclient     -0.012356   -0.000336        -0.007123   \n",
       "attack_warezmaster     -0.001846   -0.000050        -0.001064   \n",
       "\n",
       "                    attack_warezclient  attack_warezmaster  \n",
       "duration                      0.037013           -0.001571  \n",
       "src_bytes                     0.047995           -0.002012  \n",
       "dst_bytes                    -0.011541            0.064962  \n",
       "hot                           0.270177            0.003599  \n",
       "logged_in                     0.104233           -0.007621  \n",
       "...                                ...                 ...  \n",
       "attack_smurf                 -0.012356           -0.001846  \n",
       "attack_spy                   -0.000336           -0.000050  \n",
       "attack_teardrop              -0.007123           -0.001064  \n",
       "attack_warezclient            1.000000           -0.001063  \n",
       "attack_warezmaster           -0.001063            1.000000  \n",
       "\n",
       "[124 rows x 124 columns]"
      ]
     },
     "execution_count": 255,
     "metadata": {},
     "output_type": "execute_result"
    }
   ],
   "source": [
    "# correlation matrix (ranges from 1 to -1)\n",
    "corrm=train_new.corr()\n",
    "corrm"
   ]
  },
  {
   "cell_type": "code",
   "execution_count": 256,
   "metadata": {},
   "outputs": [],
   "source": [
    "corrm.to_csv('corrm.csv')"
   ]
  },
  {
   "cell_type": "code",
   "execution_count": 67,
   "metadata": {},
   "outputs": [
    {
     "data": {
      "text/plain": [
       "<AxesSubplot:>"
      ]
     },
     "execution_count": 67,
     "metadata": {},
     "output_type": "execute_result"
    },
    {
     "data": {
      "image/png": "[encoded data removed]",
      "text/plain": [
       "<Figure size 432x288 with 2 Axes>"
      ]
     },
     "metadata": {
      "needs_background": "light"
     },
     "output_type": "display_data"
    }
   ],
   "source": [
    "# visualize correlation matrix in Seaborn using a heatmap\n",
    "sns.heatmap(corrm)"
   ]
  },
  {
   "cell_type": "markdown",
   "metadata": {},
   "source": [
    "#### Dropping columns based on data audit report\n",
    "        - Based on low variance (near zero variance)\n",
    "        - High missings (>25% missings)\n",
    "        - High correlations between two numerical variables"
   ]
  },
  {
   "cell_type": "code",
   "execution_count": 68,
   "metadata": {},
   "outputs": [],
   "source": [
    "train_new.drop(columns=['land','wrong_fragment','urgent','num_failed_logins',\"root_shell\",\"su_attempted\",\"num_root\",\n",
    "                        \"num_file_creations\",\"num_shells\",\"num_access_files\",\"num_outbound_cmds\",\"is_host_login\",\"is_guest_login\",\n",
    "                        'dst_host_rerror_rate','dst_host_serror_rate','dst_host_srv_rerror_rate','dst_host_srv_serror_rate',\n",
    "                        'num_root','num_outbound_cmds','srv_rerror_rate','srv_serror_rate'], axis=1, inplace=True)"
   ]
  },
  {
   "cell_type": "code",
   "execution_count": 69,
   "metadata": {},
   "outputs": [
    {
     "data": {
      "text/plain": [
       "<AxesSubplot:>"
      ]
     },
     "execution_count": 69,
     "metadata": {},
     "output_type": "execute_result"
    },
    {
     "data": {
      "image/png": "[encoded data removed]",
      "text/plain": [
       "<Figure size 432x288 with 2 Axes>"
      ]
     },
     "metadata": {
      "needs_background": "light"
     },
     "output_type": "display_data"
    }
   ],
   "source": [
    "sns.heatmap(train_new.corr())"
   ]
  },
  {
   "cell_type": "markdown",
   "metadata": {},
   "source": [
    "#### Variable reduction using Select K-Best technique"
   ]
  },
  {
   "cell_type": "code",
   "execution_count": 70,
   "metadata": {},
   "outputs": [
    {
     "data": {
      "text/html": [
       "<div>\n",
       "<style scoped>\n",
       "    .dataframe tbody tr th:only-of-type {\n",
       "        vertical-align: middle;\n",
       "    }\n",
       "\n",
       "    .dataframe tbody tr th {\n",
       "        vertical-align: top;\n",
       "    }\n",
       "\n",
       "    .dataframe thead th {\n",
       "        text-align: right;\n",
       "    }\n",
       "</style>\n",
       "<table border=\"1\" class=\"dataframe\">\n",
       "  <thead>\n",
       "    <tr style=\"text-align: right;\">\n",
       "      <th></th>\n",
       "      <th>duration</th>\n",
       "      <th>src_bytes</th>\n",
       "      <th>dst_bytes</th>\n",
       "      <th>hot</th>\n",
       "      <th>logged_in</th>\n",
       "      <th>num_compromised</th>\n",
       "      <th>count</th>\n",
       "      <th>srv_count</th>\n",
       "      <th>serror_rate</th>\n",
       "      <th>rerror_rate</th>\n",
       "      <th>...</th>\n",
       "      <th>attack_phf</th>\n",
       "      <th>attack_pod</th>\n",
       "      <th>attack_portsweep</th>\n",
       "      <th>attack_rootkit</th>\n",
       "      <th>attack_satan</th>\n",
       "      <th>attack_smurf</th>\n",
       "      <th>attack_spy</th>\n",
       "      <th>attack_teardrop</th>\n",
       "      <th>attack_warezclient</th>\n",
       "      <th>attack_warezmaster</th>\n",
       "    </tr>\n",
       "  </thead>\n",
       "  <tbody>\n",
       "    <tr>\n",
       "      <th>0</th>\n",
       "      <td>0.0</td>\n",
       "      <td>146.0</td>\n",
       "      <td>0.0</td>\n",
       "      <td>0.0</td>\n",
       "      <td>0</td>\n",
       "      <td>0.0</td>\n",
       "      <td>13.0</td>\n",
       "      <td>1.0</td>\n",
       "      <td>0.0</td>\n",
       "      <td>0.0</td>\n",
       "      <td>...</td>\n",
       "      <td>0</td>\n",
       "      <td>0</td>\n",
       "      <td>0</td>\n",
       "      <td>0</td>\n",
       "      <td>0</td>\n",
       "      <td>0</td>\n",
       "      <td>0</td>\n",
       "      <td>0</td>\n",
       "      <td>0</td>\n",
       "      <td>0</td>\n",
       "    </tr>\n",
       "    <tr>\n",
       "      <th>1</th>\n",
       "      <td>0.0</td>\n",
       "      <td>0.0</td>\n",
       "      <td>0.0</td>\n",
       "      <td>0.0</td>\n",
       "      <td>0</td>\n",
       "      <td>0.0</td>\n",
       "      <td>123.0</td>\n",
       "      <td>6.0</td>\n",
       "      <td>1.0</td>\n",
       "      <td>0.0</td>\n",
       "      <td>...</td>\n",
       "      <td>0</td>\n",
       "      <td>0</td>\n",
       "      <td>0</td>\n",
       "      <td>0</td>\n",
       "      <td>0</td>\n",
       "      <td>0</td>\n",
       "      <td>0</td>\n",
       "      <td>0</td>\n",
       "      <td>0</td>\n",
       "      <td>0</td>\n",
       "    </tr>\n",
       "    <tr>\n",
       "      <th>2</th>\n",
       "      <td>0.0</td>\n",
       "      <td>232.0</td>\n",
       "      <td>8153.0</td>\n",
       "      <td>0.0</td>\n",
       "      <td>1</td>\n",
       "      <td>0.0</td>\n",
       "      <td>5.0</td>\n",
       "      <td>5.0</td>\n",
       "      <td>0.2</td>\n",
       "      <td>0.0</td>\n",
       "      <td>...</td>\n",
       "      <td>0</td>\n",
       "      <td>0</td>\n",
       "      <td>0</td>\n",
       "      <td>0</td>\n",
       "      <td>0</td>\n",
       "      <td>0</td>\n",
       "      <td>0</td>\n",
       "      <td>0</td>\n",
       "      <td>0</td>\n",
       "      <td>0</td>\n",
       "    </tr>\n",
       "    <tr>\n",
       "      <th>3</th>\n",
       "      <td>0.0</td>\n",
       "      <td>199.0</td>\n",
       "      <td>420.0</td>\n",
       "      <td>0.0</td>\n",
       "      <td>1</td>\n",
       "      <td>0.0</td>\n",
       "      <td>30.0</td>\n",
       "      <td>32.0</td>\n",
       "      <td>0.0</td>\n",
       "      <td>0.0</td>\n",
       "      <td>...</td>\n",
       "      <td>0</td>\n",
       "      <td>0</td>\n",
       "      <td>0</td>\n",
       "      <td>0</td>\n",
       "      <td>0</td>\n",
       "      <td>0</td>\n",
       "      <td>0</td>\n",
       "      <td>0</td>\n",
       "      <td>0</td>\n",
       "      <td>0</td>\n",
       "    </tr>\n",
       "    <tr>\n",
       "      <th>4</th>\n",
       "      <td>0.0</td>\n",
       "      <td>0.0</td>\n",
       "      <td>0.0</td>\n",
       "      <td>0.0</td>\n",
       "      <td>0</td>\n",
       "      <td>0.0</td>\n",
       "      <td>121.0</td>\n",
       "      <td>19.0</td>\n",
       "      <td>0.0</td>\n",
       "      <td>1.0</td>\n",
       "      <td>...</td>\n",
       "      <td>0</td>\n",
       "      <td>0</td>\n",
       "      <td>0</td>\n",
       "      <td>0</td>\n",
       "      <td>0</td>\n",
       "      <td>0</td>\n",
       "      <td>0</td>\n",
       "      <td>0</td>\n",
       "      <td>0</td>\n",
       "      <td>0</td>\n",
       "    </tr>\n",
       "  </tbody>\n",
       "</table>\n",
       "<p>5 rows × 124 columns</p>\n",
       "</div>"
      ],
      "text/plain": [
       "   duration  src_bytes  dst_bytes  hot  logged_in  num_compromised  count  \\\n",
       "0       0.0      146.0        0.0  0.0          0              0.0   13.0   \n",
       "1       0.0        0.0        0.0  0.0          0              0.0  123.0   \n",
       "2       0.0      232.0     8153.0  0.0          1              0.0    5.0   \n",
       "3       0.0      199.0      420.0  0.0          1              0.0   30.0   \n",
       "4       0.0        0.0        0.0  0.0          0              0.0  121.0   \n",
       "\n",
       "   srv_count  serror_rate  rerror_rate  ...  attack_phf  attack_pod  \\\n",
       "0        1.0          0.0          0.0  ...           0           0   \n",
       "1        6.0          1.0          0.0  ...           0           0   \n",
       "2        5.0          0.2          0.0  ...           0           0   \n",
       "3       32.0          0.0          0.0  ...           0           0   \n",
       "4       19.0          0.0          1.0  ...           0           0   \n",
       "\n",
       "   attack_portsweep  attack_rootkit  attack_satan  attack_smurf  attack_spy  \\\n",
       "0                 0               0             0             0           0   \n",
       "1                 0               0             0             0           0   \n",
       "2                 0               0             0             0           0   \n",
       "3                 0               0             0             0           0   \n",
       "4                 0               0             0             0           0   \n",
       "\n",
       "   attack_teardrop  attack_warezclient  attack_warezmaster  \n",
       "0                0                   0                   0  \n",
       "1                0                   0                   0  \n",
       "2                0                   0                   0  \n",
       "3                0                   0                   0  \n",
       "4                0                   0                   0  \n",
       "\n",
       "[5 rows x 124 columns]"
      ]
     },
     "execution_count": 70,
     "metadata": {},
     "output_type": "execute_result"
    }
   ],
   "source": [
    "train_new.head()"
   ]
  },
  {
   "cell_type": "code",
   "execution_count": 71,
   "metadata": {},
   "outputs": [],
   "source": [
    "X = train_new[train_new.columns.difference(['attack_class'])]\n"
   ]
  },
  {
   "cell_type": "code",
   "execution_count": 72,
   "metadata": {},
   "outputs": [
    {
     "name": "stderr",
     "output_type": "stream",
     "text": [
      "C:\\Users\\Vicky\\anaconda31\\lib\\site-packages\\sklearn\\feature_selection\\_univariate_selection.py:116: RuntimeWarning: divide by zero encountered in true_divide\n",
      "  f = msb / msw\n"
     ]
    }
   ],
   "source": [
    "X_new = SelectKBest(f_classif, k=15).fit(X, train_new['attack_class'] )"
   ]
  },
  {
   "cell_type": "code",
   "execution_count": 73,
   "metadata": {},
   "outputs": [
    {
     "data": {
      "text/plain": [
       "array([False, False, False, False, False, False, False, False,  True,\n",
       "       False,  True, False, False, False, False, False,  True, False,\n",
       "       False, False, False, False,  True, False, False, False,  True,\n",
       "        True,  True,  True, False, False, False, False, False, False,\n",
       "        True, False, False, False,  True, False, False,  True,  True,\n",
       "       False, False, False, False,  True,  True, False, False, False,\n",
       "       False, False, False, False, False, False, False, False, False,\n",
       "       False, False, False, False, False, False, False, False, False,\n",
       "       False, False,  True, False, False, False, False, False, False,\n",
       "       False, False, False, False, False, False, False, False, False,\n",
       "       False, False, False, False, False, False, False, False, False,\n",
       "       False, False, False, False, False, False, False, False, False,\n",
       "       False, False, False, False, False, False, False, False, False,\n",
       "       False, False, False, False, False, False])"
      ]
     },
     "execution_count": 73,
     "metadata": {},
     "output_type": "execute_result"
    }
   ],
   "source": [
    "X_new.get_support()"
   ]
  },
  {
   "cell_type": "code",
   "execution_count": 74,
   "metadata": {},
   "outputs": [
    {
     "data": {
      "text/plain": [
       "array([1.34064116e+02, 3.56884766e+01, 2.37277235e+02, 4.90832543e+01,\n",
       "       2.23882592e+04, 1.56916475e+01, 4.01526990e+01, 3.12249574e+01,\n",
       "       3.49978365e+05, 7.54266680e+03,            inf, 1.33779097e+01,\n",
       "       1.78386176e+01, 1.75924658e+02, 1.69864681e+04, 4.46176249e+01,\n",
       "       2.26844805e+04, 2.44673212e+03, 8.91790430e+00, 7.92699452e+02,\n",
       "       4.26678275e+03, 8.93056079e+01, 4.22698233e+04, 7.97231867e+03,\n",
       "       5.76300314e+03, 1.85803691e+04, 2.24895262e+04, 2.75241067e+04,\n",
       "       6.70321129e+04, 6.92428333e+04, 1.83320102e+04, 2.42923569e+03,\n",
       "       2.92634050e+03, 6.10523702e+02, 4.62953538e+02, 1.01592004e+04,\n",
       "       1.10260381e+05, 1.52322078e+02, 4.14807873e+01, 1.57821049e+01,\n",
       "       1.10776633e+05, 1.21395725e+03, 1.29054963e+02, 3.23685410e+04,\n",
       "       5.75770350e+04, 2.97251093e+02, 5.23057641e+03, 3.77796192e+03,\n",
       "       8.06829774e+03, 1.33879527e+05, 1.02833658e+05, 2.34824947e+01,\n",
       "       7.35338278e+02, 8.91790430e+00, 2.91628764e+02, 5.98590866e+02,\n",
       "       6.28053340e+02, 4.48783675e+02, 4.33959664e+02, 4.12960498e+02,\n",
       "       4.27967179e+02, 3.47950926e+02, 4.52628429e+03, 3.36490812e+02,\n",
       "       2.22334357e+04, 2.20724409e+03, 4.08267939e+02, 3.93360148e+02,\n",
       "       3.47477829e+02, 1.01297525e+02, 6.08963604e+02, 3.77987873e+02,\n",
       "       8.91790430e+00, 3.71040488e+02, 2.92310284e+04, 4.45860111e+00,\n",
       "       4.48276944e+02, 8.91790430e+00, 5.06913070e+02, 5.75394672e+02,\n",
       "       3.59586696e+02, 2.43908769e+02, 3.41788718e+02, 3.65682203e+02,\n",
       "       3.53517848e+02, 3.29957961e+02, 3.40390392e+02, 3.22583996e+02,\n",
       "       2.76383297e+02, 2.84848566e+02, 2.76319236e+02, 5.34848827e+02,\n",
       "       2.22916655e+02, 7.33141203e+01, 2.75955376e+03, 2.23000281e+01,\n",
       "       5.12950447e+01, 1.61987407e+01, 4.54807509e+01, 1.60466130e+04,\n",
       "       3.48285287e+00, 4.49521588e+01, 4.94904334e+01, 3.19113531e+01,\n",
       "       2.97348500e+03, 1.85205765e+02, 2.03894116e+02, 3.03861814e+02,\n",
       "       4.38048434e+02, 3.76527682e+02, 1.97728516e+02, 1.30597285e+00,\n",
       "       4.65749048e-01, 3.26805585e+02, 4.35369540e+00, 2.58820912e+02,\n",
       "       6.61442962e+02, 5.74611246e+02, 5.15422030e+02, 5.53478386e+02,\n",
       "       8.83174649e+01, 4.72390790e+02, 7.02273907e+03])"
      ]
     },
     "execution_count": 74,
     "metadata": {},
     "output_type": "execute_result"
    }
   ],
   "source": [
    "X_new.scores_"
   ]
  },
  {
   "cell_type": "code",
   "execution_count": 75,
   "metadata": {},
   "outputs": [
    {
     "data": {
      "text/plain": [
       "Index(['attack_neptune', 'attack_normal', 'attack_satan', 'count',\n",
       "       'dst_host_diff_srv_rate', 'dst_host_same_src_port_rate',\n",
       "       'dst_host_same_srv_rate', 'dst_host_srv_count', 'flag_S0', 'flag_SF',\n",
       "       'last_flag', 'logged_in', 'same_srv_rate', 'serror_rate',\n",
       "       'service_http'],\n",
       "      dtype='object')"
      ]
     },
     "execution_count": 75,
     "metadata": {},
     "output_type": "execute_result"
    }
   ],
   "source": [
    "# capturing the important variables\n",
    "KBest_features=X.columns[X_new.get_support()]\n",
    "KBest_features"
   ]
  },
  {
   "cell_type": "markdown",
   "metadata": {},
   "source": [
    "### Final list of variable selected for the model building using Select KBest"
   ]
  },
  {
   "cell_type": "code",
   "execution_count": 76,
   "metadata": {},
   "outputs": [
    {
     "name": "stdout",
     "output_type": "stream",
     "text": [
      "Index(['attack_neptune', 'attack_normal', 'attack_satan', 'count',\n",
      "       'dst_host_diff_srv_rate', 'dst_host_same_src_port_rate',\n",
      "       'dst_host_same_srv_rate', 'dst_host_srv_count', 'flag_S0', 'flag_SF',\n",
      "       'last_flag', 'logged_in', 'same_srv_rate', 'serror_rate',\n",
      "       'service_http'],\n",
      "      dtype='object')\n"
     ]
    }
   ],
   "source": [
    "print(KBest_features)"
   ]
  },
  {
   "cell_type": "markdown",
   "metadata": {},
   "source": [
    "# All Columns"
   ]
  },
  {
   "cell_type": "code",
   "execution_count": 77,
   "metadata": {},
   "outputs": [
    {
     "name": "stdout",
     "output_type": "stream",
     "text": [
      "attack_buffer_overflow+attack_ftp_write+attack_guess_passwd+attack_imap+attack_ipsweep+attack_land+attack_loadmodule+attack_multihop+attack_neptune+attack_nmap+attack_normal+attack_perl+attack_phf+attack_pod+attack_portsweep+attack_rootkit+attack_satan+attack_smurf+attack_spy+attack_teardrop+attack_warezclient+attack_warezmaster+count+diff_srv_rate+dst_bytes+dst_host_count+dst_host_diff_srv_rate+dst_host_same_src_port_rate+dst_host_same_srv_rate+dst_host_srv_count+dst_host_srv_diff_host_rate+duration+flag_REJ+flag_RSTO+flag_RSTOS0+flag_RSTR+flag_S0+flag_S1+flag_S2+flag_S3+flag_SF+flag_SH+hot+last_flag+logged_in+num_compromised+protocol_type_tcp+protocol_type_udp+rerror_rate+same_srv_rate+serror_rate+service_X11+service_Z39_50+service_aol+service_auth+service_bgp+service_courier+service_csnet_ns+service_ctf+service_daytime+service_discard+service_domain+service_domain_u+service_echo+service_eco_i+service_ecr_i+service_efs+service_exec+service_finger+service_ftp+service_ftp_data+service_gopher+service_harvest+service_hostnames+service_http+service_http_2784+service_http_443+service_http_8001+service_imap4+service_iso_tsap+service_klogin+service_kshell+service_ldap+service_link+service_login+service_mtp+service_name+service_netbios_dgm+service_netbios_ns+service_netbios_ssn+service_netstat+service_nnsp+service_nntp+service_ntp_u+service_other+service_pm_dump+service_pop_2+service_pop_3+service_printer+service_private+service_red_i+service_remote_job+service_rje+service_shell+service_smtp+service_sql_net+service_ssh+service_sunrpc+service_supdup+service_systat+service_telnet+service_tftp_u+service_tim_i+service_time+service_urh_i+service_urp_i+service_uucp+service_uucp_path+service_vmnet+service_whois+src_bytes+srv_count+srv_diff_host_rate\n"
     ]
    }
   ],
   "source": [
    "all_columns = \"+\".join(train_new.columns.difference( ['attack_class'] ))\n",
    "\n",
    "print (all_columns)"
   ]
  },
  {
   "cell_type": "code",
   "execution_count": 78,
   "metadata": {},
   "outputs": [],
   "source": [
    "train=train_new\n",
    "test=test_new"
   ]
  },
  {
   "cell_type": "code",
   "execution_count": 79,
   "metadata": {},
   "outputs": [],
   "source": [
    "# import the packages for vif\n",
    "#from statsmodels.stats.outliers_influence import variance_inflation_factor\n",
    "#from patsy import dmatrices\n",
    "# run the dmatrices\n",
    "#a, b = dmatrices(formula_like='''attack_class ~ count+diff_srv_rate+dst_bytes+dst_host_count+\n",
    "#                 dst_host_diff_srv_rate+dst_host_same_src_port_rate+\n",
    "#                 dst_host_srv_diff_host_rate+duration+\n",
    "#                 hot+last_flag+logged_in+num_compromised+\n",
    "#                srv_count+srv_diff_host_rate''', data =train_new, return_type = 'dataframe')\n",
    "\n",
    "# get the VIF\n",
    "#vif = pd.DataFrame()\n",
    "#vif[\"VIF Factor\"] = [variance_inflation_factor(b.values, i) for i in range(b.shape[1])]\n",
    "#vif[\"features\"] = b.columns\n",
    "\n",
    "#vif"
   ]
  },
  {
   "cell_type": "markdown",
   "metadata": {},
   "source": [
    "## Model Building"
   ]
  },
  {
   "cell_type": "markdown",
   "metadata": {},
   "source": [
    "### Finalise the train and test datasets for model building "
   ]
  },
  {
   "cell_type": "code",
   "execution_count": 80,
   "metadata": {},
   "outputs": [],
   "source": [
    "top_features=['attack_neptune','attack_normal','attack_satan','count','dst_host_diff_srv_rate','dst_host_same_src_port_rate','dst_host_same_srv_rate','dst_host_srv_count','flag_S0','flag_SF','last_flag','logged_in','same_srv_rate','serror_rate','service_http']\n",
    "X_train = train[top_features]\n",
    "y_train = train['attack_class']\n",
    "X_test = test[top_features]\n",
    "y_test = test['attack_class']"
   ]
  },
  {
   "cell_type": "markdown",
   "metadata": {},
   "source": [
    "### Building logistic Regression"
   ]
  },
  {
   "cell_type": "markdown",
   "metadata": {},
   "source": [
    "#### 1) LogisticRegression"
   ]
  },
  {
   "cell_type": "code",
   "execution_count": 81,
   "metadata": {},
   "outputs": [],
   "source": [
    "# Building Models\n",
    "from sklearn.linear_model import LogisticRegression"
   ]
  },
  {
   "cell_type": "code",
   "execution_count": 82,
   "metadata": {},
   "outputs": [
    {
     "name": "stderr",
     "output_type": "stream",
     "text": [
      "C:\\Users\\Vicky\\anaconda31\\lib\\site-packages\\sklearn\\linear_model\\_logistic.py:763: ConvergenceWarning: lbfgs failed to converge (status=1):\n",
      "STOP: TOTAL NO. of ITERATIONS REACHED LIMIT.\n",
      "\n",
      "Increase the number of iterations (max_iter) or scale the data as shown in:\n",
      "    https://scikit-learn.org/stable/modules/preprocessing.html\n",
      "Please also refer to the documentation for alternative solver options:\n",
      "    https://scikit-learn.org/stable/modules/linear_model.html#logistic-regression\n",
      "  n_iter_i = _check_optimize_result(\n"
     ]
    },
    {
     "data": {
      "text/plain": [
       "LogisticRegression(multi_class='multinomial', random_state=0)"
      ]
     },
     "execution_count": 82,
     "metadata": {},
     "output_type": "execute_result"
    }
   ],
   "source": [
    "lr_clf = LogisticRegression(random_state=0, solver='lbfgs',multi_class='multinomial')\n",
    "lr_clf.fit(X_train, y_train)"
   ]
  },
  {
   "cell_type": "code",
   "execution_count": 83,
   "metadata": {},
   "outputs": [
    {
     "data": {
      "text/plain": [
       "array([1., 0., 2., ..., 1., 0., 2.])"
      ]
     },
     "execution_count": 83,
     "metadata": {},
     "output_type": "execute_result"
    }
   ],
   "source": [
    "y_pred=lr_clf.predict(X_test)  # Prediction on Xtrain data \n",
    "y_pred"
   ]
  },
  {
   "cell_type": "code",
   "execution_count": 84,
   "metadata": {},
   "outputs": [
    {
     "data": {
      "text/plain": [
       "[('attack_neptune', -2.2134185067217276),\n",
       " ('attack_normal', 9.148227101310443),\n",
       " ('attack_satan', -0.7375420883978673),\n",
       " ('count', -0.0023469945916156807),\n",
       " ('dst_host_diff_srv_rate', 0.04060581931828634),\n",
       " ('dst_host_same_src_port_rate', -1.800155142441716),\n",
       " ('dst_host_same_srv_rate', -1.039168481863386),\n",
       " ('dst_host_srv_count', 0.0035638591294112486),\n",
       " ('flag_S0', -1.381863460045954),\n",
       " ('flag_SF', -0.042670176823752605),\n",
       " ('last_flag', 0.05942107697297808),\n",
       " ('logged_in', 0.32412038402496623),\n",
       " ('same_srv_rate', -0.5691912805314749),\n",
       " ('serror_rate', -1.4869142978394756),\n",
       " ('service_http', 0.12599953167355837)]"
      ]
     },
     "execution_count": 84,
     "metadata": {},
     "output_type": "execute_result"
    }
   ],
   "source": [
    "list( zip( top_features, lr_clf.coef_[0] ) )"
   ]
  },
  {
   "cell_type": "code",
   "execution_count": 85,
   "metadata": {},
   "outputs": [
    {
     "data": {
      "text/plain": [
       "array([-2.07572165,  0.81995272,  1.25576893])"
      ]
     },
     "execution_count": 85,
     "metadata": {},
     "output_type": "execute_result"
    }
   ],
   "source": [
    "lr_clf.intercept_"
   ]
  },
  {
   "cell_type": "code",
   "execution_count": 86,
   "metadata": {},
   "outputs": [
    {
     "data": {
      "text/plain": [
       "0.9920617280030483"
      ]
     },
     "execution_count": 86,
     "metadata": {},
     "output_type": "execute_result"
    }
   ],
   "source": [
    "lr_clf.score(X_train,y_train)"
   ]
  },
  {
   "cell_type": "code",
   "execution_count": 87,
   "metadata": {},
   "outputs": [
    {
     "data": {
      "text/plain": [
       "0.8377323337621435"
      ]
     },
     "execution_count": 87,
     "metadata": {},
     "output_type": "execute_result"
    }
   ],
   "source": [
    "from sklearn.metrics import accuracy_score\n",
    "accuracy_score(y_test, y_pred)"
   ]
  },
  {
   "cell_type": "markdown",
   "metadata": {},
   "source": [
    "#### 2) RidgeClassifier"
   ]
  },
  {
   "cell_type": "code",
   "execution_count": 88,
   "metadata": {},
   "outputs": [],
   "source": [
    "from sklearn.linear_model import RidgeClassifier"
   ]
  },
  {
   "cell_type": "code",
   "execution_count": 89,
   "metadata": {},
   "outputs": [],
   "source": [
    "rc_clf = RidgeClassifier().fit(X_train, y_train)"
   ]
  },
  {
   "cell_type": "code",
   "execution_count": 90,
   "metadata": {},
   "outputs": [
    {
     "data": {
      "text/plain": [
       "array([1., 0., 2., ..., 2., 0., 2.])"
      ]
     },
     "execution_count": 90,
     "metadata": {},
     "output_type": "execute_result"
    }
   ],
   "source": [
    "y_pred=rc_clf.predict(X_test)\n",
    "y_pred"
   ]
  },
  {
   "cell_type": "code",
   "execution_count": 91,
   "metadata": {},
   "outputs": [
    {
     "data": {
      "text/plain": [
       "0.9920617280030483"
      ]
     },
     "execution_count": 91,
     "metadata": {},
     "output_type": "execute_result"
    }
   ],
   "source": [
    "lr_clf.score(X_train,y_train)"
   ]
  },
  {
   "cell_type": "code",
   "execution_count": 92,
   "metadata": {},
   "outputs": [
    {
     "data": {
      "text/plain": [
       "0.9920617280030483"
      ]
     },
     "execution_count": 92,
     "metadata": {},
     "output_type": "execute_result"
    }
   ],
   "source": [
    "lr_clf.score(X_train,y_train)"
   ]
  },
  {
   "cell_type": "code",
   "execution_count": 93,
   "metadata": {},
   "outputs": [
    {
     "data": {
      "text/plain": [
       "0.7605021514439072"
      ]
     },
     "execution_count": 93,
     "metadata": {},
     "output_type": "execute_result"
    }
   ],
   "source": [
    "from sklearn.metrics import accuracy_score\n",
    "accuracy_score(y_test, y_pred)"
   ]
  },
  {
   "cell_type": "markdown",
   "metadata": {},
   "source": [
    "### K-Nearest Neighbors"
   ]
  },
  {
   "cell_type": "markdown",
   "metadata": {},
   "source": [
    "#### 1) KNeighborsClassifier"
   ]
  },
  {
   "cell_type": "code",
   "execution_count": 94,
   "metadata": {},
   "outputs": [],
   "source": [
    "from sklearn.neighbors import KNeighborsClassifier"
   ]
  },
  {
   "cell_type": "code",
   "execution_count": 95,
   "metadata": {},
   "outputs": [
    {
     "data": {
      "text/plain": [
       "KNeighborsClassifier(n_neighbors=3)"
      ]
     },
     "execution_count": 95,
     "metadata": {},
     "output_type": "execute_result"
    }
   ],
   "source": [
    "k_neigh = KNeighborsClassifier(n_neighbors=3)\n",
    "k_neigh.fit(X_train, y_train)"
   ]
  },
  {
   "cell_type": "code",
   "execution_count": 96,
   "metadata": {},
   "outputs": [
    {
     "data": {
      "text/plain": [
       "array([1., 0., 2., ..., 1., 0., 0.])"
      ]
     },
     "execution_count": 96,
     "metadata": {},
     "output_type": "execute_result"
    }
   ],
   "source": [
    "y_pred=k_neigh.predict(X_test)\n",
    "y_pred"
   ]
  },
  {
   "cell_type": "code",
   "execution_count": 97,
   "metadata": {},
   "outputs": [
    {
     "data": {
      "text/plain": [
       "0.7538482012154549"
      ]
     },
     "execution_count": 97,
     "metadata": {},
     "output_type": "execute_result"
    }
   ],
   "source": [
    "from sklearn.metrics import accuracy_score\n",
    "accuracy_score(y_test, y_pred)"
   ]
  },
  {
   "cell_type": "markdown",
   "metadata": {},
   "source": [
    "#### 3) NearestCentroid"
   ]
  },
  {
   "cell_type": "code",
   "execution_count": 98,
   "metadata": {},
   "outputs": [],
   "source": [
    "#from sklearn.neighbors.nearest_centroid import NearestCentroid"
   ]
  },
  {
   "cell_type": "code",
   "execution_count": 99,
   "metadata": {},
   "outputs": [],
   "source": [
    "#nc = NearestCentroid()\n",
    "#nc.fit(X_train, y_train)"
   ]
  },
  {
   "cell_type": "code",
   "execution_count": 100,
   "metadata": {},
   "outputs": [],
   "source": [
    "#y_pred=nc.predict(X_test)\n",
    "#y_pred"
   ]
  },
  {
   "cell_type": "code",
   "execution_count": 101,
   "metadata": {},
   "outputs": [],
   "source": [
    "#from sklearn.metrics import accuracy_score\n",
    "#accuracy_score(y_test, y_pred)"
   ]
  },
  {
   "cell_type": "markdown",
   "metadata": {},
   "source": [
    "### Discriminant Analysis"
   ]
  },
  {
   "cell_type": "markdown",
   "metadata": {},
   "source": [
    "#### 1) LinearDiscriminantAnalysis"
   ]
  },
  {
   "cell_type": "code",
   "execution_count": 102,
   "metadata": {},
   "outputs": [],
   "source": [
    "from sklearn.discriminant_analysis import LinearDiscriminantAnalysis"
   ]
  },
  {
   "cell_type": "code",
   "execution_count": 103,
   "metadata": {},
   "outputs": [
    {
     "data": {
      "text/plain": [
       "LinearDiscriminantAnalysis()"
      ]
     },
     "execution_count": 103,
     "metadata": {},
     "output_type": "execute_result"
    }
   ],
   "source": [
    "lda = LinearDiscriminantAnalysis()\n",
    "lda.fit(X_train, y_train) "
   ]
  },
  {
   "cell_type": "code",
   "execution_count": 104,
   "metadata": {},
   "outputs": [
    {
     "data": {
      "text/plain": [
       "array([1., 0., 2., ..., 0., 0., 2.])"
      ]
     },
     "execution_count": 104,
     "metadata": {},
     "output_type": "execute_result"
    }
   ],
   "source": [
    "y_pred=lda.predict(X_test)\n",
    "y_pred"
   ]
  },
  {
   "cell_type": "code",
   "execution_count": 105,
   "metadata": {},
   "outputs": [
    {
     "data": {
      "text/plain": [
       "0.7071374706117198"
      ]
     },
     "execution_count": 105,
     "metadata": {},
     "output_type": "execute_result"
    }
   ],
   "source": [
    "from sklearn.metrics import accuracy_score\n",
    "accuracy_score(y_test, y_pred)"
   ]
  },
  {
   "cell_type": "markdown",
   "metadata": {},
   "source": [
    "#### 2) QuadraticDiscriminantAnalysis"
   ]
  },
  {
   "cell_type": "code",
   "execution_count": 106,
   "metadata": {},
   "outputs": [],
   "source": [
    "from sklearn.discriminant_analysis import QuadraticDiscriminantAnalysis"
   ]
  },
  {
   "cell_type": "code",
   "execution_count": 107,
   "metadata": {},
   "outputs": [
    {
     "name": "stderr",
     "output_type": "stream",
     "text": [
      "C:\\Users\\Vicky\\anaconda31\\lib\\site-packages\\sklearn\\discriminant_analysis.py:808: UserWarning: Variables are collinear\n",
      "  warnings.warn(\"Variables are collinear\")\n"
     ]
    },
    {
     "data": {
      "text/plain": [
       "QuadraticDiscriminantAnalysis()"
      ]
     },
     "execution_count": 107,
     "metadata": {},
     "output_type": "execute_result"
    }
   ],
   "source": [
    "qda = QuadraticDiscriminantAnalysis()\n",
    "qda.fit(X_train, y_train)"
   ]
  },
  {
   "cell_type": "code",
   "execution_count": 108,
   "metadata": {},
   "outputs": [
    {
     "name": "stderr",
     "output_type": "stream",
     "text": [
      "C:\\Users\\Vicky\\anaconda31\\lib\\site-packages\\sklearn\\discriminant_analysis.py:833: RuntimeWarning: divide by zero encountered in power\n",
      "  X2 = np.dot(Xm, R * (S ** (-0.5)))\n",
      "C:\\Users\\Vicky\\anaconda31\\lib\\site-packages\\sklearn\\discriminant_analysis.py:833: RuntimeWarning: invalid value encountered in multiply\n",
      "  X2 = np.dot(Xm, R * (S ** (-0.5)))\n",
      "C:\\Users\\Vicky\\anaconda31\\lib\\site-packages\\sklearn\\discriminant_analysis.py:836: RuntimeWarning: divide by zero encountered in log\n",
      "  u = np.asarray([np.sum(np.log(s)) for s in self.scalings_])\n"
     ]
    },
    {
     "data": {
      "text/plain": [
       "array([0., 0., 0., ..., 0., 0., 0.])"
      ]
     },
     "execution_count": 108,
     "metadata": {},
     "output_type": "execute_result"
    }
   ],
   "source": [
    "y_pred=qda.predict(X_test)\n",
    "y_pred"
   ]
  },
  {
   "cell_type": "code",
   "execution_count": 109,
   "metadata": {},
   "outputs": [
    {
     "data": {
      "text/plain": [
       "0.4307767377900013"
      ]
     },
     "execution_count": 109,
     "metadata": {},
     "output_type": "execute_result"
    }
   ],
   "source": [
    "from sklearn.metrics import accuracy_score\n",
    "accuracy_score(y_test, y_pred)"
   ]
  },
  {
   "cell_type": "markdown",
   "metadata": {},
   "source": [
    "### Decision Trees"
   ]
  },
  {
   "cell_type": "code",
   "execution_count": 110,
   "metadata": {},
   "outputs": [],
   "source": [
    "from sklearn.model_selection import cross_val_score\n",
    "from sklearn import metrics\n",
    "import sklearn.tree as dt\n",
    "from sklearn.tree import DecisionTreeClassifier, DecisionTreeRegressor, export_graphviz\n",
    "from sklearn.model_selection import GridSearchCV"
   ]
  },
  {
   "cell_type": "code",
   "execution_count": 111,
   "metadata": {},
   "outputs": [],
   "source": [
    "clf_tree = DecisionTreeClassifier( max_depth = 5)\n",
    "clf_tree=clf_tree.fit( X_train, y_train )"
   ]
  },
  {
   "cell_type": "code",
   "execution_count": 112,
   "metadata": {},
   "outputs": [
    {
     "name": "stderr",
     "output_type": "stream",
     "text": [
      "C:\\Users\\Vicky\\anaconda31\\lib\\site-packages\\sklearn\\discriminant_analysis.py:833: RuntimeWarning: divide by zero encountered in power\n",
      "  X2 = np.dot(Xm, R * (S ** (-0.5)))\n",
      "C:\\Users\\Vicky\\anaconda31\\lib\\site-packages\\sklearn\\discriminant_analysis.py:833: RuntimeWarning: invalid value encountered in multiply\n",
      "  X2 = np.dot(Xm, R * (S ** (-0.5)))\n",
      "C:\\Users\\Vicky\\anaconda31\\lib\\site-packages\\sklearn\\discriminant_analysis.py:836: RuntimeWarning: divide by zero encountered in log\n",
      "  u = np.asarray([np.sum(np.log(s)) for s in self.scalings_])\n"
     ]
    },
    {
     "data": {
      "text/plain": [
       "array([0., 0., 0., ..., 0., 0., 0.])"
      ]
     },
     "execution_count": 112,
     "metadata": {},
     "output_type": "execute_result"
    }
   ],
   "source": [
    "y_pred=qda.predict(X_test)\n",
    "y_pred"
   ]
  },
  {
   "cell_type": "code",
   "execution_count": 113,
   "metadata": {},
   "outputs": [
    {
     "data": {
      "text/plain": [
       "0.4307767377900013"
      ]
     },
     "execution_count": 113,
     "metadata": {},
     "output_type": "execute_result"
    }
   ],
   "source": [
    "from sklearn.metrics import accuracy_score\n",
    "accuracy_score(y_test, y_pred)"
   ]
  },
  {
   "cell_type": "markdown",
   "metadata": {},
   "source": [
    "#### Fine Tuning the parameters"
   ]
  },
  {
   "cell_type": "code",
   "execution_count": 114,
   "metadata": {},
   "outputs": [
    {
     "data": {
      "text/plain": [
       "(125972, 15)"
      ]
     },
     "execution_count": 114,
     "metadata": {},
     "output_type": "execute_result"
    }
   ],
   "source": [
    "X_train.shape"
   ]
  },
  {
   "cell_type": "code",
   "execution_count": 115,
   "metadata": {},
   "outputs": [
    {
     "data": {
      "text/plain": [
       "(125972,)"
      ]
     },
     "execution_count": 115,
     "metadata": {},
     "output_type": "execute_result"
    }
   ],
   "source": [
    "y_train.shape"
   ]
  },
  {
   "cell_type": "code",
   "execution_count": 116,
   "metadata": {},
   "outputs": [
    {
     "data": {
      "text/plain": [
       "(22543, 15)"
      ]
     },
     "execution_count": 116,
     "metadata": {},
     "output_type": "execute_result"
    }
   ],
   "source": [
    "X_test.shape"
   ]
  },
  {
   "cell_type": "code",
   "execution_count": 117,
   "metadata": {},
   "outputs": [
    {
     "data": {
      "text/plain": [
       "(22543,)"
      ]
     },
     "execution_count": 117,
     "metadata": {},
     "output_type": "execute_result"
    }
   ],
   "source": [
    "y_test.shape"
   ]
  },
  {
   "cell_type": "code",
   "execution_count": 118,
   "metadata": {},
   "outputs": [],
   "source": [
    "param_grid = {'max_depth': np.arange(3, 12),\n",
    "             'max_features': np.arange(3,15)}"
   ]
  },
  {
   "cell_type": "code",
   "execution_count": 119,
   "metadata": {},
   "outputs": [],
   "source": [
    "#from sklearn.model_selection import GridSearchCV"
   ]
  },
  {
   "cell_type": "code",
   "execution_count": 120,
   "metadata": {},
   "outputs": [
    {
     "name": "stdout",
     "output_type": "stream",
     "text": [
      "Fitting 5 folds for each of 108 candidates, totalling 540 fits\n"
     ]
    },
    {
     "data": {
      "text/plain": [
       "GridSearchCV(cv=5, estimator=DecisionTreeClassifier(), n_jobs=-1,\n",
       "             param_grid={'max_depth': array([ 3,  4,  5,  6,  7,  8,  9, 10, 11]),\n",
       "                         'max_features': array([ 3,  4,  5,  6,  7,  8,  9, 10, 11, 12, 13, 14])},\n",
       "             verbose=1)"
      ]
     },
     "execution_count": 120,
     "metadata": {},
     "output_type": "execute_result"
    }
   ],
   "source": [
    "tree = GridSearchCV(DecisionTreeClassifier(), param_grid, cv = 5, verbose=1,n_jobs=-1)\n",
    "tree.fit( X_train, y_train )"
   ]
  },
  {
   "cell_type": "code",
   "execution_count": 121,
   "metadata": {},
   "outputs": [
    {
     "data": {
      "text/plain": [
       "0.9992538016128009"
      ]
     },
     "execution_count": 121,
     "metadata": {},
     "output_type": "execute_result"
    }
   ],
   "source": [
    "tree.best_score_"
   ]
  },
  {
   "cell_type": "code",
   "execution_count": 122,
   "metadata": {},
   "outputs": [
    {
     "data": {
      "text/plain": [
       "DecisionTreeClassifier(max_depth=11, max_features=9)"
      ]
     },
     "execution_count": 122,
     "metadata": {},
     "output_type": "execute_result"
    }
   ],
   "source": [
    "tree.best_estimator_"
   ]
  },
  {
   "cell_type": "code",
   "execution_count": 123,
   "metadata": {},
   "outputs": [
    {
     "data": {
      "text/plain": [
       "{'max_depth': 11, 'max_features': 9}"
      ]
     },
     "execution_count": 123,
     "metadata": {},
     "output_type": "execute_result"
    }
   ],
   "source": [
    "tree.best_params_"
   ]
  },
  {
   "cell_type": "code",
   "execution_count": 124,
   "metadata": {},
   "outputs": [],
   "source": [
    "train_pred = tree.predict(X_train)"
   ]
  },
  {
   "cell_type": "code",
   "execution_count": 125,
   "metadata": {},
   "outputs": [
    {
     "name": "stdout",
     "output_type": "stream",
     "text": [
      "              precision    recall  f1-score   support\n",
      "\n",
      "         0.0       1.00      1.00      1.00     67342\n",
      "         1.0       1.00      1.00      1.00     45927\n",
      "         2.0       1.00      1.00      1.00     12703\n",
      "\n",
      "    accuracy                           1.00    125972\n",
      "   macro avg       1.00      1.00      1.00    125972\n",
      "weighted avg       1.00      1.00      1.00    125972\n",
      "\n"
     ]
    }
   ],
   "source": [
    "print(metrics.classification_report(y_train, train_pred))"
   ]
  },
  {
   "cell_type": "code",
   "execution_count": 126,
   "metadata": {},
   "outputs": [],
   "source": [
    "test_pred = tree.predict(X_test)"
   ]
  },
  {
   "cell_type": "code",
   "execution_count": 127,
   "metadata": {},
   "outputs": [
    {
     "name": "stdout",
     "output_type": "stream",
     "text": [
      "              precision    recall  f1-score   support\n",
      "\n",
      "         0.0       1.00      1.00      1.00      9711\n",
      "         1.0       0.90      0.89      0.89      7459\n",
      "         2.0       0.41      0.93      0.57      2421\n",
      "         3.0       0.00      0.00      0.00      2952\n",
      "\n",
      "    accuracy                           0.82     22543\n",
      "   macro avg       0.58      0.70      0.62     22543\n",
      "weighted avg       0.77      0.82      0.79     22543\n",
      "\n"
     ]
    },
    {
     "name": "stderr",
     "output_type": "stream",
     "text": [
      "C:\\Users\\Vicky\\anaconda31\\lib\\site-packages\\sklearn\\metrics\\_classification.py:1248: UndefinedMetricWarning: Precision and F-score are ill-defined and being set to 0.0 in labels with no predicted samples. Use `zero_division` parameter to control this behavior.\n",
      "  _warn_prf(average, modifier, msg_start, len(result))\n",
      "C:\\Users\\Vicky\\anaconda31\\lib\\site-packages\\sklearn\\metrics\\_classification.py:1248: UndefinedMetricWarning: Precision and F-score are ill-defined and being set to 0.0 in labels with no predicted samples. Use `zero_division` parameter to control this behavior.\n",
      "  _warn_prf(average, modifier, msg_start, len(result))\n",
      "C:\\Users\\Vicky\\anaconda31\\lib\\site-packages\\sklearn\\metrics\\_classification.py:1248: UndefinedMetricWarning: Precision and F-score are ill-defined and being set to 0.0 in labels with no predicted samples. Use `zero_division` parameter to control this behavior.\n",
      "  _warn_prf(average, modifier, msg_start, len(result))\n"
     ]
    }
   ],
   "source": [
    "print(metrics.classification_report(y_test, test_pred))"
   ]
  },
  {
   "cell_type": "markdown",
   "metadata": {},
   "source": [
    "# Building Final Decision Tree Model"
   ]
  },
  {
   "cell_type": "code",
   "execution_count": 128,
   "metadata": {},
   "outputs": [
    {
     "data": {
      "text/plain": [
       "DecisionTreeClassifier(max_depth=11, max_features=12)"
      ]
     },
     "execution_count": 128,
     "metadata": {},
     "output_type": "execute_result"
    }
   ],
   "source": [
    "clf_tree = DecisionTreeClassifier( max_depth = 11, max_features=12 )\n",
    "clf_tree.fit( X_train, y_train )"
   ]
  },
  {
   "cell_type": "markdown",
   "metadata": {},
   "source": [
    "#### Feature Relative Importance"
   ]
  },
  {
   "cell_type": "code",
   "execution_count": 129,
   "metadata": {},
   "outputs": [
    {
     "data": {
      "text/plain": [
       "Index(['attack_neptune', 'attack_normal', 'attack_satan', 'count',\n",
       "       'dst_host_diff_srv_rate', 'dst_host_same_src_port_rate',\n",
       "       'dst_host_same_srv_rate', 'dst_host_srv_count', 'flag_S0', 'flag_SF',\n",
       "       'last_flag', 'logged_in', 'same_srv_rate', 'serror_rate',\n",
       "       'service_http'],\n",
       "      dtype='object')"
      ]
     },
     "execution_count": 129,
     "metadata": {},
     "output_type": "execute_result"
    }
   ],
   "source": [
    "X_train.columns"
   ]
  },
  {
   "cell_type": "code",
   "execution_count": 130,
   "metadata": {},
   "outputs": [
    {
     "data": {
      "text/plain": [
       "array([1.81250896e-01, 7.24181199e-01, 1.71766660e-02, 4.39630189e-02,\n",
       "       4.25405096e-03, 3.02266698e-03, 4.46328464e-04, 1.99425923e-02,\n",
       "       3.66896720e-04, 7.51391260e-04, 1.85381325e-03, 7.60423765e-04,\n",
       "       1.29575758e-03, 5.49323917e-05, 6.79367261e-04])"
      ]
     },
     "execution_count": 130,
     "metadata": {},
     "output_type": "execute_result"
    }
   ],
   "source": [
    "clf_tree.feature_importances_"
   ]
  },
  {
   "cell_type": "code",
   "execution_count": 131,
   "metadata": {},
   "outputs": [
    {
     "data": {
      "text/plain": [
       "[('attack_neptune', 0.1812508955580012),\n",
       " ('attack_normal', 0.7241811985765929),\n",
       " ('attack_satan', 0.01717666604108122),\n",
       " ('count', 0.04396301894080286),\n",
       " ('dst_host_diff_srv_rate', 0.004254050959899292),\n",
       " ('dst_host_same_src_port_rate', 0.0030226669792928562),\n",
       " ('dst_host_same_srv_rate', 0.0004463284642845938),\n",
       " ('dst_host_srv_count', 0.019942592255182044),\n",
       " ('flag_S0', 0.00036689671961822224),\n",
       " ('flag_SF', 0.0007513912602013605),\n",
       " ('last_flag', 0.0018538132474240504),\n",
       " ('logged_in', 0.0007604237652497188),\n",
       " ('same_srv_rate', 0.0012957575795183288),\n",
       " ('serror_rate', 5.493239171115691e-05),\n",
       " ('service_http', 0.0006793672611395874)]"
      ]
     },
     "execution_count": 131,
     "metadata": {},
     "output_type": "execute_result"
    }
   ],
   "source": [
    "# summarize the selection of the attributes\n",
    "import itertools\n",
    "feature_map = [(i, v) for i, v in itertools.zip_longest(X_train.columns, clf_tree.feature_importances_)]\n",
    "\n",
    "feature_map\n",
    "#list(zip(X_train.columns,clf_tree.feature_importances_ ))"
   ]
  },
  {
   "cell_type": "code",
   "execution_count": 132,
   "metadata": {},
   "outputs": [
    {
     "data": {
      "text/html": [
       "<div>\n",
       "<style scoped>\n",
       "    .dataframe tbody tr th:only-of-type {\n",
       "        vertical-align: middle;\n",
       "    }\n",
       "\n",
       "    .dataframe tbody tr th {\n",
       "        vertical-align: top;\n",
       "    }\n",
       "\n",
       "    .dataframe thead th {\n",
       "        text-align: right;\n",
       "    }\n",
       "</style>\n",
       "<table border=\"1\" class=\"dataframe\">\n",
       "  <thead>\n",
       "    <tr style=\"text-align: right;\">\n",
       "      <th></th>\n",
       "      <th>Feature</th>\n",
       "      <th>importance</th>\n",
       "    </tr>\n",
       "  </thead>\n",
       "  <tbody>\n",
       "    <tr>\n",
       "      <th>1</th>\n",
       "      <td>attack_normal</td>\n",
       "      <td>0.724181</td>\n",
       "    </tr>\n",
       "    <tr>\n",
       "      <th>0</th>\n",
       "      <td>attack_neptune</td>\n",
       "      <td>0.181251</td>\n",
       "    </tr>\n",
       "    <tr>\n",
       "      <th>3</th>\n",
       "      <td>count</td>\n",
       "      <td>0.043963</td>\n",
       "    </tr>\n",
       "    <tr>\n",
       "      <th>7</th>\n",
       "      <td>dst_host_srv_count</td>\n",
       "      <td>0.019943</td>\n",
       "    </tr>\n",
       "    <tr>\n",
       "      <th>2</th>\n",
       "      <td>attack_satan</td>\n",
       "      <td>0.017177</td>\n",
       "    </tr>\n",
       "    <tr>\n",
       "      <th>4</th>\n",
       "      <td>dst_host_diff_srv_rate</td>\n",
       "      <td>0.004254</td>\n",
       "    </tr>\n",
       "    <tr>\n",
       "      <th>5</th>\n",
       "      <td>dst_host_same_src_port_rate</td>\n",
       "      <td>0.003023</td>\n",
       "    </tr>\n",
       "    <tr>\n",
       "      <th>10</th>\n",
       "      <td>last_flag</td>\n",
       "      <td>0.001854</td>\n",
       "    </tr>\n",
       "    <tr>\n",
       "      <th>12</th>\n",
       "      <td>same_srv_rate</td>\n",
       "      <td>0.001296</td>\n",
       "    </tr>\n",
       "    <tr>\n",
       "      <th>11</th>\n",
       "      <td>logged_in</td>\n",
       "      <td>0.000760</td>\n",
       "    </tr>\n",
       "    <tr>\n",
       "      <th>9</th>\n",
       "      <td>flag_SF</td>\n",
       "      <td>0.000751</td>\n",
       "    </tr>\n",
       "    <tr>\n",
       "      <th>14</th>\n",
       "      <td>service_http</td>\n",
       "      <td>0.000679</td>\n",
       "    </tr>\n",
       "    <tr>\n",
       "      <th>6</th>\n",
       "      <td>dst_host_same_srv_rate</td>\n",
       "      <td>0.000446</td>\n",
       "    </tr>\n",
       "    <tr>\n",
       "      <th>8</th>\n",
       "      <td>flag_S0</td>\n",
       "      <td>0.000367</td>\n",
       "    </tr>\n",
       "    <tr>\n",
       "      <th>13</th>\n",
       "      <td>serror_rate</td>\n",
       "      <td>0.000055</td>\n",
       "    </tr>\n",
       "  </tbody>\n",
       "</table>\n",
       "</div>"
      ],
      "text/plain": [
       "                        Feature  importance\n",
       "1                 attack_normal    0.724181\n",
       "0                attack_neptune    0.181251\n",
       "3                         count    0.043963\n",
       "7            dst_host_srv_count    0.019943\n",
       "2                  attack_satan    0.017177\n",
       "4        dst_host_diff_srv_rate    0.004254\n",
       "5   dst_host_same_src_port_rate    0.003023\n",
       "10                    last_flag    0.001854\n",
       "12                same_srv_rate    0.001296\n",
       "11                    logged_in    0.000760\n",
       "9                       flag_SF    0.000751\n",
       "14                 service_http    0.000679\n",
       "6        dst_host_same_srv_rate    0.000446\n",
       "8                       flag_S0    0.000367\n",
       "13                  serror_rate    0.000055"
      ]
     },
     "execution_count": 132,
     "metadata": {},
     "output_type": "execute_result"
    }
   ],
   "source": [
    "Feature_importance = pd.DataFrame(feature_map, columns=['Feature', 'importance'])\n",
    "Feature_importance.sort_values('importance', inplace=True, ascending=False)\n",
    "Feature_importance"
   ]
  },
  {
   "cell_type": "code",
   "execution_count": 133,
   "metadata": {},
   "outputs": [],
   "source": [
    "tree_test_pred = pd.DataFrame( { 'actual':  y_test,\n",
    "                            'predicted': clf_tree.predict( X_test ) } )"
   ]
  },
  {
   "cell_type": "code",
   "execution_count": 134,
   "metadata": {},
   "outputs": [
    {
     "data": {
      "text/html": [
       "<div>\n",
       "<style scoped>\n",
       "    .dataframe tbody tr th:only-of-type {\n",
       "        vertical-align: middle;\n",
       "    }\n",
       "\n",
       "    .dataframe tbody tr th {\n",
       "        vertical-align: top;\n",
       "    }\n",
       "\n",
       "    .dataframe thead th {\n",
       "        text-align: right;\n",
       "    }\n",
       "</style>\n",
       "<table border=\"1\" class=\"dataframe\">\n",
       "  <thead>\n",
       "    <tr style=\"text-align: right;\">\n",
       "      <th></th>\n",
       "      <th>actual</th>\n",
       "      <th>predicted</th>\n",
       "    </tr>\n",
       "  </thead>\n",
       "  <tbody>\n",
       "    <tr>\n",
       "      <th>19571</th>\n",
       "      <td>1.0</td>\n",
       "      <td>1.0</td>\n",
       "    </tr>\n",
       "    <tr>\n",
       "      <th>15988</th>\n",
       "      <td>0.0</td>\n",
       "      <td>0.0</td>\n",
       "    </tr>\n",
       "    <tr>\n",
       "      <th>15009</th>\n",
       "      <td>0.0</td>\n",
       "      <td>0.0</td>\n",
       "    </tr>\n",
       "    <tr>\n",
       "      <th>21362</th>\n",
       "      <td>3.0</td>\n",
       "      <td>2.0</td>\n",
       "    </tr>\n",
       "    <tr>\n",
       "      <th>10547</th>\n",
       "      <td>0.0</td>\n",
       "      <td>0.0</td>\n",
       "    </tr>\n",
       "    <tr>\n",
       "      <th>9779</th>\n",
       "      <td>2.0</td>\n",
       "      <td>1.0</td>\n",
       "    </tr>\n",
       "    <tr>\n",
       "      <th>12684</th>\n",
       "      <td>2.0</td>\n",
       "      <td>2.0</td>\n",
       "    </tr>\n",
       "    <tr>\n",
       "      <th>14200</th>\n",
       "      <td>1.0</td>\n",
       "      <td>1.0</td>\n",
       "    </tr>\n",
       "    <tr>\n",
       "      <th>15987</th>\n",
       "      <td>0.0</td>\n",
       "      <td>0.0</td>\n",
       "    </tr>\n",
       "    <tr>\n",
       "      <th>17768</th>\n",
       "      <td>3.0</td>\n",
       "      <td>2.0</td>\n",
       "    </tr>\n",
       "  </tbody>\n",
       "</table>\n",
       "</div>"
      ],
      "text/plain": [
       "       actual  predicted\n",
       "19571     1.0        1.0\n",
       "15988     0.0        0.0\n",
       "15009     0.0        0.0\n",
       "21362     3.0        2.0\n",
       "10547     0.0        0.0\n",
       "9779      2.0        1.0\n",
       "12684     2.0        2.0\n",
       "14200     1.0        1.0\n",
       "15987     0.0        0.0\n",
       "17768     3.0        2.0"
      ]
     },
     "execution_count": 134,
     "metadata": {},
     "output_type": "execute_result"
    }
   ],
   "source": [
    "tree_test_pred.sample( n = 10 )"
   ]
  },
  {
   "cell_type": "code",
   "execution_count": 135,
   "metadata": {},
   "outputs": [
    {
     "data": {
      "text/plain": [
       "0.825533425009981"
      ]
     },
     "execution_count": 135,
     "metadata": {},
     "output_type": "execute_result"
    }
   ],
   "source": [
    "accuracy_score( tree_test_pred.actual, tree_test_pred.predicted )"
   ]
  },
  {
   "cell_type": "code",
   "execution_count": 136,
   "metadata": {},
   "outputs": [
    {
     "name": "stderr",
     "output_type": "stream",
     "text": [
      "C:\\Users\\Vicky\\anaconda31\\lib\\site-packages\\sklearn\\utils\\validation.py:70: FutureWarning: Pass labels=[1, 0] as keyword args. From version 1.0 (renaming of 0.25) passing these as positional arguments will result in an error\n",
      "  warnings.warn(f\"Pass {args_msg} as keyword args. From version \"\n"
     ]
    },
    {
     "data": {
      "text/plain": [
       "Text(0.5, 15.0, 'Predicted label')"
      ]
     },
     "execution_count": 136,
     "metadata": {},
     "output_type": "execute_result"
    },
    {
     "data": {
      "image/png": "[encoded data removed]",
      "text/plain": [
       "<Figure size 432x288 with 2 Axes>"
      ]
     },
     "metadata": {
      "needs_background": "light"
     },
     "output_type": "display_data"
    }
   ],
   "source": [
    "tree_cm = metrics.confusion_matrix( tree_test_pred.predicted,\n",
    "                                 tree_test_pred.actual,\n",
    "                                 [1,0] )\n",
    "sns.heatmap(tree_cm, annot=True,\n",
    "         fmt='.2f',\n",
    "         xticklabels = [\"Left\", \"No Left\"] , yticklabels = [\"Left\", \"No Left\"] )\n",
    "\n",
    "plt.ylabel('True label')\n",
    "plt.xlabel('Predicted label')"
   ]
  },
  {
   "cell_type": "code",
   "execution_count": 137,
   "metadata": {},
   "outputs": [],
   "source": [
    "#from sklearn.metrics import roc_auc_score"
   ]
  },
  {
   "cell_type": "code",
   "execution_count": 138,
   "metadata": {},
   "outputs": [],
   "source": [
    "#metrics.roc_auc_score( tree_test_pred.actual, tree_test_pred.predicted, multi_class= \"ovr\")"
   ]
  },
  {
   "cell_type": "markdown",
   "metadata": {},
   "source": [
    "## Random Forest Model"
   ]
  },
  {
   "cell_type": "code",
   "execution_count": 139,
   "metadata": {},
   "outputs": [],
   "source": [
    "from sklearn.ensemble import RandomForestClassifier"
   ]
  },
  {
   "cell_type": "code",
   "execution_count": 140,
   "metadata": {},
   "outputs": [],
   "source": [
    "pargrid_rf = {'n_estimators': [50,60,70,80,90,100],\n",
    "                  'max_features': [2,3,4,5,6,7]}\n"
   ]
  },
  {
   "cell_type": "code",
   "execution_count": 141,
   "metadata": {},
   "outputs": [
    {
     "name": "stdout",
     "output_type": "stream",
     "text": [
      "Fitting 10 folds for each of 36 candidates, totalling 360 fits\n"
     ]
    }
   ],
   "source": [
    "from sklearn.model_selection import GridSearchCV\n",
    "gscv_rf = GridSearchCV(estimator=RandomForestClassifier(), \n",
    "                        param_grid=pargrid_rf, \n",
    "                        cv=10,\n",
    "                        verbose=True, n_jobs=-1)\n",
    "\n",
    "gscv_results = gscv_rf.fit(X_train, y_train)"
   ]
  },
  {
   "cell_type": "code",
   "execution_count": 142,
   "metadata": {},
   "outputs": [
    {
     "data": {
      "text/plain": [
       "{'max_features': 2, 'n_estimators': 100}"
      ]
     },
     "execution_count": 142,
     "metadata": {},
     "output_type": "execute_result"
    }
   ],
   "source": [
    "gscv_results.best_params_"
   ]
  },
  {
   "cell_type": "code",
   "execution_count": 143,
   "metadata": {},
   "outputs": [
    {
     "data": {
      "text/plain": [
       "0.9995792712056584"
      ]
     },
     "execution_count": 143,
     "metadata": {},
     "output_type": "execute_result"
    }
   ],
   "source": [
    "gscv_rf.best_score_"
   ]
  },
  {
   "cell_type": "code",
   "execution_count": 144,
   "metadata": {},
   "outputs": [
    {
     "data": {
      "text/plain": [
       "RandomForestClassifier(max_features=2, n_estimators=70, n_jobs=-1,\n",
       "                       oob_score=True)"
      ]
     },
     "execution_count": 144,
     "metadata": {},
     "output_type": "execute_result"
    }
   ],
   "source": [
    "radm_clf = RandomForestClassifier(oob_score=True,n_estimators=70, max_features=2, n_jobs=-1)\n",
    "radm_clf.fit( X_train, y_train )"
   ]
  },
  {
   "cell_type": "code",
   "execution_count": 145,
   "metadata": {},
   "outputs": [],
   "source": [
    "radm_test_pred = pd.DataFrame( { 'actual':  y_test,\n",
    "                            'predicted': radm_clf.predict( X_test ) } )"
   ]
  },
  {
   "cell_type": "code",
   "execution_count": 146,
   "metadata": {},
   "outputs": [
    {
     "name": "stdout",
     "output_type": "stream",
     "text": [
      "0.8263762587055848\n"
     ]
    }
   ],
   "source": [
    "print(metrics.accuracy_score( radm_test_pred.actual, radm_test_pred.predicted ))"
   ]
  },
  {
   "cell_type": "code",
   "execution_count": 147,
   "metadata": {},
   "outputs": [
    {
     "name": "stderr",
     "output_type": "stream",
     "text": [
      "C:\\Users\\Vicky\\anaconda31\\lib\\site-packages\\sklearn\\utils\\validation.py:70: FutureWarning: Pass labels=[1, 0] as keyword args. From version 1.0 (renaming of 0.25) passing these as positional arguments will result in an error\n",
      "  warnings.warn(f\"Pass {args_msg} as keyword args. From version \"\n"
     ]
    },
    {
     "data": {
      "text/plain": [
       "Text(0.5, 15.0, 'Predicted label')"
      ]
     },
     "execution_count": 147,
     "metadata": {},
     "output_type": "execute_result"
    },
    {
     "data": {
      "image/png": "[encoded data removed]",
      "text/plain": [
       "<Figure size 432x288 with 2 Axes>"
      ]
     },
     "metadata": {
      "needs_background": "light"
     },
     "output_type": "display_data"
    }
   ],
   "source": [
    "tree_cm = metrics.confusion_matrix( radm_test_pred.predicted,\n",
    "                                 radm_test_pred.actual,\n",
    "                                 [1,0] )\n",
    "sns.heatmap(tree_cm, annot=True,\n",
    "         fmt='.2f',\n",
    "         xticklabels = [\"Yes\", \"No\"] , yticklabels = [\"Yes\", \"No\"] )\n",
    "\n",
    "plt.ylabel('True label')\n",
    "plt.xlabel('Predicted label')"
   ]
  },
  {
   "cell_type": "markdown",
   "metadata": {},
   "source": [
    "### Feature importance from the Random Forest Model"
   ]
  },
  {
   "cell_type": "code",
   "execution_count": 148,
   "metadata": {},
   "outputs": [
    {
     "name": "stdout",
     "output_type": "stream",
     "text": [
      "[0.14340858 0.20772932 0.02044316 0.08907086 0.04851918 0.04938239\n",
      " 0.05323566 0.04112528 0.03889207 0.0568223  0.05281318 0.03195027\n",
      " 0.11857703 0.0329965  0.01503422]\n",
      "[14  2 11 13  8  7  4  5 10  6  9  3 12  0  1]\n"
     ]
    }
   ],
   "source": [
    "print(radm_clf.feature_importances_)\n",
    "print(np.argsort(radm_clf.feature_importances_))"
   ]
  },
  {
   "cell_type": "code",
   "execution_count": 149,
   "metadata": {},
   "outputs": [],
   "source": [
    "indices = np.argsort(radm_clf.feature_importances_)[::-1]"
   ]
  },
  {
   "cell_type": "code",
   "execution_count": 264,
   "metadata": {},
   "outputs": [
    {
     "data": {
      "image/png": "[encoded data removed]",
      "text/plain": [
       "<Figure size 432x288 with 1 Axes>"
      ]
     },
     "metadata": {
      "needs_background": "light"
     },
     "output_type": "display_data"
    }
   ],
   "source": [
    "indices = np.argsort(radm_clf.feature_importances_)[::-1]\n",
    "feature_rank = pd.DataFrame( columns = ['rank', 'feature', 'importance'] )\n",
    "for f in range(X_train.shape[1]):\n",
    "  feature_rank.loc[f] = [f+1,\n",
    "                         X_train.columns[indices[f]],\n",
    "                         radm_clf.feature_importances_[indices[f]]]\n",
    "sns.barplot( y = 'feature', x = 'importance', data = feature_rank )\n",
    "\n",
    "\n",
    "plt.savefig('important_features.png')\n"
   ]
  },
  {
   "cell_type": "code",
   "execution_count": 260,
   "metadata": {},
   "outputs": [
    {
     "data": {
      "text/plain": [
       "<Figure size 432x288 with 0 Axes>"
      ]
     },
     "metadata": {},
     "output_type": "display_data"
    }
   ],
   "source": []
  },
  {
   "cell_type": "raw",
   "metadata": {},
   "source": [
    "#### Note: As per the model, the most important features which detect anamolies and attacks in the network are:-\n",
    "same_srv_rate\n",
    "count\n",
    "flag_SF\n",
    "Flag_SO\n",
    "attack_neptune\n",
    "serror_rate\n",
    "dst_host_diff_srv_rate\n",
    "last_flag\n",
    "dst_host_same_src_port_rate\n",
    "dst_host_diff_srv_rate\n",
    "dst_host_srv_count\n",
    "logged in\n",
    "attacj_satan\n",
    "service http\n"
   ]
  },
  {
   "cell_type": "markdown",
   "metadata": {},
   "source": [
    "## Naive Bayes Model"
   ]
  },
  {
   "cell_type": "code",
   "execution_count": 151,
   "metadata": {},
   "outputs": [],
   "source": [
    "from sklearn.naive_bayes import GaussianNB\n",
    "from sklearn.naive_bayes import BernoulliNB\n",
    "from sklearn.naive_bayes import MultinomialNB"
   ]
  },
  {
   "cell_type": "markdown",
   "metadata": {},
   "source": [
    "#### 1) BernoulliNB"
   ]
  },
  {
   "cell_type": "code",
   "execution_count": 152,
   "metadata": {},
   "outputs": [],
   "source": [
    "from sklearn.naive_bayes import BernoulliNB"
   ]
  },
  {
   "cell_type": "code",
   "execution_count": 153,
   "metadata": {},
   "outputs": [
    {
     "data": {
      "text/plain": [
       "BernoulliNB()"
      ]
     },
     "execution_count": 153,
     "metadata": {},
     "output_type": "execute_result"
    }
   ],
   "source": [
    "bnb_clf = BernoulliNB()\n",
    "bnb_clf.fit(X_train, y_train)"
   ]
  },
  {
   "cell_type": "code",
   "execution_count": 154,
   "metadata": {},
   "outputs": [
    {
     "data": {
      "text/plain": [
       "array([1., 0., 2., ..., 0., 0., 2.])"
      ]
     },
     "execution_count": 154,
     "metadata": {},
     "output_type": "execute_result"
    }
   ],
   "source": [
    "y_pred=bnb_clf.predict(X_test)\n",
    "y_pred"
   ]
  },
  {
   "cell_type": "code",
   "execution_count": 155,
   "metadata": {},
   "outputs": [
    {
     "data": {
      "text/plain": [
       "Text(0.5, 15.0, 'Predicted label')"
      ]
     },
     "execution_count": 155,
     "metadata": {},
     "output_type": "execute_result"
    },
    {
     "data": {
      "image/png": "[encoded data removed]",
      "text/plain": [
       "<Figure size 432x288 with 2 Axes>"
      ]
     },
     "metadata": {
      "needs_background": "light"
     },
     "output_type": "display_data"
    }
   ],
   "source": [
    "nb_cm = metrics.confusion_matrix( y_test,y_pred )\n",
    "sns.heatmap(nb_cm, annot=True,  fmt='.2f', xticklabels = [\"no\", \"Yes\"] , yticklabels = [\"No\", \"Yes\"] )\n",
    "plt.ylabel('True label')\n",
    "plt.xlabel('Predicted label')"
   ]
  },
  {
   "cell_type": "code",
   "execution_count": 156,
   "metadata": {},
   "outputs": [
    {
     "data": {
      "text/plain": [
       "0.778379097724349"
      ]
     },
     "execution_count": 156,
     "metadata": {},
     "output_type": "execute_result"
    }
   ],
   "source": [
    "accuracy_score( y_test, y_pred )"
   ]
  },
  {
   "cell_type": "markdown",
   "metadata": {},
   "source": [
    "#### 2) GaussianNB"
   ]
  },
  {
   "cell_type": "code",
   "execution_count": 157,
   "metadata": {},
   "outputs": [],
   "source": [
    "from sklearn.naive_bayes import GaussianNB"
   ]
  },
  {
   "cell_type": "code",
   "execution_count": 158,
   "metadata": {},
   "outputs": [
    {
     "data": {
      "text/plain": [
       "GaussianNB()"
      ]
     },
     "execution_count": 158,
     "metadata": {},
     "output_type": "execute_result"
    }
   ],
   "source": [
    "gnb_clf = GaussianNB()\n",
    "gnb_clf.fit(X_train, y_train)"
   ]
  },
  {
   "cell_type": "code",
   "execution_count": 159,
   "metadata": {},
   "outputs": [
    {
     "data": {
      "text/plain": [
       "array([1., 0., 2., ..., 1., 0., 2.])"
      ]
     },
     "execution_count": 159,
     "metadata": {},
     "output_type": "execute_result"
    }
   ],
   "source": [
    "y_pred=gnb_clf.predict(X_test)\n",
    "y_pred"
   ]
  },
  {
   "cell_type": "code",
   "execution_count": 160,
   "metadata": {},
   "outputs": [
    {
     "data": {
      "text/plain": [
       "Text(0.5, 15.0, 'Predicted label')"
      ]
     },
     "execution_count": 160,
     "metadata": {},
     "output_type": "execute_result"
    },
    {
     "data": {
      "image/png": "[encoded data removed]",
      "text/plain": [
       "<Figure size 432x288 with 2 Axes>"
      ]
     },
     "metadata": {
      "needs_background": "light"
     },
     "output_type": "display_data"
    }
   ],
   "source": [
    "nb_cm = metrics.confusion_matrix( y_test, y_pred )\n",
    "sns.heatmap(nb_cm, annot=True,  fmt='.2f', xticklabels = [\"no\", \"Yes\"] , yticklabels = [\"No\", \"Yes\"] )\n",
    "plt.ylabel('True label')\n",
    "plt.xlabel('Predicted label')"
   ]
  },
  {
   "cell_type": "code",
   "execution_count": 161,
   "metadata": {},
   "outputs": [
    {
     "data": {
      "text/plain": [
       "0.7916869981812537"
      ]
     },
     "execution_count": 161,
     "metadata": {},
     "output_type": "execute_result"
    }
   ],
   "source": [
    "accuracy_score( y_test, y_pred )"
   ]
  },
  {
   "cell_type": "markdown",
   "metadata": {},
   "source": [
    "# 3.MultinomialNB "
   ]
  },
  {
   "cell_type": "code",
   "execution_count": 162,
   "metadata": {},
   "outputs": [
    {
     "data": {
      "text/plain": [
       "MultinomialNB()"
      ]
     },
     "execution_count": 162,
     "metadata": {},
     "output_type": "execute_result"
    }
   ],
   "source": [
    "mnb_clf = MultinomialNB()\n",
    "mnb_clf.fit(X_train, y_train)"
   ]
  },
  {
   "cell_type": "code",
   "execution_count": 163,
   "metadata": {},
   "outputs": [
    {
     "data": {
      "text/plain": [
       "Text(0.5, 15.0, 'Predicted label')"
      ]
     },
     "execution_count": 163,
     "metadata": {},
     "output_type": "execute_result"
    },
    {
     "data": {
      "image/png": "[encoded data removed]",
      "text/plain": [
       "<Figure size 432x288 with 2 Axes>"
      ]
     },
     "metadata": {
      "needs_background": "light"
     },
     "output_type": "display_data"
    }
   ],
   "source": [
    "nb_cm = metrics.confusion_matrix( y_test,mnb_clf.predict( X_test) )\n",
    "sns.heatmap(nb_cm, annot=True,  fmt='.2f', xticklabels = [\"no\", \"Yes\"] , yticklabels = [\"No\", \"Yes\"] )\n",
    "plt.ylabel('True label')\n",
    "plt.xlabel('Predicted label')"
   ]
  },
  {
   "cell_type": "code",
   "execution_count": 164,
   "metadata": {},
   "outputs": [],
   "source": [
    "accuracy=metrics.accuracy_score( y_test, mnb_clf.predict( X_test ) )"
   ]
  },
  {
   "cell_type": "code",
   "execution_count": 165,
   "metadata": {},
   "outputs": [
    {
     "data": {
      "text/plain": [
       "0.6088364459033846"
      ]
     },
     "execution_count": 165,
     "metadata": {},
     "output_type": "execute_result"
    }
   ],
   "source": [
    "accuracy"
   ]
  },
  {
   "cell_type": "markdown",
   "metadata": {},
   "source": [
    "### Support Vector Machine (SVM)"
   ]
  },
  {
   "cell_type": "markdown",
   "metadata": {},
   "source": [
    "#### 1) LinearSVC"
   ]
  },
  {
   "cell_type": "code",
   "execution_count": 166,
   "metadata": {},
   "outputs": [],
   "source": [
    "from sklearn.svm import LinearSVC"
   ]
  },
  {
   "cell_type": "code",
   "execution_count": 167,
   "metadata": {},
   "outputs": [
    {
     "name": "stderr",
     "output_type": "stream",
     "text": [
      "C:\\Users\\Vicky\\anaconda31\\lib\\site-packages\\sklearn\\svm\\_base.py:985: ConvergenceWarning: Liblinear failed to converge, increase the number of iterations.\n",
      "  warnings.warn(\"Liblinear failed to converge, increase \"\n"
     ]
    },
    {
     "data": {
      "text/plain": [
       "LinearSVC(random_state=0, tol=1e-05)"
      ]
     },
     "execution_count": 167,
     "metadata": {},
     "output_type": "execute_result"
    }
   ],
   "source": [
    "svm_clf = LinearSVC(random_state=0, tol=1e-5)\n",
    "svm_clf.fit(X_train, y_train)"
   ]
  },
  {
   "cell_type": "code",
   "execution_count": 168,
   "metadata": {},
   "outputs": [
    {
     "name": "stdout",
     "output_type": "stream",
     "text": [
      "[[-5.35716221e-03  2.00419127e+00 -8.99966954e-03 -1.54987442e-05\n",
      "  -7.21154149e-04 -4.23305602e-04 -5.36863600e-04  2.27289305e-06\n",
      "  -1.53282196e-03  8.93731622e-04 -5.47350172e-04 -6.37749861e-04\n",
      "  -8.87877697e-03 -2.12318214e-03  2.68230844e-04]\n",
      " [ 3.38198573e+00 -5.47585259e+00 -3.66279028e+00  1.55420969e-02\n",
      "  -7.58855493e-01 -2.12422998e+00  4.92645840e-01 -2.00967838e-03\n",
      "   2.08618221e+00  1.67498771e+00  6.91805898e-02 -1.31614273e+00\n",
      "   2.53288497e+00  6.40156990e-01  2.60503853e+00]\n",
      " [-3.22159061e+00 -5.39892521e+00  4.34715439e+00 -1.59049075e-02\n",
      "   7.50554424e-01  2.13683442e+00 -5.22115136e-01  3.71570213e-03\n",
      "  -2.09221724e+00 -1.65363401e+00 -6.63973417e-02  1.29933264e+00\n",
      "  -2.41506138e+00 -6.12024179e-01 -2.60392262e+00]]\n"
     ]
    }
   ],
   "source": [
    "print(svm_clf.coef_)"
   ]
  },
  {
   "cell_type": "code",
   "execution_count": 169,
   "metadata": {},
   "outputs": [
    {
     "name": "stdout",
     "output_type": "stream",
     "text": [
      "[-0.98393235 -4.56766748  4.42150115]\n"
     ]
    }
   ],
   "source": [
    "print(svm_clf.intercept_)"
   ]
  },
  {
   "cell_type": "code",
   "execution_count": 170,
   "metadata": {},
   "outputs": [
    {
     "data": {
      "text/plain": [
       "array([1., 0., 2., ..., 1., 0., 2.])"
      ]
     },
     "execution_count": 170,
     "metadata": {},
     "output_type": "execute_result"
    }
   ],
   "source": [
    "y_pred=svm_clf.predict(X_test)\n",
    "y_pred"
   ]
  },
  {
   "cell_type": "code",
   "execution_count": 171,
   "metadata": {},
   "outputs": [
    {
     "data": {
      "text/plain": [
       "0.7959011666592734"
      ]
     },
     "execution_count": 171,
     "metadata": {},
     "output_type": "execute_result"
    }
   ],
   "source": [
    "accuracy_score( y_test, y_pred )"
   ]
  },
  {
   "cell_type": "markdown",
   "metadata": {},
   "source": [
    "#### 2) SVC"
   ]
  },
  {
   "cell_type": "code",
   "execution_count": 172,
   "metadata": {},
   "outputs": [],
   "source": [
    "from sklearn.svm import SVC\n",
    "from sklearn.pipeline import make_pipeline\n",
    "\n",
    "model = SVC(kernel='rbf', class_weight='balanced',gamma='scale')"
   ]
  },
  {
   "cell_type": "code",
   "execution_count": 174,
   "metadata": {},
   "outputs": [
    {
     "data": {
      "text/plain": [
       "SVC(class_weight='balanced')"
      ]
     },
     "execution_count": 174,
     "metadata": {},
     "output_type": "execute_result"
    }
   ],
   "source": [
    "model.fit(X_train, y_train)"
   ]
  },
  {
   "cell_type": "code",
   "execution_count": 175,
   "metadata": {},
   "outputs": [
    {
     "data": {
      "text/plain": [
       "GridSearchCV(estimator=SVC(class_weight='balanced'),\n",
       "             param_grid={'C': [1, 10], 'gamma': [0.0001, 0.001]})"
      ]
     },
     "execution_count": 175,
     "metadata": {},
     "output_type": "execute_result"
    }
   ],
   "source": [
    "from sklearn.model_selection import GridSearchCV\n",
    "param_grid = {'C': [1, 10],\n",
    "              'gamma': [0.0001, 0.001]}\n",
    "grid = GridSearchCV(model, param_grid)\n",
    "\n",
    "grid.fit(X_train,y_train)"
   ]
  },
  {
   "cell_type": "code",
   "execution_count": 176,
   "metadata": {},
   "outputs": [
    {
     "name": "stdout",
     "output_type": "stream",
     "text": [
      "{'C': 10, 'gamma': 0.001}\n"
     ]
    }
   ],
   "source": [
    "print(grid.best_params_)"
   ]
  },
  {
   "cell_type": "code",
   "execution_count": 177,
   "metadata": {},
   "outputs": [],
   "source": [
    "model = grid.best_estimator_\n",
    "yfit = model.predict(X_test)"
   ]
  },
  {
   "cell_type": "code",
   "execution_count": 178,
   "metadata": {},
   "outputs": [],
   "source": [
    "#y_pred=model.predict(X_test)\n",
    "#y_pred"
   ]
  },
  {
   "cell_type": "code",
   "execution_count": 179,
   "metadata": {},
   "outputs": [
    {
     "name": "stdout",
     "output_type": "stream",
     "text": [
      "              precision    recall  f1-score   support\n",
      "\n",
      "         0.0       0.95      0.97      0.96      9711\n",
      "         1.0       0.90      0.85      0.88      7459\n",
      "         2.0       0.42      0.99      0.59      2421\n",
      "         3.0       0.00      0.00      0.00      2952\n",
      "\n",
      "    accuracy                           0.80     22543\n",
      "   macro avg       0.57      0.70      0.61     22543\n",
      "weighted avg       0.75      0.80      0.77     22543\n",
      "\n"
     ]
    },
    {
     "name": "stderr",
     "output_type": "stream",
     "text": [
      "C:\\Users\\Vicky\\anaconda31\\lib\\site-packages\\sklearn\\metrics\\_classification.py:1248: UndefinedMetricWarning: Precision and F-score are ill-defined and being set to 0.0 in labels with no predicted samples. Use `zero_division` parameter to control this behavior.\n",
      "  _warn_prf(average, modifier, msg_start, len(result))\n",
      "C:\\Users\\Vicky\\anaconda31\\lib\\site-packages\\sklearn\\metrics\\_classification.py:1248: UndefinedMetricWarning: Precision and F-score are ill-defined and being set to 0.0 in labels with no predicted samples. Use `zero_division` parameter to control this behavior.\n",
      "  _warn_prf(average, modifier, msg_start, len(result))\n",
      "C:\\Users\\Vicky\\anaconda31\\lib\\site-packages\\sklearn\\metrics\\_classification.py:1248: UndefinedMetricWarning: Precision and F-score are ill-defined and being set to 0.0 in labels with no predicted samples. Use `zero_division` parameter to control this behavior.\n",
      "  _warn_prf(average, modifier, msg_start, len(result))\n"
     ]
    }
   ],
   "source": [
    "from sklearn.metrics import classification_report\n",
    "print(classification_report(y_test, yfit))"
   ]
  },
  {
   "cell_type": "code",
   "execution_count": 180,
   "metadata": {},
   "outputs": [
    {
     "data": {
      "text/plain": [
       "Text(91.68, 0.5, 'predicted label')"
      ]
     },
     "execution_count": 180,
     "metadata": {},
     "output_type": "execute_result"
    },
    {
     "data": {
      "image/png": "[encoded data removed]",
      "text/plain": [
       "<Figure size 432x288 with 1 Axes>"
      ]
     },
     "metadata": {
      "needs_background": "light"
     },
     "output_type": "display_data"
    }
   ],
   "source": [
    "from sklearn.metrics import confusion_matrix\n",
    "mat = confusion_matrix(y_test, yfit)\n",
    "sns.heatmap(mat.T, square=True, annot=True, fmt='d', cbar=False)\n",
    "plt.xlabel('true label')\n",
    "plt.ylabel('predicted label')"
   ]
  },
  {
   "cell_type": "code",
   "execution_count": 181,
   "metadata": {},
   "outputs": [
    {
     "data": {
      "text/plain": [
       "0.7959011666592734"
      ]
     },
     "execution_count": 181,
     "metadata": {},
     "output_type": "execute_result"
    }
   ],
   "source": [
    "accuracy_score( y_test, y_pred )"
   ]
  },
  {
   "cell_type": "markdown",
   "metadata": {},
   "source": [
    "### Stochastic Gradient Descent (SGD)"
   ]
  },
  {
   "cell_type": "code",
   "execution_count": 182,
   "metadata": {},
   "outputs": [],
   "source": [
    "from sklearn.linear_model import LogisticRegression\n",
    "from sklearn.linear_model import SGDClassifier\n",
    "from sklearn.model_selection import KFold\n",
    "from sklearn.metrics import accuracy_score\n",
    "from sklearn.preprocessing import StandardScaler"
   ]
  },
  {
   "cell_type": "code",
   "execution_count": 183,
   "metadata": {},
   "outputs": [
    {
     "data": {
      "text/plain": [
       "SGDClassifier()"
      ]
     },
     "execution_count": 183,
     "metadata": {},
     "output_type": "execute_result"
    }
   ],
   "source": [
    "model = SGDClassifier(loss=\"hinge\", penalty=\"l2\")\n",
    "model.fit(X_train, y_train)"
   ]
  },
  {
   "cell_type": "code",
   "execution_count": 184,
   "metadata": {},
   "outputs": [
    {
     "data": {
      "text/plain": [
       "array([1., 0., 2., ..., 1., 0., 2.])"
      ]
     },
     "execution_count": 184,
     "metadata": {},
     "output_type": "execute_result"
    }
   ],
   "source": [
    "y_pred=model.predict(X_test)\n",
    "y_pred"
   ]
  },
  {
   "cell_type": "code",
   "execution_count": 185,
   "metadata": {},
   "outputs": [
    {
     "data": {
      "text/plain": [
       "0.7695515237546023"
      ]
     },
     "execution_count": 185,
     "metadata": {},
     "output_type": "execute_result"
    }
   ],
   "source": [
    "accuracy_score( y_test, y_pred )"
   ]
  },
  {
   "cell_type": "code",
   "execution_count": 186,
   "metadata": {},
   "outputs": [
    {
     "name": "stderr",
     "output_type": "stream",
     "text": [
      "C:\\Users\\Vicky\\anaconda31\\lib\\site-packages\\sklearn\\linear_model\\_stochastic_gradient.py:574: ConvergenceWarning: Maximum number of iteration reached before convergence. Consider increasing max_iter to improve the fit.\n",
      "  warnings.warn(\"Maximum number of iteration reached before \"\n",
      "C:\\Users\\Vicky\\anaconda31\\lib\\site-packages\\sklearn\\linear_model\\_stochastic_gradient.py:574: ConvergenceWarning: Maximum number of iteration reached before convergence. Consider increasing max_iter to improve the fit.\n",
      "  warnings.warn(\"Maximum number of iteration reached before \"\n",
      "C:\\Users\\Vicky\\anaconda31\\lib\\site-packages\\sklearn\\linear_model\\_stochastic_gradient.py:574: ConvergenceWarning: Maximum number of iteration reached before convergence. Consider increasing max_iter to improve the fit.\n",
      "  warnings.warn(\"Maximum number of iteration reached before \"\n",
      "C:\\Users\\Vicky\\anaconda31\\lib\\site-packages\\sklearn\\linear_model\\_stochastic_gradient.py:574: ConvergenceWarning: Maximum number of iteration reached before convergence. Consider increasing max_iter to improve the fit.\n",
      "  warnings.warn(\"Maximum number of iteration reached before \"\n",
      "C:\\Users\\Vicky\\anaconda31\\lib\\site-packages\\sklearn\\linear_model\\_stochastic_gradient.py:574: ConvergenceWarning: Maximum number of iteration reached before convergence. Consider increasing max_iter to improve the fit.\n",
      "  warnings.warn(\"Maximum number of iteration reached before \"\n"
     ]
    },
    {
     "data": {
      "text/plain": [
       "[<matplotlib.lines.Line2D at 0x282aacf7a60>]"
      ]
     },
     "execution_count": 186,
     "metadata": {},
     "output_type": "execute_result"
    },
    {
     "data": {
      "image/png": "[encoded data removed]",
      "text/plain": [
       "<Figure size 432x288 with 1 Axes>"
      ]
     },
     "metadata": {
      "needs_background": "light"
     },
     "output_type": "display_data"
    }
   ],
   "source": [
    "n_iters = [5, 10, 20, 50, 100, 1000]\n",
    "scores = []\n",
    "for n_iter in n_iters:\n",
    "    model = SGDClassifier(loss=\"hinge\", penalty=\"l2\", max_iter=n_iter)\n",
    "    model.fit(X_train, y_train)\n",
    "    scores.append(model.score(X_test, y_test))\n",
    "\n",
    "plt.title(\"Effect of n_iter\")\n",
    "plt.xlabel(\"n_iter\")\n",
    "plt.ylabel(\"score\")\n",
    "plt.plot(n_iters, scores) "
   ]
  },
  {
   "cell_type": "code",
   "execution_count": 187,
   "metadata": {},
   "outputs": [
    {
     "data": {
      "text/plain": [
       "[<matplotlib.lines.Line2D at 0x282aac353d0>]"
      ]
     },
     "execution_count": 187,
     "metadata": {},
     "output_type": "execute_result"
    },
    {
     "data": {
      "image/png": "[encoded data removed]",
      "text/plain": [
       "<Figure size 432x288 with 1 Axes>"
      ]
     },
     "metadata": {
      "needs_background": "light"
     },
     "output_type": "display_data"
    }
   ],
   "source": [
    "# losses\n",
    "losses = [\"hinge\", \"log\", \"modified_huber\", \"perceptron\", \"squared_hinge\"]\n",
    "scores = []\n",
    "for loss in losses:\n",
    "    model = SGDClassifier(loss=loss, penalty=\"l2\", max_iter=1000)\n",
    "    model.fit(X_train, y_train)\n",
    "    scores.append(model.score(X_test, y_test))\n",
    "\n",
    "plt.xlabel(\"loss\")\n",
    "plt.ylabel(\"score\")\n",
    "plt.title(\"Effect of loss\")\n",
    "x = np.arange(len(losses))\n",
    "plt.xticks(x, losses)\n",
    "plt.plot(x, scores)"
   ]
  },
  {
   "cell_type": "code",
   "execution_count": 188,
   "metadata": {},
   "outputs": [],
   "source": [
    "from sklearn.model_selection import GridSearchCV\n",
    "\n",
    "params = {\n",
    "    \"loss\" : [\"hinge\", \"log\", \"squared_hinge\", \"modified_huber\"],\n",
    "    \"alpha\" : [0.0001, 0.001, 0.01, 0.1],\n",
    "    \"penalty\" : [\"l2\", \"l1\", \"none\"],\n",
    "}\n",
    "\n",
    "model = SGDClassifier(max_iter=100)\n",
    "clf = GridSearchCV(model, param_grid=params)"
   ]
  },
  {
   "cell_type": "code",
   "execution_count": 189,
   "metadata": {},
   "outputs": [
    {
     "name": "stderr",
     "output_type": "stream",
     "text": [
      "C:\\Users\\Vicky\\anaconda31\\lib\\site-packages\\sklearn\\linear_model\\_stochastic_gradient.py:574: ConvergenceWarning: Maximum number of iteration reached before convergence. Consider increasing max_iter to improve the fit.\n",
      "  warnings.warn(\"Maximum number of iteration reached before \"\n",
      "C:\\Users\\Vicky\\anaconda31\\lib\\site-packages\\sklearn\\linear_model\\_stochastic_gradient.py:574: ConvergenceWarning: Maximum number of iteration reached before convergence. Consider increasing max_iter to improve the fit.\n",
      "  warnings.warn(\"Maximum number of iteration reached before \"\n",
      "C:\\Users\\Vicky\\anaconda31\\lib\\site-packages\\sklearn\\linear_model\\_stochastic_gradient.py:574: ConvergenceWarning: Maximum number of iteration reached before convergence. Consider increasing max_iter to improve the fit.\n",
      "  warnings.warn(\"Maximum number of iteration reached before \"\n",
      "C:\\Users\\Vicky\\anaconda31\\lib\\site-packages\\sklearn\\linear_model\\_stochastic_gradient.py:574: ConvergenceWarning: Maximum number of iteration reached before convergence. Consider increasing max_iter to improve the fit.\n",
      "  warnings.warn(\"Maximum number of iteration reached before \"\n",
      "C:\\Users\\Vicky\\anaconda31\\lib\\site-packages\\sklearn\\linear_model\\_stochastic_gradient.py:574: ConvergenceWarning: Maximum number of iteration reached before convergence. Consider increasing max_iter to improve the fit.\n",
      "  warnings.warn(\"Maximum number of iteration reached before \"\n",
      "C:\\Users\\Vicky\\anaconda31\\lib\\site-packages\\sklearn\\linear_model\\_stochastic_gradient.py:574: ConvergenceWarning: Maximum number of iteration reached before convergence. Consider increasing max_iter to improve the fit.\n",
      "  warnings.warn(\"Maximum number of iteration reached before \"\n",
      "C:\\Users\\Vicky\\anaconda31\\lib\\site-packages\\sklearn\\linear_model\\_stochastic_gradient.py:574: ConvergenceWarning: Maximum number of iteration reached before convergence. Consider increasing max_iter to improve the fit.\n",
      "  warnings.warn(\"Maximum number of iteration reached before \"\n",
      "C:\\Users\\Vicky\\anaconda31\\lib\\site-packages\\sklearn\\linear_model\\_stochastic_gradient.py:574: ConvergenceWarning: Maximum number of iteration reached before convergence. Consider increasing max_iter to improve the fit.\n",
      "  warnings.warn(\"Maximum number of iteration reached before \"\n",
      "C:\\Users\\Vicky\\anaconda31\\lib\\site-packages\\sklearn\\linear_model\\_stochastic_gradient.py:574: ConvergenceWarning: Maximum number of iteration reached before convergence. Consider increasing max_iter to improve the fit.\n",
      "  warnings.warn(\"Maximum number of iteration reached before \"\n",
      "C:\\Users\\Vicky\\anaconda31\\lib\\site-packages\\sklearn\\linear_model\\_stochastic_gradient.py:574: ConvergenceWarning: Maximum number of iteration reached before convergence. Consider increasing max_iter to improve the fit.\n",
      "  warnings.warn(\"Maximum number of iteration reached before \"\n",
      "C:\\Users\\Vicky\\anaconda31\\lib\\site-packages\\sklearn\\linear_model\\_stochastic_gradient.py:574: ConvergenceWarning: Maximum number of iteration reached before convergence. Consider increasing max_iter to improve the fit.\n",
      "  warnings.warn(\"Maximum number of iteration reached before \"\n",
      "C:\\Users\\Vicky\\anaconda31\\lib\\site-packages\\sklearn\\linear_model\\_stochastic_gradient.py:574: ConvergenceWarning: Maximum number of iteration reached before convergence. Consider increasing max_iter to improve the fit.\n",
      "  warnings.warn(\"Maximum number of iteration reached before \"\n",
      "C:\\Users\\Vicky\\anaconda31\\lib\\site-packages\\sklearn\\linear_model\\_stochastic_gradient.py:574: ConvergenceWarning: Maximum number of iteration reached before convergence. Consider increasing max_iter to improve the fit.\n",
      "  warnings.warn(\"Maximum number of iteration reached before \"\n",
      "C:\\Users\\Vicky\\anaconda31\\lib\\site-packages\\sklearn\\linear_model\\_stochastic_gradient.py:574: ConvergenceWarning: Maximum number of iteration reached before convergence. Consider increasing max_iter to improve the fit.\n",
      "  warnings.warn(\"Maximum number of iteration reached before \"\n",
      "C:\\Users\\Vicky\\anaconda31\\lib\\site-packages\\sklearn\\linear_model\\_stochastic_gradient.py:574: ConvergenceWarning: Maximum number of iteration reached before convergence. Consider increasing max_iter to improve the fit.\n",
      "  warnings.warn(\"Maximum number of iteration reached before \"\n",
      "C:\\Users\\Vicky\\anaconda31\\lib\\site-packages\\sklearn\\linear_model\\_stochastic_gradient.py:574: ConvergenceWarning: Maximum number of iteration reached before convergence. Consider increasing max_iter to improve the fit.\n",
      "  warnings.warn(\"Maximum number of iteration reached before \"\n",
      "C:\\Users\\Vicky\\anaconda31\\lib\\site-packages\\sklearn\\linear_model\\_stochastic_gradient.py:574: ConvergenceWarning: Maximum number of iteration reached before convergence. Consider increasing max_iter to improve the fit.\n",
      "  warnings.warn(\"Maximum number of iteration reached before \"\n",
      "C:\\Users\\Vicky\\anaconda31\\lib\\site-packages\\sklearn\\linear_model\\_stochastic_gradient.py:574: ConvergenceWarning: Maximum number of iteration reached before convergence. Consider increasing max_iter to improve the fit.\n",
      "  warnings.warn(\"Maximum number of iteration reached before \"\n",
      "C:\\Users\\Vicky\\anaconda31\\lib\\site-packages\\sklearn\\linear_model\\_stochastic_gradient.py:574: ConvergenceWarning: Maximum number of iteration reached before convergence. Consider increasing max_iter to improve the fit.\n",
      "  warnings.warn(\"Maximum number of iteration reached before \"\n",
      "C:\\Users\\Vicky\\anaconda31\\lib\\site-packages\\sklearn\\linear_model\\_stochastic_gradient.py:574: ConvergenceWarning: Maximum number of iteration reached before convergence. Consider increasing max_iter to improve the fit.\n",
      "  warnings.warn(\"Maximum number of iteration reached before \"\n",
      "C:\\Users\\Vicky\\anaconda31\\lib\\site-packages\\sklearn\\linear_model\\_stochastic_gradient.py:574: ConvergenceWarning: Maximum number of iteration reached before convergence. Consider increasing max_iter to improve the fit.\n",
      "  warnings.warn(\"Maximum number of iteration reached before \"\n",
      "C:\\Users\\Vicky\\anaconda31\\lib\\site-packages\\sklearn\\linear_model\\_stochastic_gradient.py:574: ConvergenceWarning: Maximum number of iteration reached before convergence. Consider increasing max_iter to improve the fit.\n",
      "  warnings.warn(\"Maximum number of iteration reached before \"\n",
      "C:\\Users\\Vicky\\anaconda31\\lib\\site-packages\\sklearn\\linear_model\\_stochastic_gradient.py:574: ConvergenceWarning: Maximum number of iteration reached before convergence. Consider increasing max_iter to improve the fit.\n",
      "  warnings.warn(\"Maximum number of iteration reached before \"\n",
      "C:\\Users\\Vicky\\anaconda31\\lib\\site-packages\\sklearn\\linear_model\\_stochastic_gradient.py:574: ConvergenceWarning: Maximum number of iteration reached before convergence. Consider increasing max_iter to improve the fit.\n",
      "  warnings.warn(\"Maximum number of iteration reached before \"\n",
      "C:\\Users\\Vicky\\anaconda31\\lib\\site-packages\\sklearn\\linear_model\\_stochastic_gradient.py:574: ConvergenceWarning: Maximum number of iteration reached before convergence. Consider increasing max_iter to improve the fit.\n",
      "  warnings.warn(\"Maximum number of iteration reached before \"\n",
      "C:\\Users\\Vicky\\anaconda31\\lib\\site-packages\\sklearn\\linear_model\\_stochastic_gradient.py:574: ConvergenceWarning: Maximum number of iteration reached before convergence. Consider increasing max_iter to improve the fit.\n",
      "  warnings.warn(\"Maximum number of iteration reached before \"\n",
      "C:\\Users\\Vicky\\anaconda31\\lib\\site-packages\\sklearn\\linear_model\\_stochastic_gradient.py:574: ConvergenceWarning: Maximum number of iteration reached before convergence. Consider increasing max_iter to improve the fit.\n",
      "  warnings.warn(\"Maximum number of iteration reached before \"\n",
      "C:\\Users\\Vicky\\anaconda31\\lib\\site-packages\\sklearn\\linear_model\\_stochastic_gradient.py:574: ConvergenceWarning: Maximum number of iteration reached before convergence. Consider increasing max_iter to improve the fit.\n",
      "  warnings.warn(\"Maximum number of iteration reached before \"\n",
      "C:\\Users\\Vicky\\anaconda31\\lib\\site-packages\\sklearn\\linear_model\\_stochastic_gradient.py:574: ConvergenceWarning: Maximum number of iteration reached before convergence. Consider increasing max_iter to improve the fit.\n",
      "  warnings.warn(\"Maximum number of iteration reached before \"\n",
      "C:\\Users\\Vicky\\anaconda31\\lib\\site-packages\\sklearn\\linear_model\\_stochastic_gradient.py:574: ConvergenceWarning: Maximum number of iteration reached before convergence. Consider increasing max_iter to improve the fit.\n",
      "  warnings.warn(\"Maximum number of iteration reached before \"\n"
     ]
    },
    {
     "name": "stderr",
     "output_type": "stream",
     "text": [
      "C:\\Users\\Vicky\\anaconda31\\lib\\site-packages\\sklearn\\linear_model\\_stochastic_gradient.py:574: ConvergenceWarning: Maximum number of iteration reached before convergence. Consider increasing max_iter to improve the fit.\n",
      "  warnings.warn(\"Maximum number of iteration reached before \"\n",
      "C:\\Users\\Vicky\\anaconda31\\lib\\site-packages\\sklearn\\linear_model\\_stochastic_gradient.py:574: ConvergenceWarning: Maximum number of iteration reached before convergence. Consider increasing max_iter to improve the fit.\n",
      "  warnings.warn(\"Maximum number of iteration reached before \"\n",
      "C:\\Users\\Vicky\\anaconda31\\lib\\site-packages\\sklearn\\linear_model\\_stochastic_gradient.py:574: ConvergenceWarning: Maximum number of iteration reached before convergence. Consider increasing max_iter to improve the fit.\n",
      "  warnings.warn(\"Maximum number of iteration reached before \"\n",
      "C:\\Users\\Vicky\\anaconda31\\lib\\site-packages\\sklearn\\linear_model\\_stochastic_gradient.py:574: ConvergenceWarning: Maximum number of iteration reached before convergence. Consider increasing max_iter to improve the fit.\n",
      "  warnings.warn(\"Maximum number of iteration reached before \"\n",
      "C:\\Users\\Vicky\\anaconda31\\lib\\site-packages\\sklearn\\linear_model\\_stochastic_gradient.py:574: ConvergenceWarning: Maximum number of iteration reached before convergence. Consider increasing max_iter to improve the fit.\n",
      "  warnings.warn(\"Maximum number of iteration reached before \"\n",
      "C:\\Users\\Vicky\\anaconda31\\lib\\site-packages\\sklearn\\linear_model\\_stochastic_gradient.py:574: ConvergenceWarning: Maximum number of iteration reached before convergence. Consider increasing max_iter to improve the fit.\n",
      "  warnings.warn(\"Maximum number of iteration reached before \"\n",
      "C:\\Users\\Vicky\\anaconda31\\lib\\site-packages\\sklearn\\linear_model\\_stochastic_gradient.py:574: ConvergenceWarning: Maximum number of iteration reached before convergence. Consider increasing max_iter to improve the fit.\n",
      "  warnings.warn(\"Maximum number of iteration reached before \"\n",
      "C:\\Users\\Vicky\\anaconda31\\lib\\site-packages\\sklearn\\linear_model\\_stochastic_gradient.py:574: ConvergenceWarning: Maximum number of iteration reached before convergence. Consider increasing max_iter to improve the fit.\n",
      "  warnings.warn(\"Maximum number of iteration reached before \"\n",
      "C:\\Users\\Vicky\\anaconda31\\lib\\site-packages\\sklearn\\linear_model\\_stochastic_gradient.py:574: ConvergenceWarning: Maximum number of iteration reached before convergence. Consider increasing max_iter to improve the fit.\n",
      "  warnings.warn(\"Maximum number of iteration reached before \"\n",
      "C:\\Users\\Vicky\\anaconda31\\lib\\site-packages\\sklearn\\linear_model\\_stochastic_gradient.py:574: ConvergenceWarning: Maximum number of iteration reached before convergence. Consider increasing max_iter to improve the fit.\n",
      "  warnings.warn(\"Maximum number of iteration reached before \"\n",
      "C:\\Users\\Vicky\\anaconda31\\lib\\site-packages\\sklearn\\linear_model\\_stochastic_gradient.py:574: ConvergenceWarning: Maximum number of iteration reached before convergence. Consider increasing max_iter to improve the fit.\n",
      "  warnings.warn(\"Maximum number of iteration reached before \"\n",
      "C:\\Users\\Vicky\\anaconda31\\lib\\site-packages\\sklearn\\linear_model\\_stochastic_gradient.py:574: ConvergenceWarning: Maximum number of iteration reached before convergence. Consider increasing max_iter to improve the fit.\n",
      "  warnings.warn(\"Maximum number of iteration reached before \"\n",
      "C:\\Users\\Vicky\\anaconda31\\lib\\site-packages\\sklearn\\linear_model\\_stochastic_gradient.py:574: ConvergenceWarning: Maximum number of iteration reached before convergence. Consider increasing max_iter to improve the fit.\n",
      "  warnings.warn(\"Maximum number of iteration reached before \"\n",
      "C:\\Users\\Vicky\\anaconda31\\lib\\site-packages\\sklearn\\linear_model\\_stochastic_gradient.py:574: ConvergenceWarning: Maximum number of iteration reached before convergence. Consider increasing max_iter to improve the fit.\n",
      "  warnings.warn(\"Maximum number of iteration reached before \"\n",
      "C:\\Users\\Vicky\\anaconda31\\lib\\site-packages\\sklearn\\linear_model\\_stochastic_gradient.py:574: ConvergenceWarning: Maximum number of iteration reached before convergence. Consider increasing max_iter to improve the fit.\n",
      "  warnings.warn(\"Maximum number of iteration reached before \"\n",
      "C:\\Users\\Vicky\\anaconda31\\lib\\site-packages\\sklearn\\linear_model\\_stochastic_gradient.py:574: ConvergenceWarning: Maximum number of iteration reached before convergence. Consider increasing max_iter to improve the fit.\n",
      "  warnings.warn(\"Maximum number of iteration reached before \"\n",
      "C:\\Users\\Vicky\\anaconda31\\lib\\site-packages\\sklearn\\linear_model\\_stochastic_gradient.py:574: ConvergenceWarning: Maximum number of iteration reached before convergence. Consider increasing max_iter to improve the fit.\n",
      "  warnings.warn(\"Maximum number of iteration reached before \"\n",
      "C:\\Users\\Vicky\\anaconda31\\lib\\site-packages\\sklearn\\linear_model\\_stochastic_gradient.py:574: ConvergenceWarning: Maximum number of iteration reached before convergence. Consider increasing max_iter to improve the fit.\n",
      "  warnings.warn(\"Maximum number of iteration reached before \"\n",
      "C:\\Users\\Vicky\\anaconda31\\lib\\site-packages\\sklearn\\linear_model\\_stochastic_gradient.py:574: ConvergenceWarning: Maximum number of iteration reached before convergence. Consider increasing max_iter to improve the fit.\n",
      "  warnings.warn(\"Maximum number of iteration reached before \"\n",
      "C:\\Users\\Vicky\\anaconda31\\lib\\site-packages\\sklearn\\linear_model\\_stochastic_gradient.py:574: ConvergenceWarning: Maximum number of iteration reached before convergence. Consider increasing max_iter to improve the fit.\n",
      "  warnings.warn(\"Maximum number of iteration reached before \"\n",
      "C:\\Users\\Vicky\\anaconda31\\lib\\site-packages\\sklearn\\linear_model\\_stochastic_gradient.py:574: ConvergenceWarning: Maximum number of iteration reached before convergence. Consider increasing max_iter to improve the fit.\n",
      "  warnings.warn(\"Maximum number of iteration reached before \"\n",
      "C:\\Users\\Vicky\\anaconda31\\lib\\site-packages\\sklearn\\linear_model\\_stochastic_gradient.py:574: ConvergenceWarning: Maximum number of iteration reached before convergence. Consider increasing max_iter to improve the fit.\n",
      "  warnings.warn(\"Maximum number of iteration reached before \"\n",
      "C:\\Users\\Vicky\\anaconda31\\lib\\site-packages\\sklearn\\linear_model\\_stochastic_gradient.py:574: ConvergenceWarning: Maximum number of iteration reached before convergence. Consider increasing max_iter to improve the fit.\n",
      "  warnings.warn(\"Maximum number of iteration reached before \"\n",
      "C:\\Users\\Vicky\\anaconda31\\lib\\site-packages\\sklearn\\linear_model\\_stochastic_gradient.py:574: ConvergenceWarning: Maximum number of iteration reached before convergence. Consider increasing max_iter to improve the fit.\n",
      "  warnings.warn(\"Maximum number of iteration reached before \"\n",
      "C:\\Users\\Vicky\\anaconda31\\lib\\site-packages\\sklearn\\linear_model\\_stochastic_gradient.py:574: ConvergenceWarning: Maximum number of iteration reached before convergence. Consider increasing max_iter to improve the fit.\n",
      "  warnings.warn(\"Maximum number of iteration reached before \"\n",
      "C:\\Users\\Vicky\\anaconda31\\lib\\site-packages\\sklearn\\linear_model\\_stochastic_gradient.py:574: ConvergenceWarning: Maximum number of iteration reached before convergence. Consider increasing max_iter to improve the fit.\n",
      "  warnings.warn(\"Maximum number of iteration reached before \"\n",
      "C:\\Users\\Vicky\\anaconda31\\lib\\site-packages\\sklearn\\linear_model\\_stochastic_gradient.py:574: ConvergenceWarning: Maximum number of iteration reached before convergence. Consider increasing max_iter to improve the fit.\n",
      "  warnings.warn(\"Maximum number of iteration reached before \"\n",
      "C:\\Users\\Vicky\\anaconda31\\lib\\site-packages\\sklearn\\linear_model\\_stochastic_gradient.py:574: ConvergenceWarning: Maximum number of iteration reached before convergence. Consider increasing max_iter to improve the fit.\n",
      "  warnings.warn(\"Maximum number of iteration reached before \"\n",
      "C:\\Users\\Vicky\\anaconda31\\lib\\site-packages\\sklearn\\linear_model\\_stochastic_gradient.py:574: ConvergenceWarning: Maximum number of iteration reached before convergence. Consider increasing max_iter to improve the fit.\n",
      "  warnings.warn(\"Maximum number of iteration reached before \"\n",
      "C:\\Users\\Vicky\\anaconda31\\lib\\site-packages\\sklearn\\linear_model\\_stochastic_gradient.py:574: ConvergenceWarning: Maximum number of iteration reached before convergence. Consider increasing max_iter to improve the fit.\n",
      "  warnings.warn(\"Maximum number of iteration reached before \"\n"
     ]
    },
    {
     "name": "stderr",
     "output_type": "stream",
     "text": [
      "C:\\Users\\Vicky\\anaconda31\\lib\\site-packages\\sklearn\\linear_model\\_stochastic_gradient.py:574: ConvergenceWarning: Maximum number of iteration reached before convergence. Consider increasing max_iter to improve the fit.\n",
      "  warnings.warn(\"Maximum number of iteration reached before \"\n",
      "C:\\Users\\Vicky\\anaconda31\\lib\\site-packages\\sklearn\\linear_model\\_stochastic_gradient.py:574: ConvergenceWarning: Maximum number of iteration reached before convergence. Consider increasing max_iter to improve the fit.\n",
      "  warnings.warn(\"Maximum number of iteration reached before \"\n",
      "C:\\Users\\Vicky\\anaconda31\\lib\\site-packages\\sklearn\\linear_model\\_stochastic_gradient.py:574: ConvergenceWarning: Maximum number of iteration reached before convergence. Consider increasing max_iter to improve the fit.\n",
      "  warnings.warn(\"Maximum number of iteration reached before \"\n",
      "C:\\Users\\Vicky\\anaconda31\\lib\\site-packages\\sklearn\\linear_model\\_stochastic_gradient.py:574: ConvergenceWarning: Maximum number of iteration reached before convergence. Consider increasing max_iter to improve the fit.\n",
      "  warnings.warn(\"Maximum number of iteration reached before \"\n",
      "C:\\Users\\Vicky\\anaconda31\\lib\\site-packages\\sklearn\\linear_model\\_stochastic_gradient.py:574: ConvergenceWarning: Maximum number of iteration reached before convergence. Consider increasing max_iter to improve the fit.\n",
      "  warnings.warn(\"Maximum number of iteration reached before \"\n",
      "C:\\Users\\Vicky\\anaconda31\\lib\\site-packages\\sklearn\\linear_model\\_stochastic_gradient.py:574: ConvergenceWarning: Maximum number of iteration reached before convergence. Consider increasing max_iter to improve the fit.\n",
      "  warnings.warn(\"Maximum number of iteration reached before \"\n",
      "C:\\Users\\Vicky\\anaconda31\\lib\\site-packages\\sklearn\\linear_model\\_stochastic_gradient.py:574: ConvergenceWarning: Maximum number of iteration reached before convergence. Consider increasing max_iter to improve the fit.\n",
      "  warnings.warn(\"Maximum number of iteration reached before \"\n",
      "C:\\Users\\Vicky\\anaconda31\\lib\\site-packages\\sklearn\\linear_model\\_stochastic_gradient.py:574: ConvergenceWarning: Maximum number of iteration reached before convergence. Consider increasing max_iter to improve the fit.\n",
      "  warnings.warn(\"Maximum number of iteration reached before \"\n",
      "C:\\Users\\Vicky\\anaconda31\\lib\\site-packages\\sklearn\\linear_model\\_stochastic_gradient.py:574: ConvergenceWarning: Maximum number of iteration reached before convergence. Consider increasing max_iter to improve the fit.\n",
      "  warnings.warn(\"Maximum number of iteration reached before \"\n",
      "C:\\Users\\Vicky\\anaconda31\\lib\\site-packages\\sklearn\\linear_model\\_stochastic_gradient.py:574: ConvergenceWarning: Maximum number of iteration reached before convergence. Consider increasing max_iter to improve the fit.\n",
      "  warnings.warn(\"Maximum number of iteration reached before \"\n",
      "C:\\Users\\Vicky\\anaconda31\\lib\\site-packages\\sklearn\\linear_model\\_stochastic_gradient.py:574: ConvergenceWarning: Maximum number of iteration reached before convergence. Consider increasing max_iter to improve the fit.\n",
      "  warnings.warn(\"Maximum number of iteration reached before \"\n",
      "C:\\Users\\Vicky\\anaconda31\\lib\\site-packages\\sklearn\\linear_model\\_stochastic_gradient.py:574: ConvergenceWarning: Maximum number of iteration reached before convergence. Consider increasing max_iter to improve the fit.\n",
      "  warnings.warn(\"Maximum number of iteration reached before \"\n",
      "C:\\Users\\Vicky\\anaconda31\\lib\\site-packages\\sklearn\\linear_model\\_stochastic_gradient.py:574: ConvergenceWarning: Maximum number of iteration reached before convergence. Consider increasing max_iter to improve the fit.\n",
      "  warnings.warn(\"Maximum number of iteration reached before \"\n",
      "C:\\Users\\Vicky\\anaconda31\\lib\\site-packages\\sklearn\\linear_model\\_stochastic_gradient.py:574: ConvergenceWarning: Maximum number of iteration reached before convergence. Consider increasing max_iter to improve the fit.\n",
      "  warnings.warn(\"Maximum number of iteration reached before \"\n",
      "C:\\Users\\Vicky\\anaconda31\\lib\\site-packages\\sklearn\\linear_model\\_stochastic_gradient.py:574: ConvergenceWarning: Maximum number of iteration reached before convergence. Consider increasing max_iter to improve the fit.\n",
      "  warnings.warn(\"Maximum number of iteration reached before \"\n",
      "C:\\Users\\Vicky\\anaconda31\\lib\\site-packages\\sklearn\\linear_model\\_stochastic_gradient.py:574: ConvergenceWarning: Maximum number of iteration reached before convergence. Consider increasing max_iter to improve the fit.\n",
      "  warnings.warn(\"Maximum number of iteration reached before \"\n",
      "C:\\Users\\Vicky\\anaconda31\\lib\\site-packages\\sklearn\\linear_model\\_stochastic_gradient.py:574: ConvergenceWarning: Maximum number of iteration reached before convergence. Consider increasing max_iter to improve the fit.\n",
      "  warnings.warn(\"Maximum number of iteration reached before \"\n",
      "C:\\Users\\Vicky\\anaconda31\\lib\\site-packages\\sklearn\\linear_model\\_stochastic_gradient.py:574: ConvergenceWarning: Maximum number of iteration reached before convergence. Consider increasing max_iter to improve the fit.\n",
      "  warnings.warn(\"Maximum number of iteration reached before \"\n",
      "C:\\Users\\Vicky\\anaconda31\\lib\\site-packages\\sklearn\\linear_model\\_stochastic_gradient.py:574: ConvergenceWarning: Maximum number of iteration reached before convergence. Consider increasing max_iter to improve the fit.\n",
      "  warnings.warn(\"Maximum number of iteration reached before \"\n",
      "C:\\Users\\Vicky\\anaconda31\\lib\\site-packages\\sklearn\\linear_model\\_stochastic_gradient.py:574: ConvergenceWarning: Maximum number of iteration reached before convergence. Consider increasing max_iter to improve the fit.\n",
      "  warnings.warn(\"Maximum number of iteration reached before \"\n",
      "C:\\Users\\Vicky\\anaconda31\\lib\\site-packages\\sklearn\\linear_model\\_stochastic_gradient.py:574: ConvergenceWarning: Maximum number of iteration reached before convergence. Consider increasing max_iter to improve the fit.\n",
      "  warnings.warn(\"Maximum number of iteration reached before \"\n",
      "C:\\Users\\Vicky\\anaconda31\\lib\\site-packages\\sklearn\\linear_model\\_stochastic_gradient.py:574: ConvergenceWarning: Maximum number of iteration reached before convergence. Consider increasing max_iter to improve the fit.\n",
      "  warnings.warn(\"Maximum number of iteration reached before \"\n",
      "C:\\Users\\Vicky\\anaconda31\\lib\\site-packages\\sklearn\\linear_model\\_stochastic_gradient.py:574: ConvergenceWarning: Maximum number of iteration reached before convergence. Consider increasing max_iter to improve the fit.\n",
      "  warnings.warn(\"Maximum number of iteration reached before \"\n",
      "C:\\Users\\Vicky\\anaconda31\\lib\\site-packages\\sklearn\\linear_model\\_stochastic_gradient.py:574: ConvergenceWarning: Maximum number of iteration reached before convergence. Consider increasing max_iter to improve the fit.\n",
      "  warnings.warn(\"Maximum number of iteration reached before \"\n",
      "C:\\Users\\Vicky\\anaconda31\\lib\\site-packages\\sklearn\\linear_model\\_stochastic_gradient.py:574: ConvergenceWarning: Maximum number of iteration reached before convergence. Consider increasing max_iter to improve the fit.\n",
      "  warnings.warn(\"Maximum number of iteration reached before \"\n",
      "C:\\Users\\Vicky\\anaconda31\\lib\\site-packages\\sklearn\\linear_model\\_stochastic_gradient.py:574: ConvergenceWarning: Maximum number of iteration reached before convergence. Consider increasing max_iter to improve the fit.\n",
      "  warnings.warn(\"Maximum number of iteration reached before \"\n",
      "C:\\Users\\Vicky\\anaconda31\\lib\\site-packages\\sklearn\\linear_model\\_stochastic_gradient.py:574: ConvergenceWarning: Maximum number of iteration reached before convergence. Consider increasing max_iter to improve the fit.\n",
      "  warnings.warn(\"Maximum number of iteration reached before \"\n",
      "C:\\Users\\Vicky\\anaconda31\\lib\\site-packages\\sklearn\\linear_model\\_stochastic_gradient.py:574: ConvergenceWarning: Maximum number of iteration reached before convergence. Consider increasing max_iter to improve the fit.\n",
      "  warnings.warn(\"Maximum number of iteration reached before \"\n",
      "C:\\Users\\Vicky\\anaconda31\\lib\\site-packages\\sklearn\\linear_model\\_stochastic_gradient.py:574: ConvergenceWarning: Maximum number of iteration reached before convergence. Consider increasing max_iter to improve the fit.\n",
      "  warnings.warn(\"Maximum number of iteration reached before \"\n",
      "C:\\Users\\Vicky\\anaconda31\\lib\\site-packages\\sklearn\\linear_model\\_stochastic_gradient.py:574: ConvergenceWarning: Maximum number of iteration reached before convergence. Consider increasing max_iter to improve the fit.\n",
      "  warnings.warn(\"Maximum number of iteration reached before \"\n"
     ]
    },
    {
     "name": "stderr",
     "output_type": "stream",
     "text": [
      "C:\\Users\\Vicky\\anaconda31\\lib\\site-packages\\sklearn\\linear_model\\_stochastic_gradient.py:574: ConvergenceWarning: Maximum number of iteration reached before convergence. Consider increasing max_iter to improve the fit.\n",
      "  warnings.warn(\"Maximum number of iteration reached before \"\n",
      "C:\\Users\\Vicky\\anaconda31\\lib\\site-packages\\sklearn\\linear_model\\_stochastic_gradient.py:574: ConvergenceWarning: Maximum number of iteration reached before convergence. Consider increasing max_iter to improve the fit.\n",
      "  warnings.warn(\"Maximum number of iteration reached before \"\n",
      "C:\\Users\\Vicky\\anaconda31\\lib\\site-packages\\sklearn\\linear_model\\_stochastic_gradient.py:574: ConvergenceWarning: Maximum number of iteration reached before convergence. Consider increasing max_iter to improve the fit.\n",
      "  warnings.warn(\"Maximum number of iteration reached before \"\n",
      "C:\\Users\\Vicky\\anaconda31\\lib\\site-packages\\sklearn\\linear_model\\_stochastic_gradient.py:574: ConvergenceWarning: Maximum number of iteration reached before convergence. Consider increasing max_iter to improve the fit.\n",
      "  warnings.warn(\"Maximum number of iteration reached before \"\n",
      "C:\\Users\\Vicky\\anaconda31\\lib\\site-packages\\sklearn\\linear_model\\_stochastic_gradient.py:574: ConvergenceWarning: Maximum number of iteration reached before convergence. Consider increasing max_iter to improve the fit.\n",
      "  warnings.warn(\"Maximum number of iteration reached before \"\n",
      "C:\\Users\\Vicky\\anaconda31\\lib\\site-packages\\sklearn\\linear_model\\_stochastic_gradient.py:574: ConvergenceWarning: Maximum number of iteration reached before convergence. Consider increasing max_iter to improve the fit.\n",
      "  warnings.warn(\"Maximum number of iteration reached before \"\n",
      "C:\\Users\\Vicky\\anaconda31\\lib\\site-packages\\sklearn\\linear_model\\_stochastic_gradient.py:574: ConvergenceWarning: Maximum number of iteration reached before convergence. Consider increasing max_iter to improve the fit.\n",
      "  warnings.warn(\"Maximum number of iteration reached before \"\n",
      "C:\\Users\\Vicky\\anaconda31\\lib\\site-packages\\sklearn\\linear_model\\_stochastic_gradient.py:574: ConvergenceWarning: Maximum number of iteration reached before convergence. Consider increasing max_iter to improve the fit.\n",
      "  warnings.warn(\"Maximum number of iteration reached before \"\n",
      "C:\\Users\\Vicky\\anaconda31\\lib\\site-packages\\sklearn\\linear_model\\_stochastic_gradient.py:574: ConvergenceWarning: Maximum number of iteration reached before convergence. Consider increasing max_iter to improve the fit.\n",
      "  warnings.warn(\"Maximum number of iteration reached before \"\n",
      "C:\\Users\\Vicky\\anaconda31\\lib\\site-packages\\sklearn\\linear_model\\_stochastic_gradient.py:574: ConvergenceWarning: Maximum number of iteration reached before convergence. Consider increasing max_iter to improve the fit.\n",
      "  warnings.warn(\"Maximum number of iteration reached before \"\n",
      "C:\\Users\\Vicky\\anaconda31\\lib\\site-packages\\sklearn\\linear_model\\_stochastic_gradient.py:574: ConvergenceWarning: Maximum number of iteration reached before convergence. Consider increasing max_iter to improve the fit.\n",
      "  warnings.warn(\"Maximum number of iteration reached before \"\n",
      "C:\\Users\\Vicky\\anaconda31\\lib\\site-packages\\sklearn\\linear_model\\_stochastic_gradient.py:574: ConvergenceWarning: Maximum number of iteration reached before convergence. Consider increasing max_iter to improve the fit.\n",
      "  warnings.warn(\"Maximum number of iteration reached before \"\n",
      "C:\\Users\\Vicky\\anaconda31\\lib\\site-packages\\sklearn\\linear_model\\_stochastic_gradient.py:574: ConvergenceWarning: Maximum number of iteration reached before convergence. Consider increasing max_iter to improve the fit.\n",
      "  warnings.warn(\"Maximum number of iteration reached before \"\n",
      "C:\\Users\\Vicky\\anaconda31\\lib\\site-packages\\sklearn\\linear_model\\_stochastic_gradient.py:574: ConvergenceWarning: Maximum number of iteration reached before convergence. Consider increasing max_iter to improve the fit.\n",
      "  warnings.warn(\"Maximum number of iteration reached before \"\n",
      "C:\\Users\\Vicky\\anaconda31\\lib\\site-packages\\sklearn\\linear_model\\_stochastic_gradient.py:574: ConvergenceWarning: Maximum number of iteration reached before convergence. Consider increasing max_iter to improve the fit.\n",
      "  warnings.warn(\"Maximum number of iteration reached before \"\n",
      "C:\\Users\\Vicky\\anaconda31\\lib\\site-packages\\sklearn\\linear_model\\_stochastic_gradient.py:574: ConvergenceWarning: Maximum number of iteration reached before convergence. Consider increasing max_iter to improve the fit.\n",
      "  warnings.warn(\"Maximum number of iteration reached before \"\n",
      "C:\\Users\\Vicky\\anaconda31\\lib\\site-packages\\sklearn\\linear_model\\_stochastic_gradient.py:574: ConvergenceWarning: Maximum number of iteration reached before convergence. Consider increasing max_iter to improve the fit.\n",
      "  warnings.warn(\"Maximum number of iteration reached before \"\n",
      "C:\\Users\\Vicky\\anaconda31\\lib\\site-packages\\sklearn\\linear_model\\_stochastic_gradient.py:574: ConvergenceWarning: Maximum number of iteration reached before convergence. Consider increasing max_iter to improve the fit.\n",
      "  warnings.warn(\"Maximum number of iteration reached before \"\n",
      "C:\\Users\\Vicky\\anaconda31\\lib\\site-packages\\sklearn\\linear_model\\_stochastic_gradient.py:574: ConvergenceWarning: Maximum number of iteration reached before convergence. Consider increasing max_iter to improve the fit.\n",
      "  warnings.warn(\"Maximum number of iteration reached before \"\n",
      "C:\\Users\\Vicky\\anaconda31\\lib\\site-packages\\sklearn\\linear_model\\_stochastic_gradient.py:574: ConvergenceWarning: Maximum number of iteration reached before convergence. Consider increasing max_iter to improve the fit.\n",
      "  warnings.warn(\"Maximum number of iteration reached before \"\n",
      "C:\\Users\\Vicky\\anaconda31\\lib\\site-packages\\sklearn\\linear_model\\_stochastic_gradient.py:574: ConvergenceWarning: Maximum number of iteration reached before convergence. Consider increasing max_iter to improve the fit.\n",
      "  warnings.warn(\"Maximum number of iteration reached before \"\n",
      "C:\\Users\\Vicky\\anaconda31\\lib\\site-packages\\sklearn\\linear_model\\_stochastic_gradient.py:574: ConvergenceWarning: Maximum number of iteration reached before convergence. Consider increasing max_iter to improve the fit.\n",
      "  warnings.warn(\"Maximum number of iteration reached before \"\n",
      "C:\\Users\\Vicky\\anaconda31\\lib\\site-packages\\sklearn\\linear_model\\_stochastic_gradient.py:574: ConvergenceWarning: Maximum number of iteration reached before convergence. Consider increasing max_iter to improve the fit.\n",
      "  warnings.warn(\"Maximum number of iteration reached before \"\n",
      "C:\\Users\\Vicky\\anaconda31\\lib\\site-packages\\sklearn\\linear_model\\_stochastic_gradient.py:574: ConvergenceWarning: Maximum number of iteration reached before convergence. Consider increasing max_iter to improve the fit.\n",
      "  warnings.warn(\"Maximum number of iteration reached before \"\n",
      "C:\\Users\\Vicky\\anaconda31\\lib\\site-packages\\sklearn\\linear_model\\_stochastic_gradient.py:574: ConvergenceWarning: Maximum number of iteration reached before convergence. Consider increasing max_iter to improve the fit.\n",
      "  warnings.warn(\"Maximum number of iteration reached before \"\n",
      "C:\\Users\\Vicky\\anaconda31\\lib\\site-packages\\sklearn\\linear_model\\_stochastic_gradient.py:574: ConvergenceWarning: Maximum number of iteration reached before convergence. Consider increasing max_iter to improve the fit.\n",
      "  warnings.warn(\"Maximum number of iteration reached before \"\n",
      "C:\\Users\\Vicky\\anaconda31\\lib\\site-packages\\sklearn\\linear_model\\_stochastic_gradient.py:574: ConvergenceWarning: Maximum number of iteration reached before convergence. Consider increasing max_iter to improve the fit.\n",
      "  warnings.warn(\"Maximum number of iteration reached before \"\n",
      "C:\\Users\\Vicky\\anaconda31\\lib\\site-packages\\sklearn\\linear_model\\_stochastic_gradient.py:574: ConvergenceWarning: Maximum number of iteration reached before convergence. Consider increasing max_iter to improve the fit.\n",
      "  warnings.warn(\"Maximum number of iteration reached before \"\n",
      "C:\\Users\\Vicky\\anaconda31\\lib\\site-packages\\sklearn\\linear_model\\_stochastic_gradient.py:574: ConvergenceWarning: Maximum number of iteration reached before convergence. Consider increasing max_iter to improve the fit.\n",
      "  warnings.warn(\"Maximum number of iteration reached before \"\n",
      "C:\\Users\\Vicky\\anaconda31\\lib\\site-packages\\sklearn\\linear_model\\_stochastic_gradient.py:574: ConvergenceWarning: Maximum number of iteration reached before convergence. Consider increasing max_iter to improve the fit.\n",
      "  warnings.warn(\"Maximum number of iteration reached before \"\n"
     ]
    },
    {
     "name": "stderr",
     "output_type": "stream",
     "text": [
      "C:\\Users\\Vicky\\anaconda31\\lib\\site-packages\\sklearn\\linear_model\\_stochastic_gradient.py:574: ConvergenceWarning: Maximum number of iteration reached before convergence. Consider increasing max_iter to improve the fit.\n",
      "  warnings.warn(\"Maximum number of iteration reached before \"\n",
      "C:\\Users\\Vicky\\anaconda31\\lib\\site-packages\\sklearn\\linear_model\\_stochastic_gradient.py:574: ConvergenceWarning: Maximum number of iteration reached before convergence. Consider increasing max_iter to improve the fit.\n",
      "  warnings.warn(\"Maximum number of iteration reached before \"\n",
      "C:\\Users\\Vicky\\anaconda31\\lib\\site-packages\\sklearn\\linear_model\\_stochastic_gradient.py:574: ConvergenceWarning: Maximum number of iteration reached before convergence. Consider increasing max_iter to improve the fit.\n",
      "  warnings.warn(\"Maximum number of iteration reached before \"\n",
      "C:\\Users\\Vicky\\anaconda31\\lib\\site-packages\\sklearn\\linear_model\\_stochastic_gradient.py:574: ConvergenceWarning: Maximum number of iteration reached before convergence. Consider increasing max_iter to improve the fit.\n",
      "  warnings.warn(\"Maximum number of iteration reached before \"\n",
      "C:\\Users\\Vicky\\anaconda31\\lib\\site-packages\\sklearn\\linear_model\\_stochastic_gradient.py:574: ConvergenceWarning: Maximum number of iteration reached before convergence. Consider increasing max_iter to improve the fit.\n",
      "  warnings.warn(\"Maximum number of iteration reached before \"\n",
      "C:\\Users\\Vicky\\anaconda31\\lib\\site-packages\\sklearn\\linear_model\\_stochastic_gradient.py:574: ConvergenceWarning: Maximum number of iteration reached before convergence. Consider increasing max_iter to improve the fit.\n",
      "  warnings.warn(\"Maximum number of iteration reached before \"\n",
      "C:\\Users\\Vicky\\anaconda31\\lib\\site-packages\\sklearn\\linear_model\\_stochastic_gradient.py:574: ConvergenceWarning: Maximum number of iteration reached before convergence. Consider increasing max_iter to improve the fit.\n",
      "  warnings.warn(\"Maximum number of iteration reached before \"\n",
      "C:\\Users\\Vicky\\anaconda31\\lib\\site-packages\\sklearn\\linear_model\\_stochastic_gradient.py:574: ConvergenceWarning: Maximum number of iteration reached before convergence. Consider increasing max_iter to improve the fit.\n",
      "  warnings.warn(\"Maximum number of iteration reached before \"\n",
      "C:\\Users\\Vicky\\anaconda31\\lib\\site-packages\\sklearn\\linear_model\\_stochastic_gradient.py:574: ConvergenceWarning: Maximum number of iteration reached before convergence. Consider increasing max_iter to improve the fit.\n",
      "  warnings.warn(\"Maximum number of iteration reached before \"\n",
      "C:\\Users\\Vicky\\anaconda31\\lib\\site-packages\\sklearn\\linear_model\\_stochastic_gradient.py:574: ConvergenceWarning: Maximum number of iteration reached before convergence. Consider increasing max_iter to improve the fit.\n",
      "  warnings.warn(\"Maximum number of iteration reached before \"\n",
      "C:\\Users\\Vicky\\anaconda31\\lib\\site-packages\\sklearn\\linear_model\\_stochastic_gradient.py:574: ConvergenceWarning: Maximum number of iteration reached before convergence. Consider increasing max_iter to improve the fit.\n",
      "  warnings.warn(\"Maximum number of iteration reached before \"\n",
      "C:\\Users\\Vicky\\anaconda31\\lib\\site-packages\\sklearn\\linear_model\\_stochastic_gradient.py:574: ConvergenceWarning: Maximum number of iteration reached before convergence. Consider increasing max_iter to improve the fit.\n",
      "  warnings.warn(\"Maximum number of iteration reached before \"\n",
      "C:\\Users\\Vicky\\anaconda31\\lib\\site-packages\\sklearn\\linear_model\\_stochastic_gradient.py:574: ConvergenceWarning: Maximum number of iteration reached before convergence. Consider increasing max_iter to improve the fit.\n",
      "  warnings.warn(\"Maximum number of iteration reached before \"\n",
      "C:\\Users\\Vicky\\anaconda31\\lib\\site-packages\\sklearn\\linear_model\\_stochastic_gradient.py:574: ConvergenceWarning: Maximum number of iteration reached before convergence. Consider increasing max_iter to improve the fit.\n",
      "  warnings.warn(\"Maximum number of iteration reached before \"\n",
      "C:\\Users\\Vicky\\anaconda31\\lib\\site-packages\\sklearn\\linear_model\\_stochastic_gradient.py:574: ConvergenceWarning: Maximum number of iteration reached before convergence. Consider increasing max_iter to improve the fit.\n",
      "  warnings.warn(\"Maximum number of iteration reached before \"\n",
      "C:\\Users\\Vicky\\anaconda31\\lib\\site-packages\\sklearn\\linear_model\\_stochastic_gradient.py:574: ConvergenceWarning: Maximum number of iteration reached before convergence. Consider increasing max_iter to improve the fit.\n",
      "  warnings.warn(\"Maximum number of iteration reached before \"\n",
      "C:\\Users\\Vicky\\anaconda31\\lib\\site-packages\\sklearn\\linear_model\\_stochastic_gradient.py:574: ConvergenceWarning: Maximum number of iteration reached before convergence. Consider increasing max_iter to improve the fit.\n",
      "  warnings.warn(\"Maximum number of iteration reached before \"\n",
      "C:\\Users\\Vicky\\anaconda31\\lib\\site-packages\\sklearn\\linear_model\\_stochastic_gradient.py:574: ConvergenceWarning: Maximum number of iteration reached before convergence. Consider increasing max_iter to improve the fit.\n",
      "  warnings.warn(\"Maximum number of iteration reached before \"\n",
      "C:\\Users\\Vicky\\anaconda31\\lib\\site-packages\\sklearn\\linear_model\\_stochastic_gradient.py:574: ConvergenceWarning: Maximum number of iteration reached before convergence. Consider increasing max_iter to improve the fit.\n",
      "  warnings.warn(\"Maximum number of iteration reached before \"\n",
      "C:\\Users\\Vicky\\anaconda31\\lib\\site-packages\\sklearn\\linear_model\\_stochastic_gradient.py:574: ConvergenceWarning: Maximum number of iteration reached before convergence. Consider increasing max_iter to improve the fit.\n",
      "  warnings.warn(\"Maximum number of iteration reached before \"\n",
      "C:\\Users\\Vicky\\anaconda31\\lib\\site-packages\\sklearn\\linear_model\\_stochastic_gradient.py:574: ConvergenceWarning: Maximum number of iteration reached before convergence. Consider increasing max_iter to improve the fit.\n",
      "  warnings.warn(\"Maximum number of iteration reached before \"\n",
      "C:\\Users\\Vicky\\anaconda31\\lib\\site-packages\\sklearn\\linear_model\\_stochastic_gradient.py:574: ConvergenceWarning: Maximum number of iteration reached before convergence. Consider increasing max_iter to improve the fit.\n",
      "  warnings.warn(\"Maximum number of iteration reached before \"\n",
      "C:\\Users\\Vicky\\anaconda31\\lib\\site-packages\\sklearn\\linear_model\\_stochastic_gradient.py:574: ConvergenceWarning: Maximum number of iteration reached before convergence. Consider increasing max_iter to improve the fit.\n",
      "  warnings.warn(\"Maximum number of iteration reached before \"\n",
      "C:\\Users\\Vicky\\anaconda31\\lib\\site-packages\\sklearn\\linear_model\\_stochastic_gradient.py:574: ConvergenceWarning: Maximum number of iteration reached before convergence. Consider increasing max_iter to improve the fit.\n",
      "  warnings.warn(\"Maximum number of iteration reached before \"\n",
      "C:\\Users\\Vicky\\anaconda31\\lib\\site-packages\\sklearn\\linear_model\\_stochastic_gradient.py:574: ConvergenceWarning: Maximum number of iteration reached before convergence. Consider increasing max_iter to improve the fit.\n",
      "  warnings.warn(\"Maximum number of iteration reached before \"\n",
      "C:\\Users\\Vicky\\anaconda31\\lib\\site-packages\\sklearn\\linear_model\\_stochastic_gradient.py:574: ConvergenceWarning: Maximum number of iteration reached before convergence. Consider increasing max_iter to improve the fit.\n",
      "  warnings.warn(\"Maximum number of iteration reached before \"\n",
      "C:\\Users\\Vicky\\anaconda31\\lib\\site-packages\\sklearn\\linear_model\\_stochastic_gradient.py:574: ConvergenceWarning: Maximum number of iteration reached before convergence. Consider increasing max_iter to improve the fit.\n",
      "  warnings.warn(\"Maximum number of iteration reached before \"\n",
      "C:\\Users\\Vicky\\anaconda31\\lib\\site-packages\\sklearn\\linear_model\\_stochastic_gradient.py:574: ConvergenceWarning: Maximum number of iteration reached before convergence. Consider increasing max_iter to improve the fit.\n",
      "  warnings.warn(\"Maximum number of iteration reached before \"\n"
     ]
    },
    {
     "name": "stdout",
     "output_type": "stream",
     "text": [
      "0.9884022285930006\n"
     ]
    },
    {
     "name": "stderr",
     "output_type": "stream",
     "text": [
      "C:\\Users\\Vicky\\anaconda31\\lib\\site-packages\\sklearn\\linear_model\\_stochastic_gradient.py:574: ConvergenceWarning: Maximum number of iteration reached before convergence. Consider increasing max_iter to improve the fit.\n",
      "  warnings.warn(\"Maximum number of iteration reached before \"\n"
     ]
    }
   ],
   "source": [
    "clf.fit(X_train, y_train)\n",
    "print(clf.best_score_)"
   ]
  },
  {
   "cell_type": "code",
   "execution_count": 190,
   "metadata": {},
   "outputs": [
    {
     "data": {
      "text/plain": [
       "array([1., 0., 2., ..., 1., 0., 1.])"
      ]
     },
     "execution_count": 190,
     "metadata": {},
     "output_type": "execute_result"
    }
   ],
   "source": [
    "y_pred=clf.predict(X_test)\n",
    "y_pred"
   ]
  },
  {
   "cell_type": "code",
   "execution_count": 191,
   "metadata": {},
   "outputs": [
    {
     "data": {
      "text/plain": [
       "0.8182140797586834"
      ]
     },
     "execution_count": 191,
     "metadata": {},
     "output_type": "execute_result"
    }
   ],
   "source": [
    "accuracy_score( y_test, y_pred )"
   ]
  },
  {
   "cell_type": "markdown",
   "metadata": {},
   "source": [
    "### Neural Network Model"
   ]
  },
  {
   "cell_type": "code",
   "execution_count": 192,
   "metadata": {},
   "outputs": [
    {
     "data": {
      "text/plain": [
       "StandardScaler()"
      ]
     },
     "execution_count": 192,
     "metadata": {},
     "output_type": "execute_result"
    }
   ],
   "source": [
    "from sklearn.preprocessing import StandardScaler\n",
    "from sklearn.neural_network import MLPClassifier\n",
    "scaler = StandardScaler()\n",
    "# Fit only to the training data\n",
    "scaler.fit(X_train)"
   ]
  },
  {
   "cell_type": "code",
   "execution_count": 193,
   "metadata": {},
   "outputs": [],
   "source": [
    "# Now apply the transformations to the data:\n",
    "train_X = scaler.transform(X_train)\n",
    "test_X = scaler.transform(X_test)"
   ]
  },
  {
   "cell_type": "code",
   "execution_count": 194,
   "metadata": {},
   "outputs": [
    {
     "data": {
      "text/plain": [
       "MLPClassifier(hidden_layer_sizes=(30, 30, 30))"
      ]
     },
     "execution_count": 194,
     "metadata": {},
     "output_type": "execute_result"
    }
   ],
   "source": [
    "mlp = MLPClassifier(hidden_layer_sizes=(30,30,30))\n",
    "mlp.fit(train_X,y_train)"
   ]
  },
  {
   "cell_type": "raw",
   "metadata": {},
   "source": [
    "MLPClassifier(activation='relu', alpha=0.0001, batch_size='auto', beta_1=0.9,\n",
    "              beta_2=0.999, early_stopping=False, epsilon=1e-08,\n",
    "              hidden_layer_sizes=(30, 30, 30), learning_rate='constant',\n",
    "              learning_rate_init=0.001, max_fun=15000, max_iter=200,\n",
    "              momentum=0.9, n_iter_no_change=10, nesterovs_momentum=True,\n",
    "              power_t=0.5, random_state=None, shuffle=True, solver='adam',\n",
    "              tol=0.0001, validation_fraction=0.1, verbose=False,\n",
    "              warm_start=False)"
   ]
  },
  {
   "cell_type": "code",
   "execution_count": 195,
   "metadata": {},
   "outputs": [
    {
     "data": {
      "text/plain": [
       "array([1., 0., 2., ..., 1., 0., 2.])"
      ]
     },
     "execution_count": 195,
     "metadata": {},
     "output_type": "execute_result"
    }
   ],
   "source": [
    "y_pred=mlp.predict(test_X)\n",
    "y_pred"
   ]
  },
  {
   "cell_type": "code",
   "execution_count": 196,
   "metadata": {},
   "outputs": [
    {
     "name": "stdout",
     "output_type": "stream",
     "text": [
      "[[9676    0   35    0]\n",
      " [   0 6818  641    0]\n",
      " [  23  224 2174    0]\n",
      " [   0  675 2277    0]]\n"
     ]
    }
   ],
   "source": [
    "from sklearn.metrics import classification_report,confusion_matrix\n",
    "print(confusion_matrix(y_test,y_pred))"
   ]
  },
  {
   "cell_type": "code",
   "execution_count": 197,
   "metadata": {},
   "outputs": [
    {
     "name": "stdout",
     "output_type": "stream",
     "text": [
      "              precision    recall  f1-score   support\n",
      "\n",
      "         0.0       1.00      1.00      1.00      9711\n",
      "         1.0       0.88      0.91      0.90      7459\n",
      "         2.0       0.42      0.90      0.58      2421\n",
      "         3.0       0.00      0.00      0.00      2952\n",
      "\n",
      "    accuracy                           0.83     22543\n",
      "   macro avg       0.58      0.70      0.62     22543\n",
      "weighted avg       0.77      0.83      0.79     22543\n",
      "\n"
     ]
    },
    {
     "name": "stderr",
     "output_type": "stream",
     "text": [
      "C:\\Users\\Vicky\\anaconda31\\lib\\site-packages\\sklearn\\metrics\\_classification.py:1248: UndefinedMetricWarning: Precision and F-score are ill-defined and being set to 0.0 in labels with no predicted samples. Use `zero_division` parameter to control this behavior.\n",
      "  _warn_prf(average, modifier, msg_start, len(result))\n",
      "C:\\Users\\Vicky\\anaconda31\\lib\\site-packages\\sklearn\\metrics\\_classification.py:1248: UndefinedMetricWarning: Precision and F-score are ill-defined and being set to 0.0 in labels with no predicted samples. Use `zero_division` parameter to control this behavior.\n",
      "  _warn_prf(average, modifier, msg_start, len(result))\n",
      "C:\\Users\\Vicky\\anaconda31\\lib\\site-packages\\sklearn\\metrics\\_classification.py:1248: UndefinedMetricWarning: Precision and F-score are ill-defined and being set to 0.0 in labels with no predicted samples. Use `zero_division` parameter to control this behavior.\n",
      "  _warn_prf(average, modifier, msg_start, len(result))\n"
     ]
    }
   ],
   "source": [
    "print(classification_report(y_test,y_pred))"
   ]
  },
  {
   "cell_type": "code",
   "execution_count": 198,
   "metadata": {},
   "outputs": [
    {
     "data": {
      "text/plain": [
       "[array([[-2.89212057e-01, -6.34176896e-02, -3.29539757e-01,\n",
       "          6.90597549e-02,  2.35757245e-01,  5.20089829e-02,\n",
       "         -2.43346768e-01,  3.36152591e-01, -3.63363330e-02,\n",
       "         -1.71732409e-01,  1.67668667e-02, -2.62461540e-01,\n",
       "          2.82329964e-01, -2.78751797e-01,  1.89610789e-01,\n",
       "         -1.79163837e-02,  3.92645379e-01, -3.42852335e-01,\n",
       "         -3.14284685e-01, -1.79675123e-01, -4.71029518e-01,\n",
       "         -2.65151425e-01, -4.98586597e-01, -1.41214690e-01,\n",
       "         -2.90770182e-01, -4.63182419e-01,  4.51826877e-01,\n",
       "          5.87394516e-01, -3.17482306e-01, -1.56470229e-01],\n",
       "        [-8.42217311e-02,  4.84522894e-01,  5.49263318e-01,\n",
       "         -5.40590986e-01,  4.18354568e-01, -3.14163169e-01,\n",
       "          1.63304470e-01,  2.32972340e-01, -3.93854073e-01,\n",
       "          3.51246804e-01, -2.86811852e-01,  7.59654783e-01,\n",
       "          2.41696959e-01,  4.25598614e-01,  2.56700248e-01,\n",
       "         -3.06240266e-01,  1.11883541e-01,  3.95894022e-01,\n",
       "          2.20830101e-01,  3.01005596e-01,  3.45796334e-01,\n",
       "          4.84169880e-01, -9.28197333e-02,  1.70632131e-01,\n",
       "          2.52313012e-01, -3.04107227e-01, -2.08514387e-01,\n",
       "          1.22822540e-03, -3.18119579e-01, -1.96577070e-01],\n",
       "        [-2.46350938e-01, -3.54360067e-01,  7.79198711e-02,\n",
       "         -7.44026205e-02,  5.67561159e-01,  2.03729896e-01,\n",
       "          5.26477851e-01, -1.51822198e-01, -4.82918992e-01,\n",
       "          1.40017438e-01, -2.37056607e-01, -3.10316198e-01,\n",
       "         -2.79418161e-01, -1.50257035e-01, -7.02156373e-03,\n",
       "          7.23580414e-02, -1.03090963e-01,  8.75746618e-03,\n",
       "         -3.63288061e-01,  2.24212121e-01, -2.15859898e-01,\n",
       "         -2.01388426e-01,  1.41691871e-01, -2.40049560e-01,\n",
       "         -2.10112084e-01, -1.45210382e-01,  2.75975730e-01,\n",
       "         -1.86211456e-01, -4.92581665e-02, -2.30157141e-01],\n",
       "        [ 3.98211260e-01,  3.99141158e-01, -1.31592570e-02,\n",
       "          4.24375004e-01, -1.33981669e-01,  3.66941627e-01,\n",
       "          5.44399591e-02, -1.14746428e-01,  8.83158714e-01,\n",
       "         -3.55386883e-02, -7.27526793e-01, -5.05776109e-01,\n",
       "          6.18602624e-01,  9.83120465e-01, -3.07698316e-01,\n",
       "         -1.84865313e-01,  5.49555041e-01, -7.77649188e-01,\n",
       "          1.88679727e-01, -4.23885561e-01, -3.67869177e-02,\n",
       "          4.42259951e-01, -5.80661430e-01, -6.33554451e-01,\n",
       "         -2.96870879e-01, -4.77589556e-01,  4.12332824e-02,\n",
       "          3.25233240e-02,  6.37718842e-01,  5.03493925e-01],\n",
       "        [-3.90638166e-01,  2.18508508e-01, -4.61691921e-01,\n",
       "          2.71129147e-01, -1.86743562e-01,  2.95304648e-01,\n",
       "         -4.47009565e-02,  2.48725795e-01, -5.16032379e-01,\n",
       "          1.41008674e-01, -7.05097646e-01,  2.12437888e-01,\n",
       "          3.16244419e-01, -4.34866886e-02, -1.63826797e-01,\n",
       "          1.91589019e-01, -2.04902345e-01, -1.92111250e-01,\n",
       "         -3.49009263e-01, -5.70998430e-01,  9.77586619e-02,\n",
       "          2.64705415e-01, -8.26194358e-02, -2.42928429e-02,\n",
       "          6.81989868e-02,  1.20411133e-01, -2.06043728e-01,\n",
       "         -4.05705409e-01, -5.16777301e-02, -4.10350878e-02],\n",
       "        [-2.46897885e-01, -2.53245413e-01,  1.13888187e-01,\n",
       "         -6.71577460e-02, -7.61205985e-02, -1.52541968e-02,\n",
       "         -1.78802450e-01, -4.70711461e-01, -1.44068133e-01,\n",
       "         -2.04106116e-01, -2.90210466e-01,  2.25008737e-02,\n",
       "          1.12715526e-01,  2.07432381e-01, -3.53879382e-01,\n",
       "         -4.25873883e-02,  2.45649579e-01,  1.46594973e-01,\n",
       "         -5.36033918e-02, -4.08560833e-01,  1.14253242e-01,\n",
       "         -1.66030759e-01,  4.26865333e-01,  1.60344023e-01,\n",
       "         -1.68032279e-01,  1.22049143e-01, -6.61408203e-02,\n",
       "          2.46711185e-01,  8.09997809e-02, -1.62569457e-01],\n",
       "        [-3.35688012e-01, -7.78793928e-02,  2.71416759e-01,\n",
       "         -3.45263998e-01,  2.81320181e-01, -2.60129890e-01,\n",
       "         -2.66512207e-01, -2.48296426e-02, -1.02248022e-01,\n",
       "         -4.80116923e-01,  4.76846945e-01, -2.10908146e-01,\n",
       "         -6.15375304e-01, -1.21719013e-01,  6.14088310e-01,\n",
       "         -1.01794538e-02,  2.66952076e-01,  1.96390366e-02,\n",
       "         -5.13861951e-02,  2.30044492e-01, -1.53361402e-01,\n",
       "          2.16873642e-01, -4.03543405e-02, -4.20722432e-02,\n",
       "          4.77670733e-01,  8.35432046e-03, -3.47274952e-01,\n",
       "         -3.91193585e-02, -1.02608414e-01,  3.48875817e-01],\n",
       "        [ 5.24722996e-02,  4.86668453e-01, -8.72377687e-01,\n",
       "          1.15511311e-01, -1.55205745e-01,  1.18799018e+00,\n",
       "          3.91334841e-01,  3.03245943e-02,  8.18392952e-02,\n",
       "         -1.19392908e-01,  2.39768045e-01, -2.25754818e-01,\n",
       "         -2.83382343e-01,  2.60297035e-01,  3.26451276e-01,\n",
       "          8.64584888e-01, -7.13126661e-03, -2.25751604e-01,\n",
       "          3.19470178e-01, -2.75216790e-01,  4.57566379e-01,\n",
       "         -3.81207802e-01, -6.59198379e-01,  2.83486992e-01,\n",
       "         -4.04759601e-01, -2.63164648e-01,  3.15933247e-01,\n",
       "         -9.78182124e-01,  1.83211184e-01,  1.78603594e-01],\n",
       "        [ 1.32091769e-01, -2.76261238e-01,  2.55164072e-01,\n",
       "          3.17201022e-01, -1.13598778e-01, -4.16102653e-01,\n",
       "          4.76481868e-01,  4.76527916e-02,  1.08454221e-02,\n",
       "          1.82449844e-01,  1.42962579e-01,  2.48253139e-01,\n",
       "         -1.53711601e-01, -3.28462579e-01, -2.85697195e-01,\n",
       "          2.68696714e-01,  5.36112943e-01,  5.01105082e-04,\n",
       "         -3.52465095e-01, -1.47169405e-01, -1.37601864e-01,\n",
       "         -3.51511905e-01, -1.83439552e-01, -3.04642615e-01,\n",
       "          3.61852869e-01,  3.00071371e-01, -3.36319270e-01,\n",
       "          4.47405676e-01, -1.79037059e-01,  5.56660050e-02],\n",
       "        [-5.37013993e-02,  4.08437941e-01, -1.17958714e-01,\n",
       "          1.40488671e-01,  1.84898929e-01, -3.34363699e-01,\n",
       "          7.19104520e-02,  4.67855726e-02, -3.20089068e-01,\n",
       "         -4.68081492e-01, -1.29211959e-01, -4.63267683e-01,\n",
       "         -1.24959946e-01,  3.11689745e-01, -2.78870872e-01,\n",
       "          1.05987184e-02, -3.15400900e-01, -3.81000934e-02,\n",
       "         -3.32795352e-01,  9.98977714e-02, -6.13255208e-01,\n",
       "          5.03607783e-01, -4.92543458e-01, -3.60673504e-01,\n",
       "         -3.09070409e-01, -1.59035724e-01,  1.02462875e-01,\n",
       "         -9.92347093e-02,  1.03781311e-01,  6.51891412e-02],\n",
       "        [-1.23957521e-01,  6.06565097e-02, -1.14667500e-01,\n",
       "          7.40810456e-02, -2.37660699e-01, -7.30689635e-02,\n",
       "          7.67509066e-02,  2.66191814e-01, -3.95045404e-02,\n",
       "         -4.59230195e-01, -2.63319943e-01,  9.10189566e-02,\n",
       "          3.38349281e-01, -9.62363886e-03,  1.05231797e-01,\n",
       "          3.80178421e-01, -3.04393947e-01,  5.90723076e-01,\n",
       "          1.36233269e-01, -8.05408639e-02, -4.60801233e-01,\n",
       "         -4.23790106e-02,  1.46872443e-01, -2.76976451e-01,\n",
       "          1.34420126e-01,  2.07899318e-01, -2.79568679e-01,\n",
       "         -2.84772310e-02, -1.89979399e-01,  7.53742622e-01],\n",
       "        [ 2.42770924e-01, -4.39458787e-01,  1.34614311e-01,\n",
       "         -4.40271813e-01,  2.50279397e-01,  2.40090199e-01,\n",
       "          1.66362248e-01,  1.44662643e-01, -6.17227981e-02,\n",
       "          2.89588755e-01,  2.34699794e-01,  1.87050409e-01,\n",
       "          8.35034712e-02, -6.82026179e-02,  2.46871887e-01,\n",
       "         -4.28395559e-02,  2.08458431e-01,  4.17460073e-02,\n",
       "          1.81394081e-01,  1.42296369e-01,  4.90228163e-01,\n",
       "         -2.69672116e-01,  2.42000325e-01,  1.65346571e-01,\n",
       "          3.98438072e-01,  1.44891965e-01, -2.08477299e-01,\n",
       "         -8.53433097e-02,  2.34800390e-01,  5.54018693e-02],\n",
       "        [ 5.09008255e-01,  4.33493211e-01,  1.54868373e-01,\n",
       "         -1.75750367e-01,  5.62616834e-02,  2.21898898e-01,\n",
       "         -3.77407202e-01, -5.55789746e-01,  3.85298376e-01,\n",
       "         -2.76969534e-02, -5.46896269e-02,  5.15569285e-03,\n",
       "         -1.47973729e-01,  4.22636839e-02,  6.34753593e-02,\n",
       "         -3.85522498e-01,  3.46622595e-01, -2.44348173e-01,\n",
       "          3.69585609e-01, -2.81547108e-01, -2.39368853e-01,\n",
       "         -1.06516595e-01, -4.12368363e-01, -3.54566392e-01,\n",
       "         -2.37372837e-02,  6.77347690e-02, -3.81170908e-01,\n",
       "         -2.18249803e-01,  2.02284072e-01,  2.63132544e-01],\n",
       "        [-4.64098116e-01,  6.96292410e-02,  1.11510865e-01,\n",
       "          9.99057343e-02,  2.64824256e-01, -9.41057303e-02,\n",
       "          3.23115871e-01,  8.51383748e-02,  2.87424949e-01,\n",
       "          4.43422809e-01,  2.83167551e-01, -1.15830799e-01,\n",
       "          4.62028230e-01,  2.33987101e-01,  9.43862295e-02,\n",
       "          3.20397645e-01,  1.22219472e-01, -3.70906969e-01,\n",
       "          2.48384535e-01,  4.97170570e-01, -5.75229078e-02,\n",
       "         -4.56130285e-03, -2.76672424e-01,  4.23280824e-01,\n",
       "          1.73601959e-01,  1.01629663e-01, -1.09967540e-01,\n",
       "          6.17622305e-02, -1.36951934e-01,  8.01148037e-02],\n",
       "        [-1.28471662e-01, -3.27165732e-01,  2.91501446e-01,\n",
       "         -5.62047464e-02, -5.31432545e-01, -2.61522920e-01,\n",
       "          3.98866762e-01, -1.97173598e-01,  4.30582911e-01,\n",
       "          1.40665599e-01, -7.25187765e-02, -1.00750811e-01,\n",
       "         -2.36959273e-01,  6.66449639e-02,  1.79104527e-01,\n",
       "          5.46382435e-02,  3.27941405e-01, -8.94844541e-02,\n",
       "         -4.05229378e-01, -1.09535268e-01,  2.85761274e-01,\n",
       "          1.59988532e-01, -6.44450537e-02, -3.34626121e-01,\n",
       "          3.71621361e-01, -2.80015890e-01, -4.57868329e-01,\n",
       "          2.41435857e-01, -1.05107915e-01, -2.13915390e-01]]),\n",
       " array([[-3.23055736e-001, -1.18134695e+000, -3.74329591e-002,\n",
       "          3.00233614e-001,  2.33653143e-001,  3.04451445e-001,\n",
       "         -8.54052929e-002,  6.10536644e-002,  1.87937077e-001,\n",
       "         -1.22438067e-001,  1.56670151e-001,  2.48160119e-306,\n",
       "          3.06757166e-001,  1.28463395e-001, -4.75847030e-002,\n",
       "         -9.42406722e-001, -4.53462308e-002,  1.11797147e-001,\n",
       "          2.35830520e-001,  6.99129793e-002, -8.57124960e-004,\n",
       "         -1.12251029e-011,  8.13560468e-002,  8.73710484e-002,\n",
       "          2.84909464e-002, -5.69138771e-002, -6.27316955e-002,\n",
       "         -1.58585581e-001,  3.59535471e-001,  1.51344501e-001],\n",
       "        [ 2.77562460e-001,  1.66443637e-001,  5.05770248e-002,\n",
       "         -2.23790978e-001,  3.23088598e-002,  2.59791026e-001,\n",
       "         -2.19328497e-001, -7.96153464e-001,  3.32658332e-002,\n",
       "         -1.16327526e-001, -4.35471077e-001, -3.17657170e-316,\n",
       "          2.09219543e-001, -2.35182022e-001, -3.50235281e-001,\n",
       "         -6.14118987e-002, -4.33488199e-001,  5.12836192e-001,\n",
       "         -1.22254734e-001, -7.57863152e-002, -1.93039711e-001,\n",
       "         -7.04232545e-039, -4.45353953e-001, -4.44681723e-002,\n",
       "         -1.70425120e-001,  5.81417383e-001,  5.71405311e-002,\n",
       "         -2.61968360e-001,  1.16606262e-001, -1.99545782e-001],\n",
       "        [ 8.65372074e-004,  3.75493104e-001,  2.28832959e-003,\n",
       "         -5.34432848e-001,  4.46800794e-001,  8.65516632e-002,\n",
       "          3.02608065e-001,  7.92674934e-002,  8.45402063e-002,\n",
       "         -3.76447568e-004, -3.39320384e-001,  1.04038036e-315,\n",
       "          3.19152891e-001,  1.01843516e-001,  2.79700695e-001,\n",
       "         -1.04970996e-001,  1.19775285e-002, -2.72023219e-001,\n",
       "          1.86772286e-002, -1.72029322e+000,  7.76482491e-001,\n",
       "          4.07372582e-008, -2.70298668e-002,  1.09349722e-001,\n",
       "          5.25976547e-001,  6.59997797e-001,  3.23435829e-001,\n",
       "         -3.26270655e-001,  6.35694834e-002,  3.05741627e-001],\n",
       "        [ 1.56807048e-001, -3.15844515e-002,  2.38613931e-001,\n",
       "          1.62896077e-001, -8.79958427e-002, -4.31736694e-002,\n",
       "         -4.29718600e-001, -1.13937789e-001,  3.99289611e-001,\n",
       "         -6.26066623e-002, -2.31851180e-001,  1.26682754e-307,\n",
       "          1.60358313e-001, -1.38313723e-001, -2.63515284e-001,\n",
       "          8.16984622e-002,  1.71618280e-002, -1.34622896e-001,\n",
       "          2.38218788e-001,  3.20092614e-001, -3.38297969e-002,\n",
       "         -4.30413152e-102, -9.76628105e-002, -6.79768482e-001,\n",
       "          2.86685889e-001, -6.65054662e-001,  1.70898479e-001,\n",
       "          3.15966841e-001,  1.66298239e-001, -2.56457167e-001],\n",
       "        [-2.35393790e-001,  2.72885103e-001,  2.31230578e-001,\n",
       "         -2.88781797e-001, -2.43242879e-001, -2.30483462e-001,\n",
       "          1.89071152e-001,  1.53215589e-001, -2.82385419e-001,\n",
       "         -3.21411808e-001,  1.25312761e-001, -8.67413346e-254,\n",
       "         -1.80714041e-001, -3.67971082e-001, -1.28942625e-001,\n",
       "         -1.40667202e-001, -4.70322068e-002,  1.94547949e-001,\n",
       "         -1.00706110e-001,  1.09693463e-001, -4.12053844e-002,\n",
       "         -7.97284000e-012,  2.57055963e-001, -1.75183616e-001,\n",
       "         -3.68368743e-001,  2.48400053e-001, -5.98179508e-002,\n",
       "          9.73827862e-002, -2.37872807e-001,  6.31082596e-002],\n",
       "        [-4.75794937e-001,  1.73598820e-001,  6.72176481e-001,\n",
       "         -7.11648589e-001, -4.37898793e-001,  1.02887929e-001,\n",
       "         -3.81534347e-001, -8.54894923e-001,  5.56373690e-001,\n",
       "          9.22544007e-002, -2.51356349e-001,  7.35443370e-310,\n",
       "          3.74940538e-001, -2.23135159e-001,  3.41884903e-001,\n",
       "          5.65043870e-001,  6.10572573e-001, -5.64094174e-001,\n",
       "         -1.34218387e-001, -3.64235550e-001, -4.02391305e-002,\n",
       "          2.58092739e-081, -6.47554701e-001, -1.30503097e-001,\n",
       "         -3.11846689e-001,  3.55863276e-002,  2.84044315e-003,\n",
       "          7.96781505e-001,  2.07852914e-001, -1.84034521e-001],\n",
       "        [ 5.36168375e-001,  5.11696546e-001,  2.74207851e-001,\n",
       "         -1.69328293e-001, -9.52534530e-002, -2.78764176e-002,\n",
       "          3.43626444e-001,  2.08378437e-002, -1.32982343e-001,\n",
       "          1.46777953e-002,  3.79043527e-001,  8.35985242e-283,\n",
       "          1.21004101e-002,  1.10902668e-001, -1.49353683e-002,\n",
       "          5.19160996e-001,  7.94311167e-002,  8.90756151e-002,\n",
       "         -1.32144587e-001, -1.89166745e-001, -1.48795429e-001,\n",
       "          7.41527940e-221,  4.79109454e-002, -1.04440247e-001,\n",
       "         -1.29612072e-002,  6.79201979e-002, -4.89687202e-002,\n",
       "         -1.11178718e-001,  1.32109415e-001,  7.20025925e-002],\n",
       "        [-1.76636185e-001, -1.16378974e-001, -1.78786194e-001,\n",
       "          1.37348992e-001, -1.96852298e-002,  9.54619670e-002,\n",
       "          1.15162002e-001,  8.26057991e-002,  1.21677731e-001,\n",
       "          3.08794971e-001, -1.13171001e-001,  1.16218504e-315,\n",
       "          4.60783441e-001, -1.14742868e-003,  3.53585397e-002,\n",
       "         -4.36285222e-001, -6.73425011e-002,  6.54547564e-002,\n",
       "          1.44426390e-001,  2.92362179e-001, -9.06768354e-002,\n",
       "         -1.63631852e-217, -9.68112658e-002, -2.95740522e-002,\n",
       "          2.93390383e-001,  1.20575679e-001,  2.28772902e-001,\n",
       "          7.49052914e-002,  1.34748040e-001, -1.00644263e-001],\n",
       "        [-1.63665940e-001,  3.02674774e-001,  4.47043831e-002,\n",
       "          2.05443533e-001,  1.23850427e-001,  3.21394578e-001,\n",
       "         -2.99630035e-001,  4.63833758e-001,  6.32563382e-002,\n",
       "          3.02096862e-001, -1.78700964e-002, -1.75057888e-315,\n",
       "          4.60549433e-001,  1.17505113e-001, -2.57525508e-001,\n",
       "          3.48145945e-001, -4.42332224e-001, -5.25744305e-001,\n",
       "         -2.75640007e-001,  2.49622697e-001,  2.87977170e-001,\n",
       "         -5.40361721e-069, -3.97383803e-001,  5.06558091e-001,\n",
       "          4.40182830e-001,  1.25975427e-001,  2.85628635e-001,\n",
       "          1.64921673e-001,  3.56551162e-001, -3.34773870e-001],\n",
       "        [ 6.94079510e-001,  5.29432497e-001,  2.43187490e-001,\n",
       "         -3.65522132e-001, -1.91533879e-002, -6.54878422e-001,\n",
       "          2.57284440e-001, -1.95492431e-002, -2.07563044e-001,\n",
       "         -6.50258983e-001,  1.93973360e-001, -2.61440085e-315,\n",
       "         -6.09532290e-001,  3.36511667e-001,  4.08701352e-002,\n",
       "          3.64992595e-001,  2.66375020e-001,  4.97835642e-001,\n",
       "          1.80900050e-001, -5.45498442e-001,  4.90636717e-001,\n",
       "          7.01954985e-102, -3.43349082e-002,  3.43046839e-001,\n",
       "         -1.03316905e-001,  1.64200257e-002,  4.26376627e-002,\n",
       "         -3.02450299e-001, -9.35128977e-001,  2.46386012e-001],\n",
       "        [ 4.21290712e-002, -2.96676470e-001, -7.43495870e-002,\n",
       "          8.87986986e-002, -1.98148989e-001, -2.51505030e-001,\n",
       "          9.47030020e-002, -1.50460282e-001,  2.00449364e-001,\n",
       "          1.13201134e-001,  5.52479565e-001,  1.61823895e-316,\n",
       "         -2.16754265e-001,  9.48894079e-002,  1.07063444e-001,\n",
       "         -3.34363472e-001, -1.37466814e-001, -2.73712056e-002,\n",
       "         -4.44408054e-001, -6.59649031e-002,  1.97222235e-001,\n",
       "         -2.55175908e-008, -2.80358954e-001,  4.81669066e-001,\n",
       "          6.95308649e-002, -2.53698021e-001,  2.52810914e-001,\n",
       "          3.65473488e-001, -2.09667398e-001, -1.08803383e-001],\n",
       "        [ 4.58306045e-001, -6.21588988e-002,  1.49373164e-001,\n",
       "         -2.24695780e-001, -2.42517917e-001,  7.76313207e-002,\n",
       "          7.25652112e-001,  5.90579812e-002, -3.85524312e-002,\n",
       "         -1.02001984e-001, -3.13280243e-001, -5.09404052e-316,\n",
       "         -2.79759247e-001,  2.51234745e-001,  1.07781305e-002,\n",
       "          3.42645189e-002, -3.56563967e-002,  4.43176870e-001,\n",
       "          2.15874278e-002, -6.35708029e-001, -3.15821085e-002,\n",
       "         -1.24806256e-216, -7.58070549e-002, -1.83213226e-001,\n",
       "          1.12434443e-001,  8.20064813e-001, -2.38876778e-002,\n",
       "         -4.51334997e-001, -3.38773422e-001,  5.12066368e-001],\n",
       "        [ 1.84141893e-001,  4.87206100e-001,  2.27508767e-001,\n",
       "         -7.64603559e-002,  5.53820228e-002, -2.04680389e-001,\n",
       "          1.22349643e-001,  2.39308447e-001, -5.98365276e-002,\n",
       "          1.26657769e-001,  4.73005903e-001,  1.44849835e-315,\n",
       "          1.56227807e-001,  5.18614768e-001, -5.77591633e-004,\n",
       "          1.24886054e-001,  2.23726319e-001,  1.39104404e-001,\n",
       "         -5.11323685e-002, -6.28168220e-001,  9.26533964e-002,\n",
       "          4.75869224e-217,  7.15676089e-002, -5.87554903e-002,\n",
       "         -7.06825970e-002,  1.63403826e-001,  2.25409800e-001,\n",
       "         -7.86302913e-002, -4.32259788e-001,  4.60812229e-001],\n",
       "        [ 8.07330963e-002,  8.39922799e-001, -2.00370373e-001,\n",
       "         -5.79510013e-003,  8.35266410e-002,  3.92854948e-001,\n",
       "          2.32760904e-001,  5.17808880e-002, -1.96554907e-001,\n",
       "          4.80375848e-001, -8.65098928e-001,  3.31605271e-316,\n",
       "          6.92968549e-001, -2.61350168e-001, -8.23934080e-001,\n",
       "          7.97629428e-001, -5.67989399e-001,  2.90617381e-001,\n",
       "          3.48426285e-002,  6.80726756e-001,  2.05710747e-001,\n",
       "          3.89548820e-217,  4.31824680e-001, -6.34919124e-002,\n",
       "          4.80277648e-001,  8.35672143e-001, -1.21725089e-001,\n",
       "         -4.28883398e-001,  3.34495183e-001, -7.17649360e-002],\n",
       "        [ 3.00601190e-001, -2.10951788e-002, -1.92978104e-001,\n",
       "          1.16808667e-001, -7.56551206e-002,  1.83535056e-002,\n",
       "          1.38608911e-001, -2.82066637e-001, -6.46347667e-001,\n",
       "          1.61384142e-001, -2.46132147e-002,  5.43922630e-316,\n",
       "          2.62097712e-001, -2.58288729e-001, -9.28147256e-002,\n",
       "          2.59991147e-002, -3.10942444e-001,  6.23287461e-001,\n",
       "         -1.40957989e-002, -4.11529738e-002, -1.10425000e-001,\n",
       "          1.05646898e-105,  4.83052640e-002, -3.38851026e-001,\n",
       "          4.06174922e-001,  4.89446714e-001, -4.23553193e-002,\n",
       "          8.65948998e-002,  6.56045721e-001, -1.06232869e-001],\n",
       "        [-1.80692458e-001,  3.51880637e-001,  3.79556218e-001,\n",
       "          2.10569619e-001, -8.19312972e-002, -2.95932370e-001,\n",
       "         -5.03253036e-001,  6.23896979e-002,  3.86575008e-002,\n",
       "         -1.31556204e-001, -2.19989622e-001,  6.42894271e-316,\n",
       "         -1.13568481e-001, -3.91830133e-001,  9.63662123e-002,\n",
       "          3.36934866e-001, -1.15612601e-001,  3.86383678e-002,\n",
       "          1.54573117e-001, -1.70377761e-002, -1.32110957e-001,\n",
       "          2.45284397e-165, -6.38904552e-002, -1.07656322e+000,\n",
       "          3.84353680e-001, -1.36143539e-002,  2.67259676e-001,\n",
       "          1.10160087e-001, -3.34268061e-001, -2.46566549e-001],\n",
       "        [-4.58800495e-001, -2.95469096e-001, -8.93930526e-002,\n",
       "          3.10592508e-001, -2.50677624e-001,  1.32973582e-001,\n",
       "          4.12809626e-001,  2.04347407e-002,  1.38727858e-001,\n",
       "          1.83158559e-002, -5.82103800e-002, -8.09272527e-316,\n",
       "          3.27220684e-001,  3.53229209e-002, -1.91112558e-001,\n",
       "         -3.07310323e-001,  1.99707645e-001,  3.31088848e-001,\n",
       "         -1.36638255e-001,  6.67861914e-002,  1.34489940e-001,\n",
       "         -5.87403152e-010,  1.97269771e-001,  1.35367511e-001,\n",
       "          4.73723752e-001,  1.21355515e-001,  2.66250675e-001,\n",
       "          3.40415980e-001, -2.05334648e-001, -1.78131974e-001],\n",
       "        [ 3.92580577e-001, -2.43670870e-001,  2.47291975e-001,\n",
       "         -1.17643664e-001, -7.02566873e-002, -4.22207022e-001,\n",
       "         -8.61749680e-002,  1.69960758e-001, -1.17588641e-001,\n",
       "         -5.67201977e-001,  4.85239689e-001,  9.09331887e-316,\n",
       "         -3.74587982e-001,  4.68036126e-001,  3.64730567e-001,\n",
       "          3.82457323e-001,  4.16975368e-001,  2.01081515e-001,\n",
       "          1.35982480e-002, -8.22330989e-001, -1.31516433e-001,\n",
       "         -5.93372308e-092,  3.25090574e-001, -6.49309806e-001,\n",
       "          3.91388730e-001,  8.95239152e-001,  1.50445662e-001,\n",
       "         -1.44719407e-001, -1.05052607e+000,  3.56436071e-001],\n",
       "        [ 5.53531831e-001,  8.02993139e-002,  2.86171955e-001,\n",
       "         -3.10986696e-001, -1.87357815e-001,  2.58004882e-001,\n",
       "          2.02228180e-001, -2.32925977e-001, -1.79254960e-001,\n",
       "         -3.14022694e-001,  4.09172789e-001, -1.50729022e-315,\n",
       "          7.42668609e-002,  2.11306905e-001,  3.43646810e-001,\n",
       "         -2.13439393e-001,  7.40456134e-003,  1.04050792e-001,\n",
       "          2.97594883e-001,  4.65880846e-001,  1.54791272e-001,\n",
       "         -2.56504461e-023, -8.80542118e-002, -1.07569660e-001,\n",
       "          2.47786060e-001,  3.03343581e-001,  1.76888863e-001,\n",
       "          1.23291406e-001,  2.54592592e-001,  3.84817656e-001],\n",
       "        [ 7.83892703e-001,  8.02859191e-001,  3.17707752e-002,\n",
       "         -2.39282881e-001,  2.35924127e-001,  1.38033843e-001,\n",
       "         -1.78428346e-001,  3.32428602e-001, -1.51283564e-001,\n",
       "         -7.72481859e-002, -2.92307777e-002,  2.91787630e-275,\n",
       "         -1.19151138e-001,  2.40835596e-001,  9.60269296e-002,\n",
       "          9.59175906e-002, -3.29330008e-001,  1.77393603e-001,\n",
       "          1.45943889e-001, -1.79090722e-001,  1.80014092e-001,\n",
       "         -4.83751457e-139, -2.10745163e-002,  1.13134535e-001,\n",
       "         -1.08263921e-001,  1.32005478e-001,  2.91708446e-002,\n",
       "         -1.97036680e-001, -4.87003769e-001,  3.20079632e-001],\n",
       "        [ 3.15206128e-001,  2.90885295e-001,  1.90010239e-001,\n",
       "         -3.34653358e-001,  2.58874118e-001, -9.74864772e-002,\n",
       "         -2.68965112e-001, -2.72853735e-002, -1.63757636e-001,\n",
       "         -3.43792971e-001,  3.22563486e-001, -3.08917287e-316,\n",
       "         -8.98166548e-002,  5.22944758e-001, -9.05486566e-002,\n",
       "          2.51332405e-001,  2.03478374e-001, -5.34432240e-001,\n",
       "         -5.69287553e-001, -1.08893036e+000, -1.07198832e-001,\n",
       "          2.61719932e-066,  5.44441945e-002,  3.23096975e-001,\n",
       "          2.04751542e-001,  4.32103454e-001, -5.27257752e-002,\n",
       "         -5.68283999e-002, -4.79113657e-001,  1.28958260e-001],\n",
       "        [ 4.62776903e-003,  5.12641351e-002, -3.76992704e-001,\n",
       "          1.73581572e-001, -3.68675858e-002,  2.97612588e-001,\n",
       "          3.78471630e-001,  1.23427960e-001, -2.12885852e-001,\n",
       "          2.91882927e-001, -4.16164911e-001, -1.04501286e-315,\n",
       "          4.23762786e-001,  1.62237944e-001, -1.21871958e-002,\n",
       "          2.09904280e-001, -2.89934504e-001, -4.76385757e-002,\n",
       "          6.22012369e-002, -1.46680151e-001, -3.02141108e-002,\n",
       "         -1.48002149e-011,  4.84663283e-001, -5.20270863e-002,\n",
       "         -6.19768962e-002,  4.00233397e-001, -1.26884385e-001,\n",
       "         -3.00466770e-001,  4.58638867e-001, -1.23095491e-001],\n",
       "        [ 2.89073889e-001,  8.61003853e-002,  1.61570398e-001,\n",
       "         -8.72553065e-002,  2.47867425e-002, -3.46975089e-001,\n",
       "          2.46811545e-001,  3.38809641e-001, -1.67275783e-001,\n",
       "         -6.99048269e-002,  6.50059588e-001,  3.39684430e-316,\n",
       "         -8.24262184e-001,  1.09582427e-001,  1.81580935e-001,\n",
       "          5.07182173e-001, -5.59396207e-002,  1.91301287e-001,\n",
       "         -1.92814308e-001, -1.49156698e-001, -3.43014383e-001,\n",
       "         -4.66263748e-006,  4.58378975e-001, -4.50464806e-001,\n",
       "         -6.09700165e-001,  1.68787945e-001, -7.71404951e-001,\n",
       "          2.24638417e-001, -3.37824702e-001,  2.51593045e-001],\n",
       "        [ 3.20328670e-001, -7.32258460e-002,  2.32426752e-001,\n",
       "         -2.38454193e-001, -1.05637888e-001, -1.30114655e-002,\n",
       "          3.80485455e-001,  5.61786191e-002,  2.49672322e-002,\n",
       "          1.29292286e-001,  1.62526708e-001, -6.70794054e-316,\n",
       "         -4.03968534e-001,  5.02069694e-002, -1.76583840e-002,\n",
       "         -2.63041901e-001, -3.13310103e-002, -1.17555907e-001,\n",
       "         -8.12958898e-001, -1.93883472e-001, -6.59174245e-002,\n",
       "         -1.18729414e-013, -2.59268177e-001,  2.60438403e-001,\n",
       "         -3.53199112e-001,  4.74345810e-002, -2.86633793e-001,\n",
       "          2.88727522e-001, -3.27327761e-001, -1.70408613e-001],\n",
       "        [ 6.79218554e-002, -2.30057675e-001, -6.24511089e-002,\n",
       "          4.27433182e-001,  3.72476074e-001,  3.71440729e-001,\n",
       "         -4.32568904e-001,  2.40957345e-001,  2.45453916e-002,\n",
       "          2.04321675e-001, -5.17148016e-001,  4.99282030e-316,\n",
       "          2.56507397e-001,  3.45217263e-001, -3.59984062e-001,\n",
       "         -2.85186132e-001, -2.85932362e-001,  4.65775052e-001,\n",
       "          4.23860513e-003, -5.09883009e-002,  4.70013587e-001,\n",
       "         -1.60208588e-172,  2.38562241e-002,  6.93766421e-002,\n",
       "          3.91130224e-001,  2.27965645e-001,  4.66466941e-002,\n",
       "         -3.81859447e-001,  6.60258126e-001, -4.34854055e-001],\n",
       "        [-1.69475152e-001, -1.21689703e-001,  2.68671278e-001,\n",
       "          3.38691963e-001, -2.84766270e-001,  2.93961115e-001,\n",
       "         -7.45210804e-002, -2.91201443e-002,  7.62668939e-002,\n",
       "         -2.61546515e-001,  2.49722263e-001,  3.38731184e-316,\n",
       "         -5.25634877e-002, -6.80347279e-002,  2.72557006e-001,\n",
       "         -3.61797079e-001,  2.81815274e-001,  2.48418284e-001,\n",
       "          4.78249050e-002,  2.96374256e-002, -5.46095702e-001,\n",
       "         -2.28248895e-005, -1.33287001e-001, -5.84866688e-001,\n",
       "         -3.02722247e-001, -4.37633990e-001, -4.78717739e-001,\n",
       "          3.51834906e-001,  1.02607626e-001, -5.04265670e-002],\n",
       "        [ 4.96969237e-002, -5.12562082e-002,  2.37660363e-001,\n",
       "          2.01344825e-001, -3.07870489e-001,  2.53778824e-001,\n",
       "          1.90446464e-001, -2.57509524e-001,  3.09664678e-002,\n",
       "          1.84360842e-001,  4.87792392e-002, -1.80141002e-250,\n",
       "         -3.63880538e-002, -1.68189684e-001,  2.62385628e-002,\n",
       "          4.48745837e-002,  1.76523768e-001,  1.12583941e-001,\n",
       "          2.00852053e-001,  3.58079984e-001, -5.09503568e-001,\n",
       "         -2.17368490e-019, -1.01366062e-001,  2.51840924e-001,\n",
       "         -4.37475789e-001, -3.71242988e-001, -1.64673576e-001,\n",
       "          2.36280607e-001, -8.95492563e-002,  1.40878938e-001],\n",
       "        [-3.42551128e-001,  3.69921296e-001, -9.86120721e-001,\n",
       "          5.09958083e-001,  1.15143522e-001,  3.94553030e-001,\n",
       "         -1.17016401e+000, -5.53922498e-001, -9.71851589e-002,\n",
       "          6.90642822e-001, -5.28967628e-001,  6.42262899e-316,\n",
       "         -7.59760837e-002, -6.45161278e-001, -3.32301075e-001,\n",
       "          2.90684821e-001, -1.03168717e+000,  4.19672088e-001,\n",
       "         -5.29176243e-002,  5.80107955e-001,  2.84682117e-001,\n",
       "          7.12476904e-013, -5.85538766e-001, -5.05971584e-001,\n",
       "          1.27979325e-001,  2.38957370e-001,  1.57187631e-001,\n",
       "         -3.97135739e-001, -1.66380495e-001, -4.99077491e-001],\n",
       "        [-2.43846481e-001, -8.55355239e-002,  3.96859623e-002,\n",
       "         -2.60410497e-001, -1.48044393e-002, -4.29333346e-001,\n",
       "          4.10345541e-002, -1.47147302e-001,  1.40104258e-001,\n",
       "          3.96864483e-001,  5.53424193e-002, -3.67801256e-315,\n",
       "          1.93834949e-001,  3.16470523e-002,  4.80814066e-004,\n",
       "         -1.69421856e-002,  2.70874796e-001, -2.60373157e-001,\n",
       "         -8.45604485e-002,  2.94834809e-001, -8.53379138e-002,\n",
       "         -4.20303362e-006,  4.53285504e-002,  2.72479444e-001,\n",
       "         -8.59402448e-002, -3.12469965e-001, -2.31505022e-001,\n",
       "          1.81406170e-001,  1.25898846e-001, -5.09071601e-002],\n",
       "        [-2.77419508e-001,  9.16241498e-002, -6.24155582e-001,\n",
       "          1.40394949e-001,  1.22581249e-001,  6.19993828e-001,\n",
       "          1.43522618e-001,  1.38272089e-001,  2.17651140e-001,\n",
       "          4.65295073e-001, -5.48972214e-001,  4.32210399e-315,\n",
       "          4.17689544e-001, -5.05381902e-002, -6.45848118e-001,\n",
       "         -2.86190724e-001, -2.44182810e-001,  8.79048440e-001,\n",
       "          8.62145983e-001,  6.61871227e-001,  1.41752721e-001,\n",
       "          2.41136622e-220,  1.16427156e-001, -8.02431567e-003,\n",
       "          9.57278455e-001,  1.16125914e+000, -1.04589525e-001,\n",
       "         -1.50538812e-002,  4.23632745e-001, -2.91333835e-001]]),\n",
       " array([[-9.48374264e-002,  2.38652552e-001, -2.52346041e-001,\n",
       "          4.88865577e-001,  2.40678514e-001, -4.91600079e-001,\n",
       "         -2.57316042e-031, -3.82829352e-001,  1.85067785e-001,\n",
       "         -1.63816995e-316,  4.77737894e-001,  3.26645304e-315,\n",
       "         -6.39199925e-002, -2.47055361e-001,  3.29808128e-001,\n",
       "          4.05488728e-002,  1.68081674e-001,  1.78161967e-001,\n",
       "          1.36117785e-001, -8.96341738e-002,  3.05374528e-001,\n",
       "          1.96533995e-001, -2.24383082e-001,  3.51491656e-001,\n",
       "          2.63125508e-001,  1.07873111e-315,  1.82592170e-001,\n",
       "          5.69036572e-001, -3.71040185e-001, -3.29801829e-001],\n",
       "        [-2.63851670e-002,  5.77032371e-001,  1.65831287e-001,\n",
       "         -4.83768868e-001,  4.96784977e-001, -2.03796093e-001,\n",
       "          6.57269970e-092, -4.94670367e-001,  3.42083471e-001,\n",
       "          4.66662964e-315,  5.17733191e-001,  4.58981877e-315,\n",
       "          9.48234506e-002, -1.13250156e-001, -5.63246354e-002,\n",
       "         -5.36271057e-001,  8.20930727e-001,  1.82592945e-001,\n",
       "          3.02024450e-001, -5.21118157e-002, -1.79988849e-001,\n",
       "          1.46967189e-001,  9.37052412e-002,  2.21172578e-001,\n",
       "          2.15301424e-001, -5.98018970e-316,  1.91244982e-001,\n",
       "          2.61473594e-001, -4.35338175e-001, -5.02738992e-001],\n",
       "        [-7.91562868e-002,  2.27888346e-001,  6.92838865e-002,\n",
       "          9.45610784e-002,  5.23670186e-001, -7.50348020e-002,\n",
       "         -2.80946652e-024, -3.80234473e-002, -9.87724769e-002,\n",
       "          1.04624972e-316,  3.66825154e-001,  1.64505516e-315,\n",
       "         -2.77859777e-001,  8.21064639e-002, -8.83252571e-002,\n",
       "         -3.90385236e-001, -1.74244520e-001,  3.25363199e-001,\n",
       "          4.70735603e-001, -1.83489515e-001, -1.42882959e-001,\n",
       "          5.26820009e-002,  4.03721983e-001,  3.98295264e-001,\n",
       "          1.48988000e-001,  3.57891840e-315, -2.26779170e-001,\n",
       "          2.51137919e-001,  1.54377556e-001,  2.74398199e-001],\n",
       "        [ 4.67664698e-002, -1.75063259e-001,  1.84784490e-001,\n",
       "          1.34927434e-002, -1.18011185e-001,  2.79610283e-001,\n",
       "          1.51764699e-168,  3.05151157e-001,  2.87042172e-001,\n",
       "          3.90188364e-281, -1.61244288e-001, -1.17207936e-315,\n",
       "          3.79684352e-001, -1.35648322e-001, -3.83399820e-001,\n",
       "          4.58523927e-001,  1.36423453e-001, -2.38122408e-001,\n",
       "          8.63434193e-002,  2.69021102e-002, -1.39996832e-001,\n",
       "         -1.06834698e-001,  2.68012897e-001,  1.00184159e-001,\n",
       "         -1.62731240e-001, -2.53150016e-315, -6.03997346e-001,\n",
       "          1.47042625e-001,  1.89320179e-001,  3.07102376e-001],\n",
       "        [ 1.60685487e-001, -2.42211553e-003,  4.26674115e-001,\n",
       "          9.07348182e-002,  1.49425507e-001, -1.09753190e-001,\n",
       "         -1.42987640e-079,  5.34978239e-002,  1.01998691e-001,\n",
       "          1.09797295e-315, -5.42004194e-002,  1.00377079e-316,\n",
       "          1.52017293e-001,  1.86716832e-001,  1.75179196e-001,\n",
       "          1.43865997e-001,  3.36847890e-002,  1.49117347e-001,\n",
       "          3.32151643e-002,  8.31806017e-002,  1.15005988e-001,\n",
       "         -1.53238024e-002,  3.19760833e-001, -9.34715669e-002,\n",
       "         -3.77052974e-002, -2.73433110e-315, -1.48132142e-001,\n",
       "         -2.23357249e-002, -5.28977663e-003,  1.48875456e-001],\n",
       "        [-2.44180401e-001, -7.13921323e-002,  3.58765247e-001,\n",
       "          8.59900508e-002,  2.21105848e-001,  8.93555917e-002,\n",
       "         -3.59616199e-151,  4.58891188e-001, -1.55952424e-001,\n",
       "          3.43528786e-309,  1.39375519e-001, -5.72017574e-316,\n",
       "         -3.86110740e-001,  1.33637786e-001, -9.70610104e-002,\n",
       "          8.91992659e-002,  2.57085067e-001,  3.00292652e-001,\n",
       "          7.02646537e-002, -1.05534103e-002,  3.42303978e-001,\n",
       "          9.81497267e-002,  4.09846099e-001,  3.19940951e-002,\n",
       "          1.94900596e-001, -4.51871012e-316,  7.53820235e-002,\n",
       "         -8.32932991e-002,  8.29769524e-002,  4.02858569e-001],\n",
       "        [-3.87985138e-001, -2.73263522e-001, -8.07484837e-002,\n",
       "          5.00739004e-002,  2.88062012e-001, -4.43923404e-002,\n",
       "         -5.75493240e-031, -8.11021434e-001,  3.90365107e-002,\n",
       "         -2.26052462e-315, -2.18508699e-001,  1.50430685e-315,\n",
       "         -4.75424921e-001, -4.63572755e-001,  1.80517760e-001,\n",
       "         -2.21309525e-001, -3.26417056e-002, -2.23746755e-002,\n",
       "         -4.38864163e-002,  1.04237026e-002,  3.05351577e-001,\n",
       "         -1.35882212e-002, -3.35288617e-001,  1.69714070e-001,\n",
       "          6.06039990e-002, -4.20703858e-315,  6.07674217e-001,\n",
       "          5.10664646e-001, -7.82284543e-001, -9.88960942e-001],\n",
       "        [-9.51039289e-002,  1.75989457e-001,  4.03935951e-001,\n",
       "         -3.83465417e-001,  3.15547204e-001,  6.84686431e-002,\n",
       "          9.39720380e-109, -5.56835706e-002,  2.05302217e-001,\n",
       "          7.21831261e-276,  4.83433570e-001, -1.73386318e-315,\n",
       "          1.17470164e-001, -3.73591821e-001, -2.81557616e-001,\n",
       "         -6.16243845e-001, -3.18391193e-001,  2.37780139e-001,\n",
       "          3.08659012e-001, -1.62844749e-001,  3.80317591e-001,\n",
       "          1.38524790e-001,  7.80993462e-002,  2.59012563e-002,\n",
       "         -4.72346101e-002,  2.24532201e-315, -1.01661868e-001,\n",
       "          2.90831922e-001, -3.56873998e-002,  2.02773641e-002],\n",
       "        [ 7.76733373e-002, -2.26511984e-001,  4.03117570e-001,\n",
       "         -1.21424569e-001,  1.94338642e-001,  7.82769269e-003,\n",
       "          2.23691715e-134,  2.54954211e-001, -6.52833862e-001,\n",
       "         -2.47737859e-304, -5.49497732e-002,  1.44735585e-315,\n",
       "          2.11406346e-001, -5.57335475e-002, -1.31147245e-001,\n",
       "         -2.50544517e-002, -4.01538394e-001,  3.77177251e-002,\n",
       "         -3.84395101e-004, -9.18498856e-002,  1.15307236e-002,\n",
       "          6.56075051e-002,  3.38734551e-001,  8.87275071e-002,\n",
       "         -4.08142849e-001,  4.06760423e-315, -5.32668254e-001,\n",
       "         -3.53713574e-001,  1.68897865e-001, -9.80264894e-002],\n",
       "        [-8.94405129e-003, -3.09374568e-001,  2.28039109e-001,\n",
       "         -1.27701976e-001,  1.84610389e-001,  4.35939801e-001,\n",
       "          2.05168787e-139,  1.92436587e-001, -1.02111689e-001,\n",
       "          8.67212052e-309, -1.52989617e-001, -3.02311739e-315,\n",
       "          4.36003050e-002,  1.48567779e-001, -4.69066964e-001,\n",
       "         -5.04099916e-002,  2.26798128e-001, -6.25158495e-002,\n",
       "          1.61738920e-001,  2.34207755e-002, -2.05265458e-001,\n",
       "          1.05500304e-001,  4.01761653e-001, -1.62030890e-001,\n",
       "         -2.57290666e-001,  4.55744239e-315, -5.02312836e-001,\n",
       "          2.47811826e-001,  1.77121198e-001,  4.49493265e-001],\n",
       "        [ 1.04509834e-001,  7.04902855e-002,  1.55051398e-001,\n",
       "         -3.84350848e-001,  1.43919751e-001, -4.87078272e-002,\n",
       "          3.33985491e-021, -7.53000253e-001, -6.10137575e-003,\n",
       "         -6.59526897e-317,  1.62214264e-001, -2.87985337e-315,\n",
       "          4.13423436e-001, -5.08441656e-001, -3.38208759e-001,\n",
       "          2.38926243e-001, -3.71737973e-001,  1.17952775e-001,\n",
       "          1.37948497e-001, -1.07475925e-002, -2.97867803e-001,\n",
       "          2.10598807e-001,  5.67010815e-002,  5.63755046e-001,\n",
       "         -2.29064170e-001,  1.59810652e-315,  7.72136344e-004,\n",
       "         -4.84600057e-002, -2.85006457e-001, -6.64172490e-001],\n",
       "        [ 2.52353366e-317,  7.51550304e-316, -1.38804314e-316,\n",
       "          9.93653360e-316, -8.84255274e-316,  4.74522124e-315,\n",
       "         -3.80153080e-317, -4.55794044e-315, -2.64317897e-315,\n",
       "         -5.95260685e-316, -3.24120069e-315,  3.86258656e-315,\n",
       "         -5.74924385e-316, -1.09572925e-316,  3.78147677e-316,\n",
       "         -1.04507092e-316, -1.77285119e-315, -1.95654649e-315,\n",
       "         -3.32564118e-315,  4.25322488e-317,  3.43001582e-316,\n",
       "         -6.29587146e-316,  1.20019899e-316, -1.79939558e-316,\n",
       "          1.51359975e-316, -1.01672047e-315,  1.25142000e-315,\n",
       "         -3.47434383e-316,  5.01454566e-316,  4.72404365e-316],\n",
       "        [ 1.45125598e-001, -1.60862000e-001, -1.05310460e-002,\n",
       "          1.07149907e-001, -8.95044459e-002,  3.56499254e-001,\n",
       "          1.89440614e-128,  4.70545712e-001, -1.49914281e-001,\n",
       "         -2.40305519e-310, -2.91890696e-001,  4.23190052e-315,\n",
       "         -2.07572076e-001,  4.26670609e-001,  4.08649106e-002,\n",
       "          3.46540955e-001,  1.02266187e-001, -4.09873457e-001,\n",
       "         -2.24191367e-001,  1.54964883e-001,  1.23748416e-002,\n",
       "          4.66202946e-002,  7.93682062e-002, -3.75962490e-001,\n",
       "         -5.93007829e-003, -4.28515109e-315,  1.49731753e-001,\n",
       "          4.93030495e-002,  5.38761250e-001,  2.45902277e-001],\n",
       "        [ 1.39095121e-001,  1.15105671e-001, -1.75579953e-001,\n",
       "          4.47865814e-001, -2.58229405e-001, -3.20597876e-001,\n",
       "         -1.00099498e-023, -6.19883353e-001,  2.52070934e-001,\n",
       "          1.87697046e-316, -7.12526756e-002,  4.79266231e-316,\n",
       "          2.82689847e-001,  3.35068961e-001,  1.94121585e-001,\n",
       "          3.45196492e-002, -1.71370566e-001,  5.27043579e-002,\n",
       "          8.93289178e-002, -1.27804505e-001,  1.90642473e-001,\n",
       "         -6.46070351e-002,  2.52037098e-001,  2.65090998e-001,\n",
       "          3.72822587e-002,  5.86820285e-316,  1.56678895e-001,\n",
       "          1.90307581e-001,  1.12580218e-001, -3.61746389e-001],\n",
       "        [-2.68121924e-002, -1.91530825e-001, -4.33766055e-002,\n",
       "         -3.44638218e-001,  4.01027721e-001,  2.57934217e-001,\n",
       "         -1.73321991e-046, -2.11704823e-001,  2.43454437e-001,\n",
       "          5.99648606e-316,  7.56156068e-002, -4.60806930e-315,\n",
       "          1.16297454e-001, -1.13317626e-002, -3.47870303e-001,\n",
       "         -2.50505255e-001, -2.33956516e-002,  3.24935801e-001,\n",
       "         -5.59718328e-002,  2.53077622e-001,  2.17744970e-001,\n",
       "          3.47926454e-001,  6.89147785e-002,  4.37985036e-001,\n",
       "         -1.60574233e-001, -3.59520207e-315, -3.92150304e-002,\n",
       "          2.95586371e-001, -1.51107822e-001,  2.41062888e-001],\n",
       "        [-1.12409064e-001,  6.08115663e-001,  2.18466094e-001,\n",
       "         -7.26689792e-001,  3.18469634e-001, -4.56911134e-001,\n",
       "         -2.28616705e-183, -2.80475577e-001,  2.97858499e-001,\n",
       "          3.79851105e-315,  7.91832606e-001, -1.76412448e-316,\n",
       "          4.27473818e-002, -4.13869727e-001, -1.48650195e-001,\n",
       "         -4.36735293e-001,  6.41878572e-001,  5.52158473e-001,\n",
       "          1.03409652e-001, -1.94372656e-001, -2.41328216e-001,\n",
       "          1.07935599e+000,  2.37779974e-001,  3.74454223e-001,\n",
       "          1.10998556e-001,  2.50267625e-315,  3.32729194e-002,\n",
       "          5.39618950e-001, -3.69072869e-001, -5.39671852e-001],\n",
       "        [-3.41351328e-003, -5.85195702e-002,  6.04100436e-002,\n",
       "         -6.92935430e-002,  5.05907839e-001, -2.44052307e-001,\n",
       "          1.79675406e-053,  3.74645189e-001,  1.92648655e-001,\n",
       "          4.54305629e-316,  1.86003627e-001, -1.29286688e-315,\n",
       "         -4.27668760e-001,  2.02717274e-001, -5.01030501e-002,\n",
       "          2.18525922e-001, -7.65554085e-003,  4.74898001e-001,\n",
       "          3.20340752e-001, -4.81453452e-001, -4.11472960e-001,\n",
       "          3.65107471e-001,  4.80054434e-001,  4.04324918e-001,\n",
       "          1.41886009e-002,  1.19918824e-315, -4.98097317e-001,\n",
       "          6.10984466e-001,  5.04970835e-002, -2.01620212e-002],\n",
       "        [-1.22793465e-001,  3.22882229e-001, -1.16109870e-001,\n",
       "          1.15232085e-001, -2.98276518e-001,  1.63092203e-001,\n",
       "         -2.90905209e-083,  5.26930190e-001,  1.06826707e-001,\n",
       "         -1.34438221e-315, -2.73332051e-001,  3.36864224e-315,\n",
       "          1.95715977e-001,  7.54673713e-002,  2.33595168e-001,\n",
       "         -2.01717633e-003,  5.16213236e-001, -1.46298618e-001,\n",
       "         -3.64883191e-001,  3.45871117e-001,  2.96877599e-001,\n",
       "         -9.71582209e-002, -1.82757817e-001, -3.32093982e-002,\n",
       "          1.19249649e-001,  1.25966419e-315,  2.71855230e-001,\n",
       "          3.25841264e-001,  2.98461947e-001,  2.37146809e-001],\n",
       "        [-2.02496083e-003,  2.27189329e-001, -6.57365795e-002,\n",
       "          4.56216525e-001, -1.22411003e-001,  2.22198797e-001,\n",
       "          4.82743627e-170,  1.28942911e-001, -1.85162527e-001,\n",
       "         -6.23478521e-312, -8.59589364e-002,  5.12793529e-315,\n",
       "          3.51614478e-001, -5.02591260e-002, -9.82969652e-002,\n",
       "          5.30763129e-001,  6.03748652e-002,  5.40466879e-003,\n",
       "          2.77322199e-002,  6.42374785e-003,  4.66215678e-001,\n",
       "         -2.27118724e-001, -1.62267584e-001,  1.59658045e-001,\n",
       "         -1.63158634e-001, -2.83618697e-315, -1.50366844e-001,\n",
       "         -2.65650207e-001,  3.20138024e-001,  3.65578636e-001],\n",
       "        [-1.39301745e-001,  1.86373593e-001, -4.70590833e-001,\n",
       "          3.63333494e-001, -7.11174653e-001,  8.85178599e-001,\n",
       "         -2.24590158e-157,  3.26194068e-001, -9.45740637e-001,\n",
       "          2.17021546e-316, -7.13613222e-001,  8.67868742e-316,\n",
       "          2.37603684e-001,  2.58823636e-001,  2.98784158e-002,\n",
       "          8.46154902e-001,  2.01857831e-002, -6.32604843e-001,\n",
       "         -4.50411739e-001,  6.79275791e-001,  1.97110863e-001,\n",
       "         -6.47334453e-001, -4.62980195e-001, -4.49045710e-001,\n",
       "          7.32732496e-002,  2.22478481e-315,  7.34064169e-002,\n",
       "         -4.53497410e-001,  7.84046436e-002,  2.42562861e-001],\n",
       "        [ 1.81628814e-001, -6.59100040e-002,  3.07688539e-001,\n",
       "          1.23292757e-001, -9.46142082e-002, -2.62957998e-003,\n",
       "         -1.47990371e-051,  5.89090800e-001,  1.07935106e-001,\n",
       "         -1.67677515e-315, -1.70982268e-001, -6.66840797e-317,\n",
       "          4.75752243e-001,  8.40586217e-002,  1.87909830e-001,\n",
       "          2.91613582e-001, -2.47638499e-001, -3.08716095e-001,\n",
       "         -2.83540780e-001,  2.55412796e-001,  5.74384926e-001,\n",
       "         -4.32229995e-002,  1.93808300e-003, -9.15264742e-002,\n",
       "         -1.79420660e-001,  3.86409235e-315,  1.71198113e-001,\n",
       "         -5.01774899e-003,  3.40072848e-001,  4.06536516e-001],\n",
       "        [-8.98281642e-099,  2.09447136e-158, -1.64638936e-025,\n",
       "         -6.30224057e-129, -3.07534313e-006,  7.70484826e-006,\n",
       "         -1.53407893e-315, -4.03456180e-083, -5.61136293e-015,\n",
       "         -5.82765113e-316, -1.62802166e-005, -3.77983544e-316,\n",
       "         -4.46694491e-052, -6.15238209e-073, -1.21825258e-217,\n",
       "          3.97054174e-006,  5.88202740e-180, -1.96579700e-007,\n",
       "         -1.67229107e-014,  9.14633313e-012,  3.79232572e-007,\n",
       "         -1.12837314e-010, -1.00381498e-012, -2.31018558e-005,\n",
       "          2.68008610e-217,  2.59846536e-315, -6.46231484e-094,\n",
       "         -5.31748843e-011, -4.59707800e-039,  3.40635233e-080],\n",
       "        [-2.96570988e-002, -1.42980294e-001,  1.59322575e-001,\n",
       "         -2.28879589e-002,  4.78853689e-001,  1.22601264e-001,\n",
       "          2.54933949e-084, -1.82765668e-001,  2.99234757e-001,\n",
       "          1.23539876e-315,  1.18446748e-001, -1.17331747e-315,\n",
       "          6.59978403e-002, -6.02394647e-002, -6.30737075e-002,\n",
       "         -6.58227260e-001,  1.84469500e-001,  3.20079057e-001,\n",
       "          9.44549347e-002, -5.59301522e-002,  6.83840382e-001,\n",
       "          4.03703906e-001,  3.03328876e-001,  4.31368295e-001,\n",
       "          9.50080687e-002,  1.17468095e-315,  1.59689947e-001,\n",
       "          1.80856182e-002, -2.16650215e-001, -3.96158662e-001],\n",
       "        [ 2.21994817e-001, -1.18765945e-001,  1.03915092e-001,\n",
       "          4.52770957e-002,  1.95592470e-001, -1.18733711e+000,\n",
       "          6.46080278e-025, -5.48439985e-001, -1.84372843e-001,\n",
       "          4.48588622e-316,  3.74423069e-001, -2.90689278e-315,\n",
       "         -2.44750039e-001, -1.12917218e-001,  1.17192048e-001,\n",
       "          2.72132977e-002, -2.26775490e-001,  1.35728299e-001,\n",
       "          7.92582519e-002, -3.41005719e-001,  1.72282487e-001,\n",
       "          1.49012050e-001,  1.18511068e-001, -8.20724386e-002,\n",
       "         -1.47092035e-001,  2.39361967e-315, -5.62286837e-002,\n",
       "         -2.45984506e-001,  2.78198894e-001, -6.02234231e-001],\n",
       "        [ 1.35865869e-001, -1.14883217e-002,  1.72792125e-001,\n",
       "          4.25989580e-001, -6.59300160e-001,  3.10828506e-001,\n",
       "          6.46638923e-074,  2.36723037e-001,  7.55744219e-003,\n",
       "         -1.96484864e-264, -3.52128721e-001, -3.73451519e-315,\n",
       "          4.09540889e-001,  3.92207169e-001,  2.24191014e-001,\n",
       "          1.46276748e-001,  1.21703379e-002, -5.33579636e-001,\n",
       "         -1.87950410e-001,  2.26367277e-001,  2.51486799e-001,\n",
       "         -3.07287858e-001, -1.16753765e-001, -3.76272909e-001,\n",
       "         -9.47694686e-002, -2.35091247e-315,  2.89774321e-001,\n",
       "          9.32632073e-002,  3.47673746e-001,  5.56319458e-001],\n",
       "        [ 1.67591924e-001,  3.73548682e-001, -2.72212092e-001,\n",
       "          6.97258999e-001, -2.49124069e-001, -8.97471761e-002,\n",
       "         -1.67433364e-019,  2.77783195e-001,  1.10632948e-001,\n",
       "         -1.24352974e-315, -2.02170163e-001, -2.46071032e-315,\n",
       "         -1.65089095e-002,  6.53412268e-001,  6.42673892e-001,\n",
       "          2.45904469e-001,  9.55957343e-001, -4.55723676e-001,\n",
       "         -3.39469082e-001,  7.36912414e-001,  5.02385731e-001,\n",
       "         -1.38565154e-001, -1.33342664e-001, -4.49491343e-001,\n",
       "          5.79204884e-001, -2.13763677e-315,  9.95361615e-001,\n",
       "          2.16009457e-001,  2.88804967e-001,  3.68877169e-001],\n",
       "        [ 2.03936914e-001,  8.52866364e-002, -2.17045805e-001,\n",
       "          3.17079095e-002, -7.09591439e-001,  8.44228125e-002,\n",
       "         -5.71659638e-151,  6.33098833e-001, -1.00607612e-001,\n",
       "         -2.29078601e-299,  7.50687134e-002,  1.09170603e-315,\n",
       "         -2.08500755e-001, -4.58614263e-002,  1.16672126e-001,\n",
       "          2.91439889e-001,  1.47363270e-001, -5.12092199e-001,\n",
       "          9.00900062e-002,  1.44182655e-001, -1.40926160e-002,\n",
       "         -1.14724649e-001, -1.66574934e-001,  1.92536491e-001,\n",
       "          5.65268837e-002,  1.80456519e-316,  2.31909354e-001,\n",
       "          3.53993470e-002,  2.96675207e-001,  5.33449589e-001],\n",
       "        [ 3.87163078e-002, -4.06653471e-001,  2.54397224e-001,\n",
       "         -3.63299909e-001,  4.00705535e-002, -7.13246530e-002,\n",
       "         -6.71638041e-042,  1.75473463e-001,  8.90889758e-003,\n",
       "          4.60251036e-282,  4.07572757e-001,  8.52967036e-317,\n",
       "          2.47794957e-001,  4.41234857e-002, -2.71072087e-001,\n",
       "          2.86539571e-001, -3.58764509e-001,  5.47521403e-002,\n",
       "          5.15819392e-002, -1.63940975e-001, -3.61846881e-001,\n",
       "          8.17412901e-002,  4.84810602e-001,  3.07022530e-001,\n",
       "         -2.14540522e-001, -1.87757763e-315, -5.66702314e-001,\n",
       "         -3.75702928e-001,  7.08711028e-002,  1.85108252e-001],\n",
       "        [ 9.16343777e-002,  1.11857358e-001,  9.91908881e-002,\n",
       "          4.00981126e-001, -5.34938869e-001,  4.55028656e-001,\n",
       "         -1.49472736e-156,  6.88762127e-001, -1.12812824e-001,\n",
       "         -4.69541018e-317, -3.39147486e-001, -6.63284370e-316,\n",
       "          6.15387114e-002,  6.68187411e-001,  5.70195675e-002,\n",
       "          3.43967974e-001,  7.17162835e-002, -4.35102616e-001,\n",
       "         -1.90177728e-001,  3.94468817e-001,  1.08196159e-001,\n",
       "         -1.16601223e-001, -2.67305914e-001, -6.27028747e-001,\n",
       "          1.00422200e-002,  2.07541477e-315,  3.08705418e-001,\n",
       "          1.14753456e-001,  8.54329965e-001,  5.87594353e-001],\n",
       "        [-3.33361088e-001,  3.46193871e-001,  2.27709153e-001,\n",
       "          2.34924177e-001,  2.33932083e-001,  4.90672628e-002,\n",
       "         -2.58526058e-025, -9.16610091e-002,  2.46613069e-001,\n",
       "         -1.38079604e-316,  2.66943983e-001,  2.33947578e-315,\n",
       "         -7.75913288e-002, -2.28396668e-001, -9.40736596e-003,\n",
       "         -3.02741658e-001,  9.42807485e-002, -1.99575334e-001,\n",
       "          1.43936216e-001,  3.85816003e-001,  1.89281254e-001,\n",
       "          2.87464188e-001, -1.79609265e-001, -1.47175084e-001,\n",
       "         -1.31649372e-001, -3.40965636e-316,  3.38682426e-001,\n",
       "          3.97812087e-001,  1.37827661e-002, -5.24158226e-001]]),\n",
       " array([[-4.02387224e-001,  2.28906411e-001, -1.85589681e-001],\n",
       "        [ 6.73598590e-001, -4.66596961e-001,  2.23266054e-001],\n",
       "        [-1.72510170e+000,  2.54937996e-001,  3.55982918e-001],\n",
       "        [ 3.88810503e-001,  1.44715614e-001, -6.97660143e-001],\n",
       "        [-2.42308428e-001, -1.91484130e-001,  5.96470100e-001],\n",
       "        [-6.35702849e-001,  4.67149320e-001, -4.01748196e-001],\n",
       "        [-5.02046847e-110,  4.48826119e-005,  4.40255026e-005],\n",
       "        [ 4.85850023e-001,  8.03331232e-001, -7.08535910e-001],\n",
       "        [-3.70551926e-001, -2.51589929e-001,  1.78198051e-001],\n",
       "        [-7.14654405e-316,  3.33564515e-315,  1.30776689e-315],\n",
       "        [-7.51671512e-001, -2.82599126e-001,  6.04666866e-001],\n",
       "        [-5.19823531e-316, -1.56987718e-315,  5.11896999e-316],\n",
       "        [-1.53487658e+000,  3.48037007e-001,  3.14777466e-001],\n",
       "        [ 8.75595286e-002, -1.59208657e-001, -5.32188154e-001],\n",
       "        [ 5.25574069e-001,  2.80728795e-002, -5.06140326e-001],\n",
       "        [-3.81320769e-001,  6.02799765e-001, -2.01967486e-001],\n",
       "        [ 9.38392755e-001, -1.29693970e+000,  5.66644341e-001],\n",
       "        [-4.29506343e-001, -2.07211304e-001,  4.30665825e-001],\n",
       "        [ 1.30019114e-001,  1.71973553e-002,  1.77280263e-001],\n",
       "        [-9.40702471e-002, -1.97524258e-001, -5.63350853e-001],\n",
       "        [ 2.43725464e-001,  1.97746953e-002, -7.21022439e-001],\n",
       "        [-7.08607386e-001, -2.84468863e-001, -1.57570303e-002],\n",
       "        [-1.60550092e+000,  2.21081270e-001,  4.91269031e-001],\n",
       "        [-1.17627485e+000, -3.16201506e-001,  5.80496829e-001],\n",
       "        [ 7.14654568e-001, -2.42258793e-001, -1.28346997e-001],\n",
       "        [-6.27202672e-316,  9.29083367e-316, -1.14789785e-315],\n",
       "        [ 8.75124815e-001, -3.81905683e-001, -6.10458467e-001],\n",
       "        [ 8.28995715e-002, -6.45601611e-001, -1.21895062e-001],\n",
       "        [-1.44734322e-001,  5.87606727e-001, -6.37040085e-001],\n",
       "        [ 3.66279857e-001,  8.96000856e-001, -7.51108515e-001]])]"
      ]
     },
     "execution_count": 198,
     "metadata": {},
     "output_type": "execute_result"
    }
   ],
   "source": [
    "mlp.coefs_"
   ]
  },
  {
   "cell_type": "code",
   "execution_count": 199,
   "metadata": {},
   "outputs": [
    {
     "data": {
      "text/plain": [
       "0.8281062857649825"
      ]
     },
     "execution_count": 199,
     "metadata": {},
     "output_type": "execute_result"
    }
   ],
   "source": [
    "accuracy_score( y_test, y_pred )"
   ]
  },
  {
   "cell_type": "markdown",
   "metadata": {},
   "source": [
    "## Combine Model Predictions Into Ensemble Predictions\n",
    "\n",
    "The three most popular methods for combining the predictions from different models are:\n",
    "\n",
    "Bagging-> Building multiple models (typically of the same type) from different subsamples of the training dataset.\n",
    "\n",
    "Boosting-> Building multiple models (typically of the same type) each of which learns to fix the prediction errors of a prior model in the chain.\n",
    "\n",
    "Voting-> Building multiple models (typically of differing types) and simple statistics (like calculating the mean) are used to combine predictions."
   ]
  },
  {
   "cell_type": "markdown",
   "metadata": {},
   "source": [
    "### Bagging Algorithms\n",
    "\n",
    "Bootstrap Aggregation or bagging involves taking multiple samples from your training dataset (with replacement) and training a model for each sample.\n",
    "\n",
    "The final output prediction is averaged across the predictions of all of the sub-models.\n",
    "\n",
    "The three bagging models covered in this section are as follows:\n",
    "\n",
    "1) Bagged Decision Trees\n",
    "\n",
    "2) Random Forest\n",
    "\n",
    "3) Extra Trees"
   ]
  },
  {
   "cell_type": "markdown",
   "metadata": {},
   "source": [
    "#### 1. Bagged Decision Trees\n",
    "Bagging performs best with algorithms that have high variance. A popular example are decision trees, often constructed without pruning."
   ]
  },
  {
   "cell_type": "code",
   "execution_count": 200,
   "metadata": {},
   "outputs": [],
   "source": [
    "from sklearn import model_selection\n",
    "from sklearn.ensemble import BaggingClassifier\n",
    "from sklearn.tree import DecisionTreeClassifier"
   ]
  },
  {
   "cell_type": "code",
   "execution_count": 208,
   "metadata": {},
   "outputs": [
    {
     "name": "stdout",
     "output_type": "stream",
     "text": [
      "0.999452259987816\n"
     ]
    }
   ],
   "source": [
    "#seed = 7\n",
    "kfold = model_selection.KFold(n_splits=10, random_state=None)\n",
    "cart = DecisionTreeClassifier()\n",
    "num_trees = 100\n",
    "model = BaggingClassifier(base_estimator=cart, n_estimators=num_trees, random_state=None)\n",
    "results = model_selection.cross_val_score(model, X_train, y_train, cv=kfold)\n",
    "print(results.mean())"
   ]
  },
  {
   "cell_type": "code",
   "execution_count": 209,
   "metadata": {},
   "outputs": [
    {
     "data": {
      "text/plain": [
       "BaggingClassifier(base_estimator=DecisionTreeClassifier(), n_estimators=100)"
      ]
     },
     "execution_count": 209,
     "metadata": {},
     "output_type": "execute_result"
    }
   ],
   "source": [
    "model.fit(X_train, y_train)"
   ]
  },
  {
   "cell_type": "code",
   "execution_count": 210,
   "metadata": {},
   "outputs": [
    {
     "data": {
      "text/plain": [
       "array([1., 0., 2., ..., 1., 0., 2.])"
      ]
     },
     "execution_count": 210,
     "metadata": {},
     "output_type": "execute_result"
    }
   ],
   "source": [
    "y_pred=model.predict(X_test)\n",
    "y_pred"
   ]
  },
  {
   "cell_type": "code",
   "execution_count": 211,
   "metadata": {},
   "outputs": [
    {
     "data": {
      "text/plain": [
       "0.8116488488666105"
      ]
     },
     "execution_count": 211,
     "metadata": {},
     "output_type": "execute_result"
    }
   ],
   "source": [
    "accuracy_score( y_test, y_pred )"
   ]
  },
  {
   "cell_type": "markdown",
   "metadata": {},
   "source": [
    "#### 2. Random Forest\n",
    "Random forest is an extension of bagged decision trees."
   ]
  },
  {
   "cell_type": "code",
   "execution_count": 212,
   "metadata": {},
   "outputs": [],
   "source": [
    "from sklearn.ensemble import RandomForestClassifier"
   ]
  },
  {
   "cell_type": "code",
   "execution_count": 214,
   "metadata": {},
   "outputs": [
    {
     "name": "stdout",
     "output_type": "stream",
     "text": [
      "0.9995554566416962\n"
     ]
    }
   ],
   "source": [
    "#seed = 7\n",
    "num_trees = 100\n",
    "max_features = 3\n",
    "kfold = model_selection.KFold(n_splits=10, random_state=None)\n",
    "model = RandomForestClassifier(n_estimators=num_trees, max_features=max_features)\n",
    "results = model_selection.cross_val_score(model, X_train, y_train, cv=kfold)\n",
    "print(results.mean())"
   ]
  },
  {
   "cell_type": "code",
   "execution_count": 215,
   "metadata": {},
   "outputs": [
    {
     "data": {
      "text/plain": [
       "RandomForestClassifier(max_features=3)"
      ]
     },
     "execution_count": 215,
     "metadata": {},
     "output_type": "execute_result"
    }
   ],
   "source": [
    "model.fit(X_train, y_train)"
   ]
  },
  {
   "cell_type": "code",
   "execution_count": 216,
   "metadata": {},
   "outputs": [
    {
     "data": {
      "text/plain": [
       "array([1., 0., 2., ..., 1., 0., 2.])"
      ]
     },
     "execution_count": 216,
     "metadata": {},
     "output_type": "execute_result"
    }
   ],
   "source": [
    "y_pred=model.predict(X_test)\n",
    "y_pred"
   ]
  },
  {
   "cell_type": "code",
   "execution_count": 217,
   "metadata": {},
   "outputs": [
    {
     "data": {
      "text/plain": [
       "0.8172381670585104"
      ]
     },
     "execution_count": 217,
     "metadata": {},
     "output_type": "execute_result"
    }
   ],
   "source": [
    "accuracy_score( y_test, y_pred )"
   ]
  },
  {
   "cell_type": "markdown",
   "metadata": {},
   "source": [
    "#### 3. Extra Trees\n",
    "Extra Trees are another modification of bagging where random trees are constructed from samples of the training dataset."
   ]
  },
  {
   "cell_type": "code",
   "execution_count": 218,
   "metadata": {},
   "outputs": [],
   "source": [
    "from sklearn.ensemble import ExtraTreesClassifier"
   ]
  },
  {
   "cell_type": "code",
   "execution_count": 219,
   "metadata": {},
   "outputs": [
    {
     "name": "stdout",
     "output_type": "stream",
     "text": [
      "0.9995078268836401\n"
     ]
    }
   ],
   "source": [
    "#seed = 7\n",
    "num_trees = 100\n",
    "max_features = 7\n",
    "kfold = model_selection.KFold(n_splits=10, random_state=None)\n",
    "model = ExtraTreesClassifier(n_estimators=num_trees, max_features=max_features)\n",
    "results = model_selection.cross_val_score(model, X_train, y_train, cv=kfold)\n",
    "print(results.mean())"
   ]
  },
  {
   "cell_type": "code",
   "execution_count": 220,
   "metadata": {},
   "outputs": [
    {
     "data": {
      "text/plain": [
       "ExtraTreesClassifier(max_features=7)"
      ]
     },
     "execution_count": 220,
     "metadata": {},
     "output_type": "execute_result"
    }
   ],
   "source": [
    "model.fit(X_train, y_train)"
   ]
  },
  {
   "cell_type": "code",
   "execution_count": 221,
   "metadata": {},
   "outputs": [
    {
     "data": {
      "text/plain": [
       "array([1., 0., 2., ..., 1., 0., 2.])"
      ]
     },
     "execution_count": 221,
     "metadata": {},
     "output_type": "execute_result"
    }
   ],
   "source": [
    "y_pred=model.predict(X_test)\n",
    "y_pred"
   ]
  },
  {
   "cell_type": "code",
   "execution_count": 222,
   "metadata": {},
   "outputs": [
    {
     "data": {
      "text/plain": [
       "0.815064543317216"
      ]
     },
     "execution_count": 222,
     "metadata": {},
     "output_type": "execute_result"
    }
   ],
   "source": [
    "accuracy_score( y_test, y_pred )"
   ]
  },
  {
   "cell_type": "markdown",
   "metadata": {},
   "source": [
    "### Boosting Algorithms\n",
    "\n",
    "Boosting ensemble algorithms creates a sequence of models that attempt to correct the mistakes of the models before them in the sequence.\n",
    "\n",
    "Once created, the models make predictions which may be weighted by their demonstrated accuracy and the results are combined to create a final output prediction.\n",
    "\n",
    "The two most common boosting ensemble machine learning algorithms are:\n",
    "\n",
    "1) AdaBoost\n",
    "\n",
    "2) Stochastic Gradient Boosting"
   ]
  },
  {
   "cell_type": "markdown",
   "metadata": {},
   "source": [
    "#### 1. AdaBoost\n",
    "\n",
    "AdaBoost was perhaps the first successful boosting ensemble algorithm. It generally works by weighting instances in the dataset by how easy or difficult they are to classify, allowing the algorithm to pay or or less attention to them in the construction of subsequent models."
   ]
  },
  {
   "cell_type": "code",
   "execution_count": 223,
   "metadata": {},
   "outputs": [],
   "source": [
    "from sklearn.ensemble import AdaBoostClassifier"
   ]
  },
  {
   "cell_type": "code",
   "execution_count": 224,
   "metadata": {},
   "outputs": [
    {
     "name": "stdout",
     "output_type": "stream",
     "text": [
      "0.9982297655949475\n"
     ]
    }
   ],
   "source": [
    "#seed = 7\n",
    "num_trees = 30\n",
    "kfold = model_selection.KFold(n_splits=10, random_state=None)\n",
    "model = AdaBoostClassifier(n_estimators=num_trees, random_state=None)\n",
    "results = model_selection.cross_val_score(model, X_train, y_train, cv=kfold)\n",
    "print(results.mean())"
   ]
  },
  {
   "cell_type": "code",
   "execution_count": 225,
   "metadata": {},
   "outputs": [
    {
     "data": {
      "text/plain": [
       "AdaBoostClassifier(n_estimators=30)"
      ]
     },
     "execution_count": 225,
     "metadata": {},
     "output_type": "execute_result"
    }
   ],
   "source": [
    "model.fit(X_train, y_train)"
   ]
  },
  {
   "cell_type": "code",
   "execution_count": 226,
   "metadata": {},
   "outputs": [
    {
     "data": {
      "text/plain": [
       "array([1., 0., 2., ..., 1., 0., 1.])"
      ]
     },
     "execution_count": 226,
     "metadata": {},
     "output_type": "execute_result"
    }
   ],
   "source": [
    "y_pred=model.predict(X_test)\n",
    "y_pred"
   ]
  },
  {
   "cell_type": "code",
   "execution_count": 227,
   "metadata": {},
   "outputs": [
    {
     "data": {
      "text/plain": [
       "0.8369782194029188"
      ]
     },
     "execution_count": 227,
     "metadata": {},
     "output_type": "execute_result"
    }
   ],
   "source": [
    "accuracy_score( y_test, y_pred )"
   ]
  },
  {
   "cell_type": "markdown",
   "metadata": {},
   "source": [
    "#### 2. Stochastic Gradient Boosting\n",
    "Stochastic Gradient Boosting (also called Gradient Boosting Machines) are one of the most sophisticated ensemble techniques. It is also a technique that is proving to be perhaps of the the best techniques available for improving performance via ensembles."
   ]
  },
  {
   "cell_type": "code",
   "execution_count": 228,
   "metadata": {},
   "outputs": [],
   "source": [
    "from sklearn.ensemble import GradientBoostingClassifier"
   ]
  },
  {
   "cell_type": "code",
   "execution_count": 229,
   "metadata": {},
   "outputs": [
    {
     "name": "stdout",
     "output_type": "stream",
     "text": [
      "0.999039464550453\n"
     ]
    }
   ],
   "source": [
    "#seed = 7\n",
    "num_trees = 100\n",
    "kfold = model_selection.KFold(n_splits=10, random_state=None)\n",
    "model = GradientBoostingClassifier(n_estimators=num_trees, random_state=None)\n",
    "results = model_selection.cross_val_score(model, X_train, y_train, cv=kfold)\n",
    "print(results.mean())"
   ]
  },
  {
   "cell_type": "code",
   "execution_count": 230,
   "metadata": {},
   "outputs": [
    {
     "data": {
      "text/plain": [
       "GradientBoostingClassifier()"
      ]
     },
     "execution_count": 230,
     "metadata": {},
     "output_type": "execute_result"
    }
   ],
   "source": [
    "model.fit(X_train, y_train)"
   ]
  },
  {
   "cell_type": "code",
   "execution_count": 231,
   "metadata": {},
   "outputs": [
    {
     "data": {
      "text/plain": [
       "array([1., 0., 2., ..., 1., 0., 1.])"
      ]
     },
     "execution_count": 231,
     "metadata": {},
     "output_type": "execute_result"
    }
   ],
   "source": [
    "y_pred=model.predict(X_test)\n",
    "y_pred"
   ]
  },
  {
   "cell_type": "code",
   "execution_count": 232,
   "metadata": {},
   "outputs": [
    {
     "data": {
      "text/plain": [
       "0.8126691212349731"
      ]
     },
     "execution_count": 232,
     "metadata": {},
     "output_type": "execute_result"
    }
   ],
   "source": [
    "accuracy_score( y_test, y_pred )"
   ]
  },
  {
   "cell_type": "markdown",
   "metadata": {},
   "source": [
    "### Voting Ensemble\n",
    "\n",
    "Voting is one of the simplest ways of combining the predictions from multiple machine learning algorithms.\n",
    "\n",
    "It works by first creating two or more standalone models from your training dataset. A Voting Classifier can then be used to wrap your models and average the predictions of the sub-models when asked to make predictions for new data.\n",
    "\n",
    "The predictions of the sub-models can be weighted, but specifying the weights for classifiers manually or even heuristically is difficult. More advanced methods can learn how to best weight the predictions from submodels, but this is called stacking (stacked generalization) and is currently not provided in scikit-learn."
   ]
  },
  {
   "cell_type": "code",
   "execution_count": 233,
   "metadata": {},
   "outputs": [],
   "source": [
    "from sklearn.svm import SVC\n",
    "from sklearn.ensemble import VotingClassifier"
   ]
  },
  {
   "cell_type": "code",
   "execution_count": null,
   "metadata": {},
   "outputs": [],
   "source": [
    "#voting_clf = VotingClassifier(estimators = [('logreg',logreg),('radm_clf',radm_clf), ('clf_tree',clf_tree), \n",
    "   #                                         ('mlp',MLPClassifier()),('svm_clf',SVC())], voting = 'hard')\n",
    "#voting_clf.fit(train_X, train_y)"
   ]
  },
  {
   "cell_type": "code",
   "execution_count": 234,
   "metadata": {
    "scrolled": true
   },
   "outputs": [
    {
     "name": "stderr",
     "output_type": "stream",
     "text": [
      "C:\\Users\\Vicky\\anaconda31\\lib\\site-packages\\sklearn\\linear_model\\_logistic.py:763: ConvergenceWarning: lbfgs failed to converge (status=1):\n",
      "STOP: TOTAL NO. of ITERATIONS REACHED LIMIT.\n",
      "\n",
      "Increase the number of iterations (max_iter) or scale the data as shown in:\n",
      "    https://scikit-learn.org/stable/modules/preprocessing.html\n",
      "Please also refer to the documentation for alternative solver options:\n",
      "    https://scikit-learn.org/stable/modules/linear_model.html#logistic-regression\n",
      "  n_iter_i = _check_optimize_result(\n",
      "C:\\Users\\Vicky\\anaconda31\\lib\\site-packages\\sklearn\\linear_model\\_logistic.py:763: ConvergenceWarning: lbfgs failed to converge (status=1):\n",
      "STOP: TOTAL NO. of ITERATIONS REACHED LIMIT.\n",
      "\n",
      "Increase the number of iterations (max_iter) or scale the data as shown in:\n",
      "    https://scikit-learn.org/stable/modules/preprocessing.html\n",
      "Please also refer to the documentation for alternative solver options:\n",
      "    https://scikit-learn.org/stable/modules/linear_model.html#logistic-regression\n",
      "  n_iter_i = _check_optimize_result(\n",
      "C:\\Users\\Vicky\\anaconda31\\lib\\site-packages\\sklearn\\linear_model\\_logistic.py:763: ConvergenceWarning: lbfgs failed to converge (status=1):\n",
      "STOP: TOTAL NO. of ITERATIONS REACHED LIMIT.\n",
      "\n",
      "Increase the number of iterations (max_iter) or scale the data as shown in:\n",
      "    https://scikit-learn.org/stable/modules/preprocessing.html\n",
      "Please also refer to the documentation for alternative solver options:\n",
      "    https://scikit-learn.org/stable/modules/linear_model.html#logistic-regression\n",
      "  n_iter_i = _check_optimize_result(\n",
      "C:\\Users\\Vicky\\anaconda31\\lib\\site-packages\\sklearn\\linear_model\\_logistic.py:763: ConvergenceWarning: lbfgs failed to converge (status=1):\n",
      "STOP: TOTAL NO. of ITERATIONS REACHED LIMIT.\n",
      "\n",
      "Increase the number of iterations (max_iter) or scale the data as shown in:\n",
      "    https://scikit-learn.org/stable/modules/preprocessing.html\n",
      "Please also refer to the documentation for alternative solver options:\n",
      "    https://scikit-learn.org/stable/modules/linear_model.html#logistic-regression\n",
      "  n_iter_i = _check_optimize_result(\n",
      "C:\\Users\\Vicky\\anaconda31\\lib\\site-packages\\sklearn\\linear_model\\_logistic.py:763: ConvergenceWarning: lbfgs failed to converge (status=1):\n",
      "STOP: TOTAL NO. of ITERATIONS REACHED LIMIT.\n",
      "\n",
      "Increase the number of iterations (max_iter) or scale the data as shown in:\n",
      "    https://scikit-learn.org/stable/modules/preprocessing.html\n",
      "Please also refer to the documentation for alternative solver options:\n",
      "    https://scikit-learn.org/stable/modules/linear_model.html#logistic-regression\n",
      "  n_iter_i = _check_optimize_result(\n",
      "C:\\Users\\Vicky\\anaconda31\\lib\\site-packages\\sklearn\\linear_model\\_logistic.py:763: ConvergenceWarning: lbfgs failed to converge (status=1):\n",
      "STOP: TOTAL NO. of ITERATIONS REACHED LIMIT.\n",
      "\n",
      "Increase the number of iterations (max_iter) or scale the data as shown in:\n",
      "    https://scikit-learn.org/stable/modules/preprocessing.html\n",
      "Please also refer to the documentation for alternative solver options:\n",
      "    https://scikit-learn.org/stable/modules/linear_model.html#logistic-regression\n",
      "  n_iter_i = _check_optimize_result(\n",
      "C:\\Users\\Vicky\\anaconda31\\lib\\site-packages\\sklearn\\linear_model\\_logistic.py:763: ConvergenceWarning: lbfgs failed to converge (status=1):\n",
      "STOP: TOTAL NO. of ITERATIONS REACHED LIMIT.\n",
      "\n",
      "Increase the number of iterations (max_iter) or scale the data as shown in:\n",
      "    https://scikit-learn.org/stable/modules/preprocessing.html\n",
      "Please also refer to the documentation for alternative solver options:\n",
      "    https://scikit-learn.org/stable/modules/linear_model.html#logistic-regression\n",
      "  n_iter_i = _check_optimize_result(\n",
      "C:\\Users\\Vicky\\anaconda31\\lib\\site-packages\\sklearn\\linear_model\\_logistic.py:763: ConvergenceWarning: lbfgs failed to converge (status=1):\n",
      "STOP: TOTAL NO. of ITERATIONS REACHED LIMIT.\n",
      "\n",
      "Increase the number of iterations (max_iter) or scale the data as shown in:\n",
      "    https://scikit-learn.org/stable/modules/preprocessing.html\n",
      "Please also refer to the documentation for alternative solver options:\n",
      "    https://scikit-learn.org/stable/modules/linear_model.html#logistic-regression\n",
      "  n_iter_i = _check_optimize_result(\n",
      "C:\\Users\\Vicky\\anaconda31\\lib\\site-packages\\sklearn\\linear_model\\_logistic.py:763: ConvergenceWarning: lbfgs failed to converge (status=1):\n",
      "STOP: TOTAL NO. of ITERATIONS REACHED LIMIT.\n",
      "\n",
      "Increase the number of iterations (max_iter) or scale the data as shown in:\n",
      "    https://scikit-learn.org/stable/modules/preprocessing.html\n",
      "Please also refer to the documentation for alternative solver options:\n",
      "    https://scikit-learn.org/stable/modules/linear_model.html#logistic-regression\n",
      "  n_iter_i = _check_optimize_result(\n",
      "C:\\Users\\Vicky\\anaconda31\\lib\\site-packages\\sklearn\\linear_model\\_logistic.py:763: ConvergenceWarning: lbfgs failed to converge (status=1):\n",
      "STOP: TOTAL NO. of ITERATIONS REACHED LIMIT.\n",
      "\n",
      "Increase the number of iterations (max_iter) or scale the data as shown in:\n",
      "    https://scikit-learn.org/stable/modules/preprocessing.html\n",
      "Please also refer to the documentation for alternative solver options:\n",
      "    https://scikit-learn.org/stable/modules/linear_model.html#logistic-regression\n",
      "  n_iter_i = _check_optimize_result(\n"
     ]
    },
    {
     "name": "stdout",
     "output_type": "stream",
     "text": [
      "0.996530966690071\n"
     ]
    }
   ],
   "source": [
    "#seed = 7\n",
    "kfold = model_selection.KFold(n_splits=10, random_state=None)\n",
    "# create the sub models\n",
    "estimators = []\n",
    "model1 = LogisticRegression()\n",
    "estimators.append(('logistic', model1))\n",
    "model2 = DecisionTreeClassifier()\n",
    "estimators.append(('cart', model2))\n",
    "model3 = SVC()\n",
    "estimators.append(('svm', model3))\n",
    "# create the ensemble model\n",
    "ensemble = VotingClassifier(estimators)\n",
    "results = model_selection.cross_val_score(ensemble, X_train, y_train, cv=kfold)\n",
    "print(results.mean())"
   ]
  },
  {
   "cell_type": "code",
   "execution_count": 235,
   "metadata": {},
   "outputs": [
    {
     "name": "stderr",
     "output_type": "stream",
     "text": [
      "C:\\Users\\Vicky\\anaconda31\\lib\\site-packages\\sklearn\\linear_model\\_logistic.py:763: ConvergenceWarning: lbfgs failed to converge (status=1):\n",
      "STOP: TOTAL NO. of ITERATIONS REACHED LIMIT.\n",
      "\n",
      "Increase the number of iterations (max_iter) or scale the data as shown in:\n",
      "    https://scikit-learn.org/stable/modules/preprocessing.html\n",
      "Please also refer to the documentation for alternative solver options:\n",
      "    https://scikit-learn.org/stable/modules/linear_model.html#logistic-regression\n",
      "  n_iter_i = _check_optimize_result(\n"
     ]
    },
    {
     "data": {
      "text/plain": [
       "VotingClassifier(estimators=[('logistic', LogisticRegression()),\n",
       "                             ('cart', DecisionTreeClassifier()),\n",
       "                             ('svm', SVC())])"
      ]
     },
     "execution_count": 235,
     "metadata": {},
     "output_type": "execute_result"
    }
   ],
   "source": [
    "ensemble.fit(X_train, y_train)"
   ]
  },
  {
   "cell_type": "code",
   "execution_count": 236,
   "metadata": {},
   "outputs": [
    {
     "data": {
      "text/plain": [
       "array([1., 0., 2., ..., 1., 0., 2.])"
      ]
     },
     "execution_count": 236,
     "metadata": {},
     "output_type": "execute_result"
    }
   ],
   "source": [
    "y_pred=ensemble.predict(X_test)\n",
    "y_pred"
   ]
  },
  {
   "cell_type": "code",
   "execution_count": 238,
   "metadata": {},
   "outputs": [
    {
     "name": "stdout",
     "output_type": "stream",
     "text": [
      "0.8085436720933328\n"
     ]
    }
   ],
   "source": [
    "print(metrics.accuracy_score(y_test,ensemble.predict(X_test)))"
   ]
  },
  {
   "cell_type": "code",
   "execution_count": 239,
   "metadata": {},
   "outputs": [
    {
     "data": {
      "text/plain": [
       "0.8085436720933328"
      ]
     },
     "execution_count": 239,
     "metadata": {},
     "output_type": "execute_result"
    }
   ],
   "source": [
    "accuracy_score( y_test, y_pred )"
   ]
  },
  {
   "cell_type": "markdown",
   "metadata": {},
   "source": [
    "# Save Model"
   ]
  },
  {
   "cell_type": "code",
   "execution_count": 240,
   "metadata": {},
   "outputs": [],
   "source": [
    "import pickle\n",
    "# Saving model to disk of random forest\n",
    "pickle.dump(lr_clf, open('model.pkl','wb'))"
   ]
  },
  {
   "cell_type": "markdown",
   "metadata": {},
   "source": [
    "# Load Model and Predict"
   ]
  },
  {
   "cell_type": "code",
   "execution_count": 244,
   "metadata": {},
   "outputs": [
    {
     "data": {
      "text/plain": [
       "array([1.])"
      ]
     },
     "execution_count": 244,
     "metadata": {},
     "output_type": "execute_result"
    }
   ],
   "source": [
    "import pickle\n",
    "model=pickle.load(open('model.pkl', 'rb'))\n",
    "model.predict([[1,0,0,566,0.06,0.00,0.04,10,0,0,25,0,0.04,0.00,1]])"
   ]
  },
  {
   "cell_type": "raw",
   "metadata": {},
   "source": [
    "Thank you"
   ]
  }
 ],
 "metadata": {
  "kernelspec": {
   "display_name": "Python 3 (ipykernel)",
   "language": "python",
   "name": "python3"
  },
  "language_info": {
   "codemirror_mode": {
    "name": "ipython",
    "version": 3
   },
   "file_extension": ".py",
   "mimetype": "text/x-python",
   "name": "python",
   "nbconvert_exporter": "python",
   "pygments_lexer": "ipython3",
   "version": "3.8.10"
  }
 },
 "nbformat": 4,
 "nbformat_minor": 2
}
